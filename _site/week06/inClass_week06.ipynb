{
 "cells": [
  {
   "cell_type": "markdown",
   "id": "respective-store",
   "metadata": {},
   "source": [
    "# In Class Notebook, Week 06"
   ]
  },
  {
   "cell_type": "markdown",
   "id": "2a597611",
   "metadata": {},
   "source": [
    "You can always paste the URL of this notebook (https://github.com/UIUC-iSchool-DataViz/is445_AOUAOG_fall2021/blob/master/week06/inClass_week06.ipynb ) into the nbviewer interface for a plain-text rendering:\n",
    "\n",
    "https://kokes.github.io/nbviewer.js/viewer.html"
   ]
  },
  {
   "cell_type": "code",
   "execution_count": 1,
   "id": "94323f19",
   "metadata": {},
   "outputs": [],
   "source": [
    "# importing our usual things:\n",
    "import numpy as np\n",
    "import ipywidgets\n",
    "import bqplot # new thing!"
   ]
  },
  {
   "cell_type": "code",
   "execution_count": 2,
   "id": "72305aef",
   "metadata": {},
   "outputs": [],
   "source": [
    "# 1. Data\n",
    "x = np.arange(100)"
   ]
  },
  {
   "cell_type": "code",
   "execution_count": 6,
   "id": "d009a2bd",
   "metadata": {},
   "outputs": [],
   "source": [
    "#x"
   ]
  },
  {
   "cell_type": "code",
   "execution_count": 4,
   "id": "e4ea5a8f",
   "metadata": {},
   "outputs": [],
   "source": [
    "y = np.random.random(100) # random numbers your's might be different!"
   ]
  },
  {
   "cell_type": "code",
   "execution_count": 7,
   "id": "98b8fb59",
   "metadata": {},
   "outputs": [],
   "source": [
    "#y"
   ]
  },
  {
   "cell_type": "code",
   "execution_count": 8,
   "id": "74439a0f",
   "metadata": {},
   "outputs": [],
   "source": [
    "# 2. Scales -- how will data translate to Marks\n",
    "bqplot.LinearScale?"
   ]
  },
  {
   "cell_type": "code",
   "execution_count": 9,
   "id": "2dcb7fc6",
   "metadata": {},
   "outputs": [],
   "source": [
    "x_sc = bqplot.LinearScale()\n",
    "y_sc = bqplot.LinearScale()"
   ]
  },
  {
   "cell_type": "code",
   "execution_count": 10,
   "id": "e77b11f4",
   "metadata": {},
   "outputs": [
    {
     "data": {
      "text/plain": [
       "LinearScale()"
      ]
     },
     "execution_count": 10,
     "metadata": {},
     "output_type": "execute_result"
    }
   ],
   "source": [
    "x_sc"
   ]
  },
  {
   "cell_type": "code",
   "execution_count": 11,
   "id": "f9a1c24a",
   "metadata": {},
   "outputs": [],
   "source": [
    "# 3. Marks -- how we draw the data, here I'm going to make a line plot, so I'll use a line mark\n",
    "bqplot.Lines?"
   ]
  },
  {
   "cell_type": "code",
   "execution_count": 12,
   "id": "a29dd30d",
   "metadata": {},
   "outputs": [],
   "source": [
    "lines = bqplot.Lines(x=x,y=y, scales={'x':x_sc, 'y':y_sc})"
   ]
  },
  {
   "cell_type": "code",
   "execution_count": 14,
   "id": "e28811a2",
   "metadata": {},
   "outputs": [],
   "source": [
    "#lines"
   ]
  },
  {
   "cell_type": "code",
   "execution_count": 15,
   "id": "c4fc43f3",
   "metadata": {},
   "outputs": [],
   "source": [
    "# 4. Axis\n",
    "bqplot.Axis?"
   ]
  },
  {
   "cell_type": "code",
   "execution_count": 16,
   "id": "cff0b009",
   "metadata": {},
   "outputs": [],
   "source": [
    "ax_x = bqplot.Axis(scale=x_sc, label='X Value')\n",
    "ax_y = bqplot.Axis(scale=y_sc, label='Y Value', orientation='vertical')"
   ]
  },
  {
   "cell_type": "code",
   "execution_count": 17,
   "id": "d19f7a26",
   "metadata": {},
   "outputs": [],
   "source": [
    "# 5. Around here there could be interactions defined, but not yet!"
   ]
  },
  {
   "cell_type": "code",
   "execution_count": 18,
   "id": "01bb943f",
   "metadata": {},
   "outputs": [],
   "source": [
    "# 6. Finally put it all together as a figure\n",
    "fig = bqplot.Figure(marks=[lines], axes=[ax_x,ax_y])"
   ]
  },
  {
   "cell_type": "code",
   "execution_count": 19,
   "id": "5c2b2a0e",
   "metadata": {},
   "outputs": [
    {
     "data": {
      "application/vnd.jupyter.widget-view+json": {
       "model_id": "4be29806f71f489ba41c7e83d1f27174",
       "version_major": 2,
       "version_minor": 0
      },
      "text/plain": [
       "Figure(axes=[Axis(label='X Value', scale=LinearScale(), side='bottom'), Axis(label='Y Value', orientation='ver…"
      ]
     },
     "metadata": {},
     "output_type": "display_data"
    }
   ],
   "source": [
    "fig # note here: display(fig) from IPython.display like in test homework 1 (if you have no image)"
   ]
  },
  {
   "cell_type": "code",
   "execution_count": 20,
   "id": "29de4ca0",
   "metadata": {},
   "outputs": [],
   "source": [
    "bqplot.interacts.PanZoom?"
   ]
  },
  {
   "cell_type": "code",
   "execution_count": 21,
   "id": "26de56e9",
   "metadata": {},
   "outputs": [],
   "source": [
    "pz = bqplot.interacts.PanZoom(scales={'x':[x_sc], 'y':[y_sc]})"
   ]
  },
  {
   "cell_type": "code",
   "execution_count": 22,
   "id": "f458fcb6",
   "metadata": {},
   "outputs": [
    {
     "data": {
      "text/plain": [
       "PanZoom(scales={'x': [LinearScale()], 'y': [LinearScale()]})"
      ]
     },
     "execution_count": 22,
     "metadata": {},
     "output_type": "execute_result"
    }
   ],
   "source": [
    "pz"
   ]
  },
  {
   "cell_type": "code",
   "execution_count": 23,
   "id": "cc5ed28b",
   "metadata": {},
   "outputs": [
    {
     "data": {
      "application/vnd.jupyter.widget-view+json": {
       "model_id": "72b106dc7f124b0ab06177092b2222b0",
       "version_major": 2,
       "version_minor": 0
      },
      "text/plain": [
       "Figure(axes=[Axis(label='X Value', scale=LinearScale(), side='bottom'), Axis(label='Y Value', orientation='ver…"
      ]
     },
     "metadata": {},
     "output_type": "display_data"
    }
   ],
   "source": [
    "fig = bqplot.Figure(marks=[lines], axes=[ax_x,ax_y], interaction=pz)\n",
    "fig"
   ]
  },
  {
   "cell_type": "markdown",
   "id": "3103bc40",
   "metadata": {},
   "source": [
    "Another example using random data:"
   ]
  },
  {
   "cell_type": "code",
   "execution_count": 27,
   "id": "1b7b0e90",
   "metadata": {},
   "outputs": [],
   "source": [
    "# 1. Data\n",
    "x = np.random.random(100)\n",
    "y = np.random.random(100)"
   ]
  },
  {
   "cell_type": "code",
   "execution_count": 28,
   "id": "7d1cf231",
   "metadata": {},
   "outputs": [],
   "source": [
    "# 2. scales\n",
    "x_sc = bqplot.LinearScale()\n",
    "y_sc = bqplot.LinearScale()"
   ]
  },
  {
   "cell_type": "code",
   "execution_count": 29,
   "id": "fb03c342",
   "metadata": {},
   "outputs": [],
   "source": [
    "# 3. marks\n",
    "bqplot.Scatter?"
   ]
  },
  {
   "cell_type": "code",
   "execution_count": 30,
   "id": "4034595b",
   "metadata": {},
   "outputs": [],
   "source": [
    "scatters = bqplot.Scatter(x=x,y=y, scales={'x':x_sc, 'y':y_sc})"
   ]
  },
  {
   "cell_type": "code",
   "execution_count": null,
   "id": "7ca7238c",
   "metadata": {},
   "outputs": [],
   "source": [
    "# 4. Axis\n"
   ]
  }
 ],
 "metadata": {
  "kernelspec": {
   "display_name": "Python 3 (ipykernel)",
   "language": "python",
   "name": "python3"
  },
  "language_info": {
   "codemirror_mode": {
    "name": "ipython",
    "version": 3
   },
   "file_extension": ".py",
   "mimetype": "text/x-python",
   "name": "python",
   "nbconvert_exporter": "python",
   "pygments_lexer": "ipython3",
   "version": "3.7.10"
  }
 },
 "nbformat": 4,
 "nbformat_minor": 5
}
