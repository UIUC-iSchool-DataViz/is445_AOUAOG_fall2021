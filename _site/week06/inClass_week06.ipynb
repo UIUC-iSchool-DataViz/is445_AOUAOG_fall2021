{
 "cells": [
  {
   "cell_type": "markdown",
   "id": "respective-store",
   "metadata": {},
   "source": [
    "# In Class Notebook, Week 06"
   ]
  },
  {
   "cell_type": "markdown",
   "id": "2a597611",
   "metadata": {},
   "source": [
    "You can always paste the URL of this notebook (https://github.com/UIUC-iSchool-DataViz/is445_AOUAOG_fall2021/blob/master/week06/inClass_week06.ipynb ) into the nbviewer interface for a plain-text rendering:\n",
    "\n",
    "https://kokes.github.io/nbviewer.js/viewer.html"
   ]
  },
  {
   "cell_type": "code",
   "execution_count": 1,
   "id": "94323f19",
   "metadata": {},
   "outputs": [],
   "source": [
    "# importing our usual things:\n",
    "import numpy as np\n",
    "import ipywidgets\n",
    "import bqplot # new thing!"
   ]
  },
  {
   "cell_type": "code",
   "execution_count": 2,
   "id": "995610f7",
   "metadata": {},
   "outputs": [],
   "source": [
    "# 1. Data\n",
    "x = np.arange(100)"
   ]
  },
  {
   "cell_type": "code",
   "execution_count": 6,
   "id": "ccbb1224",
   "metadata": {},
   "outputs": [],
   "source": [
    "#x"
   ]
  },
  {
   "cell_type": "code",
   "execution_count": 4,
   "id": "95dad248",
   "metadata": {},
   "outputs": [],
   "source": [
    "y = np.random.random(100) # random numbers your's might be different!"
   ]
  },
  {
   "cell_type": "code",
   "execution_count": 7,
   "id": "4f8500d4",
   "metadata": {},
   "outputs": [],
   "source": [
    "#y"
   ]
  },
  {
   "cell_type": "code",
   "execution_count": 8,
   "id": "71bf385b",
   "metadata": {},
   "outputs": [],
   "source": [
    "# 2. Scales -- how will data translate to Marks\n",
    "bqplot.LinearScale?"
   ]
  },
  {
   "cell_type": "code",
   "execution_count": 9,
   "id": "ea116666",
   "metadata": {},
   "outputs": [],
   "source": [
    "x_sc = bqplot.LinearScale()\n",
    "y_sc = bqplot.LinearScale()"
   ]
  },
  {
   "cell_type": "code",
   "execution_count": 10,
   "id": "cd281e7c",
   "metadata": {},
   "outputs": [
    {
     "data": {
      "text/plain": [
       "LinearScale()"
      ]
     },
     "execution_count": 10,
     "metadata": {},
     "output_type": "execute_result"
    }
   ],
   "source": [
    "x_sc"
   ]
  },
  {
   "cell_type": "code",
   "execution_count": 11,
   "id": "5ce8ccee",
   "metadata": {},
   "outputs": [],
   "source": [
    "# 3. Marks -- how we draw the data, here I'm going to make a line plot, so I'll use a line mark\n",
    "bqplot.Lines?"
   ]
  },
  {
   "cell_type": "code",
   "execution_count": 12,
   "id": "d78b060d",
   "metadata": {},
   "outputs": [],
   "source": [
    "lines = bqplot.Lines(x=x,y=y, scales={'x':x_sc, 'y':y_sc})"
   ]
  },
  {
   "cell_type": "code",
   "execution_count": 14,
   "id": "20b0257d",
   "metadata": {},
   "outputs": [],
   "source": [
    "#lines"
   ]
  },
  {
   "cell_type": "code",
   "execution_count": 15,
   "id": "20796b21",
   "metadata": {},
   "outputs": [],
   "source": [
    "# 4. Axis\n",
    "bqplot.Axis?"
   ]
  },
  {
   "cell_type": "code",
   "execution_count": 16,
   "id": "5c213968",
   "metadata": {},
   "outputs": [],
   "source": [
    "ax_x = bqplot.Axis(scale=x_sc, label='X Value')\n",
    "ax_y = bqplot.Axis(scale=y_sc, label='Y Value', orientation='vertical')"
   ]
  },
  {
   "cell_type": "code",
   "execution_count": 17,
   "id": "827ab051",
   "metadata": {},
   "outputs": [],
   "source": [
    "# 5. Around here there could be interactions defined, but not yet!"
   ]
  },
  {
   "cell_type": "code",
   "execution_count": 18,
   "id": "3593ccfb",
   "metadata": {},
   "outputs": [],
   "source": [
    "# 6. Finally put it all together as a figure\n",
    "fig = bqplot.Figure(marks=[lines], axes=[ax_x,ax_y])"
   ]
  },
  {
   "cell_type": "code",
   "execution_count": 19,
   "id": "4834470d",
   "metadata": {},
   "outputs": [
    {
     "data": {
      "application/vnd.jupyter.widget-view+json": {
       "model_id": "4be29806f71f489ba41c7e83d1f27174",
       "version_major": 2,
       "version_minor": 0
      },
      "text/plain": [
       "Figure(axes=[Axis(label='X Value', scale=LinearScale(), side='bottom'), Axis(label='Y Value', orientation='ver…"
      ]
     },
     "metadata": {},
     "output_type": "display_data"
    }
   ],
   "source": [
    "fig # note here: display(fig) from IPython.display like in test homework 1 (if you have no image)"
   ]
  },
  {
   "cell_type": "code",
   "execution_count": 20,
   "id": "a42f77a8",
   "metadata": {},
   "outputs": [],
   "source": [
    "bqplot.interacts.PanZoom?"
   ]
  },
  {
   "cell_type": "code",
   "execution_count": 21,
   "id": "60c75e1a",
   "metadata": {},
   "outputs": [],
   "source": [
    "pz = bqplot.interacts.PanZoom(scales={'x':[x_sc], 'y':[y_sc]})"
   ]
  },
  {
   "cell_type": "code",
   "execution_count": 22,
   "id": "08fa860a",
   "metadata": {},
   "outputs": [
    {
     "data": {
      "text/plain": [
       "PanZoom(scales={'x': [LinearScale()], 'y': [LinearScale()]})"
      ]
     },
     "execution_count": 22,
     "metadata": {},
     "output_type": "execute_result"
    }
   ],
   "source": [
    "pz"
   ]
  },
  {
   "cell_type": "code",
   "execution_count": 23,
   "id": "de6401cc",
   "metadata": {},
   "outputs": [
    {
     "data": {
      "application/vnd.jupyter.widget-view+json": {
       "model_id": "72b106dc7f124b0ab06177092b2222b0",
       "version_major": 2,
       "version_minor": 0
      },
      "text/plain": [
       "Figure(axes=[Axis(label='X Value', scale=LinearScale(), side='bottom'), Axis(label='Y Value', orientation='ver…"
      ]
     },
     "metadata": {},
     "output_type": "display_data"
    }
   ],
   "source": [
    "fig = bqplot.Figure(marks=[lines], axes=[ax_x,ax_y], interaction=pz)\n",
    "fig"
   ]
  },
  {
   "cell_type": "markdown",
   "id": "87255c32",
   "metadata": {},
   "source": [
    "Another example using random data:"
   ]
  },
  {
   "cell_type": "code",
   "execution_count": 27,
   "id": "3d29df25",
   "metadata": {},
   "outputs": [],
   "source": [
    "# 1. Data\n",
    "x = np.random.random(100)\n",
    "y = np.random.random(100)"
   ]
  },
  {
   "cell_type": "code",
   "execution_count": 28,
   "id": "f855c70b",
   "metadata": {},
   "outputs": [],
   "source": [
    "# 2. scales\n",
    "x_sc = bqplot.LinearScale()\n",
    "y_sc = bqplot.LinearScale()"
   ]
  },
  {
   "cell_type": "code",
   "execution_count": 29,
   "id": "b4a7c0ae",
   "metadata": {},
   "outputs": [],
   "source": [
    "# 3. marks\n",
    "bqplot.Scatter?"
   ]
  },
  {
   "cell_type": "code",
   "execution_count": 30,
   "id": "16c35d38",
   "metadata": {},
   "outputs": [],
   "source": [
    "scatters = bqplot.Scatter(x=x,y=y, scales={'x':x_sc, 'y':y_sc})"
   ]
  },
  {
   "cell_type": "code",
   "execution_count": 31,
   "id": "d9bb2338",
   "metadata": {},
   "outputs": [],
   "source": [
    "# 4. Axis\n",
    "x_ax = bqplot.Axis(scale=x_sc, label='X')\n",
    "y_ax = bqplot.Axis(scale=y_sc, label='Y', orientation='vertical')"
   ]
  },
  {
   "cell_type": "code",
   "execution_count": 32,
   "id": "3fb99117",
   "metadata": {},
   "outputs": [],
   "source": [
    "# 5. interactions around here -- FastIntervalSelector\n",
    "selector = bqplot.interacts.FastIntervalSelector(scale=x_sc, marks=[scatters])"
   ]
  },
  {
   "cell_type": "code",
   "execution_count": 34,
   "id": "01e3387b",
   "metadata": {},
   "outputs": [
    {
     "data": {
      "application/vnd.jupyter.widget-view+json": {
       "model_id": "29584c8df13b458e93ee1fb008fe656c",
       "version_major": 2,
       "version_minor": 0
      },
      "text/plain": [
       "Figure(axes=[Axis(label='X', scale=LinearScale(), side='bottom'), Axis(label='Y', orientation='vertical', scal…"
      ]
     },
     "metadata": {},
     "output_type": "display_data"
    }
   ],
   "source": [
    "# 6. Make the figure\n",
    "fig = bqplot.Figure(marks=[scatters], axes=[x_ax, y_ax], interaction = selector)\n",
    "fig"
   ]
  },
  {
   "cell_type": "code",
   "execution_count": 35,
   "id": "0008576e",
   "metadata": {},
   "outputs": [
    {
     "data": {
      "text/plain": [
       "['_model_module',\n",
       " '_model_module_version',\n",
       " '_model_name',\n",
       " '_view_count',\n",
       " '_view_module',\n",
       " '_view_module_version',\n",
       " '_view_name',\n",
       " 'color',\n",
       " 'marks',\n",
       " 'scale',\n",
       " 'selected',\n",
       " 'size']"
      ]
     },
     "execution_count": 35,
     "metadata": {},
     "output_type": "execute_result"
    }
   ],
   "source": [
    "selector.keys"
   ]
  },
  {
   "cell_type": "code",
   "execution_count": 37,
   "id": "2e97fa51",
   "metadata": {},
   "outputs": [
    {
     "data": {
      "text/plain": [
       "array([0.21758859, 0.40739032])"
      ]
     },
     "execution_count": 37,
     "metadata": {},
     "output_type": "execute_result"
    }
   ],
   "source": [
    "selector.selected"
   ]
  },
  {
   "cell_type": "code",
   "execution_count": 38,
   "id": "828933b0",
   "metadata": {},
   "outputs": [
    {
     "data": {
      "text/plain": [
       "['_model_module',\n",
       " '_model_module_version',\n",
       " '_model_name',\n",
       " '_view_count',\n",
       " '_view_module',\n",
       " '_view_module_version',\n",
       " '_view_name',\n",
       " 'apply_clip',\n",
       " 'color',\n",
       " 'colors',\n",
       " 'default_size',\n",
       " 'default_skew',\n",
       " 'display_legend',\n",
       " 'display_names',\n",
       " 'drag_color',\n",
       " 'drag_size',\n",
       " 'enable_delete',\n",
       " 'enable_hover',\n",
       " 'enable_move',\n",
       " 'fill',\n",
       " 'hovered_point',\n",
       " 'hovered_style',\n",
       " 'interactions',\n",
       " 'label_display_horizontal_offset',\n",
       " 'label_display_vertical_offset',\n",
       " 'labels',\n",
       " 'marker',\n",
       " 'names',\n",
       " 'names_unique',\n",
       " 'opacities',\n",
       " 'opacity',\n",
       " 'preserve_domain',\n",
       " 'restrict_x',\n",
       " 'restrict_y',\n",
       " 'rotation',\n",
       " 'scales',\n",
       " 'scales_metadata',\n",
       " 'selected',\n",
       " 'selected_style',\n",
       " 'size',\n",
       " 'skew',\n",
       " 'stroke',\n",
       " 'stroke_width',\n",
       " 'tooltip',\n",
       " 'tooltip_location',\n",
       " 'tooltip_style',\n",
       " 'unhovered_style',\n",
       " 'unselected_style',\n",
       " 'update_on_move',\n",
       " 'visible',\n",
       " 'x',\n",
       " 'y']"
      ]
     },
     "execution_count": 38,
     "metadata": {},
     "output_type": "execute_result"
    }
   ],
   "source": [
    "scatters.keys"
   ]
  },
  {
   "cell_type": "code",
   "execution_count": 39,
   "id": "06bb8a9b",
   "metadata": {},
   "outputs": [],
   "source": [
    "scatters.unselected_style={'opacity':0.5} # a little see-through for unselected points"
   ]
  },
  {
   "cell_type": "code",
   "execution_count": 40,
   "id": "745f3475",
   "metadata": {},
   "outputs": [],
   "source": [
    "scatters.selected_style = {'fill':'red', 'stroke':'yellow'}"
   ]
  },
  {
   "cell_type": "code",
   "execution_count": 41,
   "id": "f3d48f71",
   "metadata": {},
   "outputs": [
    {
     "data": {
      "application/vnd.jupyter.widget-view+json": {
       "model_id": "29584c8df13b458e93ee1fb008fe656c",
       "version_major": 2,
       "version_minor": 0
      },
      "text/plain": [
       "Figure(axes=[Axis(label='X', scale=LinearScale(), side='bottom'), Axis(label='Y', orientation='vertical', scal…"
      ]
     },
     "metadata": {},
     "output_type": "display_data"
    }
   ],
   "source": [
    "fig"
   ]
  },
  {
   "cell_type": "markdown",
   "id": "bf8f6cba",
   "metadata": {},
   "source": [
    "## Random data in 2D"
   ]
  },
  {
   "cell_type": "code",
   "execution_count": null,
   "id": "8a22986b",
   "metadata": {},
   "outputs": [],
   "source": [
    "data"
   ]
  }
 ],
 "metadata": {
  "kernelspec": {
   "display_name": "Python 3 (ipykernel)",
   "language": "python",
   "name": "python3"
  },
  "language_info": {
   "codemirror_mode": {
    "name": "ipython",
    "version": 3
   },
   "file_extension": ".py",
   "mimetype": "text/x-python",
   "name": "python",
   "nbconvert_exporter": "python",
   "pygments_lexer": "ipython3",
   "version": "3.7.10"
  }
 },
 "nbformat": 4,
 "nbformat_minor": 5
}
