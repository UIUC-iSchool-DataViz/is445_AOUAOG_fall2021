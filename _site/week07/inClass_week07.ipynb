{
 "cells": [
  {
   "cell_type": "markdown",
   "id": "respective-store",
   "metadata": {},
   "source": [
    "# In Class Notebook, Week 07"
   ]
  },
  {
   "cell_type": "markdown",
   "id": "2a597611",
   "metadata": {},
   "source": [
    "You can always paste the URL of this notebook (https://github.com/UIUC-iSchool-DataViz/is445_AOUAOG_fall2021/blob/master/week07/inClass_week07.ipynb ) into the nbviewer interface for a plain-text rendering:\n",
    "\n",
    "https://kokes.github.io/nbviewer.js/viewer.html"
   ]
  },
  {
   "cell_type": "code",
   "execution_count": 10,
   "id": "98501859",
   "metadata": {},
   "outputs": [],
   "source": [
    "# import our usual things\n",
    "import pandas as pd\n",
    "import bqplot\n",
    "import numpy as np\n",
    "import ipywidgets"
   ]
  },
  {
   "cell_type": "markdown",
   "id": "bed18861",
   "metadata": {},
   "source": [
    "## Review from last time"
   ]
  },
  {
   "cell_type": "code",
   "execution_count": 2,
   "id": "379c6743",
   "metadata": {},
   "outputs": [],
   "source": [
    "data3d = np.random.random((10,10,20))"
   ]
  },
  {
   "cell_type": "code",
   "execution_count": 3,
   "id": "2ea30d54",
   "metadata": {},
   "outputs": [
    {
     "data": {
      "text/plain": [
       "(10, 10, 20)"
      ]
     },
     "execution_count": 3,
     "metadata": {},
     "output_type": "execute_result"
    }
   ],
   "source": [
    "data3d.shape"
   ]
  },
  {
   "cell_type": "code",
   "execution_count": 5,
   "id": "ab453019",
   "metadata": {},
   "outputs": [
    {
     "data": {
      "text/plain": [
       "array([0.54124828, 0.74085663, 0.09687062, 0.41278187, 0.86485492,\n",
       "       0.83916209, 0.12256965, 0.29033369, 0.77222567, 0.56508207,\n",
       "       0.90867493, 0.01965847, 0.20915492, 0.79891201, 0.63663157,\n",
       "       0.95864038, 0.37553424, 0.16664989, 0.91251915, 0.58197625])"
      ]
     },
     "execution_count": 5,
     "metadata": {},
     "output_type": "execute_result"
    }
   ],
   "source": [
    "data3d[0,0,:]"
   ]
  },
  {
   "cell_type": "code",
   "execution_count": 6,
   "id": "5d189b0a",
   "metadata": {},
   "outputs": [
    {
     "data": {
      "text/plain": [
       "array([[0.54071686, 0.55107975, 0.51234274, 0.5145504 , 0.46497102,\n",
       "        0.42905291, 0.42656233, 0.49128036, 0.4054977 , 0.56155958],\n",
       "       [0.46228498, 0.42338155, 0.59415794, 0.60819728, 0.56597605,\n",
       "        0.51121569, 0.45792426, 0.61043616, 0.54714568, 0.58127305],\n",
       "       [0.51397774, 0.52889253, 0.36980809, 0.52864474, 0.42484609,\n",
       "        0.42711735, 0.56227841, 0.38661328, 0.65091268, 0.49966308],\n",
       "       [0.43665654, 0.48015288, 0.46679803, 0.5792847 , 0.47955188,\n",
       "        0.40715425, 0.50125869, 0.55210181, 0.46538023, 0.39810901],\n",
       "       [0.52048808, 0.46948613, 0.57809338, 0.49964317, 0.48100504,\n",
       "        0.4985754 , 0.54884247, 0.54509474, 0.545756  , 0.46683585],\n",
       "       [0.46519147, 0.54068073, 0.5179983 , 0.41309053, 0.47186924,\n",
       "        0.42179622, 0.62895304, 0.44321757, 0.55757922, 0.55300718],\n",
       "       [0.46214573, 0.54584009, 0.57520554, 0.55510407, 0.57548104,\n",
       "        0.47499138, 0.51263281, 0.49698276, 0.47479926, 0.53358586],\n",
       "       [0.58795587, 0.54341188, 0.55746425, 0.5480153 , 0.4819784 ,\n",
       "        0.45436881, 0.4381639 , 0.53793498, 0.5481346 , 0.55022462],\n",
       "       [0.47191528, 0.43735681, 0.4336962 , 0.49718265, 0.47924911,\n",
       "        0.55387815, 0.61285167, 0.5382788 , 0.52775366, 0.6292518 ],\n",
       "       [0.48260779, 0.42915958, 0.45359732, 0.38761013, 0.51596245,\n",
       "        0.57618925, 0.48386763, 0.56724481, 0.41891151, 0.54036243]])"
      ]
     },
     "execution_count": 6,
     "metadata": {},
     "output_type": "execute_result"
    }
   ],
   "source": [
    "data3d.mean(axis=2)"
   ]
  },
  {
   "cell_type": "code",
   "execution_count": 7,
   "id": "8c81a0ab",
   "metadata": {},
   "outputs": [
    {
     "data": {
      "text/plain": [
       "(10, 10)"
      ]
     },
     "execution_count": 7,
     "metadata": {},
     "output_type": "execute_result"
    }
   ],
   "source": [
    "data3d.mean(axis=2).shape"
   ]
  },
  {
   "cell_type": "code",
   "execution_count": 8,
   "id": "9e0c73ef",
   "metadata": {},
   "outputs": [
    {
     "data": {
      "application/vnd.jupyter.widget-view+json": {
       "model_id": "3ccb3080512f4f45b901bdff080f71cb",
       "version_major": 2,
       "version_minor": 0
      },
      "text/plain": [
       "Figure(axes=[ColorAxis(orientation='vertical', scale=ColorScale(scheme='Reds'), side='right'), Axis(scale=Ordi…"
      ]
     },
     "metadata": {},
     "output_type": "display_data"
    }
   ],
   "source": [
    "# 1. Data -- data3d\n",
    "\n",
    "#2. Scales\n",
    "col_sc = bqplot.ColorScale(scheme=\"Reds\") \n",
    "x_sc = bqplot.OrdinalScale() # treating bins like bins of categorical data\n",
    "y_sc = bqplot.OrdinalScale()\n",
    "\n",
    "#3. Axis -- color & for x/y\n",
    "ax_col = bqplot.ColorAxis(scale=col_sc, orientation='vertical', side='right')\n",
    "ax_x = bqplot.Axis(scale=x_sc)\n",
    "ax_y = bqplot.Axis(scale=y_sc, orientation='vertical')\n",
    "\n",
    "# 4. Mark -- heatmap\n",
    "heat_map = bqplot.GridHeatMap(color=data3d.mean(axis=2),\n",
    "                             scales={'color':col_sc, 'row':y_sc, 'column':x_sc})\n",
    "\n",
    "# 5. interactions around here -- in a moment!\n",
    "\n",
    "# 6. Finally, put together figure\n",
    "fig = bqplot.Figure(marks=[heat_map], axes=[ax_col, ax_x, ax_y])\n",
    "\n",
    "# display!\n",
    "fig"
   ]
  },
  {
   "cell_type": "code",
   "execution_count": 12,
   "id": "c455e873",
   "metadata": {},
   "outputs": [
    {
     "data": {
      "application/vnd.jupyter.widget-view+json": {
       "model_id": "669ac855fb38416384b1621164cc2255",
       "version_major": 2,
       "version_minor": 0
      },
      "text/plain": [
       "VBox(children=(Label(value='Mean selected point here'), Figure(axes=[ColorAxis(orientation='vertical', scale=C…"
      ]
     },
     "metadata": {},
     "output_type": "display_data"
    }
   ],
   "source": [
    "# 1. Data -- data3d\n",
    "\n",
    "#2. Scales\n",
    "col_sc = bqplot.ColorScale(scheme=\"Reds\") \n",
    "x_sc = bqplot.OrdinalScale() # treating bins like bins of categorical data\n",
    "y_sc = bqplot.OrdinalScale()\n",
    "\n",
    "#3. Axis -- color & for x/y\n",
    "ax_col = bqplot.ColorAxis(scale=col_sc, orientation='vertical', side='right')\n",
    "ax_x = bqplot.Axis(scale=x_sc)\n",
    "ax_y = bqplot.Axis(scale=y_sc, orientation='vertical')\n",
    "\n",
    "# 4. Mark -- heatmap\n",
    "heat_map = bqplot.GridHeatMap(color=data3d.mean(axis=2),\n",
    "                             scales={'color':col_sc, 'row':y_sc, 'column':x_sc})\n",
    "\n",
    "# 5. interactions around here -- in a moment!\n",
    "mySelectedLabel = ipywidgets.Label()\n",
    "mySelectedLabel.value = 'Mean selected point here'\n",
    "\n",
    "# 6. Finally, put together figure\n",
    "fig = bqplot.Figure(marks=[heat_map], axes=[ax_col, ax_x, ax_y])\n",
    "\n",
    "# display!\n",
    "#fig\n",
    "myDashboard = ipywidgets.VBox([mySelectedLabel, fig])\n",
    "myDashboard"
   ]
  },
  {
   "cell_type": "code",
   "execution_count": 13,
   "id": "7692f2cb",
   "metadata": {},
   "outputs": [
    {
     "data": {
      "application/vnd.jupyter.widget-view+json": {
       "model_id": "ecf3a9f1be904265bf4b7e8dd95ce23f",
       "version_major": 2,
       "version_minor": 0
      },
      "text/plain": [
       "VBox(children=(Label(value='Mean selected point here'), Figure(axes=[ColorAxis(orientation='vertical', scale=C…"
      ]
     },
     "metadata": {},
     "output_type": "display_data"
    }
   ],
   "source": [
    "# 1. Data -- data3d\n",
    "\n",
    "#2. Scales\n",
    "col_sc = bqplot.ColorScale(scheme=\"Reds\") \n",
    "x_sc = bqplot.OrdinalScale() # treating bins like bins of categorical data\n",
    "y_sc = bqplot.OrdinalScale()\n",
    "\n",
    "#3. Axis -- color & for x/y\n",
    "ax_col = bqplot.ColorAxis(scale=col_sc, orientation='vertical', side='right')\n",
    "ax_x = bqplot.Axis(scale=x_sc)\n",
    "ax_y = bqplot.Axis(scale=y_sc, orientation='vertical')\n",
    "\n",
    "# 4. Mark -- heatmap\n",
    "heat_map = bqplot.GridHeatMap(color=data3d.mean(axis=2),\n",
    "                             scales={'color':col_sc, 'row':y_sc, 'column':x_sc})\n",
    "\n",
    "# 5. interactions around here -- in a moment!\n",
    "mySelectedLabel = ipywidgets.Label()\n",
    "mySelectedLabel.value = 'Mean selected point here'\n",
    "# interaction function -- what happens on selection:\n",
    "def on_selected(change):\n",
    "    print(change)\n",
    "# link interaction function to my mark:\n",
    "heat_map.observe(on_selected, 'selected')\n",
    "\n",
    "# 6. Finally, put together figure\n",
    "fig = bqplot.Figure(marks=[heat_map], axes=[ax_col, ax_x, ax_y])\n",
    "\n",
    "# display!\n",
    "#fig\n",
    "myDashboard = ipywidgets.VBox([mySelectedLabel, fig])\n",
    "myDashboard"
   ]
  },
  {
   "cell_type": "code",
   "execution_count": 15,
   "id": "f80c2349",
   "metadata": {},
   "outputs": [
    {
     "data": {
      "application/vnd.jupyter.widget-view+json": {
       "model_id": "2c75c8b4dc3f4925a10afaafab9e9965",
       "version_major": 2,
       "version_minor": 0
      },
      "text/plain": [
       "VBox(children=(Label(value='Mean selected point here'), Figure(axes=[ColorAxis(orientation='vertical', scale=C…"
      ]
     },
     "metadata": {},
     "output_type": "display_data"
    },
    {
     "name": "stdout",
     "output_type": "stream",
     "text": [
      "{'name': 'selected', 'old': None, 'new': array([[8, 2]]), 'owner': GridHeatMap(color=array([[0.54071686, 0.55107975, 0.51234274, 0.5145504 , 0.46497102,\n",
      "        0.42905291, 0.42656233, 0.49128036, 0.4054977 , 0.56155958],\n",
      "       [0.46228498, 0.42338155, 0.59415794, 0.60819728, 0.56597605,\n",
      "        0.51121569, 0.45792426, 0.61043616, 0.54714568, 0.58127305],\n",
      "       [0.51397774, 0.52889253, 0.36980809, 0.52864474, 0.42484609,\n",
      "        0.42711735, 0.56227841, 0.38661328, 0.65091268, 0.49966308],\n",
      "       [0.43665654, 0.48015288, 0.46679803, 0.5792847 , 0.47955188,\n",
      "        0.40715425, 0.50125869, 0.55210181, 0.46538023, 0.39810901],\n",
      "       [0.52048808, 0.46948613, 0.57809338, 0.49964317, 0.48100504,\n",
      "        0.4985754 , 0.54884247, 0.54509474, 0.545756  , 0.46683585],\n",
      "       [0.46519147, 0.54068073, 0.5179983 , 0.41309053, 0.47186924,\n",
      "        0.42179622, 0.62895304, 0.44321757, 0.55757922, 0.55300718],\n",
      "       [0.46214573, 0.54584009, 0.57520554, 0.55510407, 0.57548104,\n",
      "        0.47499138, 0.51263281, 0.49698276, 0.47479926, 0.53358586],\n",
      "       [0.58795587, 0.54341188, 0.55746425, 0.5480153 , 0.4819784 ,\n",
      "        0.45436881, 0.4381639 , 0.53793498, 0.5481346 , 0.55022462],\n",
      "       [0.47191528, 0.43735681, 0.4336962 , 0.49718265, 0.47924911,\n",
      "        0.55387815, 0.61285167, 0.5382788 , 0.52775366, 0.6292518 ],\n",
      "       [0.48260779, 0.42915958, 0.45359732, 0.38761013, 0.51596245,\n",
      "        0.57618925, 0.48386763, 0.56724481, 0.41891151, 0.54036243]]), interactions={'click': 'select'}, scales={'color': ColorScale(scheme='Reds'), 'row': OrdinalScale(), 'column': OrdinalScale()}, scales_metadata={'row': {'orientation': 'vertical', 'dimension': 'y'}, 'column': {'orientation': 'horizontal', 'dimension': 'x'}, 'color': {'dimension': 'color'}}, selected=array([[8, 2]]), tooltip_style={'opacity': 0.9}), 'type': 'change'}\n",
      "{'name': 'selected', 'old': array([[8, 2]]), 'new': array([[8, 1]]), 'owner': GridHeatMap(color=array([[0.54071686, 0.55107975, 0.51234274, 0.5145504 , 0.46497102,\n",
      "        0.42905291, 0.42656233, 0.49128036, 0.4054977 , 0.56155958],\n",
      "       [0.46228498, 0.42338155, 0.59415794, 0.60819728, 0.56597605,\n",
      "        0.51121569, 0.45792426, 0.61043616, 0.54714568, 0.58127305],\n",
      "       [0.51397774, 0.52889253, 0.36980809, 0.52864474, 0.42484609,\n",
      "        0.42711735, 0.56227841, 0.38661328, 0.65091268, 0.49966308],\n",
      "       [0.43665654, 0.48015288, 0.46679803, 0.5792847 , 0.47955188,\n",
      "        0.40715425, 0.50125869, 0.55210181, 0.46538023, 0.39810901],\n",
      "       [0.52048808, 0.46948613, 0.57809338, 0.49964317, 0.48100504,\n",
      "        0.4985754 , 0.54884247, 0.54509474, 0.545756  , 0.46683585],\n",
      "       [0.46519147, 0.54068073, 0.5179983 , 0.41309053, 0.47186924,\n",
      "        0.42179622, 0.62895304, 0.44321757, 0.55757922, 0.55300718],\n",
      "       [0.46214573, 0.54584009, 0.57520554, 0.55510407, 0.57548104,\n",
      "        0.47499138, 0.51263281, 0.49698276, 0.47479926, 0.53358586],\n",
      "       [0.58795587, 0.54341188, 0.55746425, 0.5480153 , 0.4819784 ,\n",
      "        0.45436881, 0.4381639 , 0.53793498, 0.5481346 , 0.55022462],\n",
      "       [0.47191528, 0.43735681, 0.4336962 , 0.49718265, 0.47924911,\n",
      "        0.55387815, 0.61285167, 0.5382788 , 0.52775366, 0.6292518 ],\n",
      "       [0.48260779, 0.42915958, 0.45359732, 0.38761013, 0.51596245,\n",
      "        0.57618925, 0.48386763, 0.56724481, 0.41891151, 0.54036243]]), interactions={'click': 'select'}, scales={'color': ColorScale(scheme='Reds'), 'row': OrdinalScale(), 'column': OrdinalScale()}, scales_metadata={'row': {'orientation': 'vertical', 'dimension': 'y'}, 'column': {'orientation': 'horizontal', 'dimension': 'x'}, 'color': {'dimension': 'color'}}, selected=array([[8, 1]]), tooltip_style={'opacity': 0.9}), 'type': 'change'}\n",
      "{'name': 'selected', 'old': array([[8, 1]]), 'new': array([[6, 4],\n",
      "       [6, 1],\n",
      "       [6, 2],\n",
      "       [6, 3],\n",
      "       [7, 1],\n",
      "       [7, 2],\n",
      "       [7, 3],\n",
      "       [7, 4],\n",
      "       [8, 1],\n",
      "       [8, 2],\n",
      "       [8, 3],\n",
      "       [8, 4]]), 'owner': GridHeatMap(color=array([[0.54071686, 0.55107975, 0.51234274, 0.5145504 , 0.46497102,\n",
      "        0.42905291, 0.42656233, 0.49128036, 0.4054977 , 0.56155958],\n",
      "       [0.46228498, 0.42338155, 0.59415794, 0.60819728, 0.56597605,\n",
      "        0.51121569, 0.45792426, 0.61043616, 0.54714568, 0.58127305],\n",
      "       [0.51397774, 0.52889253, 0.36980809, 0.52864474, 0.42484609,\n",
      "        0.42711735, 0.56227841, 0.38661328, 0.65091268, 0.49966308],\n",
      "       [0.43665654, 0.48015288, 0.46679803, 0.5792847 , 0.47955188,\n",
      "        0.40715425, 0.50125869, 0.55210181, 0.46538023, 0.39810901],\n",
      "       [0.52048808, 0.46948613, 0.57809338, 0.49964317, 0.48100504,\n",
      "        0.4985754 , 0.54884247, 0.54509474, 0.545756  , 0.46683585],\n",
      "       [0.46519147, 0.54068073, 0.5179983 , 0.41309053, 0.47186924,\n",
      "        0.42179622, 0.62895304, 0.44321757, 0.55757922, 0.55300718],\n",
      "       [0.46214573, 0.54584009, 0.57520554, 0.55510407, 0.57548104,\n",
      "        0.47499138, 0.51263281, 0.49698276, 0.47479926, 0.53358586],\n",
      "       [0.58795587, 0.54341188, 0.55746425, 0.5480153 , 0.4819784 ,\n",
      "        0.45436881, 0.4381639 , 0.53793498, 0.5481346 , 0.55022462],\n",
      "       [0.47191528, 0.43735681, 0.4336962 , 0.49718265, 0.47924911,\n",
      "        0.55387815, 0.61285167, 0.5382788 , 0.52775366, 0.6292518 ],\n",
      "       [0.48260779, 0.42915958, 0.45359732, 0.38761013, 0.51596245,\n",
      "        0.57618925, 0.48386763, 0.56724481, 0.41891151, 0.54036243]]), interactions={'click': 'select'}, scales={'color': ColorScale(scheme='Reds'), 'row': OrdinalScale(), 'column': OrdinalScale()}, scales_metadata={'row': {'orientation': 'vertical', 'dimension': 'y'}, 'column': {'orientation': 'horizontal', 'dimension': 'x'}, 'color': {'dimension': 'color'}}, selected=array([[6, 4],\n",
      "       [6, 1],\n",
      "       [6, 2],\n",
      "       [6, 3],\n",
      "       [7, 1],\n",
      "       [7, 2],\n",
      "       [7, 3],\n",
      "       [7, 4],\n",
      "       [8, 1],\n",
      "       [8, 2],\n",
      "       [8, 3],\n",
      "       [8, 4]]), tooltip_style={'opacity': 0.9}), 'type': 'change'}\n"
     ]
    }
   ],
   "source": [
    "# 1. Data -- data3d\n",
    "\n",
    "#2. Scales\n",
    "col_sc = bqplot.ColorScale(scheme=\"Reds\") \n",
    "x_sc = bqplot.OrdinalScale() # treating bins like bins of categorical data\n",
    "y_sc = bqplot.OrdinalScale()\n",
    "\n",
    "#3. Axis -- color & for x/y\n",
    "ax_col = bqplot.ColorAxis(scale=col_sc, orientation='vertical', side='right')\n",
    "ax_x = bqplot.Axis(scale=x_sc)\n",
    "ax_y = bqplot.Axis(scale=y_sc, orientation='vertical')\n",
    "\n",
    "# 4. Mark -- heatmap\n",
    "heat_map = bqplot.GridHeatMap(color=data3d.mean(axis=2),\n",
    "                             scales={'color':col_sc, 'row':y_sc, 'column':x_sc}, \n",
    "                             interactions={'click':'select'})\n",
    "\n",
    "# 5. interactions around here -- in a moment!\n",
    "mySelectedLabel = ipywidgets.Label()\n",
    "mySelectedLabel.value = 'Mean selected point here'\n",
    "# interaction function -- what happens on selection:\n",
    "def on_selected(change):\n",
    "    print(change)\n",
    "# link interaction function to my mark:\n",
    "heat_map.observe(on_selected, 'selected')\n",
    "\n",
    "# 6. Finally, put together figure\n",
    "fig = bqplot.Figure(marks=[heat_map], axes=[ax_col, ax_x, ax_y])\n",
    "\n",
    "# display!\n",
    "#fig\n",
    "myDashboard = ipywidgets.VBox([mySelectedLabel, fig])\n",
    "myDashboard"
   ]
  },
  {
   "cell_type": "code",
   "execution_count": 16,
   "id": "3a034750",
   "metadata": {},
   "outputs": [
    {
     "data": {
      "application/vnd.jupyter.widget-view+json": {
       "model_id": "1f24b50989b440f29259ea9b6105e333",
       "version_major": 2,
       "version_minor": 0
      },
      "text/plain": [
       "VBox(children=(Label(value='Mean selected point here'), Figure(axes=[ColorAxis(orientation='vertical', scale=C…"
      ]
     },
     "metadata": {},
     "output_type": "display_data"
    },
    {
     "name": "stdout",
     "output_type": "stream",
     "text": [
      "{'name': 'selected', 'old': None, 'new': array([[6, 4]]), 'owner': GridHeatMap(anchor_style={'fill': 'blue'}, color=array([[0.54071686, 0.55107975, 0.51234274, 0.5145504 , 0.46497102,\n",
      "        0.42905291, 0.42656233, 0.49128036, 0.4054977 , 0.56155958],\n",
      "       [0.46228498, 0.42338155, 0.59415794, 0.60819728, 0.56597605,\n",
      "        0.51121569, 0.45792426, 0.61043616, 0.54714568, 0.58127305],\n",
      "       [0.51397774, 0.52889253, 0.36980809, 0.52864474, 0.42484609,\n",
      "        0.42711735, 0.56227841, 0.38661328, 0.65091268, 0.49966308],\n",
      "       [0.43665654, 0.48015288, 0.46679803, 0.5792847 , 0.47955188,\n",
      "        0.40715425, 0.50125869, 0.55210181, 0.46538023, 0.39810901],\n",
      "       [0.52048808, 0.46948613, 0.57809338, 0.49964317, 0.48100504,\n",
      "        0.4985754 , 0.54884247, 0.54509474, 0.545756  , 0.46683585],\n",
      "       [0.46519147, 0.54068073, 0.5179983 , 0.41309053, 0.47186924,\n",
      "        0.42179622, 0.62895304, 0.44321757, 0.55757922, 0.55300718],\n",
      "       [0.46214573, 0.54584009, 0.57520554, 0.55510407, 0.57548104,\n",
      "        0.47499138, 0.51263281, 0.49698276, 0.47479926, 0.53358586],\n",
      "       [0.58795587, 0.54341188, 0.55746425, 0.5480153 , 0.4819784 ,\n",
      "        0.45436881, 0.4381639 , 0.53793498, 0.5481346 , 0.55022462],\n",
      "       [0.47191528, 0.43735681, 0.4336962 , 0.49718265, 0.47924911,\n",
      "        0.55387815, 0.61285167, 0.5382788 , 0.52775366, 0.6292518 ],\n",
      "       [0.48260779, 0.42915958, 0.45359732, 0.38761013, 0.51596245,\n",
      "        0.57618925, 0.48386763, 0.56724481, 0.41891151, 0.54036243]]), interactions={'click': 'select'}, scales={'color': ColorScale(scheme='Reds'), 'row': OrdinalScale(), 'column': OrdinalScale()}, scales_metadata={'row': {'orientation': 'vertical', 'dimension': 'y'}, 'column': {'orientation': 'horizontal', 'dimension': 'x'}, 'color': {'dimension': 'color'}}, selected=array([[6, 4]]), tooltip_style={'opacity': 0.9}), 'type': 'change'}\n"
     ]
    }
   ],
   "source": [
    "# 1. Data -- data3d\n",
    "\n",
    "#2. Scales\n",
    "col_sc = bqplot.ColorScale(scheme=\"Reds\") \n",
    "x_sc = bqplot.OrdinalScale() # treating bins like bins of categorical data\n",
    "y_sc = bqplot.OrdinalScale()\n",
    "\n",
    "#3. Axis -- color & for x/y\n",
    "ax_col = bqplot.ColorAxis(scale=col_sc, orientation='vertical', side='right')\n",
    "ax_x = bqplot.Axis(scale=x_sc)\n",
    "ax_y = bqplot.Axis(scale=y_sc, orientation='vertical')\n",
    "\n",
    "# 4. Mark -- heatmap\n",
    "heat_map = bqplot.GridHeatMap(color=data3d.mean(axis=2),\n",
    "                             scales={'color':col_sc, 'row':y_sc, 'column':x_sc}, \n",
    "                             interactions={'click':'select'}, \n",
    "                             anchor_style={'fill':'blue'})\n",
    "\n",
    "# 5. interactions around here -- in a moment!\n",
    "mySelectedLabel = ipywidgets.Label()\n",
    "mySelectedLabel.value = 'Mean selected point here'\n",
    "# interaction function -- what happens on selection:\n",
    "def on_selected(change):\n",
    "    print(change)\n",
    "# link interaction function to my mark:\n",
    "heat_map.observe(on_selected, 'selected')\n",
    "\n",
    "# 6. Finally, put together figure\n",
    "fig = bqplot.Figure(marks=[heat_map], axes=[ax_col, ax_x, ax_y])\n",
    "\n",
    "# display!\n",
    "#fig\n",
    "myDashboard = ipywidgets.VBox([mySelectedLabel, fig])\n",
    "myDashboard"
   ]
  },
  {
   "cell_type": "code",
   "execution_count": 19,
   "id": "3ff7ae94",
   "metadata": {},
   "outputs": [
    {
     "data": {
      "application/vnd.jupyter.widget-view+json": {
       "model_id": "b7b888da08274a2eb8d6269975c28099",
       "version_major": 2,
       "version_minor": 0
      },
      "text/plain": [
       "VBox(children=(Label(value='Mean selected point here'), Figure(axes=[ColorAxis(orientation='vertical', scale=C…"
      ]
     },
     "metadata": {},
     "output_type": "display_data"
    },
    {
     "name": "stdout",
     "output_type": "stream",
     "text": [
      "9 0\n",
      "5 6\n"
     ]
    }
   ],
   "source": [
    "# 1. Data -- data3d\n",
    "\n",
    "#2. Scales\n",
    "col_sc = bqplot.ColorScale(scheme=\"Reds\") \n",
    "x_sc = bqplot.OrdinalScale() # treating bins like bins of categorical data\n",
    "y_sc = bqplot.OrdinalScale()\n",
    "\n",
    "#3. Axis -- color & for x/y\n",
    "ax_col = bqplot.ColorAxis(scale=col_sc, orientation='vertical', side='right')\n",
    "ax_x = bqplot.Axis(scale=x_sc)\n",
    "ax_y = bqplot.Axis(scale=y_sc, orientation='vertical')\n",
    "\n",
    "# 4. Mark -- heatmap\n",
    "heat_map = bqplot.GridHeatMap(color=data3d.mean(axis=2),\n",
    "                             scales={'color':col_sc, 'row':y_sc, 'column':x_sc}, \n",
    "                             interactions={'click':'select'}, \n",
    "                             anchor_style={'fill':'blue'})\n",
    "\n",
    "# 5. interactions around here -- in a moment!\n",
    "mySelectedLabel = ipywidgets.Label()\n",
    "mySelectedLabel.value = 'Mean selected point here'\n",
    "# interaction function -- what happens on selection:\n",
    "def on_selected(change):\n",
    "    #print(change)\n",
    "    if len(change['owner'].selected) == 1: # only allow user to select one bin\n",
    "        i,j = change['owner'].selected[0] # the only selected bin\n",
    "        print(i,j)\n",
    "        v = data3d[i,j,:].mean() # mean of the 20 points in the 3rd dimension\n",
    "        mySelectedLabel.value = 'Mean data value='+str(v)\n",
    "# link interaction function to my mark:\n",
    "heat_map.observe(on_selected, 'selected')\n",
    "\n",
    "# 6. Finally, put together figure\n",
    "fig = bqplot.Figure(marks=[heat_map], axes=[ax_col, ax_x, ax_y])\n",
    "\n",
    "# display!\n",
    "#fig\n",
    "myDashboard = ipywidgets.VBox([mySelectedLabel, fig])\n",
    "myDashboard"
   ]
  },
  {
   "cell_type": "code",
   "execution_count": 20,
   "id": "b317ed5d",
   "metadata": {},
   "outputs": [
    {
     "data": {
      "text/plain": [
       "array([0.95799366, 0.85485041, 0.6877295 , 0.01672205, 0.34125246,\n",
       "       0.77863304, 0.70156415, 0.86208314, 0.6345865 , 0.56734116,\n",
       "       0.85694432, 0.89524551, 0.83955637, 0.28730432, 0.55270108,\n",
       "       0.94729593, 0.59573524, 0.14268396, 0.82159035, 0.23724773])"
      ]
     },
     "execution_count": 20,
     "metadata": {},
     "output_type": "execute_result"
    }
   ],
   "source": [
    "data3d[5,6,:]"
   ]
  },
  {
   "cell_type": "code",
   "execution_count": null,
   "id": "02af43c1",
   "metadata": {},
   "outputs": [],
   "source": []
  }
 ],
 "metadata": {
  "kernelspec": {
   "display_name": "Python 3 (ipykernel)",
   "language": "python",
   "name": "python3"
  },
  "language_info": {
   "codemirror_mode": {
    "name": "ipython",
    "version": 3
   },
   "file_extension": ".py",
   "mimetype": "text/x-python",
   "name": "python",
   "nbconvert_exporter": "python",
   "pygments_lexer": "ipython3",
   "version": "3.7.10"
  }
 },
 "nbformat": 4,
 "nbformat_minor": 5
}
