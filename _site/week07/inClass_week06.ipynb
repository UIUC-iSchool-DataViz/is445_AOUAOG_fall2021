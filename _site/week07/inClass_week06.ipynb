{
 "cells": [
  {
   "cell_type": "markdown",
   "id": "naval-shock",
   "metadata": {},
   "source": [
    "# Quick review from last time (starting to dashboard)"
   ]
  },
  {
   "cell_type": "code",
   "execution_count": 1,
   "id": "fewer-intermediate",
   "metadata": {},
   "outputs": [],
   "source": [
    "# importing our usual stuff\n",
    "import pandas as pd\n",
    "import bqplot\n",
    "import numpy as np\n",
    "import ipywidgets\n",
    "import matplotlib.pyplot as plt"
   ]
  },
  {
   "cell_type": "code",
   "execution_count": 2,
   "id": "framed-timber",
   "metadata": {},
   "outputs": [],
   "source": [
    "data = np.random.random((10,10,20))"
   ]
  },
  {
   "cell_type": "code",
   "execution_count": 4,
   "id": "treated-seller",
   "metadata": {},
   "outputs": [
    {
     "data": {
      "text/plain": [
       "array([0.40106314, 0.35194486, 0.56792231, 0.63369646, 0.11737582,\n",
       "       0.11811055, 0.08579615, 0.72730843, 0.25164027, 0.38346471,\n",
       "       0.52436843, 0.01425893, 0.56597883, 0.45926439, 0.5043769 ,\n",
       "       0.55201063, 0.60028744, 0.5000412 , 0.91977477, 0.22437204])"
      ]
     },
     "execution_count": 4,
     "metadata": {},
     "output_type": "execute_result"
    }
   ],
   "source": [
    "data[0,0,:]"
   ]
  },
  {
   "cell_type": "code",
   "execution_count": 5,
   "id": "closing-johns",
   "metadata": {},
   "outputs": [
    {
     "data": {
      "text/plain": [
       "array([[0.42515281, 0.44192377, 0.4314524 , 0.55520703, 0.44775511,\n",
       "        0.43639444, 0.63699249, 0.56765222, 0.37998332, 0.48656082],\n",
       "       [0.51588198, 0.53461363, 0.52339502, 0.58290146, 0.44114441,\n",
       "        0.56483969, 0.36392696, 0.51284449, 0.47803579, 0.46828314],\n",
       "       [0.50246825, 0.52051466, 0.44587837, 0.53901182, 0.56252309,\n",
       "        0.54442534, 0.59682264, 0.50144385, 0.43820362, 0.5411583 ],\n",
       "       [0.44234705, 0.46253566, 0.52146916, 0.46134276, 0.55770367,\n",
       "        0.45813336, 0.48614609, 0.53391371, 0.47235486, 0.53888472],\n",
       "       [0.60709151, 0.54274907, 0.46528136, 0.430033  , 0.53206441,\n",
       "        0.63815627, 0.58208766, 0.58328135, 0.47114623, 0.47036821],\n",
       "       [0.5097685 , 0.53836904, 0.45565626, 0.5452331 , 0.55934413,\n",
       "        0.4895886 , 0.28211926, 0.56618729, 0.52845454, 0.50247121],\n",
       "       [0.68223912, 0.56045495, 0.55635988, 0.47410131, 0.57066657,\n",
       "        0.52922983, 0.55769776, 0.64704773, 0.5254286 , 0.57150719],\n",
       "       [0.42711862, 0.62565902, 0.47190237, 0.47301075, 0.49813305,\n",
       "        0.29822154, 0.54035793, 0.55584086, 0.52706136, 0.39403004],\n",
       "       [0.4646863 , 0.57528918, 0.66540578, 0.51648834, 0.52533077,\n",
       "        0.44683698, 0.55581973, 0.59370187, 0.46068043, 0.56817968],\n",
       "       [0.49797376, 0.47451893, 0.56163497, 0.47390118, 0.4401631 ,\n",
       "        0.38053203, 0.54499588, 0.60990435, 0.56984442, 0.48759269]])"
      ]
     },
     "execution_count": 5,
     "metadata": {},
     "output_type": "execute_result"
    }
   ],
   "source": [
    "data.mean(axis=2)"
   ]
  },
  {
   "cell_type": "code",
   "execution_count": 6,
   "id": "canadian-winner",
   "metadata": {},
   "outputs": [
    {
     "data": {
      "text/plain": [
       "(10, 10)"
      ]
     },
     "execution_count": 6,
     "metadata": {},
     "output_type": "execute_result"
    }
   ],
   "source": [
    "data.mean(axis=2).shape"
   ]
  },
  {
   "cell_type": "markdown",
   "id": "hydraulic-semester",
   "metadata": {},
   "source": [
    "Built up a dashboard with:\n",
    " 1. label showing the mean at a selected grid (on top of everything)\n",
    " 1. on the left was the grid heatmap built from the mean along the 3rd axis\n",
    " 1. on the right was a histogram of the 3rd axis's points (of a selected grid)"
   ]
  },
  {
   "cell_type": "code",
   "execution_count": 7,
   "id": "australian-passage",
   "metadata": {},
   "outputs": [],
   "source": [
    "mySelectedLabel = ipywidgets.Label()"
   ]
  },
  {
   "cell_type": "code",
   "execution_count": 10,
   "id": "stupid-wrestling",
   "metadata": {},
   "outputs": [
    {
     "data": {
      "application/vnd.jupyter.widget-view+json": {
       "model_id": "5375463d68614a98971b8e85c321f686",
       "version_major": 2,
       "version_minor": 0
      },
      "text/plain": [
       "VBox(children=(Label(value=''), Figure(axes=[ColorAxis(orientation='vertical', scale=ColorScale(scheme='Reds')…"
      ]
     },
     "metadata": {},
     "output_type": "display_data"
    }
   ],
   "source": [
    "# 1. Data -- 3D data, created above\n",
    "\n",
    "# 2. Scales\n",
    "x_sc = bqplot.OrdinalScale() # categorical data\n",
    "y_sc = bqplot.OrdinalScale()\n",
    "col_sc = bqplot.ColorScale(scheme='Reds')\n",
    "\n",
    "# 3. Axes\n",
    "ax_x = bqplot.Axis(scale=x_sc)\n",
    "ax_y = bqplot.Axis(scale=y_sc, orientation='vertical')\n",
    "ax_col = bqplot.ColorAxis(scale=col_sc, orientation='vertical', side='right') # colorbar\n",
    "\n",
    "# 4. Mark (gridheat map)\n",
    "heat_map = bqplot.GridHeatMap(color=data.mean(axis=2),\n",
    "                             scales={'color':col_sc, 'row':y_sc, 'column':x_sc},\n",
    "                             interactions={'click':'select'}, # on clicking on a grid, select that grid\n",
    "                             anchor_style={'fill':'blue'}, # turn the grid blue on selection\n",
    "                             selected_style={'opacity':1.0}, # selected grid is fully opaque on selection,\n",
    "                             unselected_style={'opacity':0.8}) # otherwise, a little see-through\n",
    "\n",
    "# 5. Interactions (also in step 4 as well)\n",
    "def on_selected(change):\n",
    "    if len(change['owner'].selected) == 1: # forcing only selection of 1 grid\n",
    "        i,j = change['owner'].selected[0] # only 1 selection\n",
    "        v = data[i,j,:].mean() # value of mean of the data at the i,j grid\n",
    "        mySelectedLabel.value = 'Mean data value =' + str(v)\n",
    "# don't forget the actual linking!\n",
    "heat_map.observe(on_selected,'selected') # linking the selected trait of the heat_map with the on_selected function\n",
    "        \n",
    "\n",
    "# All together -- a figure!\n",
    "fig = bqplot.Figure(marks=[heat_map], axes=[ax_col, ax_x, ax_y])\n",
    "\n",
    "myDashboard = ipywidgets.VBox([mySelectedLabel, fig])\n",
    "myDashboard"
   ]
  },
  {
   "cell_type": "code",
   "execution_count": 11,
   "id": "faced-columbia",
   "metadata": {},
   "outputs": [
    {
     "data": {
      "text/plain": [
       "array([0.40106314, 0.35194486, 0.56792231, 0.63369646, 0.11737582,\n",
       "       0.11811055, 0.08579615, 0.72730843, 0.25164027, 0.38346471,\n",
       "       0.52436843, 0.01425893, 0.56597883, 0.45926439, 0.5043769 ,\n",
       "       0.55201063, 0.60028744, 0.5000412 , 0.91977477, 0.22437204])"
      ]
     },
     "execution_count": 11,
     "metadata": {},
     "output_type": "execute_result"
    }
   ],
   "source": [
    "# 1. Data for histogram\n",
    "# first hard-coding the data for the histogram\n",
    "i,j = 0,0\n",
    "data[i,j]"
   ]
  },
  {
   "cell_type": "code",
   "execution_count": 12,
   "id": "blocked-suspension",
   "metadata": {},
   "outputs": [],
   "source": [
    "# 2. scales for histogram\n",
    "x_sch = bqplot.LinearScale()\n",
    "y_sch = bqplot.LinearScale()"
   ]
  },
  {
   "cell_type": "code",
   "execution_count": 13,
   "id": "registered-office",
   "metadata": {},
   "outputs": [],
   "source": [
    "# 3. Axis for histogram\n",
    "x_axh = bqplot.Axis(scale=x_sch, label='Value of 3rd Axis')\n",
    "y_axh = bqplot.Axis(scale=y_sch, label='Freq', orientation='vertical')"
   ]
  },
  {
   "cell_type": "code",
   "execution_count": 14,
   "id": "backed-eating",
   "metadata": {},
   "outputs": [],
   "source": [
    "# 4. Marks -- histogram mark\n",
    "hist = bqplot.Hist(sample=data[i,j,:], normalized=False, scales={'sample':x_sch, 'count':y_sch}, bins=5)"
   ]
  },
  {
   "cell_type": "code",
   "execution_count": 15,
   "id": "permanent-democracy",
   "metadata": {},
   "outputs": [
    {
     "data": {
      "application/vnd.jupyter.widget-view+json": {
       "model_id": "7836b7ef47954eac826c580501f01b2d",
       "version_major": 2,
       "version_minor": 0
      },
      "text/plain": [
       "Figure(axes=[Axis(label='Value of 3rd Axis', scale=LinearScale(), side='bottom'), Axis(label='Freq', orientati…"
      ]
     },
     "metadata": {},
     "output_type": "display_data"
    }
   ],
   "source": [
    "# figure!\n",
    "figh = bqplot.Figure(marks=[hist], axes=[x_axh, y_axh])\n",
    "figh"
   ]
  },
  {
   "cell_type": "markdown",
   "id": "likely-surrey",
   "metadata": {},
   "source": [
    "Finally, linking between the GridHeatMap mark and the histogram mark:"
   ]
  },
  {
   "cell_type": "code",
   "execution_count": 19,
   "id": "married-absorption",
   "metadata": {},
   "outputs": [
    {
     "data": {
      "application/vnd.jupyter.widget-view+json": {
       "model_id": "da78f5fce48f4d5d94716dc4d77b68f8",
       "version_major": 2,
       "version_minor": 0
      },
      "text/plain": [
       "VBox(children=(Label(value='Mean data value =0.4556562627074624'), HBox(children=(Figure(axes=[ColorAxis(orien…"
      ]
     },
     "metadata": {},
     "output_type": "display_data"
    }
   ],
   "source": [
    "# 1. Data -- 3D data, created above\n",
    "\n",
    "# 2. Scales\n",
    "x_sc = bqplot.OrdinalScale() # categorical data\n",
    "y_sc = bqplot.OrdinalScale()\n",
    "col_sc = bqplot.ColorScale(scheme='Reds')\n",
    "\n",
    "# 3. Axes\n",
    "ax_x = bqplot.Axis(scale=x_sc)\n",
    "ax_y = bqplot.Axis(scale=y_sc, orientation='vertical')\n",
    "ax_col = bqplot.ColorAxis(scale=col_sc, orientation='vertical', side='right') # colorbar\n",
    "\n",
    "# 4. Mark (gridheat map)\n",
    "heat_map = bqplot.GridHeatMap(color=data.mean(axis=2),\n",
    "                             scales={'color':col_sc, 'row':y_sc, 'column':x_sc},\n",
    "                             interactions={'click':'select'}, # on clicking on a grid, select that grid\n",
    "                             anchor_style={'fill':'blue'}, # turn the grid blue on selection\n",
    "                             selected_style={'opacity':1.0}, # selected grid is fully opaque on selection,\n",
    "                             unselected_style={'opacity':0.8}) # otherwise, a little see-through\n",
    "\n",
    "# 5. Interactions (also in step 4 as well)\n",
    "def on_selected(change):\n",
    "    if len(change['owner'].selected) == 1: # forcing only selection of 1 grid\n",
    "        i,j = change['owner'].selected[0] # only 1 selection\n",
    "        v = data[i,j,:].mean() # value of mean of the data at the i,j grid\n",
    "        mySelectedLabel.value = 'Mean data value =' + str(v)\n",
    "        # including link with the histogram\n",
    "        hist.sample = data[i,j,:]# don't forget the actual linking!\n",
    "heat_map.observe(on_selected,'selected') # linking the selected trait of the heat_map with the on_selected function\n",
    "        \n",
    "\n",
    "# All together -- a figure!\n",
    "fig = bqplot.Figure(marks=[heat_map], axes=[ax_col, ax_x, ax_y])\n",
    "\n",
    "#myDashboard = ipywidgets.VBox([mySelectedLabel, fig])\n",
    "fig.layout.min_width='400px'\n",
    "figh.layout.min_width='400px'\n",
    "figures = ipywidgets.HBox([fig,figh])\n",
    "myDashboard = ipywidgets.VBox([mySelectedLabel, figures])\n",
    "\n",
    "myDashboard"
   ]
  },
  {
   "cell_type": "markdown",
   "id": "similar-trauma",
   "metadata": {},
   "source": [
    "# Another dashboard with the UFO dataset"
   ]
  },
  {
   "cell_type": "code",
   "execution_count": 20,
   "id": "known-warrior",
   "metadata": {},
   "outputs": [],
   "source": [
    "ufos = pd.read_csv(\"ufo-scrubbed-geocoded-time-standardized-00.csv\",\n",
    "                  names = [\"date\", \"city\", \"state\", \"country\",\n",
    "                          \"shape\", \"duration_seconds\", \"duration\",\n",
    "                          \"comment\", \"report_date\", \n",
    "                           \"latitude\", \"longitude\"],\n",
    "                  parse_dates = [\"date\", \"report_date\"])"
   ]
  },
  {
   "cell_type": "code",
   "execution_count": 21,
   "id": "national-butter",
   "metadata": {},
   "outputs": [
    {
     "data": {
      "text/html": [
       "<div>\n",
       "<style scoped>\n",
       "    .dataframe tbody tr th:only-of-type {\n",
       "        vertical-align: middle;\n",
       "    }\n",
       "\n",
       "    .dataframe tbody tr th {\n",
       "        vertical-align: top;\n",
       "    }\n",
       "\n",
       "    .dataframe thead th {\n",
       "        text-align: right;\n",
       "    }\n",
       "</style>\n",
       "<table border=\"1\" class=\"dataframe\">\n",
       "  <thead>\n",
       "    <tr style=\"text-align: right;\">\n",
       "      <th></th>\n",
       "      <th>date</th>\n",
       "      <th>city</th>\n",
       "      <th>state</th>\n",
       "      <th>country</th>\n",
       "      <th>shape</th>\n",
       "      <th>duration_seconds</th>\n",
       "      <th>duration</th>\n",
       "      <th>comment</th>\n",
       "      <th>report_date</th>\n",
       "      <th>latitude</th>\n",
       "      <th>longitude</th>\n",
       "    </tr>\n",
       "  </thead>\n",
       "  <tbody>\n",
       "    <tr>\n",
       "      <th>0</th>\n",
       "      <td>1949-10-10 20:30:00</td>\n",
       "      <td>san marcos</td>\n",
       "      <td>tx</td>\n",
       "      <td>us</td>\n",
       "      <td>cylinder</td>\n",
       "      <td>2700.0</td>\n",
       "      <td>45 minutes</td>\n",
       "      <td>This event took place in early fall around 194...</td>\n",
       "      <td>2004-04-27</td>\n",
       "      <td>29.883056</td>\n",
       "      <td>-97.941111</td>\n",
       "    </tr>\n",
       "    <tr>\n",
       "      <th>1</th>\n",
       "      <td>1949-10-10 21:00:00</td>\n",
       "      <td>lackland afb</td>\n",
       "      <td>tx</td>\n",
       "      <td>NaN</td>\n",
       "      <td>light</td>\n",
       "      <td>7200.0</td>\n",
       "      <td>1-2 hrs</td>\n",
       "      <td>1949 Lackland AFB&amp;#44 TX.  Lights racing acros...</td>\n",
       "      <td>2005-12-16</td>\n",
       "      <td>29.384210</td>\n",
       "      <td>-98.581082</td>\n",
       "    </tr>\n",
       "    <tr>\n",
       "      <th>2</th>\n",
       "      <td>1955-10-10 17:00:00</td>\n",
       "      <td>chester (uk/england)</td>\n",
       "      <td>NaN</td>\n",
       "      <td>gb</td>\n",
       "      <td>circle</td>\n",
       "      <td>20.0</td>\n",
       "      <td>20 seconds</td>\n",
       "      <td>Green/Orange circular disc over Chester&amp;#44 En...</td>\n",
       "      <td>2008-01-21</td>\n",
       "      <td>53.200000</td>\n",
       "      <td>-2.916667</td>\n",
       "    </tr>\n",
       "    <tr>\n",
       "      <th>3</th>\n",
       "      <td>1956-10-10 21:00:00</td>\n",
       "      <td>edna</td>\n",
       "      <td>tx</td>\n",
       "      <td>us</td>\n",
       "      <td>circle</td>\n",
       "      <td>20.0</td>\n",
       "      <td>1/2 hour</td>\n",
       "      <td>My older brother and twin sister were leaving ...</td>\n",
       "      <td>2004-01-17</td>\n",
       "      <td>28.978333</td>\n",
       "      <td>-96.645833</td>\n",
       "    </tr>\n",
       "    <tr>\n",
       "      <th>4</th>\n",
       "      <td>1960-10-10 20:00:00</td>\n",
       "      <td>kaneohe</td>\n",
       "      <td>hi</td>\n",
       "      <td>us</td>\n",
       "      <td>light</td>\n",
       "      <td>900.0</td>\n",
       "      <td>15 minutes</td>\n",
       "      <td>AS a Marine 1st Lt. flying an FJ4B fighter/att...</td>\n",
       "      <td>2004-01-22</td>\n",
       "      <td>21.418056</td>\n",
       "      <td>-157.803611</td>\n",
       "    </tr>\n",
       "    <tr>\n",
       "      <th>...</th>\n",
       "      <td>...</td>\n",
       "      <td>...</td>\n",
       "      <td>...</td>\n",
       "      <td>...</td>\n",
       "      <td>...</td>\n",
       "      <td>...</td>\n",
       "      <td>...</td>\n",
       "      <td>...</td>\n",
       "      <td>...</td>\n",
       "      <td>...</td>\n",
       "      <td>...</td>\n",
       "    </tr>\n",
       "    <tr>\n",
       "      <th>80327</th>\n",
       "      <td>2013-09-09 21:15:00</td>\n",
       "      <td>nashville</td>\n",
       "      <td>tn</td>\n",
       "      <td>us</td>\n",
       "      <td>light</td>\n",
       "      <td>600.0</td>\n",
       "      <td>10 minutes</td>\n",
       "      <td>Round from the distance/slowly changing colors...</td>\n",
       "      <td>2013-09-30</td>\n",
       "      <td>36.165833</td>\n",
       "      <td>-86.784444</td>\n",
       "    </tr>\n",
       "    <tr>\n",
       "      <th>80328</th>\n",
       "      <td>2013-09-09 22:00:00</td>\n",
       "      <td>boise</td>\n",
       "      <td>id</td>\n",
       "      <td>us</td>\n",
       "      <td>circle</td>\n",
       "      <td>1200.0</td>\n",
       "      <td>20 minutes</td>\n",
       "      <td>Boise&amp;#44 ID&amp;#44 spherical&amp;#44 20 min&amp;#44 10 r...</td>\n",
       "      <td>2013-09-30</td>\n",
       "      <td>43.613611</td>\n",
       "      <td>-116.202500</td>\n",
       "    </tr>\n",
       "    <tr>\n",
       "      <th>80329</th>\n",
       "      <td>2013-09-09 22:00:00</td>\n",
       "      <td>napa</td>\n",
       "      <td>ca</td>\n",
       "      <td>us</td>\n",
       "      <td>other</td>\n",
       "      <td>1200.0</td>\n",
       "      <td>hour</td>\n",
       "      <td>Napa UFO&amp;#44</td>\n",
       "      <td>2013-09-30</td>\n",
       "      <td>38.297222</td>\n",
       "      <td>-122.284444</td>\n",
       "    </tr>\n",
       "    <tr>\n",
       "      <th>80330</th>\n",
       "      <td>2013-09-09 22:20:00</td>\n",
       "      <td>vienna</td>\n",
       "      <td>va</td>\n",
       "      <td>us</td>\n",
       "      <td>circle</td>\n",
       "      <td>5.0</td>\n",
       "      <td>5 seconds</td>\n",
       "      <td>Saw a five gold lit cicular craft moving fastl...</td>\n",
       "      <td>2013-09-30</td>\n",
       "      <td>38.901111</td>\n",
       "      <td>-77.265556</td>\n",
       "    </tr>\n",
       "    <tr>\n",
       "      <th>80331</th>\n",
       "      <td>2013-09-09 23:00:00</td>\n",
       "      <td>edmond</td>\n",
       "      <td>ok</td>\n",
       "      <td>us</td>\n",
       "      <td>cigar</td>\n",
       "      <td>1020.0</td>\n",
       "      <td>17 minutes</td>\n",
       "      <td>2 witnesses 2  miles apart&amp;#44 Red &amp;amp; White...</td>\n",
       "      <td>2013-09-30</td>\n",
       "      <td>35.652778</td>\n",
       "      <td>-97.477778</td>\n",
       "    </tr>\n",
       "  </tbody>\n",
       "</table>\n",
       "<p>80332 rows × 11 columns</p>\n",
       "</div>"
      ],
      "text/plain": [
       "                     date                  city state country     shape  \\\n",
       "0     1949-10-10 20:30:00            san marcos    tx      us  cylinder   \n",
       "1     1949-10-10 21:00:00          lackland afb    tx     NaN     light   \n",
       "2     1955-10-10 17:00:00  chester (uk/england)   NaN      gb    circle   \n",
       "3     1956-10-10 21:00:00                  edna    tx      us    circle   \n",
       "4     1960-10-10 20:00:00               kaneohe    hi      us     light   \n",
       "...                   ...                   ...   ...     ...       ...   \n",
       "80327 2013-09-09 21:15:00             nashville    tn      us     light   \n",
       "80328 2013-09-09 22:00:00                 boise    id      us    circle   \n",
       "80329 2013-09-09 22:00:00                  napa    ca      us     other   \n",
       "80330 2013-09-09 22:20:00                vienna    va      us    circle   \n",
       "80331 2013-09-09 23:00:00                edmond    ok      us     cigar   \n",
       "\n",
       "       duration_seconds    duration  \\\n",
       "0                2700.0  45 minutes   \n",
       "1                7200.0     1-2 hrs   \n",
       "2                  20.0  20 seconds   \n",
       "3                  20.0    1/2 hour   \n",
       "4                 900.0  15 minutes   \n",
       "...                 ...         ...   \n",
       "80327             600.0  10 minutes   \n",
       "80328            1200.0  20 minutes   \n",
       "80329            1200.0        hour   \n",
       "80330               5.0   5 seconds   \n",
       "80331            1020.0  17 minutes   \n",
       "\n",
       "                                                 comment report_date  \\\n",
       "0      This event took place in early fall around 194...  2004-04-27   \n",
       "1      1949 Lackland AFB&#44 TX.  Lights racing acros...  2005-12-16   \n",
       "2      Green/Orange circular disc over Chester&#44 En...  2008-01-21   \n",
       "3      My older brother and twin sister were leaving ...  2004-01-17   \n",
       "4      AS a Marine 1st Lt. flying an FJ4B fighter/att...  2004-01-22   \n",
       "...                                                  ...         ...   \n",
       "80327  Round from the distance/slowly changing colors...  2013-09-30   \n",
       "80328  Boise&#44 ID&#44 spherical&#44 20 min&#44 10 r...  2013-09-30   \n",
       "80329                                       Napa UFO&#44  2013-09-30   \n",
       "80330  Saw a five gold lit cicular craft moving fastl...  2013-09-30   \n",
       "80331  2 witnesses 2  miles apart&#44 Red &amp; White...  2013-09-30   \n",
       "\n",
       "        latitude   longitude  \n",
       "0      29.883056  -97.941111  \n",
       "1      29.384210  -98.581082  \n",
       "2      53.200000   -2.916667  \n",
       "3      28.978333  -96.645833  \n",
       "4      21.418056 -157.803611  \n",
       "...          ...         ...  \n",
       "80327  36.165833  -86.784444  \n",
       "80328  43.613611 -116.202500  \n",
       "80329  38.297222 -122.284444  \n",
       "80330  38.901111  -77.265556  \n",
       "80331  35.652778  -97.477778  \n",
       "\n",
       "[80332 rows x 11 columns]"
      ]
     },
     "execution_count": 21,
     "metadata": {},
     "output_type": "execute_result"
    }
   ],
   "source": [
    "ufos"
   ]
  },
  {
   "cell_type": "code",
   "execution_count": 22,
   "id": "further-extra",
   "metadata": {},
   "outputs": [
    {
     "data": {
      "text/plain": [
       "80332"
      ]
     },
     "execution_count": 22,
     "metadata": {},
     "output_type": "execute_result"
    }
   ],
   "source": [
    "len(ufos)"
   ]
  },
  {
   "cell_type": "markdown",
   "id": "protective-tract",
   "metadata": {},
   "source": [
    "A reminder for large datasets:"
   ]
  },
  {
   "cell_type": "code",
   "execution_count": 23,
   "id": "freelance-commercial",
   "metadata": {},
   "outputs": [
    {
     "data": {
      "text/plain": [
       "array([74113, 37754, 59913, 20978, 24647, 41601, 62485,  4087, 42090,\n",
       "       31121,  5024, 18616, 16503, 62346, 12396, 10746,  9625, 51808,\n",
       "       76128, 28066, 49676,  7194,  7780, 63885, 79542, 68178,   462,\n",
       "       32828, 27442, 50306, 74283, 31225,  3466,  9208, 24181, 38272,\n",
       "        4154, 52685, 23749, 28756, 17443, 18026, 47108, 38354, 47427,\n",
       "       79042, 46795, 76741,  9641, 58290, 28172, 15066, 68686,  5601,\n",
       "       64388, 23438, 64636, 16615, 14955, 80106, 32804, 20460, 40970,\n",
       "       54937, 23436, 46121,  5385,  9052, 17021, 50120, 46792,  8144,\n",
       "       18208, 48674, 40293, 74324, 70788, 43205, 41949, 37667, 21816,\n",
       "       40358, 66521, 22084, 66449, 44650, 66022, 75132, 78019, 42241,\n",
       "       64401, 13650, 47148, 37692, 18085, 72146, 78969, 72770, 28184,\n",
       "       66231, 26558, 64207, 14240, 13301, 23177, 64199,  9523, 20507,\n",
       "       40718,   960, 18854, 29382, 10997,  5717, 25301, 67284, 41366,\n",
       "       47183, 70252, 56164, 30570, 55405, 12404, 35158, 28403, 74799,\n",
       "       46474, 17671, 12472, 63392, 52139, 44311, 75111,  5631, 50736,\n",
       "       41591, 80103, 26721, 32197, 39931, 65206, 10590, 14067, 39551,\n",
       "       19629, 15191, 29016, 65214, 27063, 16978, 23996, 46645, 30228,\n",
       "        6620, 54994, 66398, 48849, 58588, 28626, 11988, 71048, 50468,\n",
       "       11235, 38780, 71428, 50694,  6071, 14102,  7992, 75116, 79466,\n",
       "       59620, 67615, 15051, 41038, 21319, 76105, 68149, 75170,  7649,\n",
       "       38374, 45948, 16000, 21300, 44103, 37592, 20714, 41227, 11259,\n",
       "       42601, 72304, 27944, 25226,  2604,  3840, 28098,  6942, 12634,\n",
       "       41151, 25161, 68043, 57890,  5913, 38444, 35711, 19677, 24826,\n",
       "       66462, 73057, 54535, 11671, 23490,  1897, 14542, 80151, 56159,\n",
       "       41516, 49321,  5609, 65927, 54828, 78621, 10919, 50457, 17268,\n",
       "       51076,  8666, 10629, 78559, 26414, 78620,  1680, 21171, 63401,\n",
       "       20800, 28988, 54538,  4599, 35945, 39050, 26307, 36181, 38585,\n",
       "       48790, 33736, 33358, 40374,  6858,  4116, 29044,  4158, 52741,\n",
       "       48500, 33410, 71420,  6670, 47056, 46085, 53601, 27165, 34537,\n",
       "       72227, 70842, 35696, 15599, 50898, 67644, 57284, 63693, 25852,\n",
       "       65971, 35708, 64201, 20243, 34311, 74721, 31066, 48214, 44616,\n",
       "       32594,  3469, 22902, 57818, 27832, 44107,  6696, 30450, 70195,\n",
       "       70786, 68579, 36934, 54837, 46203, 73857, 77133, 16954,  3309,\n",
       "       48535, 40978, 37358, 28836, 41034, 43233, 72772, 21082, 34383,\n",
       "        7591, 31849, 27717, 11825, 63780, 67643, 15001, 64514, 68739,\n",
       "       56805, 12955, 69836, 35807, 31804, 43857, 64601, 67386, 51067,\n",
       "       52201, 37808, 55629, 72960, 44977, 51326, 35845, 57947, 75159,\n",
       "       54410, 77384,  4172, 70664, 11142, 62325, 73489, 11155, 48735,\n",
       "       36427, 49691, 31287, 48799, 38481, 62021, 16374, 65074, 63640,\n",
       "       25176, 12011, 48935, 74513, 56978, 22540, 32306, 63325,  9668,\n",
       "       43303, 66481, 52419, 27416, 36541, 14480, 66547,  2515, 57269,\n",
       "       39527, 35534,  9041, 72864, 32600, 12379, 49037, 46330, 32545,\n",
       "       42745, 35658, 13077,  3823,  8876, 35868, 23061, 38689, 80153,\n",
       "       71429, 19340, 41568, 25943, 22773, 15545, 17172, 48013, 24163,\n",
       "       18222, 30486, 71153, 36666, 13102, 23735, 49663, 44870, 11457,\n",
       "       34008,  4917, 47420, 11591, 65534,  8839, 50633, 28097, 12059,\n",
       "       34379, 20786, 25324, 55494,  1038, 45440, 16762, 11967, 21999,\n",
       "       68522, 49686, 66508, 19061, 48979, 55610, 51424, 27017, 43704,\n",
       "       30795,   199, 45603,  8099, 47313, 18432,  2957,  1819, 61867,\n",
       "        2589, 58648, 23562, 16104, 62848, 77804, 67530, 61564, 63744,\n",
       "       44180, 25979, 66569, 67960,  2314, 35638, 46726,  3026, 10852,\n",
       "       56657,  8368, 42924, 55032,    41, 42990, 61912, 73766, 56403,\n",
       "       16023, 68373,  9758, 14573, 34475,  8424, 45234, 12631, 29214,\n",
       "       11056, 60767, 13947,  1393,  9513, 10808, 63783, 19169, 58995,\n",
       "       31004, 69331,  8809,  8184, 26530, 51152, 21296, 46702, 13213,\n",
       "          68, 69709, 26261, 53761, 36092, 52914, 60469, 73479, 59152,\n",
       "       53406, 52840, 58072, 67974, 34757, 49230, 69093, 38274, 69208,\n",
       "       50138, 54829, 24975, 33589, 37891,  4031, 15193, 13782,  6564,\n",
       "       14817, 37057, 20171, 72668, 34155, 57486, 62925, 70071, 51927,\n",
       "       74480,  5481, 29265,  9183, 24632, 51541, 21326,  9025, 46603,\n",
       "       53045, 34142, 56866, 11720, 38152, 78425, 38548, 43682, 66230,\n",
       "        7646, 70854, 15971,  2011, 62440,  6346, 71640, 31240, 66984,\n",
       "       39936, 43280, 74675, 22070, 45135, 18887, 28551, 70044, 48246,\n",
       "       79099,  3588, 16911, 61874, 23467, 23779, 44684, 67010, 80102,\n",
       "       28451, 11562, 36570, 20327,  6801, 74845, 45678, 13805, 70637,\n",
       "       78941, 68720, 59904, 43097, 65963,  8069, 33414, 23526, 13510,\n",
       "       35972, 76853, 40347, 75553, 39321, 25084, 69636, 28448, 60847,\n",
       "       13895, 38098, 31450, 18092, 71680, 35843, 19266, 73361, 47532,\n",
       "       72437, 46190, 11186, 52414, 77054, 66588, 12533, 65025, 63168,\n",
       "       64041, 40613, 72807, 65321, 79296, 53930, 72292, 41330,  7768,\n",
       "       79975, 38831, 34793, 68040,   287, 49592, 30600, 19401,  7803,\n",
       "       17794, 15079, 48798, 71102,  8407, 17817, 56109, 38770, 27140,\n",
       "       18886, 70262, 53664, 23203,  3290,  8386,  7322, 29605, 50097,\n",
       "       36139, 67271, 36396, 27357, 63317, 13126, 36881, 68880, 39879,\n",
       "        3763,  7847, 56357, 23573, 50218,  1977, 52691, 68327, 34411,\n",
       "       26552, 74065, 63475, 34909, 41785, 23886,  4741, 63659,  6844,\n",
       "       36673, 52421, 22696, 61955, 42435, 34333, 76162, 37921, 76553,\n",
       "       14084,  8270,  8712,  5290, 43368, 70264, 33120, 34512, 17088,\n",
       "       68535, 72274, 23583, 22396, 36992,  9702, 77479, 14520,  9927,\n",
       "       11590, 41270, 19079, 70048, 28345, 16090, 63208, 33891, 46520,\n",
       "       54397, 62753, 61509, 24714, 67011, 17177, 39860, 72040, 23243,\n",
       "       54652,  7354, 12375, 46539, 77006, 61768, 24923, 24267, 20309,\n",
       "       66997, 47679, 40523, 13188, 10042, 25509, 67187, 17123,   294,\n",
       "       44342, 37332, 45855,  4912, 31054,  2347, 34754, 22619, 25851,\n",
       "       44942, 76195, 53573, 38889, 21833, 26944,  8857, 17204, 24330,\n",
       "       28256, 67756,  7135,  7031,   959, 44806, 17933, 48038, 37339,\n",
       "       21377,  6793,  6814, 67926, 29832, 27115, 46835, 60785, 65672,\n",
       "       61861, 17566, 13100, 61678, 78265, 38912, 75000, 65185,  4051,\n",
       "        8304, 53473, 70684, 62601, 77967, 58166, 55462, 53952, 69067,\n",
       "       21207, 10488, 62879, 34700, 39720, 11214, 76963, 69421,  2160,\n",
       "       49189, 59382, 30765, 33555, 41759, 64279, 11037, 11198, 69528,\n",
       "       34711, 67248, 34844, 60365, 72501, 15882, 29277, 71946, 10311,\n",
       "       36646, 73363,  4388, 35493, 41880, 51329, 53669, 33525, 68451,\n",
       "       42633, 45206, 77948,  3098, 75120, 74168, 65349,  2506, 14451,\n",
       "       42831, 75379, 75864, 55164, 36842, 66418, 62536, 45330, 79944,\n",
       "       22871, 35929, 37735, 41373, 16006, 39801, 25465, 15520, 69359,\n",
       "       17039, 30366, 15372, 35948, 71968, 78236, 32325, 51111, 30508,\n",
       "       49433, 75242,  2046, 55491, 14054, 21871, 30196, 63789, 27851,\n",
       "       49177, 20086, 74808, 64010, 56387, 34450, 66918, 67886, 16093,\n",
       "       55174, 20999, 76564, 27368, 22407, 63571, 44393, 76709,  3041,\n",
       "       64796, 61889, 63882, 23784, 46435, 57801, 69702, 58198, 14921,\n",
       "       71262,  7836, 73981,  8013, 61619, 23439, 52318, 77498,    10,\n",
       "       23718, 41279, 10907, 36897,  8247,  1925, 28668,  8310, 54105,\n",
       "       16976, 62182, 30281, 68439, 65803, 67726,  3670, 26016,  1022,\n",
       "        8936, 25009, 69194, 13740,  9941,  3764, 78888, 38918, 68803,\n",
       "        3221, 56106, 20913, 43235, 25483, 27267,  2870, 13493, 12860,\n",
       "        9223, 69588, 31766,  7172, 11635, 33258, 10729, 39824, 26604,\n",
       "       31633, 11200, 67940, 31327, 49215, 54210, 18661, 42107, 26661,\n",
       "       34259, 59652, 22113, 42078,  2801, 66178, 39947, 64310, 13286,\n",
       "         166, 65210, 63985, 46228,  2048, 70606, 61591, 75525, 69139,\n",
       "       25391, 14758, 45667, 18846, 25769,  6715, 11611,  8905, 76300,\n",
       "       22477])"
      ]
     },
     "execution_count": 23,
     "metadata": {},
     "output_type": "execute_result"
    }
   ],
   "source": [
    "nsamples = 1000\n",
    "downSampleInds = np.random.choice(range(len(ufos)-1), nsamples, replace=False)\n",
    "downSampleInds"
   ]
  },
  {
   "cell_type": "code",
   "execution_count": 24,
   "id": "italian-concentration",
   "metadata": {},
   "outputs": [],
   "source": [
    "ufosDS = ufos.loc[downSampleInds]"
   ]
  },
  {
   "cell_type": "code",
   "execution_count": 25,
   "id": "graduate-yahoo",
   "metadata": {},
   "outputs": [
    {
     "data": {
      "text/html": [
       "<div>\n",
       "<style scoped>\n",
       "    .dataframe tbody tr th:only-of-type {\n",
       "        vertical-align: middle;\n",
       "    }\n",
       "\n",
       "    .dataframe tbody tr th {\n",
       "        vertical-align: top;\n",
       "    }\n",
       "\n",
       "    .dataframe thead th {\n",
       "        text-align: right;\n",
       "    }\n",
       "</style>\n",
       "<table border=\"1\" class=\"dataframe\">\n",
       "  <thead>\n",
       "    <tr style=\"text-align: right;\">\n",
       "      <th></th>\n",
       "      <th>date</th>\n",
       "      <th>city</th>\n",
       "      <th>state</th>\n",
       "      <th>country</th>\n",
       "      <th>shape</th>\n",
       "      <th>duration_seconds</th>\n",
       "      <th>duration</th>\n",
       "      <th>comment</th>\n",
       "      <th>report_date</th>\n",
       "      <th>latitude</th>\n",
       "      <th>longitude</th>\n",
       "    </tr>\n",
       "  </thead>\n",
       "  <tbody>\n",
       "    <tr>\n",
       "      <th>74113</th>\n",
       "      <td>2002-09-13 20:30:00</td>\n",
       "      <td>jal</td>\n",
       "      <td>nm</td>\n",
       "      <td>us</td>\n",
       "      <td>light</td>\n",
       "      <td>5.0</td>\n",
       "      <td>5 seconds</td>\n",
       "      <td>Fast Moving object...Traveling from South to N...</td>\n",
       "      <td>2002-09-19</td>\n",
       "      <td>32.113056</td>\n",
       "      <td>-103.193056</td>\n",
       "    </tr>\n",
       "    <tr>\n",
       "      <th>37754</th>\n",
       "      <td>2007-04-19 23:00:00</td>\n",
       "      <td>greenville</td>\n",
       "      <td>mi</td>\n",
       "      <td>us</td>\n",
       "      <td>light</td>\n",
       "      <td>900.0</td>\n",
       "      <td>15 min.</td>\n",
       "      <td>strange neon color lights come together as one...</td>\n",
       "      <td>2007-04-27</td>\n",
       "      <td>43.177500</td>\n",
       "      <td>-85.252778</td>\n",
       "    </tr>\n",
       "    <tr>\n",
       "      <th>59913</th>\n",
       "      <td>2004-07-26 05:25:00</td>\n",
       "      <td>mississauga (canada)</td>\n",
       "      <td>on</td>\n",
       "      <td>ca</td>\n",
       "      <td>disk</td>\n",
       "      <td>1200.0</td>\n",
       "      <td>20 mins</td>\n",
       "      <td>I saw coloured lights in the sky outside throu...</td>\n",
       "      <td>2004-08-11</td>\n",
       "      <td>43.150000</td>\n",
       "      <td>-79.500000</td>\n",
       "    </tr>\n",
       "    <tr>\n",
       "      <th>20978</th>\n",
       "      <td>2000-12-28 17:09:00</td>\n",
       "      <td>houston</td>\n",
       "      <td>tx</td>\n",
       "      <td>us</td>\n",
       "      <td>light</td>\n",
       "      <td>660.0</td>\n",
       "      <td>11 minutes</td>\n",
       "      <td>Bright&amp;#44 burning&amp;#44 descending small&amp;#44 na...</td>\n",
       "      <td>2001-01-03</td>\n",
       "      <td>29.763056</td>\n",
       "      <td>-95.363056</td>\n",
       "    </tr>\n",
       "    <tr>\n",
       "      <th>24647</th>\n",
       "      <td>2014-01-04 23:30:00</td>\n",
       "      <td>clermont</td>\n",
       "      <td>fl</td>\n",
       "      <td>us</td>\n",
       "      <td>triangle</td>\n",
       "      <td>15.0</td>\n",
       "      <td>15 seconds</td>\n",
       "      <td>Very low slow triangular craft with bright whi...</td>\n",
       "      <td>2014-01-10</td>\n",
       "      <td>28.549167</td>\n",
       "      <td>-81.773056</td>\n",
       "    </tr>\n",
       "    <tr>\n",
       "      <th>...</th>\n",
       "      <td>...</td>\n",
       "      <td>...</td>\n",
       "      <td>...</td>\n",
       "      <td>...</td>\n",
       "      <td>...</td>\n",
       "      <td>...</td>\n",
       "      <td>...</td>\n",
       "      <td>...</td>\n",
       "      <td>...</td>\n",
       "      <td>...</td>\n",
       "      <td>...</td>\n",
       "    </tr>\n",
       "    <tr>\n",
       "      <th>6715</th>\n",
       "      <td>2006-10-06 19:00:00</td>\n",
       "      <td>fes (morocco)</td>\n",
       "      <td>NaN</td>\n",
       "      <td>NaN</td>\n",
       "      <td>circle</td>\n",
       "      <td>120.0</td>\n",
       "      <td>2 minutes</td>\n",
       "      <td>Looking off balcony at night sky curious becau...</td>\n",
       "      <td>2006-12-07</td>\n",
       "      <td>34.033333</td>\n",
       "      <td>-5.000000</td>\n",
       "    </tr>\n",
       "    <tr>\n",
       "      <th>11611</th>\n",
       "      <td>2005-11-20 22:35:00</td>\n",
       "      <td>melbourne (australia)</td>\n",
       "      <td>NaN</td>\n",
       "      <td>au</td>\n",
       "      <td>light</td>\n",
       "      <td>2700.0</td>\n",
       "      <td>&gt;45mins</td>\n",
       "      <td>3 lighted spherical UFO seen over the eastern ...</td>\n",
       "      <td>2005-12-16</td>\n",
       "      <td>-37.813938</td>\n",
       "      <td>144.963425</td>\n",
       "    </tr>\n",
       "    <tr>\n",
       "      <th>8905</th>\n",
       "      <td>2004-11-13 22:30:00</td>\n",
       "      <td>circleville</td>\n",
       "      <td>oh</td>\n",
       "      <td>us</td>\n",
       "      <td>light</td>\n",
       "      <td>120.0</td>\n",
       "      <td>1-2 min.</td>\n",
       "      <td>Fire colored orange lights spotted in Circlevi...</td>\n",
       "      <td>2006-02-14</td>\n",
       "      <td>39.600556</td>\n",
       "      <td>-82.946111</td>\n",
       "    </tr>\n",
       "    <tr>\n",
       "      <th>76300</th>\n",
       "      <td>1999-09-21 18:00:00</td>\n",
       "      <td>san diego</td>\n",
       "      <td>ca</td>\n",
       "      <td>us</td>\n",
       "      <td>circle</td>\n",
       "      <td>1.5</td>\n",
       "      <td>1.5 seconds</td>\n",
       "      <td>Ilooked up saw circular object with 3 whitish ...</td>\n",
       "      <td>2003-11-11</td>\n",
       "      <td>32.715278</td>\n",
       "      <td>-117.156389</td>\n",
       "    </tr>\n",
       "    <tr>\n",
       "      <th>22477</th>\n",
       "      <td>1985-12-05 05:00:00</td>\n",
       "      <td>manaus-amazonas (brazil)</td>\n",
       "      <td>al</td>\n",
       "      <td>NaN</td>\n",
       "      <td>egg</td>\n",
       "      <td>600.0</td>\n",
       "      <td>10:00</td>\n",
       "      <td>this case happen to me and my brother my engli...</td>\n",
       "      <td>2007-08-07</td>\n",
       "      <td>-3.086529</td>\n",
       "      <td>-60.052321</td>\n",
       "    </tr>\n",
       "  </tbody>\n",
       "</table>\n",
       "<p>1000 rows × 11 columns</p>\n",
       "</div>"
      ],
      "text/plain": [
       "                     date                      city state country     shape  \\\n",
       "74113 2002-09-13 20:30:00                       jal    nm      us     light   \n",
       "37754 2007-04-19 23:00:00                greenville    mi      us     light   \n",
       "59913 2004-07-26 05:25:00      mississauga (canada)    on      ca      disk   \n",
       "20978 2000-12-28 17:09:00                   houston    tx      us     light   \n",
       "24647 2014-01-04 23:30:00                  clermont    fl      us  triangle   \n",
       "...                   ...                       ...   ...     ...       ...   \n",
       "6715  2006-10-06 19:00:00             fes (morocco)   NaN     NaN    circle   \n",
       "11611 2005-11-20 22:35:00     melbourne (australia)   NaN      au     light   \n",
       "8905  2004-11-13 22:30:00               circleville    oh      us     light   \n",
       "76300 1999-09-21 18:00:00                 san diego    ca      us    circle   \n",
       "22477 1985-12-05 05:00:00  manaus-amazonas (brazil)    al     NaN       egg   \n",
       "\n",
       "       duration_seconds     duration  \\\n",
       "74113               5.0    5 seconds   \n",
       "37754             900.0      15 min.   \n",
       "59913            1200.0      20 mins   \n",
       "20978             660.0   11 minutes   \n",
       "24647              15.0   15 seconds   \n",
       "...                 ...          ...   \n",
       "6715              120.0    2 minutes   \n",
       "11611            2700.0      >45mins   \n",
       "8905              120.0     1-2 min.   \n",
       "76300               1.5  1.5 seconds   \n",
       "22477             600.0        10:00   \n",
       "\n",
       "                                                 comment report_date  \\\n",
       "74113  Fast Moving object...Traveling from South to N...  2002-09-19   \n",
       "37754  strange neon color lights come together as one...  2007-04-27   \n",
       "59913  I saw coloured lights in the sky outside throu...  2004-08-11   \n",
       "20978  Bright&#44 burning&#44 descending small&#44 na...  2001-01-03   \n",
       "24647  Very low slow triangular craft with bright whi...  2014-01-10   \n",
       "...                                                  ...         ...   \n",
       "6715   Looking off balcony at night sky curious becau...  2006-12-07   \n",
       "11611  3 lighted spherical UFO seen over the eastern ...  2005-12-16   \n",
       "8905   Fire colored orange lights spotted in Circlevi...  2006-02-14   \n",
       "76300  Ilooked up saw circular object with 3 whitish ...  2003-11-11   \n",
       "22477  this case happen to me and my brother my engli...  2007-08-07   \n",
       "\n",
       "        latitude   longitude  \n",
       "74113  32.113056 -103.193056  \n",
       "37754  43.177500  -85.252778  \n",
       "59913  43.150000  -79.500000  \n",
       "20978  29.763056  -95.363056  \n",
       "24647  28.549167  -81.773056  \n",
       "...          ...         ...  \n",
       "6715   34.033333   -5.000000  \n",
       "11611 -37.813938  144.963425  \n",
       "8905   39.600556  -82.946111  \n",
       "76300  32.715278 -117.156389  \n",
       "22477  -3.086529  -60.052321  \n",
       "\n",
       "[1000 rows x 11 columns]"
      ]
     },
     "execution_count": 25,
     "metadata": {},
     "output_type": "execute_result"
    }
   ],
   "source": [
    "ufosDS"
   ]
  },
  {
   "cell_type": "markdown",
   "id": "separated-native",
   "metadata": {},
   "source": [
    "A quick bqplot of the ufo(DS) dataset using a scatter plot:"
   ]
  },
  {
   "cell_type": "code",
   "execution_count": 32,
   "id": "colonial-actress",
   "metadata": {},
   "outputs": [
    {
     "data": {
      "application/vnd.jupyter.widget-view+json": {
       "model_id": "d16986ea8c4a477fb043534f3a50cd6a",
       "version_major": 2,
       "version_minor": 0
      },
      "text/plain": [
       "Figure(axes=[Axis(label='Longitude', scale=LinearScale()), Axis(label='Latitude', orientation='vertical', scal…"
      ]
     },
     "metadata": {},
     "output_type": "display_data"
    }
   ],
   "source": [
    "# 2. Scales\n",
    "x_sc = bqplot.LinearScale()\n",
    "y_sc = bqplot.LinearScale()\n",
    "c_sc = bqplot.ColorScale()\n",
    "\n",
    "# 3. Axis\n",
    "x_ax = bqplot.Axis(scale=x_sc, label='Longitude')\n",
    "y_ax = bqplot.Axis(scale=y_sc, label='Latitude', orientation='vertical')\n",
    "c_ax = bqplot.ColorAxis(scale=c_sc, orientation='vertical', side='right')\n",
    "\n",
    "# 4. Marks\n",
    "scatters = bqplot.Scatter(x=ufosDS['longitude'], y=ufosDS['latitude'],\n",
    "                          color=np.log10(ufosDS['duration_seconds']),\n",
    "                         scales={'x':x_sc, 'y':y_sc, 'color':c_sc})\n",
    "\n",
    "# put together in a figure\n",
    "fig = bqplot.Figure(marks=[scatters], axes=[x_ax, y_ax, c_ax])\n",
    "fig"
   ]
  },
  {
   "cell_type": "code",
   "execution_count": 31,
   "id": "sweet-cookbook",
   "metadata": {},
   "outputs": [
    {
     "data": {
      "text/plain": [
       "(1.0, 432000.0)"
      ]
     },
     "execution_count": 31,
     "metadata": {},
     "output_type": "execute_result"
    }
   ],
   "source": [
    "ufosDS['duration_seconds'].min(), ufosDS['duration_seconds'].max()"
   ]
  },
  {
   "cell_type": "markdown",
   "id": "waiting-pearl",
   "metadata": {},
   "source": [
    "# UFO dataset with a GridHeatMap and some 2d histogramming\n",
    "\n",
    "Order of operations:\n",
    " 1. Choose the bins in long/lat\n",
    " 1. Make a 2d histogram with NumPy\n",
    " 1. Choose a weight (color -- duration in seconds)\n",
    " 1. Log of the color\n",
    " 1. Calculate the bin-centers for plotting"
   ]
  },
  {
   "cell_type": "code",
   "execution_count": 50,
   "id": "desirable-stick",
   "metadata": {},
   "outputs": [],
   "source": [
    "def generate_histogram_from_lat_long(ufos, nlong=20, nlat=20, longmin=-150, longmax=150,\n",
    "                                     latmin=-40, latmax=70,\n",
    "                                     takeLog=True):\n",
    "    long_bins = np.linspace(longmin, longmax, nlong+1) # longitude bins\n",
    "    lat_bins = np.linspace(latmin, latmax, nlat+1) # latitude bins\n",
    "    # using NumPy 2D histogram to bin the data in 2D\n",
    "    hist2d, long_edges, lat_edges = np.histogram2d(ufos['longitude'], \n",
    "                                                   ufos['latitude'], \n",
    "                                                   weights=ufos['duration_seconds'], # weighted by duration in seconds\n",
    "                                                  bins = [long_bins,lat_bins])\n",
    "    hist2d = hist2d.T # transpose because of default binning\n",
    "    if takeLog: # log10 transformation of the colormap\n",
    "        hist2d[hist2d <= 0] = np.nan # set zeros to NaNs\n",
    "        # then take log\n",
    "        hist2d = np.log10(hist2d)\n",
    "    long_centers = (long_edges[:-1] + long_edges[1:]) / 2 # inline programming to get bin centers\n",
    "    lat_centers = (lat_edges[:-1] + lat_edges[1:]) / 2 # same thing here\n",
    "    return hist2d, long_centers, lat_centers, long_edges, lat_edges"
   ]
  },
  {
   "cell_type": "code",
   "execution_count": 52,
   "id": "matched-female",
   "metadata": {},
   "outputs": [],
   "source": [
    "hist2d, long_centers, lat_centers, long_edges, lat_edges = generate_histogram_from_lat_long(ufos)"
   ]
  },
  {
   "cell_type": "code",
   "execution_count": 36,
   "id": "fleet-copyright",
   "metadata": {},
   "outputs": [
    {
     "data": {
      "text/plain": [
       "array([[       nan,        nan,        nan,        nan,        nan,\n",
       "        3.15836249, 4.95777963,        nan,        nan,        nan,\n",
       "               nan,        nan,        nan,        nan,        nan,\n",
       "               nan,        nan, 2.78887512,        nan, 5.1441975 ],\n",
       "       [       nan,        nan,        nan,        nan,        nan,\n",
       "        4.21512208, 3.06818586,        nan,        nan,        nan,\n",
       "               nan, 4.45993502, 4.45336421,        nan,        nan,\n",
       "        3.78283081,        nan, 4.88131902, 3.06445799, 4.02816442],\n",
       "       [       nan,        nan, 0.        ,        nan,        nan,\n",
       "        3.8920946 , 4.78334607,        nan,        nan,        nan,\n",
       "               nan, 4.42499591, 3.34635297,        nan,        nan,\n",
       "               nan,        nan, 3.20139712, 4.39578055, 3.17897695],\n",
       "       [       nan,        nan,        nan,        nan,        nan,\n",
       "        3.68124124, 4.00121433, 4.08278537,        nan,        nan,\n",
       "        2.07918125, 3.78426058,        nan, 3.04727487,        nan,\n",
       "               nan,        nan, 2.25527251, 1.47712125, 6.09868006],\n",
       "       [1.17609126,        nan,        nan,        nan,        nan,\n",
       "        4.5108398 , 4.57847875,        nan, 4.44502787, 2.95424251,\n",
       "               nan, 2.43136376, 3.37474835,        nan,        nan,\n",
       "               nan,        nan,        nan,        nan, 4.13618133],\n",
       "       [       nan, 4.94357365,        nan,        nan, 2.07918125,\n",
       "        2.47712125,        nan, 4.29863478,        nan,        nan,\n",
       "               nan,        nan,        nan,        nan,        nan,\n",
       "               nan,        nan, 2.15228834, 3.13576851,        nan],\n",
       "       [       nan,        nan,        nan,        nan, 6.80020229,\n",
       "        2.77815125, 3.28780173, 2.47712125,        nan,        nan,\n",
       "               nan, 2.07918125, 0.60205999,        nan,        nan,\n",
       "               nan,        nan, 2.98900462,        nan,        nan],\n",
       "       [       nan,        nan,        nan, 1.47712125, 4.29479678,\n",
       "               nan,        nan,        nan,        nan,        nan,\n",
       "        2.8920946 ,        nan, 4.11291654,        nan, 1.95424251,\n",
       "               nan, 4.89413876, 4.20153367,        nan,        nan],\n",
       "       [       nan,        nan,        nan,        nan, 3.95218682,\n",
       "        3.4181355 , 3.56229286,        nan,        nan, 0.69897   ,\n",
       "        3.74429298,        nan, 3.43854235,        nan, 3.25527251,\n",
       "        4.32221929, 3.85642677, 3.61436984, 3.93308216,        nan],\n",
       "       [       nan,        nan,        nan, 3.54157924, 3.97342252,\n",
       "        6.09410866, 3.48713838,        nan, 3.59769519,        nan,\n",
       "               nan,        nan,        nan,        nan, 2.77815125,\n",
       "        4.37307759, 4.32376758, 4.31207152, 6.72498892, 2.95424251],\n",
       "       [       nan,        nan,        nan, 4.80700706, 4.50877205,\n",
       "        5.8212534 ,        nan,        nan,        nan,        nan,\n",
       "               nan,        nan,        nan, 2.07918125, 5.56585254,\n",
       "        4.58221113, 3.81954394, 3.38021124, 3.67669361,        nan],\n",
       "       [       nan,        nan, 5.82237014, 5.46428234, 5.61318957,\n",
       "        2.86033801,        nan,        nan,        nan,        nan,\n",
       "               nan,        nan, 3.64738297, 3.9259306 , 3.75929003,\n",
       "        4.59636614, 3.87203967, 4.16811429, 2.57054294,        nan],\n",
       "       [       nan,        nan, 4.98358795, 7.07945235, 7.75803979,\n",
       "               nan,        nan,        nan, 3.79316153, 2.38021124,\n",
       "               nan, 2.07918125, 3.61783875, 3.60873992, 3.45438747,\n",
       "        6.43354711, 2.81291336, 3.38021124, 4.17609126,        nan],\n",
       "       [       nan, 5.6459806 , 7.67779189, 7.92967892, 7.44927561,\n",
       "        3.86952506,        nan, 3.26245109, 2.32221929, 4.11270552,\n",
       "        3.70217195, 3.85545858, 5.84598124, 6.80171042, 4.05200098,\n",
       "        1.84509804, 2.07918125, 2.25527251, 4.16574868, 4.14141842],\n",
       "       [       nan, 7.02773172, 6.83534037, 7.13447879, 7.95660564,\n",
       "        7.48614247,        nan,        nan, 1.96848295, 4.67152458,\n",
       "        4.77860702, 6.42892407, 4.2726537 , 2.6946052 , 3.99694925,\n",
       "               nan,        nan, 4.35696231, 3.37511468, 3.00860017],\n",
       "       [       nan, 6.72644508, 7.73800979, 6.5769794 , 7.94501795,\n",
       "        6.68471895, 4.45995008,        nan,        nan, 3.30211438,\n",
       "        4.9450942 , 6.97868589, 3.90200289,        nan, 3.8573325 ,\n",
       "        3.51851394,        nan, 2.62324929, 2.07918125,        nan],\n",
       "       [       nan, 6.51420351, 6.04979947, 5.48008172, 5.03438377,\n",
       "        4.06903876, 4.11918988,        nan,        nan, 8.09710748,\n",
       "        6.50676726, 4.43885866, 2.98317507,        nan, 1.11394335,\n",
       "               nan,        nan,        nan, 1.14612804, 1.79239169],\n",
       "       [2.8573325 , 5.75806821, 5.57698368, 5.67423174, 3.7355989 ,\n",
       "               nan,        nan,        nan,        nan, 5.99512014,\n",
       "        4.6471824 , 4.24839019, 2.66745295, 3.07918125,        nan,\n",
       "               nan,        nan,        nan,        nan,        nan],\n",
       "       [5.4029162 , 4.31264272, 3.61140464, 2.66745295, 1.47712125,\n",
       "               nan, 2.47712125,        nan, 3.8972421 , 2.25527251,\n",
       "        4.2566456 , 4.24353435,        nan,        nan,        nan,\n",
       "               nan,        nan,        nan,        nan,        nan],\n",
       "       [5.82882675, 4.3544926 ,        nan,        nan,        nan,\n",
       "               nan,        nan,        nan, 3.77815125,        nan,\n",
       "        3.44090908, 3.29841638,        nan,        nan,        nan,\n",
       "               nan,        nan,        nan,        nan,        nan]])"
      ]
     },
     "execution_count": 36,
     "metadata": {},
     "output_type": "execute_result"
    }
   ],
   "source": [
    "hist2d"
   ]
  },
  {
   "cell_type": "code",
   "execution_count": 37,
   "id": "beneficial-engineer",
   "metadata": {},
   "outputs": [
    {
     "data": {
      "text/plain": [
       "array([-142.5, -127.5, -112.5,  -97.5,  -82.5,  -67.5,  -52.5,  -37.5,\n",
       "        -22.5,   -7.5,    7.5,   22.5,   37.5,   52.5,   67.5,   82.5,\n",
       "         97.5,  112.5,  127.5,  142.5])"
      ]
     },
     "execution_count": 37,
     "metadata": {},
     "output_type": "execute_result"
    }
   ],
   "source": [
    "long_centers"
   ]
  },
  {
   "cell_type": "code",
   "execution_count": 38,
   "id": "arctic-omega",
   "metadata": {},
   "outputs": [
    {
     "data": {
      "text/plain": [
       "array([-37.25, -31.75, -26.25, -20.75, -15.25,  -9.75,  -4.25,   1.25,\n",
       "         6.75,  12.25,  17.75,  23.25,  28.75,  34.25,  39.75,  45.25,\n",
       "        50.75,  56.25,  61.75,  67.25])"
      ]
     },
     "execution_count": 38,
     "metadata": {},
     "output_type": "execute_result"
    }
   ],
   "source": [
    "lat_centers"
   ]
  },
  {
   "cell_type": "code",
   "execution_count": 40,
   "id": "featured-ethiopia",
   "metadata": {},
   "outputs": [
    {
     "data": {
      "application/vnd.jupyter.widget-view+json": {
       "model_id": "272eb1e6fe694d5f874aa70425e06786",
       "version_major": 2,
       "version_minor": 0
      },
      "text/plain": [
       "Figure(axes=[ColorAxis(orientation='vertical', scale=ColorScale(scheme='RdPu'), side='right'), Axis(label='Lat…"
      ]
     },
     "metadata": {},
     "output_type": "display_data"
    }
   ],
   "source": [
    "# 1. Data -- 2d histogram in lat/long\n",
    "\n",
    "# 2. Scales\n",
    "# x/y\n",
    "x_sc = bqplot.LinearScale()\n",
    "y_sc = bqplot.LinearScale()\n",
    "col_sc = bqplot.ColorScale(scheme='RdPu')\n",
    "\n",
    "# 3. Axis -- x/y AND color\n",
    "x_ax = bqplot.Axis(scale=x_sc, label='Longitude')\n",
    "y_ax = bqplot.Axis(scale=y_sc, label='Latitude', orientation='vertical')\n",
    "col_ax = bqplot.ColorAxis(scale=col_sc, orientation='vertical', side='right')\n",
    "\n",
    "# 4. Marks\n",
    "heat_map = bqplot.GridHeatMap(color=hist2d, row=lat_centers, column=long_centers, \n",
    "                             scales={'color':col_sc, 'row':y_sc, 'column':x_sc})\n",
    "\n",
    "# 5. Interations -- none just yet!\n",
    "\n",
    "# Put it together as a figure\n",
    "fig = bqplot.Figure(marks=[heat_map], axes=[col_ax, y_ax, x_ax])\n",
    "fig"
   ]
  },
  {
   "cell_type": "code",
   "execution_count": 41,
   "id": "visible-parker",
   "metadata": {},
   "outputs": [
    {
     "data": {
      "application/vnd.jupyter.widget-view+json": {
       "model_id": "63b122aa1209428d9dfe14923a3b87bf",
       "version_major": 2,
       "version_minor": 0
      },
      "text/plain": [
       "Figure(axes=[ColorAxis(orientation='vertical', scale=ColorScale(scheme='RdPu'), side='right'), Axis(label='Lat…"
      ]
     },
     "metadata": {},
     "output_type": "display_data"
    }
   ],
   "source": [
    "# 1. Data -- 2d histogram in lat/long\n",
    "\n",
    "# 2. Scales\n",
    "# x/y\n",
    "x_sc = bqplot.LinearScale()\n",
    "y_sc = bqplot.LinearScale()\n",
    "col_sc = bqplot.ColorScale(scheme='RdPu')\n",
    "\n",
    "# 3. Axis -- x/y AND color\n",
    "x_ax = bqplot.Axis(scale=x_sc, label='Longitude')\n",
    "y_ax = bqplot.Axis(scale=y_sc, label='Latitude', orientation='vertical')\n",
    "col_ax = bqplot.ColorAxis(scale=col_sc, orientation='vertical', side='right')\n",
    "\n",
    "# 4. Marks\n",
    "heat_map = bqplot.GridHeatMap(color=hist2d, row=lat_centers, column=long_centers, \n",
    "                             scales={'color':col_sc, 'row':y_sc, 'column':x_sc},\n",
    "                             interactions={'click':'select'}, # select on click\n",
    "                             anchor_style={'fill':'blue'}, # fill selection with blue\n",
    "                             selected_style={'opacity':1.0}, # opaque on selection\n",
    "                             unselected_style={'opacity':0.8}) # see-through for non-selected\n",
    "\n",
    "# 5. Interations -- none just yet!\n",
    "\n",
    "# Put it together as a figure\n",
    "fig = bqplot.Figure(marks=[heat_map], axes=[col_ax, y_ax, x_ax])\n",
    "fig"
   ]
  },
  {
   "cell_type": "markdown",
   "id": "pressing-scale",
   "metadata": {},
   "source": [
    "Looking forward -- we want to have a label on top again, and a plot on the right that is being driven by our selections on our gridheatmap on the left."
   ]
  },
  {
   "cell_type": "code",
   "execution_count": 44,
   "id": "tutorial-mounting",
   "metadata": {},
   "outputs": [
    {
     "data": {
      "application/vnd.jupyter.widget-view+json": {
       "model_id": "bef99c8201894f3484128ea56a2e4e90",
       "version_major": 2,
       "version_minor": 0
      },
      "text/plain": [
       "VBox(children=(Label(value=''), Figure(axes=[ColorAxis(orientation='vertical', scale=ColorScale(scheme='RdPu')…"
      ]
     },
     "metadata": {},
     "output_type": "display_data"
    }
   ],
   "source": [
    "# 1. Data -- 2d histogram in lat/long\n",
    "\n",
    "# 2. Scales\n",
    "# x/y\n",
    "x_sc = bqplot.LinearScale()\n",
    "y_sc = bqplot.LinearScale()\n",
    "col_sc = bqplot.ColorScale(scheme='RdPu')\n",
    "\n",
    "# 3. Axis -- x/y AND color\n",
    "x_ax = bqplot.Axis(scale=x_sc, label='Longitude')\n",
    "y_ax = bqplot.Axis(scale=y_sc, label='Latitude', orientation='vertical')\n",
    "col_ax = bqplot.ColorAxis(scale=col_sc, orientation='vertical', side='right')\n",
    "\n",
    "# 4. Marks\n",
    "heat_map = bqplot.GridHeatMap(color=hist2d, row=lat_centers, column=long_centers, \n",
    "                             scales={'color':col_sc, 'row':y_sc, 'column':x_sc},\n",
    "                             interactions={'click':'select'}, # select on click\n",
    "                             anchor_style={'fill':'blue'}, # fill selection with blue\n",
    "                             selected_style={'opacity':1.0}, # opaque on selection\n",
    "                             unselected_style={'opacity':0.8}) # see-through for non-selected\n",
    "\n",
    "# 5. Interations -- first adding a label\n",
    "mySelectedLabel = ipywidgets.Label()\n",
    "# 5.1 on selection function\n",
    "def on_selection(change):\n",
    "    #print(change)\n",
    "    #print(change['owner'])\n",
    "    #print(change['owner'].selected)\n",
    "    if len(change['owner'].selected) == 1: # allowing only 1 selection\n",
    "        i,j = change['owner'].selected[0]\n",
    "        v = hist2d[i,j] # grab data value\n",
    "        mySelectedLabel.value = 'Total duration in sum(log(sec))=' + str(v) # set label\n",
    "        \n",
    "# 5.2 linking of the heatmap traits with this function\n",
    "heat_map.observe(on_selection,'selected')\n",
    "\n",
    "# Put it together as a figure\n",
    "fig = bqplot.Figure(marks=[heat_map], axes=[col_ax, y_ax, x_ax])\n",
    "#fig\n",
    "myDashboard = ipywidgets.VBox([mySelectedLabel, fig])\n",
    "myDashboard"
   ]
  },
  {
   "cell_type": "markdown",
   "id": "proof-mercy",
   "metadata": {},
   "source": [
    "Before: we plotted a histogram of the distribution of values along the 3rd axis.\n",
    "\n",
    "This time: we'll use this selected grid to subset/mask our data and plot other attributes on a 2nd plot on the right -- specificically, looking at a scatter plot of the log(duration_seconds) as a function of the date of the observation."
   ]
  },
  {
   "cell_type": "code",
   "execution_count": 45,
   "id": "electronic-rugby",
   "metadata": {},
   "outputs": [],
   "source": [
    "import datetime as dt # for formatting our \"date\" data"
   ]
  },
  {
   "cell_type": "code",
   "execution_count": 46,
   "id": "thrown-science",
   "metadata": {},
   "outputs": [],
   "source": [
    "# 2. Scales -- date-time scale\n",
    "x_scl = bqplot.DateScale(min=dt.datetime(1950,1,1), max=dt.datetime(2021,1,1)) # formatting for x-scale"
   ]
  },
  {
   "cell_type": "code",
   "execution_count": 47,
   "id": "overhead-infrared",
   "metadata": {},
   "outputs": [],
   "source": [
    "y_scl = bqplot.LogScale() # taking log on \"viz engine side\" not on the data-side this time"
   ]
  },
  {
   "cell_type": "code",
   "execution_count": 48,
   "id": "pediatric-hungary",
   "metadata": {},
   "outputs": [],
   "source": [
    "# 3. Axis\n",
    "ax_xcl = bqplot.Axis(label='Date',scale=x_scl)\n",
    "ax_ycl = bqplot.Axis(label='Duration in Seconds', scale=y_scl, orientation='vertical', side='left')"
   ]
  },
  {
   "cell_type": "markdown",
   "id": "greek-vacation",
   "metadata": {},
   "source": [
    "We need to do an extra step to go from indices to a subset condition for data values:"
   ]
  },
  {
   "cell_type": "code",
   "execution_count": 53,
   "id": "quarterly-penalty",
   "metadata": {},
   "outputs": [],
   "source": [
    "i,j = 19,0 # for-though, I know this bin has data!"
   ]
  },
  {
   "cell_type": "code",
   "execution_count": 54,
   "id": "technological-planning",
   "metadata": {},
   "outputs": [],
   "source": [
    "longs = [long_edges[j], long_edges[j+1]]"
   ]
  },
  {
   "cell_type": "code",
   "execution_count": 55,
   "id": "responsible-avenue",
   "metadata": {},
   "outputs": [
    {
     "data": {
      "text/plain": [
       "[-150.0, -135.0]"
      ]
     },
     "execution_count": 55,
     "metadata": {},
     "output_type": "execute_result"
    }
   ],
   "source": [
    "longs"
   ]
  },
  {
   "cell_type": "code",
   "execution_count": 56,
   "id": "forbidden-absence",
   "metadata": {},
   "outputs": [],
   "source": [
    "lats = [lat_edges[i], lat_edges[i+1]]"
   ]
  },
  {
   "cell_type": "code",
   "execution_count": 57,
   "id": "lesbian-steal",
   "metadata": {},
   "outputs": [
    {
     "data": {
      "text/plain": [
       "[64.5, 70.0]"
      ]
     },
     "execution_count": 57,
     "metadata": {},
     "output_type": "execute_result"
    }
   ],
   "source": [
    "lats"
   ]
  },
  {
   "cell_type": "markdown",
   "id": "verbal-technical",
   "metadata": {},
   "source": [
    "Create mask based on these long & lat conditions:"
   ]
  },
  {
   "cell_type": "code",
   "execution_count": 58,
   "id": "bridal-india",
   "metadata": {},
   "outputs": [],
   "source": [
    "region_mask = ( (ufos['latitude'] >= lats[0]) & (ufos['latitude']<=lats[1]) &\\\n",
    "              (ufos['longitude'] >= longs[0]) & (ufos['longitude']<=longs[1]))"
   ]
  },
  {
   "cell_type": "code",
   "execution_count": 59,
   "id": "viral-moisture",
   "metadata": {},
   "outputs": [
    {
     "data": {
      "text/plain": [
       "327      64.837778\n",
       "2845     64.837778\n",
       "3620     64.837778\n",
       "4602     64.751111\n",
       "6011     64.837778\n",
       "           ...    \n",
       "77347    64.751111\n",
       "77497    64.837778\n",
       "78571    64.837778\n",
       "79029    64.837778\n",
       "79470    64.837778\n",
       "Name: latitude, Length: 74, dtype: float64"
      ]
     },
     "execution_count": 59,
     "metadata": {},
     "output_type": "execute_result"
    }
   ],
   "source": [
    "ufos['latitude'][region_mask]"
   ]
  },
  {
   "cell_type": "code",
   "execution_count": 60,
   "id": "mineral-dominant",
   "metadata": {},
   "outputs": [
    {
     "data": {
      "text/html": [
       "<div>\n",
       "<style scoped>\n",
       "    .dataframe tbody tr th:only-of-type {\n",
       "        vertical-align: middle;\n",
       "    }\n",
       "\n",
       "    .dataframe tbody tr th {\n",
       "        vertical-align: top;\n",
       "    }\n",
       "\n",
       "    .dataframe thead th {\n",
       "        text-align: right;\n",
       "    }\n",
       "</style>\n",
       "<table border=\"1\" class=\"dataframe\">\n",
       "  <thead>\n",
       "    <tr style=\"text-align: right;\">\n",
       "      <th></th>\n",
       "      <th>date</th>\n",
       "      <th>city</th>\n",
       "      <th>state</th>\n",
       "      <th>country</th>\n",
       "      <th>shape</th>\n",
       "      <th>duration_seconds</th>\n",
       "      <th>duration</th>\n",
       "      <th>comment</th>\n",
       "      <th>report_date</th>\n",
       "      <th>latitude</th>\n",
       "      <th>longitude</th>\n",
       "    </tr>\n",
       "  </thead>\n",
       "  <tbody>\n",
       "    <tr>\n",
       "      <th>327</th>\n",
       "      <td>2001-10-11 02:15:00</td>\n",
       "      <td>fairbanks</td>\n",
       "      <td>ak</td>\n",
       "      <td>us</td>\n",
       "      <td>other</td>\n",
       "      <td>1800.0</td>\n",
       "      <td>30 minutes</td>\n",
       "      <td>It looked like a star but it would move and af...</td>\n",
       "      <td>2001-10-12</td>\n",
       "      <td>64.837778</td>\n",
       "      <td>-147.716389</td>\n",
       "    </tr>\n",
       "    <tr>\n",
       "      <th>2845</th>\n",
       "      <td>2012-10-18 21:30:00</td>\n",
       "      <td>fairbanks</td>\n",
       "      <td>ak</td>\n",
       "      <td>us</td>\n",
       "      <td>light</td>\n",
       "      <td>600.0</td>\n",
       "      <td>5-10 minutes</td>\n",
       "      <td>Changing light from bright to dim&amp;#44 to off t...</td>\n",
       "      <td>2012-10-30</td>\n",
       "      <td>64.837778</td>\n",
       "      <td>-147.716389</td>\n",
       "    </tr>\n",
       "    <tr>\n",
       "      <th>3620</th>\n",
       "      <td>2000-10-02 23:00:00</td>\n",
       "      <td>fairbanks</td>\n",
       "      <td>ak</td>\n",
       "      <td>us</td>\n",
       "      <td>NaN</td>\n",
       "      <td>300.0</td>\n",
       "      <td>hour</td>\n",
       "      <td>Lights gradually coming on&amp;#44 and then going ...</td>\n",
       "      <td>2002-12-23</td>\n",
       "      <td>64.837778</td>\n",
       "      <td>-147.716389</td>\n",
       "    </tr>\n",
       "    <tr>\n",
       "      <th>4602</th>\n",
       "      <td>2012-10-25 23:00:00</td>\n",
       "      <td>north pole</td>\n",
       "      <td>ak</td>\n",
       "      <td>us</td>\n",
       "      <td>light</td>\n",
       "      <td>15.0</td>\n",
       "      <td>15 seconds</td>\n",
       "      <td>It was late at night and me and my mother were...</td>\n",
       "      <td>2012-12-20</td>\n",
       "      <td>64.751111</td>\n",
       "      <td>-147.349444</td>\n",
       "    </tr>\n",
       "    <tr>\n",
       "      <th>6011</th>\n",
       "      <td>2013-10-31 20:30:00</td>\n",
       "      <td>fairbanks</td>\n",
       "      <td>ak</td>\n",
       "      <td>us</td>\n",
       "      <td>diamond</td>\n",
       "      <td>180.0</td>\n",
       "      <td>3 minutes</td>\n",
       "      <td>UFO seen over civilian side of Birch Hill.</td>\n",
       "      <td>2013-11-11</td>\n",
       "      <td>64.837778</td>\n",
       "      <td>-147.716389</td>\n",
       "    </tr>\n",
       "    <tr>\n",
       "      <th>...</th>\n",
       "      <td>...</td>\n",
       "      <td>...</td>\n",
       "      <td>...</td>\n",
       "      <td>...</td>\n",
       "      <td>...</td>\n",
       "      <td>...</td>\n",
       "      <td>...</td>\n",
       "      <td>...</td>\n",
       "      <td>...</td>\n",
       "      <td>...</td>\n",
       "      <td>...</td>\n",
       "    </tr>\n",
       "    <tr>\n",
       "      <th>77347</th>\n",
       "      <td>1998-09-24 22:35:00</td>\n",
       "      <td>north pole</td>\n",
       "      <td>ak</td>\n",
       "      <td>us</td>\n",
       "      <td>sphere</td>\n",
       "      <td>600.0</td>\n",
       "      <td>10 minutes</td>\n",
       "      <td>Two Orange sphere appeared low on horizon just...</td>\n",
       "      <td>1998-09-26</td>\n",
       "      <td>64.751111</td>\n",
       "      <td>-147.349444</td>\n",
       "    </tr>\n",
       "    <tr>\n",
       "      <th>77497</th>\n",
       "      <td>2013-09-24 20:35:00</td>\n",
       "      <td>fairbanks</td>\n",
       "      <td>ak</td>\n",
       "      <td>us</td>\n",
       "      <td>circle</td>\n",
       "      <td>120.0</td>\n",
       "      <td>~2 minutes</td>\n",
       "      <td>3 white orbs. 2 in front 1 behind.</td>\n",
       "      <td>2013-09-30</td>\n",
       "      <td>64.837778</td>\n",
       "      <td>-147.716389</td>\n",
       "    </tr>\n",
       "    <tr>\n",
       "      <th>78571</th>\n",
       "      <td>2013-09-29 21:30:00</td>\n",
       "      <td>fairbanks</td>\n",
       "      <td>ak</td>\n",
       "      <td>us</td>\n",
       "      <td>light</td>\n",
       "      <td>420.0</td>\n",
       "      <td>5-7 minutes</td>\n",
       "      <td>2 orange orbs fly south over chena ridge</td>\n",
       "      <td>2013-09-30</td>\n",
       "      <td>64.837778</td>\n",
       "      <td>-147.716389</td>\n",
       "    </tr>\n",
       "    <tr>\n",
       "      <th>79029</th>\n",
       "      <td>2012-09-03 21:57:00</td>\n",
       "      <td>fairbanks</td>\n",
       "      <td>ak</td>\n",
       "      <td>us</td>\n",
       "      <td>unknown</td>\n",
       "      <td>120.0</td>\n",
       "      <td>2 minutes</td>\n",
       "      <td>Metallic sounds and bright flash of light - Se...</td>\n",
       "      <td>2012-09-24</td>\n",
       "      <td>64.837778</td>\n",
       "      <td>-147.716389</td>\n",
       "    </tr>\n",
       "    <tr>\n",
       "      <th>79470</th>\n",
       "      <td>2013-09-05 22:00:00</td>\n",
       "      <td>fairbanks</td>\n",
       "      <td>ak</td>\n",
       "      <td>us</td>\n",
       "      <td>disk</td>\n",
       "      <td>300.0</td>\n",
       "      <td>5 minutes</td>\n",
       "      <td>HUGE SAUCER FLYING INTO FORT WAINRIGHT</td>\n",
       "      <td>2013-09-30</td>\n",
       "      <td>64.837778</td>\n",
       "      <td>-147.716389</td>\n",
       "    </tr>\n",
       "  </tbody>\n",
       "</table>\n",
       "<p>74 rows × 11 columns</p>\n",
       "</div>"
      ],
      "text/plain": [
       "                     date        city state country    shape  \\\n",
       "327   2001-10-11 02:15:00   fairbanks    ak      us    other   \n",
       "2845  2012-10-18 21:30:00   fairbanks    ak      us    light   \n",
       "3620  2000-10-02 23:00:00   fairbanks    ak      us      NaN   \n",
       "4602  2012-10-25 23:00:00  north pole    ak      us    light   \n",
       "6011  2013-10-31 20:30:00   fairbanks    ak      us  diamond   \n",
       "...                   ...         ...   ...     ...      ...   \n",
       "77347 1998-09-24 22:35:00  north pole    ak      us   sphere   \n",
       "77497 2013-09-24 20:35:00   fairbanks    ak      us   circle   \n",
       "78571 2013-09-29 21:30:00   fairbanks    ak      us    light   \n",
       "79029 2012-09-03 21:57:00   fairbanks    ak      us  unknown   \n",
       "79470 2013-09-05 22:00:00   fairbanks    ak      us     disk   \n",
       "\n",
       "       duration_seconds      duration  \\\n",
       "327              1800.0    30 minutes   \n",
       "2845              600.0  5-10 minutes   \n",
       "3620              300.0          hour   \n",
       "4602               15.0    15 seconds   \n",
       "6011              180.0     3 minutes   \n",
       "...                 ...           ...   \n",
       "77347             600.0    10 minutes   \n",
       "77497             120.0    ~2 minutes   \n",
       "78571             420.0   5-7 minutes   \n",
       "79029             120.0     2 minutes   \n",
       "79470             300.0     5 minutes   \n",
       "\n",
       "                                                 comment report_date  \\\n",
       "327    It looked like a star but it would move and af...  2001-10-12   \n",
       "2845   Changing light from bright to dim&#44 to off t...  2012-10-30   \n",
       "3620   Lights gradually coming on&#44 and then going ...  2002-12-23   \n",
       "4602   It was late at night and me and my mother were...  2012-12-20   \n",
       "6011          UFO seen over civilian side of Birch Hill.  2013-11-11   \n",
       "...                                                  ...         ...   \n",
       "77347  Two Orange sphere appeared low on horizon just...  1998-09-26   \n",
       "77497                 3 white orbs. 2 in front 1 behind.  2013-09-30   \n",
       "78571           2 orange orbs fly south over chena ridge  2013-09-30   \n",
       "79029  Metallic sounds and bright flash of light - Se...  2012-09-24   \n",
       "79470             HUGE SAUCER FLYING INTO FORT WAINRIGHT  2013-09-30   \n",
       "\n",
       "        latitude   longitude  \n",
       "327    64.837778 -147.716389  \n",
       "2845   64.837778 -147.716389  \n",
       "3620   64.837778 -147.716389  \n",
       "4602   64.751111 -147.349444  \n",
       "6011   64.837778 -147.716389  \n",
       "...          ...         ...  \n",
       "77347  64.751111 -147.349444  \n",
       "77497  64.837778 -147.716389  \n",
       "78571  64.837778 -147.716389  \n",
       "79029  64.837778 -147.716389  \n",
       "79470  64.837778 -147.716389  \n",
       "\n",
       "[74 rows x 11 columns]"
      ]
     },
     "execution_count": 60,
     "metadata": {},
     "output_type": "execute_result"
    }
   ],
   "source": [
    "ufos.loc[region_mask]"
   ]
  },
  {
   "cell_type": "code",
   "execution_count": 61,
   "id": "cosmetic-brick",
   "metadata": {},
   "outputs": [],
   "source": [
    "# 4. Marks\n",
    "duration_scatter = bqplot.Scatter(x=ufos['date'][region_mask],\n",
    "                                 y=ufos['duration_seconds'][region_mask],\n",
    "                                 scales={'x':x_scl, 'y':y_scl})"
   ]
  },
  {
   "cell_type": "code",
   "execution_count": 62,
   "id": "irish-plymouth",
   "metadata": {},
   "outputs": [
    {
     "data": {
      "application/vnd.jupyter.widget-view+json": {
       "model_id": "cae2cbd62b144280bb09ed3c34b6c58d",
       "version_major": 2,
       "version_minor": 0
      },
      "text/plain": [
       "Figure(axes=[Axis(label='Date', scale=DateScale(max=datetime.datetime(2021, 1, 1, 0, 0), min=datetime.datetime…"
      ]
     },
     "metadata": {},
     "output_type": "display_data"
    }
   ],
   "source": [
    "# Put together in figure!\n",
    "fig_dur = bqplot.Figure(marks=[duration_scatter], axes=[ax_xcl, ax_ycl])\n",
    "fig_dur"
   ]
  },
  {
   "cell_type": "markdown",
   "id": "legendary-moscow",
   "metadata": {},
   "source": [
    "Put the grid heatmap on the right and have it \"drive\" changes on the left scatter plot as a dashboard:"
   ]
  },
  {
   "cell_type": "code",
   "execution_count": 70,
   "id": "enormous-cooperation",
   "metadata": {},
   "outputs": [],
   "source": [
    "### (I) GRID HEAT MAP\n",
    "# 1. Data -- 2d histogram in lat/long\n",
    "\n",
    "# 2. Scales\n",
    "# x/y\n",
    "x_sc = bqplot.LinearScale()\n",
    "y_sc = bqplot.LinearScale()\n",
    "col_sc = bqplot.ColorScale(scheme='RdPu')\n",
    "\n",
    "# 3. Axis -- x/y AND color\n",
    "x_ax = bqplot.Axis(scale=x_sc, label='Longitude')\n",
    "y_ax = bqplot.Axis(scale=y_sc, label='Latitude', orientation='vertical')\n",
    "col_ax = bqplot.ColorAxis(scale=col_sc, orientation='vertical', side='right')\n",
    "\n",
    "# 4. Marks\n",
    "heat_map = bqplot.GridHeatMap(color=hist2d, row=lat_centers, column=long_centers, \n",
    "                             scales={'color':col_sc, 'row':y_sc, 'column':x_sc},\n",
    "                             interactions={'click':'select'}, # select on click\n",
    "                             anchor_style={'fill':'blue'}, # fill selection with blue\n",
    "                             selected_style={'opacity':1.0}, # opaque on selection\n",
    "                             unselected_style={'opacity':0.8}) # see-through for non-selected\n",
    "\n",
    "# 5. Interations -- first adding a label\n",
    "mySelectedLabel = ipywidgets.Label()\n",
    "# 5.1 on selection function\n",
    "# def on_selection(change):\n",
    "#     #print(change)\n",
    "#     #print(change['owner'])\n",
    "#     #print(change['owner'].selected)\n",
    "#     if len(change['owner'].selected) == 1: # allowing only 1 selection\n",
    "#         i,j = change['owner'].selected[0]\n",
    "#         v = hist2d[i,j] # grab data value\n",
    "#         mySelectedLabel.value = 'Total duration in sum(log(sec))=' + str(v) # set label\n",
    "        \n",
    "# 5.2 linking of the heatmap traits with this function\n",
    "#heat_map.observe(on_selection,'selected')\n",
    "\n",
    "# Put it together as a figure\n",
    "fig = bqplot.Figure(marks=[heat_map], axes=[col_ax, y_ax, x_ax])\n",
    "#fig\n",
    "#myDashboard = ipywidgets.VBox([mySelectedLabel, fig])\n",
    "#myDashboard"
   ]
  },
  {
   "cell_type": "code",
   "execution_count": 71,
   "id": "departmental-mambo",
   "metadata": {},
   "outputs": [],
   "source": [
    "### (II) SCATTER PLOT\n",
    "\n",
    "# 2. Scales -- date-time scale\n",
    "x_scl = bqplot.DateScale(min=dt.datetime(1950,1,1), max=dt.datetime(2021,1,1)) # formatting for x-scale\n",
    "y_scl = bqplot.LogScale() # taking log on \"viz engine side\" not on the data-side this time\n",
    "\n",
    "# 3. Axis\n",
    "ax_xcl = bqplot.Axis(label='Date',scale=x_scl)\n",
    "ax_ycl = bqplot.Axis(label='Duration in Seconds', scale=y_scl, orientation='vertical', side='left')\n",
    "\n",
    "# 4. Marks\n",
    "i,j = 19,0 # for-though, I know this bin has data!\n",
    "longs = [long_edges[j], long_edges[j+1]]\n",
    "lats = [lat_edges[i], lat_edges[i+1]]\n",
    "region_mask = ( (ufos['latitude'] >= lats[0]) & (ufos['latitude']<=lats[1]) &\\\n",
    "              (ufos['longitude'] >= longs[0]) & (ufos['longitude']<=longs[1]))\n",
    "duration_scatter = bqplot.Scatter(x=ufos['date'][region_mask],\n",
    "                                 y=ufos['duration_seconds'][region_mask],\n",
    "                                 scales={'x':x_scl, 'y':y_scl})\n",
    "\n",
    "# All together as duration figure\n",
    "fig_dur = bqplot.Figure(marks=[duration_scatter], axes=[ax_xcl, ax_ycl])"
   ]
  },
  {
   "cell_type": "code",
   "execution_count": 72,
   "id": "instructional-darkness",
   "metadata": {},
   "outputs": [],
   "source": [
    "### (III) LINK THE TWO PLOTS AND LABEL TOGETHER (Step 5 all together)\n",
    "def on_selection(change):\n",
    "    if len(change['owner'].selected) == 1: # allowing only 1 selection\n",
    "        i,j = change['owner'].selected[0]\n",
    "        v = hist2d[i,j] # grab data value\n",
    "        mySelectedLabel.value = 'Total duration in sum(log(sec))=' + str(v) # set label\n",
    "        #### Update the scatter plot ###\n",
    "        #i,j = 19,0 # for-though, I know this bin has data!\n",
    "        longs = [long_edges[j], long_edges[j+1]]\n",
    "        lats = [lat_edges[i], lat_edges[i+1]]\n",
    "        region_mask = ( (ufos['latitude'] >= lats[0]) & (ufos['latitude']<=lats[1]) &\\\n",
    "                      (ufos['longitude'] >= longs[0]) & (ufos['longitude']<=longs[1]))\n",
    "        # update the x & y traits of our scatter plot based on the new region mask\n",
    "        duration_scatter.x = ufos['date'][region_mask]\n",
    "        duration_scatter.y = ufos['duration_seconds'][region_mask]\n",
    "        \n",
    "# 5.2 linking of the heatmap traits with this function\n",
    "heat_map.observe(on_selection,'selected')"
   ]
  },
  {
   "cell_type": "code",
   "execution_count": 73,
   "id": "cardiovascular-homework",
   "metadata": {},
   "outputs": [
    {
     "data": {
      "application/vnd.jupyter.widget-view+json": {
       "model_id": "df09d67814d94b8893df6961fc39a596",
       "version_major": 2,
       "version_minor": 0
      },
      "text/plain": [
       "VBox(children=(Label(value=''), HBox(children=(Figure(axes=[ColorAxis(orientation='vertical', scale=ColorScale…"
      ]
     },
     "metadata": {},
     "output_type": "display_data"
    }
   ],
   "source": [
    "fig.layout.min_width='400px'\n",
    "fig_dur.layout.min_width ='400px'\n",
    "figures = ipywidgets.HBox([fig, fig_dur])\n",
    "myDashboard = ipywidgets.VBox([mySelectedLabel, figures])\n",
    "myDashboard"
   ]
  },
  {
   "cell_type": "markdown",
   "id": "instructional-volleyball",
   "metadata": {},
   "source": [
    "Check on the possible keys of our scatter plot to see how to update its *traits*:"
   ]
  },
  {
   "cell_type": "code",
   "execution_count": 69,
   "id": "canadian-ribbon",
   "metadata": {},
   "outputs": [
    {
     "data": {
      "text/plain": [
       "['_model_module',\n",
       " '_model_module_version',\n",
       " '_model_name',\n",
       " '_view_count',\n",
       " '_view_module',\n",
       " '_view_module_version',\n",
       " '_view_name',\n",
       " 'apply_clip',\n",
       " 'color',\n",
       " 'colors',\n",
       " 'default_size',\n",
       " 'default_skew',\n",
       " 'display_legend',\n",
       " 'display_names',\n",
       " 'drag_color',\n",
       " 'drag_size',\n",
       " 'enable_delete',\n",
       " 'enable_hover',\n",
       " 'enable_move',\n",
       " 'fill',\n",
       " 'hovered_point',\n",
       " 'hovered_style',\n",
       " 'interactions',\n",
       " 'label_display_horizontal_offset',\n",
       " 'label_display_vertical_offset',\n",
       " 'labels',\n",
       " 'marker',\n",
       " 'names',\n",
       " 'names_unique',\n",
       " 'opacities',\n",
       " 'opacity',\n",
       " 'preserve_domain',\n",
       " 'restrict_x',\n",
       " 'restrict_y',\n",
       " 'rotation',\n",
       " 'scales',\n",
       " 'scales_metadata',\n",
       " 'selected',\n",
       " 'selected_style',\n",
       " 'size',\n",
       " 'skew',\n",
       " 'stroke',\n",
       " 'stroke_width',\n",
       " 'tooltip',\n",
       " 'tooltip_location',\n",
       " 'tooltip_style',\n",
       " 'unhovered_style',\n",
       " 'unselected_style',\n",
       " 'update_on_move',\n",
       " 'visible',\n",
       " 'x',\n",
       " 'y']"
      ]
     },
     "execution_count": 69,
     "metadata": {},
     "output_type": "execute_result"
    }
   ],
   "source": [
    "duration_scatter.keys "
   ]
  },
  {
   "cell_type": "markdown",
   "id": "charged-diversity",
   "metadata": {},
   "source": [
    "Trying the 2nd plot again -- a barplot this time!"
   ]
  },
  {
   "cell_type": "code",
   "execution_count": 75,
   "id": "subsequent-australian",
   "metadata": {},
   "outputs": [],
   "source": [
    "# 2. Scales\n",
    "x_scl = bqplot.LinearScale()\n",
    "y_scl = bqplot.LinearScale()\n",
    "\n",
    "# 3. Axis\n",
    "ax_xcl = bqplot.Axis(label='Date', scale=x_scl)\n",
    "ax_ycl = bqplot.Axis(label='Total Duration in Sec', orientation='vertical', scale=y_scl) # an accumulation in a date bin"
   ]
  },
  {
   "cell_type": "code",
   "execution_count": 76,
   "id": "saved-conservative",
   "metadata": {},
   "outputs": [],
   "source": [
    "# 4. Marks -- need a particular data subset\n",
    "i,j = 19,0 # for-though, I know this bin has data!\n",
    "longs = [long_edges[j], long_edges[j+1]]\n",
    "lats = [lat_edges[i], lat_edges[i+1]]\n",
    "region_mask = ( (ufos['latitude'] >= lats[0]) & (ufos['latitude']<=lats[1]) &\\\n",
    "                (ufos['longitude'] >= longs[0]) & (ufos['longitude']<=longs[1]))"
   ]
  },
  {
   "cell_type": "code",
   "execution_count": 77,
   "id": "effective-surgeon",
   "metadata": {},
   "outputs": [
    {
     "data": {
      "text/plain": [
       "0       1949-10-10 20:30:00\n",
       "1       1949-10-10 21:00:00\n",
       "2       1955-10-10 17:00:00\n",
       "3       1956-10-10 21:00:00\n",
       "4       1960-10-10 20:00:00\n",
       "                ...        \n",
       "80327   2013-09-09 21:15:00\n",
       "80328   2013-09-09 22:00:00\n",
       "80329   2013-09-09 22:00:00\n",
       "80330   2013-09-09 22:20:00\n",
       "80331   2013-09-09 23:00:00\n",
       "Name: date, Length: 80332, dtype: datetime64[ns]"
      ]
     },
     "execution_count": 77,
     "metadata": {},
     "output_type": "execute_result"
    }
   ],
   "source": [
    "ufos['date']"
   ]
  },
  {
   "cell_type": "code",
   "execution_count": 78,
   "id": "athletic-brazil",
   "metadata": {},
   "outputs": [
    {
     "data": {
      "text/plain": [
       "0        1949\n",
       "1        1949\n",
       "2        1955\n",
       "3        1956\n",
       "4        1960\n",
       "         ... \n",
       "80327    2013\n",
       "80328    2013\n",
       "80329    2013\n",
       "80330    2013\n",
       "80331    2013\n",
       "Name: date, Length: 80332, dtype: int64"
      ]
     },
     "execution_count": 78,
     "metadata": {},
     "output_type": "execute_result"
    }
   ],
   "source": [
    "ufos['date'].dt.year"
   ]
  },
  {
   "cell_type": "code",
   "execution_count": 79,
   "id": "competitive-police",
   "metadata": {},
   "outputs": [],
   "source": [
    "ufos['year'] = ufos['date'].dt.year # adding in a year column to our dataset"
   ]
  },
  {
   "cell_type": "code",
   "execution_count": 80,
   "id": "based-style",
   "metadata": {},
   "outputs": [
    {
     "data": {
      "text/html": [
       "<div>\n",
       "<style scoped>\n",
       "    .dataframe tbody tr th:only-of-type {\n",
       "        vertical-align: middle;\n",
       "    }\n",
       "\n",
       "    .dataframe tbody tr th {\n",
       "        vertical-align: top;\n",
       "    }\n",
       "\n",
       "    .dataframe thead th {\n",
       "        text-align: right;\n",
       "    }\n",
       "</style>\n",
       "<table border=\"1\" class=\"dataframe\">\n",
       "  <thead>\n",
       "    <tr style=\"text-align: right;\">\n",
       "      <th></th>\n",
       "      <th>date</th>\n",
       "      <th>city</th>\n",
       "      <th>state</th>\n",
       "      <th>country</th>\n",
       "      <th>shape</th>\n",
       "      <th>duration_seconds</th>\n",
       "      <th>duration</th>\n",
       "      <th>comment</th>\n",
       "      <th>report_date</th>\n",
       "      <th>latitude</th>\n",
       "      <th>longitude</th>\n",
       "      <th>year</th>\n",
       "    </tr>\n",
       "  </thead>\n",
       "  <tbody>\n",
       "    <tr>\n",
       "      <th>0</th>\n",
       "      <td>1949-10-10 20:30:00</td>\n",
       "      <td>san marcos</td>\n",
       "      <td>tx</td>\n",
       "      <td>us</td>\n",
       "      <td>cylinder</td>\n",
       "      <td>2700.0</td>\n",
       "      <td>45 minutes</td>\n",
       "      <td>This event took place in early fall around 194...</td>\n",
       "      <td>2004-04-27</td>\n",
       "      <td>29.883056</td>\n",
       "      <td>-97.941111</td>\n",
       "      <td>1949</td>\n",
       "    </tr>\n",
       "    <tr>\n",
       "      <th>1</th>\n",
       "      <td>1949-10-10 21:00:00</td>\n",
       "      <td>lackland afb</td>\n",
       "      <td>tx</td>\n",
       "      <td>NaN</td>\n",
       "      <td>light</td>\n",
       "      <td>7200.0</td>\n",
       "      <td>1-2 hrs</td>\n",
       "      <td>1949 Lackland AFB&amp;#44 TX.  Lights racing acros...</td>\n",
       "      <td>2005-12-16</td>\n",
       "      <td>29.384210</td>\n",
       "      <td>-98.581082</td>\n",
       "      <td>1949</td>\n",
       "    </tr>\n",
       "    <tr>\n",
       "      <th>2</th>\n",
       "      <td>1955-10-10 17:00:00</td>\n",
       "      <td>chester (uk/england)</td>\n",
       "      <td>NaN</td>\n",
       "      <td>gb</td>\n",
       "      <td>circle</td>\n",
       "      <td>20.0</td>\n",
       "      <td>20 seconds</td>\n",
       "      <td>Green/Orange circular disc over Chester&amp;#44 En...</td>\n",
       "      <td>2008-01-21</td>\n",
       "      <td>53.200000</td>\n",
       "      <td>-2.916667</td>\n",
       "      <td>1955</td>\n",
       "    </tr>\n",
       "    <tr>\n",
       "      <th>3</th>\n",
       "      <td>1956-10-10 21:00:00</td>\n",
       "      <td>edna</td>\n",
       "      <td>tx</td>\n",
       "      <td>us</td>\n",
       "      <td>circle</td>\n",
       "      <td>20.0</td>\n",
       "      <td>1/2 hour</td>\n",
       "      <td>My older brother and twin sister were leaving ...</td>\n",
       "      <td>2004-01-17</td>\n",
       "      <td>28.978333</td>\n",
       "      <td>-96.645833</td>\n",
       "      <td>1956</td>\n",
       "    </tr>\n",
       "    <tr>\n",
       "      <th>4</th>\n",
       "      <td>1960-10-10 20:00:00</td>\n",
       "      <td>kaneohe</td>\n",
       "      <td>hi</td>\n",
       "      <td>us</td>\n",
       "      <td>light</td>\n",
       "      <td>900.0</td>\n",
       "      <td>15 minutes</td>\n",
       "      <td>AS a Marine 1st Lt. flying an FJ4B fighter/att...</td>\n",
       "      <td>2004-01-22</td>\n",
       "      <td>21.418056</td>\n",
       "      <td>-157.803611</td>\n",
       "      <td>1960</td>\n",
       "    </tr>\n",
       "    <tr>\n",
       "      <th>...</th>\n",
       "      <td>...</td>\n",
       "      <td>...</td>\n",
       "      <td>...</td>\n",
       "      <td>...</td>\n",
       "      <td>...</td>\n",
       "      <td>...</td>\n",
       "      <td>...</td>\n",
       "      <td>...</td>\n",
       "      <td>...</td>\n",
       "      <td>...</td>\n",
       "      <td>...</td>\n",
       "      <td>...</td>\n",
       "    </tr>\n",
       "    <tr>\n",
       "      <th>80327</th>\n",
       "      <td>2013-09-09 21:15:00</td>\n",
       "      <td>nashville</td>\n",
       "      <td>tn</td>\n",
       "      <td>us</td>\n",
       "      <td>light</td>\n",
       "      <td>600.0</td>\n",
       "      <td>10 minutes</td>\n",
       "      <td>Round from the distance/slowly changing colors...</td>\n",
       "      <td>2013-09-30</td>\n",
       "      <td>36.165833</td>\n",
       "      <td>-86.784444</td>\n",
       "      <td>2013</td>\n",
       "    </tr>\n",
       "    <tr>\n",
       "      <th>80328</th>\n",
       "      <td>2013-09-09 22:00:00</td>\n",
       "      <td>boise</td>\n",
       "      <td>id</td>\n",
       "      <td>us</td>\n",
       "      <td>circle</td>\n",
       "      <td>1200.0</td>\n",
       "      <td>20 minutes</td>\n",
       "      <td>Boise&amp;#44 ID&amp;#44 spherical&amp;#44 20 min&amp;#44 10 r...</td>\n",
       "      <td>2013-09-30</td>\n",
       "      <td>43.613611</td>\n",
       "      <td>-116.202500</td>\n",
       "      <td>2013</td>\n",
       "    </tr>\n",
       "    <tr>\n",
       "      <th>80329</th>\n",
       "      <td>2013-09-09 22:00:00</td>\n",
       "      <td>napa</td>\n",
       "      <td>ca</td>\n",
       "      <td>us</td>\n",
       "      <td>other</td>\n",
       "      <td>1200.0</td>\n",
       "      <td>hour</td>\n",
       "      <td>Napa UFO&amp;#44</td>\n",
       "      <td>2013-09-30</td>\n",
       "      <td>38.297222</td>\n",
       "      <td>-122.284444</td>\n",
       "      <td>2013</td>\n",
       "    </tr>\n",
       "    <tr>\n",
       "      <th>80330</th>\n",
       "      <td>2013-09-09 22:20:00</td>\n",
       "      <td>vienna</td>\n",
       "      <td>va</td>\n",
       "      <td>us</td>\n",
       "      <td>circle</td>\n",
       "      <td>5.0</td>\n",
       "      <td>5 seconds</td>\n",
       "      <td>Saw a five gold lit cicular craft moving fastl...</td>\n",
       "      <td>2013-09-30</td>\n",
       "      <td>38.901111</td>\n",
       "      <td>-77.265556</td>\n",
       "      <td>2013</td>\n",
       "    </tr>\n",
       "    <tr>\n",
       "      <th>80331</th>\n",
       "      <td>2013-09-09 23:00:00</td>\n",
       "      <td>edmond</td>\n",
       "      <td>ok</td>\n",
       "      <td>us</td>\n",
       "      <td>cigar</td>\n",
       "      <td>1020.0</td>\n",
       "      <td>17 minutes</td>\n",
       "      <td>2 witnesses 2  miles apart&amp;#44 Red &amp;amp; White...</td>\n",
       "      <td>2013-09-30</td>\n",
       "      <td>35.652778</td>\n",
       "      <td>-97.477778</td>\n",
       "      <td>2013</td>\n",
       "    </tr>\n",
       "  </tbody>\n",
       "</table>\n",
       "<p>80332 rows × 12 columns</p>\n",
       "</div>"
      ],
      "text/plain": [
       "                     date                  city state country     shape  \\\n",
       "0     1949-10-10 20:30:00            san marcos    tx      us  cylinder   \n",
       "1     1949-10-10 21:00:00          lackland afb    tx     NaN     light   \n",
       "2     1955-10-10 17:00:00  chester (uk/england)   NaN      gb    circle   \n",
       "3     1956-10-10 21:00:00                  edna    tx      us    circle   \n",
       "4     1960-10-10 20:00:00               kaneohe    hi      us     light   \n",
       "...                   ...                   ...   ...     ...       ...   \n",
       "80327 2013-09-09 21:15:00             nashville    tn      us     light   \n",
       "80328 2013-09-09 22:00:00                 boise    id      us    circle   \n",
       "80329 2013-09-09 22:00:00                  napa    ca      us     other   \n",
       "80330 2013-09-09 22:20:00                vienna    va      us    circle   \n",
       "80331 2013-09-09 23:00:00                edmond    ok      us     cigar   \n",
       "\n",
       "       duration_seconds    duration  \\\n",
       "0                2700.0  45 minutes   \n",
       "1                7200.0     1-2 hrs   \n",
       "2                  20.0  20 seconds   \n",
       "3                  20.0    1/2 hour   \n",
       "4                 900.0  15 minutes   \n",
       "...                 ...         ...   \n",
       "80327             600.0  10 minutes   \n",
       "80328            1200.0  20 minutes   \n",
       "80329            1200.0        hour   \n",
       "80330               5.0   5 seconds   \n",
       "80331            1020.0  17 minutes   \n",
       "\n",
       "                                                 comment report_date  \\\n",
       "0      This event took place in early fall around 194...  2004-04-27   \n",
       "1      1949 Lackland AFB&#44 TX.  Lights racing acros...  2005-12-16   \n",
       "2      Green/Orange circular disc over Chester&#44 En...  2008-01-21   \n",
       "3      My older brother and twin sister were leaving ...  2004-01-17   \n",
       "4      AS a Marine 1st Lt. flying an FJ4B fighter/att...  2004-01-22   \n",
       "...                                                  ...         ...   \n",
       "80327  Round from the distance/slowly changing colors...  2013-09-30   \n",
       "80328  Boise&#44 ID&#44 spherical&#44 20 min&#44 10 r...  2013-09-30   \n",
       "80329                                       Napa UFO&#44  2013-09-30   \n",
       "80330  Saw a five gold lit cicular craft moving fastl...  2013-09-30   \n",
       "80331  2 witnesses 2  miles apart&#44 Red &amp; White...  2013-09-30   \n",
       "\n",
       "        latitude   longitude  year  \n",
       "0      29.883056  -97.941111  1949  \n",
       "1      29.384210  -98.581082  1949  \n",
       "2      53.200000   -2.916667  1955  \n",
       "3      28.978333  -96.645833  1956  \n",
       "4      21.418056 -157.803611  1960  \n",
       "...          ...         ...   ...  \n",
       "80327  36.165833  -86.784444  2013  \n",
       "80328  43.613611 -116.202500  2013  \n",
       "80329  38.297222 -122.284444  2013  \n",
       "80330  38.901111  -77.265556  2013  \n",
       "80331  35.652778  -97.477778  2013  \n",
       "\n",
       "[80332 rows x 12 columns]"
      ]
     },
     "execution_count": 80,
     "metadata": {},
     "output_type": "execute_result"
    }
   ],
   "source": [
    "ufos"
   ]
  },
  {
   "cell_type": "markdown",
   "id": "ahead-airline",
   "metadata": {},
   "source": [
    "Use NumPy to bin our data over this year column IN OUR CHOSEN SUBSET:"
   ]
  },
  {
   "cell_type": "code",
   "execution_count": 83,
   "id": "incident-corporation",
   "metadata": {},
   "outputs": [],
   "source": [
    "dur, dur_edges = np.histogram(ufos['year'][region_mask], \n",
    "                              weights=ufos['duration_seconds'][region_mask], \n",
    "                              bins=10)"
   ]
  },
  {
   "cell_type": "code",
   "execution_count": 84,
   "id": "creative-reform",
   "metadata": {},
   "outputs": [
    {
     "data": {
      "text/plain": [
       "array([1.26000e+03, 0.00000e+00, 9.00000e+02, 2.70000e+02, 6.00000e+02,\n",
       "       0.00000e+00, 4.98000e+03, 8.39800e+03, 2.97280e+04, 6.28123e+05])"
      ]
     },
     "execution_count": 84,
     "metadata": {},
     "output_type": "execute_result"
    }
   ],
   "source": [
    "dur"
   ]
  },
  {
   "cell_type": "code",
   "execution_count": 85,
   "id": "fiscal-trash",
   "metadata": {},
   "outputs": [
    {
     "data": {
      "text/plain": [
       "((10,), (11,))"
      ]
     },
     "execution_count": 85,
     "metadata": {},
     "output_type": "execute_result"
    }
   ],
   "source": [
    "dur.shape, dur_edges.shape"
   ]
  },
  {
   "cell_type": "markdown",
   "id": "adult-sharing",
   "metadata": {},
   "source": [
    "Use some inline programming to grab bin centers:"
   ]
  },
  {
   "cell_type": "code",
   "execution_count": 86,
   "id": "structural-wheat",
   "metadata": {},
   "outputs": [],
   "source": [
    "dur_centers = (dur_edges[:-1]+dur_edges[1:])/2"
   ]
  },
  {
   "cell_type": "code",
   "execution_count": 87,
   "id": "local-twelve",
   "metadata": {},
   "outputs": [
    {
     "data": {
      "text/plain": [
       "array([1952.2, 1958.6, 1965. , 1971.4, 1977.8, 1984.2, 1990.6, 1997. ,\n",
       "       2003.4, 2009.8])"
      ]
     },
     "execution_count": 87,
     "metadata": {},
     "output_type": "execute_result"
    }
   ],
   "source": [
    "dur_centers"
   ]
  },
  {
   "cell_type": "code",
   "execution_count": 88,
   "id": "extreme-payday",
   "metadata": {},
   "outputs": [
    {
     "data": {
      "text/plain": [
       "array([1949. , 1955.4, 1961.8, 1968.2, 1974.6, 1981. , 1987.4, 1993.8,\n",
       "       2000.2, 2006.6, 2013. ])"
      ]
     },
     "execution_count": 88,
     "metadata": {},
     "output_type": "execute_result"
    }
   ],
   "source": [
    "dur_edges"
   ]
  },
  {
   "cell_type": "code",
   "execution_count": 90,
   "id": "superior-ozone",
   "metadata": {},
   "outputs": [],
   "source": [
    "# 4. (cont) create the mark -- bar plot\n",
    "dur_bar = bqplot.Bars(x=dur_centers, y=dur, scales={'x':x_scl, 'y':y_scl})"
   ]
  },
  {
   "cell_type": "code",
   "execution_count": 91,
   "id": "documentary-beast",
   "metadata": {},
   "outputs": [],
   "source": [
    "fig_bar = bqplot.Figure(marks=[dur_bar], axes=[ax_xcl,ax_ycl])"
   ]
  },
  {
   "cell_type": "code",
   "execution_count": 92,
   "id": "proprietary-bradford",
   "metadata": {},
   "outputs": [
    {
     "data": {
      "application/vnd.jupyter.widget-view+json": {
       "model_id": "517175d0f7c54daba051ee77f61d387a",
       "version_major": 2,
       "version_minor": 0
      },
      "text/plain": [
       "Figure(axes=[Axis(label='Date', scale=LinearScale(), side='bottom'), Axis(label='Total Duration in Sec', orien…"
      ]
     },
     "metadata": {},
     "output_type": "display_data"
    }
   ],
   "source": [
    "fig_bar"
   ]
  },
  {
   "cell_type": "code",
   "execution_count": 125,
   "id": "cubic-chamber",
   "metadata": {},
   "outputs": [],
   "source": [
    "### (I) GRID HEAT MAP\n",
    "# 1. Data -- 2d histogram in lat/long\n",
    "\n",
    "# 2. Scales\n",
    "# x/y\n",
    "x_sc = bqplot.LinearScale()\n",
    "y_sc = bqplot.LinearScale()\n",
    "col_sc = bqplot.ColorScale(scheme='RdPu')\n",
    "\n",
    "# 3. Axis -- x/y AND color\n",
    "x_ax = bqplot.Axis(scale=x_sc, label='Longitude')\n",
    "y_ax = bqplot.Axis(scale=y_sc, label='Latitude', orientation='vertical')\n",
    "col_ax = bqplot.ColorAxis(scale=col_sc, orientation='vertical', side='right')\n",
    "\n",
    "# 4. Marks\n",
    "heat_map = bqplot.GridHeatMap(color=hist2d, row=lat_centers, column=long_centers, \n",
    "                             scales={'color':col_sc, 'row':y_sc, 'column':x_sc},\n",
    "                             interactions={'click':'select'}, # select on click\n",
    "                             anchor_style={'fill':'blue'}, # fill selection with blue\n",
    "                             selected_style={'opacity':1.0}, # opaque on selection\n",
    "                             unselected_style={'opacity':0.8}) # see-through for non-selected\n",
    "\n",
    "# 5. Interations -- first adding a label\n",
    "mySelectedLabel = ipywidgets.Label()\n",
    "# # 5.1 on selection function\n",
    "# def on_selection(change):\n",
    "#     #print(change)\n",
    "#     #print(change['owner'])\n",
    "#     #print(change['owner'].selected)\n",
    "#     if len(change['owner'].selected) == 1: # allowing only 1 selection\n",
    "#         i,j = change['owner'].selected[0]\n",
    "#         v = hist2d[i,j] # grab data value\n",
    "#         mySelectedLabel.value = 'Total duration in sum(log(sec))=' + str(v) # set label\n",
    "        \n",
    "# # 5.2 linking of the heatmap traits with this function\n",
    "# heat_map.observe(on_selection,'selected')\n",
    "\n",
    "# Put it together as a figure\n",
    "fig = bqplot.Figure(marks=[heat_map], axes=[col_ax, y_ax, x_ax])"
   ]
  },
  {
   "cell_type": "code",
   "execution_count": 126,
   "id": "efficient-reality",
   "metadata": {},
   "outputs": [],
   "source": [
    "### (II) BAR PLOT\n",
    "# 2. Scales\n",
    "x_scl = bqplot.LinearScale()\n",
    "y_scl = bqplot.LinearScale()\n",
    "\n",
    "# 3. Axis\n",
    "ax_xcl = bqplot.Axis(label='Date', scale=x_scl)\n",
    "ax_ycl = bqplot.Axis(label='Total Duration in Sec', \n",
    "                     orientation='vertical', scale=y_scl) # an accumulation in a date bin\n",
    "\n",
    "# 4. Marks -- need a particular data subset\n",
    "i,j = 19,0 # for-though, I know this bin has data!\n",
    "longs = [long_edges[j], long_edges[j+1]]\n",
    "lats = [lat_edges[i], lat_edges[i+1]]\n",
    "region_mask = ( (ufos['latitude'] >= lats[0]) & (ufos['latitude']<=lats[1]) &\n",
    "               (ufos['longitude'] >= longs[0]) & (ufos['longitude']<=longs[1]))\n",
    "\n",
    "# This assumes we have added this column somewhere with:\n",
    "#ufos['year'] = ufos['date'].dt.year # adding in a year column to our dataset\n",
    "\n",
    "# for reference:\n",
    "#x_scl = bqplot.DateScale(min=dt.datetime(1950,1,1), max=dt.datetime(2021,1,1)) # formatting for x-scale\n",
    "dur, dur_edges = np.histogram(ufos['year'][region_mask], \n",
    "                              weights=ufos['duration_seconds'][region_mask], \n",
    "                              bins=[1940, 1960, 1980, 2000,  2020])\n",
    "\n",
    "dur_centers = (dur_edges[:-1]+dur_edges[1:])/2\n",
    "\n",
    "# 4. (cont) create the mark -- bar plot\n",
    "dur_bar = bqplot.Bars(x=dur_centers, y=dur, scales={'x':x_scl, 'y':y_scl})\n",
    "\n",
    "# All together as a figure\n",
    "fig_bar = bqplot.Figure(marks=[dur_bar], axes=[ax_xcl,ax_ycl])"
   ]
  },
  {
   "cell_type": "code",
   "execution_count": 127,
   "id": "beginning-hughes",
   "metadata": {},
   "outputs": [],
   "source": [
    "### (III) LINKING BARPLOT TO GRIDHEATMAP\n",
    "\n",
    "# 5.1 on selection function\n",
    "def on_selection(change):\n",
    "    if len(change['owner'].selected) == 1: # allowing only 1 selection\n",
    "        i,j = change['owner'].selected[0]\n",
    "        v = hist2d[i,j] # grab data value\n",
    "        mySelectedLabel.value = 'Total duration in sum(log(sec))=' + str(v) # set label\n",
    "        ### BARPLOT GETS UPDATED\n",
    "        #i,j = 19,0 # for-though, I know this bin has data!\n",
    "        longs = [long_edges[j], long_edges[j+1]]\n",
    "        lats = [lat_edges[i], lat_edges[i+1]]\n",
    "        region_mask = ( (ufos['latitude'] >= lats[0]) & (ufos['latitude']<=lats[1]) &\\\n",
    "                        (ufos['longitude'] >= longs[0]) & (ufos['longitude']<=longs[1]))\n",
    "\n",
    "        dur, dur_edges = np.histogram(ufos['year'][region_mask], \n",
    "                                      weights=ufos['duration_seconds'][region_mask], \n",
    "                                      bins=[1940, 1960, 1980, 2000,  2020])\n",
    "\n",
    "        dur_centers = (dur_edges[:-1]+dur_edges[1:])/2\n",
    "        dur_bar.x = dur_centers\n",
    "        dur_bar.y = dur\n",
    "\n",
    "        \n",
    "# 5.2 linking of the heatmap traits with this function\n",
    "heat_map.observe(on_selection,'selected')\n"
   ]
  },
  {
   "cell_type": "code",
   "execution_count": 128,
   "id": "historic-philippines",
   "metadata": {},
   "outputs": [
    {
     "data": {
      "application/vnd.jupyter.widget-view+json": {
       "model_id": "739138bea61645f390c4de787f658b8a",
       "version_major": 2,
       "version_minor": 0
      },
      "text/plain": [
       "VBox(children=(Label(value=''), HBox(children=(Figure(axes=[ColorAxis(orientation='vertical', scale=ColorScale…"
      ]
     },
     "metadata": {},
     "output_type": "display_data"
    }
   ],
   "source": [
    "## Putting together into a dashboard\n",
    "fig.layout.min_width='500px'\n",
    "fig_bar.layout.min_width='500px'\n",
    "figures = ipywidgets.HBox([fig, fig_bar])\n",
    "\n",
    "myDashboard = ipywidgets.VBox([mySelectedLabel, figures])\n",
    "myDashboard"
   ]
  },
  {
   "cell_type": "code",
   "execution_count": 99,
   "id": "occupational-ballet",
   "metadata": {},
   "outputs": [
    {
     "data": {
      "text/plain": [
       "['_model_module',\n",
       " '_model_module_version',\n",
       " '_model_name',\n",
       " '_view_count',\n",
       " '_view_module',\n",
       " '_view_module_version',\n",
       " '_view_name',\n",
       " 'align',\n",
       " 'apply_clip',\n",
       " 'base',\n",
       " 'color',\n",
       " 'color_mode',\n",
       " 'colors',\n",
       " 'display_legend',\n",
       " 'enable_hover',\n",
       " 'fill',\n",
       " 'interactions',\n",
       " 'label_display',\n",
       " 'label_display_format',\n",
       " 'label_display_horizontal_offset',\n",
       " 'label_display_vertical_offset',\n",
       " 'label_font_style',\n",
       " 'labels',\n",
       " 'opacities',\n",
       " 'opacity_mode',\n",
       " 'orientation',\n",
       " 'padding',\n",
       " 'preserve_domain',\n",
       " 'scales',\n",
       " 'scales_metadata',\n",
       " 'selected',\n",
       " 'selected_style',\n",
       " 'stroke',\n",
       " 'stroke_width',\n",
       " 'tooltip',\n",
       " 'tooltip_location',\n",
       " 'tooltip_style',\n",
       " 'type',\n",
       " 'unselected_style',\n",
       " 'visible',\n",
       " 'x',\n",
       " 'y']"
      ]
     },
     "execution_count": 99,
     "metadata": {},
     "output_type": "execute_result"
    }
   ],
   "source": [
    "# what traits can we update in our barplot mark?\n",
    "dur_bar.keys"
   ]
  },
  {
   "cell_type": "markdown",
   "id": "universal-magnitude",
   "metadata": {},
   "source": [
    "# Looking forward to next week -- bqplot maps"
   ]
  },
  {
   "cell_type": "code",
   "execution_count": 111,
   "id": "experimental-receptor",
   "metadata": {},
   "outputs": [
    {
     "data": {
      "application/vnd.jupyter.widget-view+json": {
       "model_id": "3e5e685cfe0a40009d3dfbf967a6d5b0",
       "version_major": 2,
       "version_minor": 0
      },
      "text/plain": [
       "Figure(fig_margin={'top': 60, 'bottom': 60, 'left': 60, 'right': 60}, marks=[Map(hovered_styles={'hovered_fill…"
      ]
     },
     "metadata": {},
     "output_type": "display_data"
    }
   ],
   "source": [
    "map_mark = bqplot.Map(scales={'projection':bqplot.AlbersUSA()})\n",
    "fig = bqplot.Figure(marks=[map_mark], title='Basic Map Example')\n",
    "fig"
   ]
  },
  {
   "cell_type": "markdown",
   "id": "usual-franchise",
   "metadata": {},
   "source": [
    "Breaking it down a little further:"
   ]
  },
  {
   "cell_type": "code",
   "execution_count": 112,
   "id": "classified-arbor",
   "metadata": {},
   "outputs": [
    {
     "data": {
      "application/vnd.jupyter.widget-view+json": {
       "model_id": "c0eaaae91cf34ba295f996a6aa299ff7",
       "version_major": 2,
       "version_minor": 0
      },
      "text/plain": [
       "Figure(fig_margin={'top': 0, 'bottom': 0, 'left': 0, 'right': 0}, marks=[Map(hovered_styles={'hovered_fill': '…"
      ]
     },
     "metadata": {},
     "output_type": "display_data"
    }
   ],
   "source": [
    "# map data\n",
    "state_data = bqplot.topo_load('map_data/USStatesMap.json')\n",
    "\n",
    "# scales\n",
    "sc_geo = bqplot.AlbersUSA()\n",
    "\n",
    "# marks\n",
    "states_map = bqplot.Map(map_data=state_data, scales={'projection':sc_geo})\n",
    "\n",
    "# all together as a figure\n",
    "fig = bqplot.Figure(marks=[states_map], title='US States Map Example',\n",
    "                   fig_margin={'top':0, 'bottom':0, 'left':0, 'right':0}) # zooming in\n",
    "fig"
   ]
  },
  {
   "cell_type": "code",
   "execution_count": 114,
   "id": "honey-table",
   "metadata": {},
   "outputs": [
    {
     "data": {
      "application/vnd.jupyter.widget-view+json": {
       "model_id": "397338f6b05c4ca7ac863e1a3dc2d2f0",
       "version_major": 2,
       "version_minor": 0
      },
      "text/plain": [
       "Figure(fig_margin={'top': 0, 'bottom': 0, 'left': 0, 'right': 0}, marks=[Map(hovered_styles={'hovered_fill': '…"
      ]
     },
     "metadata": {},
     "output_type": "display_data"
    }
   ],
   "source": [
    "# map data\n",
    "geo_data = bqplot.topo_load('map_data/WorldMap.json')\n",
    "\n",
    "# scales\n",
    "sc_geo = bqplot.Mercator()\n",
    "\n",
    "# marks\n",
    "geo_map = bqplot.Map(map_data=geo_data, scales={'projection':sc_geo})\n",
    "\n",
    "# all together as a figure\n",
    "fig = bqplot.Figure(marks=[geo_map], title='Map Example',\n",
    "                   fig_margin={'top':0, 'bottom':0, 'left':0, 'right':0}) # zooming in\n",
    "fig"
   ]
  },
  {
   "cell_type": "code",
   "execution_count": 115,
   "id": "portuguese-thomson",
   "metadata": {},
   "outputs": [
    {
     "data": {
      "application/vnd.jupyter.widget-view+json": {
       "model_id": "5ef96c41846d4710ad1028a2bbbf2080",
       "version_major": 2,
       "version_minor": 0
      },
      "text/plain": [
       "Figure(fig_margin={'top': 0, 'bottom': 0, 'left': 0, 'right': 0}, marks=[Map(hovered_styles={'hovered_fill': '…"
      ]
     },
     "metadata": {},
     "output_type": "display_data"
    }
   ],
   "source": [
    "# map data\n",
    "geo_data = bqplot.topo_load('map_data/WorldMap.json')\n",
    "\n",
    "# scales\n",
    "sc_geo = bqplot.Gnomonic()\n",
    "\n",
    "# marks\n",
    "geo_map = bqplot.Map(map_data=geo_data, scales={'projection':sc_geo})\n",
    "\n",
    "# all together as a figure\n",
    "fig = bqplot.Figure(marks=[geo_map], title='Map Example',\n",
    "                   fig_margin={'top':0, 'bottom':0, 'left':0, 'right':0}) # zooming in\n",
    "fig"
   ]
  },
  {
   "cell_type": "code",
   "execution_count": 117,
   "id": "limiting-indonesian",
   "metadata": {},
   "outputs": [
    {
     "data": {
      "application/vnd.jupyter.widget-view+json": {
       "model_id": "5318d65479704317a230199c645afeac",
       "version_major": 2,
       "version_minor": 0
      },
      "text/plain": [
       "Figure(fig_margin={'top': 0, 'bottom': 0, 'left': 0, 'right': 0}, marks=[Map(hovered_styles={'hovered_fill': '…"
      ]
     },
     "metadata": {},
     "output_type": "display_data"
    }
   ],
   "source": [
    "# map data\n",
    "geo_data = bqplot.topo_load('map_data/WorldMap.json')\n",
    "\n",
    "# scales\n",
    "sc_geo = bqplot.Stereographic()\n",
    "\n",
    "# marks\n",
    "geo_map = bqplot.Map(map_data=geo_data, scales={'projection':sc_geo})\n",
    "\n",
    "# all together as a figure\n",
    "fig = bqplot.Figure(marks=[geo_map], title='Map Example',\n",
    "                   fig_margin={'top':0, 'bottom':0, 'left':0, 'right':0}) # zooming in\n",
    "fig"
   ]
  },
  {
   "cell_type": "code",
   "execution_count": 118,
   "id": "specified-noise",
   "metadata": {},
   "outputs": [
    {
     "data": {
      "text/plain": [
       "0        False\n",
       "1        False\n",
       "2        False\n",
       "3        False\n",
       "4        False\n",
       "         ...  \n",
       "80327    False\n",
       "80328    False\n",
       "80329    False\n",
       "80330    False\n",
       "80331    False\n",
       "Length: 80332, dtype: bool"
      ]
     },
     "execution_count": 118,
     "metadata": {},
     "output_type": "execute_result"
    }
   ],
   "source": [
    "region_mask"
   ]
  },
  {
   "cell_type": "code",
   "execution_count": 119,
   "id": "ecological-accident",
   "metadata": {},
   "outputs": [
    {
     "data": {
      "text/html": [
       "<div>\n",
       "<style scoped>\n",
       "    .dataframe tbody tr th:only-of-type {\n",
       "        vertical-align: middle;\n",
       "    }\n",
       "\n",
       "    .dataframe tbody tr th {\n",
       "        vertical-align: top;\n",
       "    }\n",
       "\n",
       "    .dataframe thead th {\n",
       "        text-align: right;\n",
       "    }\n",
       "</style>\n",
       "<table border=\"1\" class=\"dataframe\">\n",
       "  <thead>\n",
       "    <tr style=\"text-align: right;\">\n",
       "      <th></th>\n",
       "      <th>date</th>\n",
       "      <th>city</th>\n",
       "      <th>state</th>\n",
       "      <th>country</th>\n",
       "      <th>shape</th>\n",
       "      <th>duration_seconds</th>\n",
       "      <th>duration</th>\n",
       "      <th>comment</th>\n",
       "      <th>report_date</th>\n",
       "      <th>latitude</th>\n",
       "      <th>longitude</th>\n",
       "      <th>year</th>\n",
       "    </tr>\n",
       "  </thead>\n",
       "  <tbody>\n",
       "    <tr>\n",
       "      <th>327</th>\n",
       "      <td>2001-10-11 02:15:00</td>\n",
       "      <td>fairbanks</td>\n",
       "      <td>ak</td>\n",
       "      <td>us</td>\n",
       "      <td>other</td>\n",
       "      <td>1800.0</td>\n",
       "      <td>30 minutes</td>\n",
       "      <td>It looked like a star but it would move and af...</td>\n",
       "      <td>2001-10-12</td>\n",
       "      <td>64.837778</td>\n",
       "      <td>-147.716389</td>\n",
       "      <td>2001</td>\n",
       "    </tr>\n",
       "    <tr>\n",
       "      <th>2845</th>\n",
       "      <td>2012-10-18 21:30:00</td>\n",
       "      <td>fairbanks</td>\n",
       "      <td>ak</td>\n",
       "      <td>us</td>\n",
       "      <td>light</td>\n",
       "      <td>600.0</td>\n",
       "      <td>5-10 minutes</td>\n",
       "      <td>Changing light from bright to dim&amp;#44 to off t...</td>\n",
       "      <td>2012-10-30</td>\n",
       "      <td>64.837778</td>\n",
       "      <td>-147.716389</td>\n",
       "      <td>2012</td>\n",
       "    </tr>\n",
       "    <tr>\n",
       "      <th>3620</th>\n",
       "      <td>2000-10-02 23:00:00</td>\n",
       "      <td>fairbanks</td>\n",
       "      <td>ak</td>\n",
       "      <td>us</td>\n",
       "      <td>NaN</td>\n",
       "      <td>300.0</td>\n",
       "      <td>hour</td>\n",
       "      <td>Lights gradually coming on&amp;#44 and then going ...</td>\n",
       "      <td>2002-12-23</td>\n",
       "      <td>64.837778</td>\n",
       "      <td>-147.716389</td>\n",
       "      <td>2000</td>\n",
       "    </tr>\n",
       "    <tr>\n",
       "      <th>4602</th>\n",
       "      <td>2012-10-25 23:00:00</td>\n",
       "      <td>north pole</td>\n",
       "      <td>ak</td>\n",
       "      <td>us</td>\n",
       "      <td>light</td>\n",
       "      <td>15.0</td>\n",
       "      <td>15 seconds</td>\n",
       "      <td>It was late at night and me and my mother were...</td>\n",
       "      <td>2012-12-20</td>\n",
       "      <td>64.751111</td>\n",
       "      <td>-147.349444</td>\n",
       "      <td>2012</td>\n",
       "    </tr>\n",
       "    <tr>\n",
       "      <th>6011</th>\n",
       "      <td>2013-10-31 20:30:00</td>\n",
       "      <td>fairbanks</td>\n",
       "      <td>ak</td>\n",
       "      <td>us</td>\n",
       "      <td>diamond</td>\n",
       "      <td>180.0</td>\n",
       "      <td>3 minutes</td>\n",
       "      <td>UFO seen over civilian side of Birch Hill.</td>\n",
       "      <td>2013-11-11</td>\n",
       "      <td>64.837778</td>\n",
       "      <td>-147.716389</td>\n",
       "      <td>2013</td>\n",
       "    </tr>\n",
       "    <tr>\n",
       "      <th>...</th>\n",
       "      <td>...</td>\n",
       "      <td>...</td>\n",
       "      <td>...</td>\n",
       "      <td>...</td>\n",
       "      <td>...</td>\n",
       "      <td>...</td>\n",
       "      <td>...</td>\n",
       "      <td>...</td>\n",
       "      <td>...</td>\n",
       "      <td>...</td>\n",
       "      <td>...</td>\n",
       "      <td>...</td>\n",
       "    </tr>\n",
       "    <tr>\n",
       "      <th>77347</th>\n",
       "      <td>1998-09-24 22:35:00</td>\n",
       "      <td>north pole</td>\n",
       "      <td>ak</td>\n",
       "      <td>us</td>\n",
       "      <td>sphere</td>\n",
       "      <td>600.0</td>\n",
       "      <td>10 minutes</td>\n",
       "      <td>Two Orange sphere appeared low on horizon just...</td>\n",
       "      <td>1998-09-26</td>\n",
       "      <td>64.751111</td>\n",
       "      <td>-147.349444</td>\n",
       "      <td>1998</td>\n",
       "    </tr>\n",
       "    <tr>\n",
       "      <th>77497</th>\n",
       "      <td>2013-09-24 20:35:00</td>\n",
       "      <td>fairbanks</td>\n",
       "      <td>ak</td>\n",
       "      <td>us</td>\n",
       "      <td>circle</td>\n",
       "      <td>120.0</td>\n",
       "      <td>~2 minutes</td>\n",
       "      <td>3 white orbs. 2 in front 1 behind.</td>\n",
       "      <td>2013-09-30</td>\n",
       "      <td>64.837778</td>\n",
       "      <td>-147.716389</td>\n",
       "      <td>2013</td>\n",
       "    </tr>\n",
       "    <tr>\n",
       "      <th>78571</th>\n",
       "      <td>2013-09-29 21:30:00</td>\n",
       "      <td>fairbanks</td>\n",
       "      <td>ak</td>\n",
       "      <td>us</td>\n",
       "      <td>light</td>\n",
       "      <td>420.0</td>\n",
       "      <td>5-7 minutes</td>\n",
       "      <td>2 orange orbs fly south over chena ridge</td>\n",
       "      <td>2013-09-30</td>\n",
       "      <td>64.837778</td>\n",
       "      <td>-147.716389</td>\n",
       "      <td>2013</td>\n",
       "    </tr>\n",
       "    <tr>\n",
       "      <th>79029</th>\n",
       "      <td>2012-09-03 21:57:00</td>\n",
       "      <td>fairbanks</td>\n",
       "      <td>ak</td>\n",
       "      <td>us</td>\n",
       "      <td>unknown</td>\n",
       "      <td>120.0</td>\n",
       "      <td>2 minutes</td>\n",
       "      <td>Metallic sounds and bright flash of light - Se...</td>\n",
       "      <td>2012-09-24</td>\n",
       "      <td>64.837778</td>\n",
       "      <td>-147.716389</td>\n",
       "      <td>2012</td>\n",
       "    </tr>\n",
       "    <tr>\n",
       "      <th>79470</th>\n",
       "      <td>2013-09-05 22:00:00</td>\n",
       "      <td>fairbanks</td>\n",
       "      <td>ak</td>\n",
       "      <td>us</td>\n",
       "      <td>disk</td>\n",
       "      <td>300.0</td>\n",
       "      <td>5 minutes</td>\n",
       "      <td>HUGE SAUCER FLYING INTO FORT WAINRIGHT</td>\n",
       "      <td>2013-09-30</td>\n",
       "      <td>64.837778</td>\n",
       "      <td>-147.716389</td>\n",
       "      <td>2013</td>\n",
       "    </tr>\n",
       "  </tbody>\n",
       "</table>\n",
       "<p>74 rows × 12 columns</p>\n",
       "</div>"
      ],
      "text/plain": [
       "                     date        city state country    shape  \\\n",
       "327   2001-10-11 02:15:00   fairbanks    ak      us    other   \n",
       "2845  2012-10-18 21:30:00   fairbanks    ak      us    light   \n",
       "3620  2000-10-02 23:00:00   fairbanks    ak      us      NaN   \n",
       "4602  2012-10-25 23:00:00  north pole    ak      us    light   \n",
       "6011  2013-10-31 20:30:00   fairbanks    ak      us  diamond   \n",
       "...                   ...         ...   ...     ...      ...   \n",
       "77347 1998-09-24 22:35:00  north pole    ak      us   sphere   \n",
       "77497 2013-09-24 20:35:00   fairbanks    ak      us   circle   \n",
       "78571 2013-09-29 21:30:00   fairbanks    ak      us    light   \n",
       "79029 2012-09-03 21:57:00   fairbanks    ak      us  unknown   \n",
       "79470 2013-09-05 22:00:00   fairbanks    ak      us     disk   \n",
       "\n",
       "       duration_seconds      duration  \\\n",
       "327              1800.0    30 minutes   \n",
       "2845              600.0  5-10 minutes   \n",
       "3620              300.0          hour   \n",
       "4602               15.0    15 seconds   \n",
       "6011              180.0     3 minutes   \n",
       "...                 ...           ...   \n",
       "77347             600.0    10 minutes   \n",
       "77497             120.0    ~2 minutes   \n",
       "78571             420.0   5-7 minutes   \n",
       "79029             120.0     2 minutes   \n",
       "79470             300.0     5 minutes   \n",
       "\n",
       "                                                 comment report_date  \\\n",
       "327    It looked like a star but it would move and af...  2001-10-12   \n",
       "2845   Changing light from bright to dim&#44 to off t...  2012-10-30   \n",
       "3620   Lights gradually coming on&#44 and then going ...  2002-12-23   \n",
       "4602   It was late at night and me and my mother were...  2012-12-20   \n",
       "6011          UFO seen over civilian side of Birch Hill.  2013-11-11   \n",
       "...                                                  ...         ...   \n",
       "77347  Two Orange sphere appeared low on horizon just...  1998-09-26   \n",
       "77497                 3 white orbs. 2 in front 1 behind.  2013-09-30   \n",
       "78571           2 orange orbs fly south over chena ridge  2013-09-30   \n",
       "79029  Metallic sounds and bright flash of light - Se...  2012-09-24   \n",
       "79470             HUGE SAUCER FLYING INTO FORT WAINRIGHT  2013-09-30   \n",
       "\n",
       "        latitude   longitude  year  \n",
       "327    64.837778 -147.716389  2001  \n",
       "2845   64.837778 -147.716389  2012  \n",
       "3620   64.837778 -147.716389  2000  \n",
       "4602   64.751111 -147.349444  2012  \n",
       "6011   64.837778 -147.716389  2013  \n",
       "...          ...         ...   ...  \n",
       "77347  64.751111 -147.349444  1998  \n",
       "77497  64.837778 -147.716389  2013  \n",
       "78571  64.837778 -147.716389  2013  \n",
       "79029  64.837778 -147.716389  2012  \n",
       "79470  64.837778 -147.716389  2013  \n",
       "\n",
       "[74 rows x 12 columns]"
      ]
     },
     "execution_count": 119,
     "metadata": {},
     "output_type": "execute_result"
    }
   ],
   "source": [
    "ufos.loc[region_mask]"
   ]
  },
  {
   "cell_type": "code",
   "execution_count": null,
   "id": "sublime-player",
   "metadata": {},
   "outputs": [],
   "source": []
  }
 ],
 "metadata": {
  "kernelspec": {
   "display_name": "Python 3",
   "language": "python",
   "name": "python3"
  },
  "language_info": {
   "codemirror_mode": {
    "name": "ipython",
    "version": 3
   },
   "file_extension": ".py",
   "mimetype": "text/x-python",
   "name": "python",
   "nbconvert_exporter": "python",
   "pygments_lexer": "ipython3",
   "version": "3.7.9"
  }
 },
 "nbformat": 4,
 "nbformat_minor": 5
}
