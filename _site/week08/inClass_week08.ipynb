{
 "cells": [
  {
   "cell_type": "markdown",
   "id": "respective-store",
   "metadata": {},
   "source": [
    "# In Class Notebook, Week 08"
   ]
  },
  {
   "cell_type": "markdown",
   "id": "2a597611",
   "metadata": {},
   "source": [
    "You can always paste the URL of this notebook (https://github.com/UIUC-iSchool-DataViz/is445_AOUAOG_fall2021/blob/master/week08/inClass_week08.ipynb ) into the nbviewer interface for a plain-text rendering:\n",
    "\n",
    "https://kokes.github.io/nbviewer.js/viewer.html"
   ]
  },
  {
   "cell_type": "markdown",
   "id": "06fb2043",
   "metadata": {},
   "source": [
    "First, import our usual things:"
   ]
  },
  {
   "cell_type": "code",
   "execution_count": 1,
   "id": "655e57a9",
   "metadata": {},
   "outputs": [],
   "source": [
    "import matplotlib.pyplot as plt\n",
    "import numpy as np\n",
    "import bqplot\n",
    "import pandas as pd\n",
    "# new one:\n",
    "import geopandas"
   ]
  },
  {
   "cell_type": "markdown",
   "id": "896f871d",
   "metadata": {},
   "source": [
    "## Quick look at bqplot maps"
   ]
  },
  {
   "cell_type": "code",
   "execution_count": null,
   "id": "207200ec",
   "metadata": {},
   "outputs": [],
   "source": []
  },
  {
   "cell_type": "code",
   "execution_count": null,
   "id": "5db784a9",
   "metadata": {},
   "outputs": [],
   "source": [
    "# 1. data (data & axis are meshed together)\n",
    "shape_data = bqplot.topo_load('map_data/WorldMap.json')\n",
    "\n",
    "# 2. scales -- projection\n",
    "sc_geo = bqplot.Mercator() # we already know this is not a great projection!\n",
    "\n",
    "# 3. Marks\n",
    "shape_map = bqplot.Map(map_data)"
   ]
  }
 ],
 "metadata": {
  "kernelspec": {
   "display_name": "Python 3 (ipykernel)",
   "language": "python",
   "name": "python3"
  },
  "language_info": {
   "codemirror_mode": {
    "name": "ipython",
    "version": 3
   },
   "file_extension": ".py",
   "mimetype": "text/x-python",
   "name": "python",
   "nbconvert_exporter": "python",
   "pygments_lexer": "ipython3",
   "version": "3.7.10"
  }
 },
 "nbformat": 4,
 "nbformat_minor": 5
}
