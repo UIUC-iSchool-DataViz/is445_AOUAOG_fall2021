{
 "cells": [
  {
   "cell_type": "code",
   "execution_count": 3,
   "id": "spectacular-hartford",
   "metadata": {},
   "outputs": [
    {
     "name": "stdout",
     "output_type": "stream",
     "text": [
      "hi all!\n"
     ]
    }
   ],
   "source": [
    "print('hi all!')"
   ]
  },
  {
   "cell_type": "markdown",
   "id": "racial-sussex",
   "metadata": {},
   "source": [
    "I can just write words (this is a markdown cell).\n",
    "\n",
    "# This is a big header\n",
    "\n",
    "## Smaller header\n",
    "\n",
    "### Smaller even header\n",
    "\n",
    "I can make an unordered list:\n",
    " * this is the first element in my list\n",
    " * this is the second element in my list\n",
    " \n",
    "I can also make an ordered list:\n",
    " 1. This will be number 1\n",
    " 1. this will be a totally different thing\n",
    " 1. this will be another thing\n"
   ]
  },
  {
   "cell_type": "markdown",
   "id": "genuine-apparatus",
   "metadata": {},
   "source": [
    "I pressed `ESC-m` to make this a markdown cell.\n",
    "\n",
    "Another useful hot-key is `SHIFT+RETURN` - run the cell (just like pressing the run button) -- the command is `SHIFT+ENTER` on a Windows!\n",
    "\n",
    "Another few that are going to be used less are: `ESC-a` to insert a cell above and `ESC-b` to insert a cell below."
   ]
  },
  {
   "cell_type": "code",
   "execution_count": 5,
   "id": "blessed-charm",
   "metadata": {},
   "outputs": [
    {
     "data": {
      "text/plain": [
       "9"
      ]
     },
     "execution_count": 5,
     "metadata": {},
     "output_type": "execute_result"
    }
   ],
   "source": [
    "4+5"
   ]
  },
  {
   "cell_type": "markdown",
   "id": "prescribed-sweden",
   "metadata": {},
   "source": [
    "4+5\n",
    "\n",
    "$x = \\frac{7}{y}$ (LaTex formatting, not going to use this really, but its there!)"
   ]
  },
  {
   "cell_type": "markdown",
   "id": "apparent-child",
   "metadata": {},
   "source": [
    "# 1. Making plots!"
   ]
  },
  {
   "cell_type": "code",
   "execution_count": 6,
   "id": "sudden-indonesia",
   "metadata": {},
   "outputs": [],
   "source": [
    "%matplotlib inline"
   ]
  },
  {
   "cell_type": "code",
   "execution_count": 7,
   "id": "hungarian-childhood",
   "metadata": {},
   "outputs": [],
   "source": [
    "# this is a comment -- I am importing matplotlib\n",
    "import matplotlib\n",
    "import matplotlib.pyplot as plt\n",
    "import datetime"
   ]
  },
  {
   "cell_type": "code",
   "execution_count": 8,
   "id": "municipal-being",
   "metadata": {},
   "outputs": [],
   "source": [
    "# importing one last thing -- numpy library for arrays/matricies\n",
    "import numpy as np"
   ]
  },
  {
   "cell_type": "code",
   "execution_count": 11,
   "id": "sticky-empty",
   "metadata": {},
   "outputs": [
    {
     "data": {
      "text/plain": [
       "[20070101,\n",
       " 20070401,\n",
       " 20070701,\n",
       " 20071001,\n",
       " 20080101,\n",
       " 20080401,\n",
       " 20080701,\n",
       " 20081001,\n",
       " 20090101]"
      ]
     },
     "execution_count": 11,
     "metadata": {},
     "output_type": "execute_result"
    }
   ],
   "source": [
    "time = [20070101, 20070401, 20070701, 20071001, 20080101, 20080401, 20080701, 20081001, 20090101]\n",
    "time"
   ]
  },
  {
   "cell_type": "code",
   "execution_count": 10,
   "id": "stylish-rolling",
   "metadata": {},
   "outputs": [
    {
     "name": "stdout",
     "output_type": "stream",
     "text": [
      "[20070101, 20070401, 20070701, 20071001, 20080101, 20080401, 20080701, 20081001, 20090101]\n"
     ]
    }
   ],
   "source": [
    "print(time)"
   ]
  },
  {
   "cell_type": "code",
   "execution_count": 12,
   "id": "primary-tournament",
   "metadata": {},
   "outputs": [
    {
     "data": {
      "text/plain": [
       "[<matplotlib.lines.Line2D at 0x7f84d8577e10>]"
      ]
     },
     "execution_count": 12,
     "metadata": {},
     "output_type": "execute_result"
    },
    {
     "data": {
      "image/png": "[encoded data removed]",
      "text/plain": [
       "<Figure size 432x288 with 1 Axes>"
      ]
     },
     "metadata": {
      "needs_background": "light"
     },
     "output_type": "display_data"
    }
   ],
   "source": [
    "# finally making a plot!\n",
    "plt.plot(time)"
   ]
  },
  {
   "cell_type": "code",
   "execution_count": 13,
   "id": "cheap-summary",
   "metadata": {},
   "outputs": [
    {
     "data": {
      "text/plain": [
       "Text(0, 0.5, 'YearMonthDay')"
      ]
     },
     "execution_count": 13,
     "metadata": {},
     "output_type": "execute_result"
    },
    {
     "data": {
      "image/png": "[encoded data removed]",
      "text/plain": [
       "<Figure size 432x288 with 1 Axes>"
      ]
     },
     "metadata": {
      "needs_background": "light"
     },
     "output_type": "display_data"
    }
   ],
   "source": [
    "# add some x/y labels to our plot\n",
    "plt.plot(time)\n",
    "\n",
    "plt.xlabel('Measurement number') # adding an x-axis label\n",
    "plt.ylabel('YearMonthDay')"
   ]
  },
  {
   "cell_type": "code",
   "execution_count": 14,
   "id": "subject-standing",
   "metadata": {},
   "outputs": [],
   "source": [
    "gdp = [14233.2, 14422.3, 14569.7, 14685.3, 14668.4, 14813.0, 14843.0, 14549.9, 14383.9] # US GDP in billions"
   ]
  },
  {
   "cell_type": "code",
   "execution_count": 15,
   "id": "minor-exercise",
   "metadata": {},
   "outputs": [
    {
     "data": {
      "text/plain": [
       "[14233.2,\n",
       " 14422.3,\n",
       " 14569.7,\n",
       " 14685.3,\n",
       " 14668.4,\n",
       " 14813.0,\n",
       " 14843.0,\n",
       " 14549.9,\n",
       " 14383.9]"
      ]
     },
     "execution_count": 15,
     "metadata": {},
     "output_type": "execute_result"
    }
   ],
   "source": [
    "gdp"
   ]
  },
  {
   "cell_type": "code",
   "execution_count": 17,
   "id": "historic-generic",
   "metadata": {},
   "outputs": [
    {
     "data": {
      "text/plain": [
       "[<matplotlib.lines.Line2D at 0x7f850874e790>]"
      ]
     },
     "execution_count": 17,
     "metadata": {},
     "output_type": "execute_result"
    },
    {
     "data": {
      "image/png": "[encoded data removed]",
      "text/plain": [
       "<Figure size 432x288 with 1 Axes>"
      ]
     },
     "metadata": {
      "needs_background": "light"
     },
     "output_type": "display_data"
    }
   ],
   "source": [
    "plt.plot(time,gdp) # plot of GDP (in billions) as a function of time (YearMonthDay)"
   ]
  },
  {
   "cell_type": "code",
   "execution_count": 18,
   "id": "welsh-group",
   "metadata": {},
   "outputs": [
    {
     "data": {
      "text/plain": [
       "Text(0, 0.5, 'GDP in Billions')"
      ]
     },
     "execution_count": 18,
     "metadata": {},
     "output_type": "execute_result"
    },
    {
     "data": {
      "image/png": "[encoded data removed]",
      "text/plain": [
       "<Figure size 432x288 with 1 Axes>"
      ]
     },
     "metadata": {
      "needs_background": "light"
     },
     "output_type": "display_data"
    }
   ],
   "source": [
    "plt.plot(time,gdp) # plot of GDP (in billions) as a function of time (YearMonthDay)\n",
    "\n",
    "plt.xlabel('Time in format of YearMonthDay') # x-axis label\n",
    "plt.ylabel('GDP in Billions') # y-axis label"
   ]
  },
  {
   "cell_type": "code",
   "execution_count": 19,
   "id": "supported-plaza",
   "metadata": {},
   "outputs": [
    {
     "data": {
      "text/plain": [
       "Text(0, 0.5, 'GDP in Billions')"
      ]
     },
     "execution_count": 19,
     "metadata": {},
     "output_type": "execute_result"
    },
    {
     "data": {
      "image/png": "[encoded data removed]",
      "text/plain": [
       "<Figure size 432x288 with 1 Axes>"
      ]
     },
     "metadata": {
      "needs_background": "light"
     },
     "output_type": "display_data"
    }
   ],
   "source": [
    "plt.plot(time,gdp, 'o-') # plot of GDP (in billions) as a function of time (YearMonthDay)\n",
    "\n",
    "plt.xlabel('Time in format of YearMonthDay') # x-axis label\n",
    "plt.ylabel('GDP in Billions') # y-axis label"
   ]
  },
  {
   "cell_type": "markdown",
   "id": "average-plate",
   "metadata": {},
   "source": [
    "Transforming our data **this is something we are going to get very familar with!**\n",
    "\n",
    "*I can also do italics!*"
   ]
  },
  {
   "cell_type": "code",
   "execution_count": 26,
   "id": "smart-manual",
   "metadata": {},
   "outputs": [],
   "source": [
    "date = []\n",
    "# do a for-loop that updates our date array with the correct formatting\n",
    "for t in time:\n",
    "    date.append( datetime.datetime.strptime(str(t), '%Y%m%d') )"
   ]
  },
  {
   "cell_type": "code",
   "execution_count": 27,
   "id": "psychological-committee",
   "metadata": {},
   "outputs": [
    {
     "data": {
      "text/plain": [
       "[datetime.datetime(2007, 1, 1, 0, 0),\n",
       " datetime.datetime(2007, 4, 1, 0, 0),\n",
       " datetime.datetime(2007, 7, 1, 0, 0),\n",
       " datetime.datetime(2007, 10, 1, 0, 0),\n",
       " datetime.datetime(2008, 1, 1, 0, 0),\n",
       " datetime.datetime(2008, 4, 1, 0, 0),\n",
       " datetime.datetime(2008, 7, 1, 0, 0),\n",
       " datetime.datetime(2008, 10, 1, 0, 0),\n",
       " datetime.datetime(2009, 1, 1, 0, 0)]"
      ]
     },
     "execution_count": 27,
     "metadata": {},
     "output_type": "execute_result"
    }
   ],
   "source": [
    "date"
   ]
  },
  {
   "cell_type": "code",
   "execution_count": 29,
   "id": "major-shield",
   "metadata": {},
   "outputs": [
    {
     "data": {
      "text/plain": [
       "Text(0, 0.5, 'GDP in Billions')"
      ]
     },
     "execution_count": 29,
     "metadata": {},
     "output_type": "execute_result"
    },
    {
     "data": {
      "image/png": "[encoded data removed]",
      "text/plain": [
       "<Figure size 432x288 with 1 Axes>"
      ]
     },
     "metadata": {
      "needs_background": "light"
     },
     "output_type": "display_data"
    }
   ],
   "source": [
    "plt.plot(date,gdp, 'o-')\n",
    "\n",
    "plt.xlabel('Date') # x-axis label\n",
    "plt.ylabel('GDP in Billions') # y-axis label"
   ]
  },
  {
   "cell_type": "markdown",
   "id": "acknowledged-mailman",
   "metadata": {},
   "source": [
    "# 2. Reading in data from a file\n",
    "(the hard way!)\n",
    "\n",
    "Usually we'll use the `Pandas` package to read data, but here is a look at what is going on \"under the hood\":"
   ]
  },
  {
   "cell_type": "code",
   "execution_count": 30,
   "id": "sufficient-phone",
   "metadata": {},
   "outputs": [],
   "source": [
    "myFredFile = \"/Users/jillnaiman/Downloads/GDP.csv\"\n",
    "# if we've put the file in the same place as our notebook \n",
    "#myFredFile = \"GDP.csv\""
   ]
  },
  {
   "cell_type": "code",
   "execution_count": 35,
   "id": "physical-correlation",
   "metadata": {},
   "outputs": [],
   "source": [
    "def converter(v):\n",
    "    #print(v, v.decode(\"ascii\"))\n",
    "    return datetime.datetime.strptime(v.decode(\"ascii\"), '%Y-%m-%d')"
   ]
  },
  {
   "cell_type": "code",
   "execution_count": 36,
   "id": "patent-personal",
   "metadata": {},
   "outputs": [],
   "source": [
    "# store this in a named array\n",
    "myFredType = np.dtype([(\"date\", datetime.datetime), (\"gdp\", np.float64)])"
   ]
  },
  {
   "cell_type": "code",
   "execution_count": 37,
   "id": "relevant-bangkok",
   "metadata": {},
   "outputs": [],
   "source": [
    "with open(myFredFile, \"r\") as f:\n",
    "    data = np.loadtxt(f, skiprows=1, delimiter=\",\", converters={0: converter}, dtype=myFredType)\n",
    "    # Note: this {0: converter} bit just means we are only using the one converter for our data\n"
   ]
  },
  {
   "cell_type": "code",
   "execution_count": 38,
   "id": "mighty-shark",
   "metadata": {},
   "outputs": [
    {
     "data": {
      "text/plain": [
       "array([(datetime.datetime(1947, 1, 1, 0, 0),   243.164),\n",
       "       (datetime.datetime(1947, 4, 1, 0, 0),   245.968),\n",
       "       (datetime.datetime(1947, 7, 1, 0, 0),   249.585),\n",
       "       (datetime.datetime(1947, 10, 1, 0, 0),   259.745),\n",
       "       (datetime.datetime(1948, 1, 1, 0, 0),   265.742),\n",
       "       (datetime.datetime(1948, 4, 1, 0, 0),   272.567),\n",
       "       (datetime.datetime(1948, 7, 1, 0, 0),   279.196),\n",
       "       (datetime.datetime(1948, 10, 1, 0, 0),   280.366),\n",
       "       (datetime.datetime(1949, 1, 1, 0, 0),   275.034),\n",
       "       (datetime.datetime(1949, 4, 1, 0, 0),   271.351),\n",
       "       (datetime.datetime(1949, 7, 1, 0, 0),   272.889),\n",
       "       (datetime.datetime(1949, 10, 1, 0, 0),   270.627),\n",
       "       (datetime.datetime(1950, 1, 1, 0, 0),   280.828),\n",
       "       (datetime.datetime(1950, 4, 1, 0, 0),   290.383),\n",
       "       (datetime.datetime(1950, 7, 1, 0, 0),   308.153),\n",
       "       (datetime.datetime(1950, 10, 1, 0, 0),   319.945),\n",
       "       (datetime.datetime(1951, 1, 1, 0, 0),   336.   ),\n",
       "       (datetime.datetime(1951, 4, 1, 0, 0),   344.09 ),\n",
       "       (datetime.datetime(1951, 7, 1, 0, 0),   351.385),\n",
       "       (datetime.datetime(1951, 10, 1, 0, 0),   356.178),\n",
       "       (datetime.datetime(1952, 1, 1, 0, 0),   359.82 ),\n",
       "       (datetime.datetime(1952, 4, 1, 0, 0),   361.03 ),\n",
       "       (datetime.datetime(1952, 7, 1, 0, 0),   367.701),\n",
       "       (datetime.datetime(1952, 10, 1, 0, 0),   380.812),\n",
       "       (datetime.datetime(1953, 1, 1, 0, 0),   387.98 ),\n",
       "       (datetime.datetime(1953, 4, 1, 0, 0),   391.749),\n",
       "       (datetime.datetime(1953, 7, 1, 0, 0),   391.171),\n",
       "       (datetime.datetime(1953, 10, 1, 0, 0),   385.97 ),\n",
       "       (datetime.datetime(1954, 1, 1, 0, 0),   385.345),\n",
       "       (datetime.datetime(1954, 4, 1, 0, 0),   386.121),\n",
       "       (datetime.datetime(1954, 7, 1, 0, 0),   390.996),\n",
       "       (datetime.datetime(1954, 10, 1, 0, 0),   399.734),\n",
       "       (datetime.datetime(1955, 1, 1, 0, 0),   413.073),\n",
       "       (datetime.datetime(1955, 4, 1, 0, 0),   421.532),\n",
       "       (datetime.datetime(1955, 7, 1, 0, 0),   430.221),\n",
       "       (datetime.datetime(1955, 10, 1, 0, 0),   437.092),\n",
       "       (datetime.datetime(1956, 1, 1, 0, 0),   439.746),\n",
       "       (datetime.datetime(1956, 4, 1, 0, 0),   446.01 ),\n",
       "       (datetime.datetime(1956, 7, 1, 0, 0),   451.191),\n",
       "       (datetime.datetime(1956, 10, 1, 0, 0),   460.463),\n",
       "       (datetime.datetime(1957, 1, 1, 0, 0),   469.779),\n",
       "       (datetime.datetime(1957, 4, 1, 0, 0),   472.025),\n",
       "       (datetime.datetime(1957, 7, 1, 0, 0),   479.49 ),\n",
       "       (datetime.datetime(1957, 10, 1, 0, 0),   474.864),\n",
       "       (datetime.datetime(1958, 1, 1, 0, 0),   467.54 ),\n",
       "       (datetime.datetime(1958, 4, 1, 0, 0),   471.978),\n",
       "       (datetime.datetime(1958, 7, 1, 0, 0),   485.841),\n",
       "       (datetime.datetime(1958, 10, 1, 0, 0),   499.555),\n",
       "       (datetime.datetime(1959, 1, 1, 0, 0),   510.33 ),\n",
       "       (datetime.datetime(1959, 4, 1, 0, 0),   522.653),\n",
       "       (datetime.datetime(1959, 7, 1, 0, 0),   525.034),\n",
       "       (datetime.datetime(1959, 10, 1, 0, 0),   528.6  ),\n",
       "       (datetime.datetime(1960, 1, 1, 0, 0),   542.648),\n",
       "       (datetime.datetime(1960, 4, 1, 0, 0),   541.08 ),\n",
       "       (datetime.datetime(1960, 7, 1, 0, 0),   545.604),\n",
       "       (datetime.datetime(1960, 10, 1, 0, 0),   540.197),\n",
       "       (datetime.datetime(1961, 1, 1, 0, 0),   545.018),\n",
       "       (datetime.datetime(1961, 4, 1, 0, 0),   555.545),\n",
       "       (datetime.datetime(1961, 7, 1, 0, 0),   567.664),\n",
       "       (datetime.datetime(1961, 10, 1, 0, 0),   580.612),\n",
       "       (datetime.datetime(1962, 1, 1, 0, 0),   594.013),\n",
       "       (datetime.datetime(1962, 4, 1, 0, 0),   600.366),\n",
       "       (datetime.datetime(1962, 7, 1, 0, 0),   609.027),\n",
       "       (datetime.datetime(1962, 10, 1, 0, 0),   612.28 ),\n",
       "       (datetime.datetime(1963, 1, 1, 0, 0),   621.672),\n",
       "       (datetime.datetime(1963, 4, 1, 0, 0),   629.752),\n",
       "       (datetime.datetime(1963, 7, 1, 0, 0),   644.444),\n",
       "       (datetime.datetime(1963, 10, 1, 0, 0),   653.938),\n",
       "       (datetime.datetime(1964, 1, 1, 0, 0),   669.822),\n",
       "       (datetime.datetime(1964, 4, 1, 0, 0),   678.674),\n",
       "       (datetime.datetime(1964, 7, 1, 0, 0),   692.031),\n",
       "       (datetime.datetime(1964, 10, 1, 0, 0),   697.319),\n",
       "       (datetime.datetime(1965, 1, 1, 0, 0),   717.79 ),\n",
       "       (datetime.datetime(1965, 4, 1, 0, 0),   730.191),\n",
       "       (datetime.datetime(1965, 7, 1, 0, 0),   749.323),\n",
       "       (datetime.datetime(1965, 10, 1, 0, 0),   771.857),\n",
       "       (datetime.datetime(1966, 1, 1, 0, 0),   795.734),\n",
       "       (datetime.datetime(1966, 4, 1, 0, 0),   804.981),\n",
       "       (datetime.datetime(1966, 7, 1, 0, 0),   819.638),\n",
       "       (datetime.datetime(1966, 10, 1, 0, 0),   833.302),\n",
       "       (datetime.datetime(1967, 1, 1, 0, 0),   844.17 ),\n",
       "       (datetime.datetime(1967, 4, 1, 0, 0),   848.983),\n",
       "       (datetime.datetime(1967, 7, 1, 0, 0),   865.233),\n",
       "       (datetime.datetime(1967, 10, 1, 0, 0),   881.439),\n",
       "       (datetime.datetime(1968, 1, 1, 0, 0),   909.387),\n",
       "       (datetime.datetime(1968, 4, 1, 0, 0),   934.344),\n",
       "       (datetime.datetime(1968, 7, 1, 0, 0),   950.825),\n",
       "       (datetime.datetime(1968, 10, 1, 0, 0),   968.03 ),\n",
       "       (datetime.datetime(1969, 1, 1, 0, 0),   993.337),\n",
       "       (datetime.datetime(1969, 4, 1, 0, 0),  1009.02 ),\n",
       "       (datetime.datetime(1969, 7, 1, 0, 0),  1029.956),\n",
       "       (datetime.datetime(1969, 10, 1, 0, 0),  1038.147),\n",
       "       (datetime.datetime(1970, 1, 1, 0, 0),  1051.2  ),\n",
       "       (datetime.datetime(1970, 4, 1, 0, 0),  1067.375),\n",
       "       (datetime.datetime(1970, 7, 1, 0, 0),  1086.059),\n",
       "       (datetime.datetime(1970, 10, 1, 0, 0),  1088.608),\n",
       "       (datetime.datetime(1971, 1, 1, 0, 0),  1135.156),\n",
       "       (datetime.datetime(1971, 4, 1, 0, 0),  1156.271),\n",
       "       (datetime.datetime(1971, 7, 1, 0, 0),  1177.675),\n",
       "       (datetime.datetime(1971, 10, 1, 0, 0),  1190.297),\n",
       "       (datetime.datetime(1972, 1, 1, 0, 0),  1230.609),\n",
       "       (datetime.datetime(1972, 4, 1, 0, 0),  1266.369),\n",
       "       (datetime.datetime(1972, 7, 1, 0, 0),  1290.566),\n",
       "       (datetime.datetime(1972, 10, 1, 0, 0),  1328.904),\n",
       "       (datetime.datetime(1973, 1, 1, 0, 0),  1377.49 ),\n",
       "       (datetime.datetime(1973, 4, 1, 0, 0),  1413.887),\n",
       "       (datetime.datetime(1973, 7, 1, 0, 0),  1433.838),\n",
       "       (datetime.datetime(1973, 10, 1, 0, 0),  1476.289),\n",
       "       (datetime.datetime(1974, 1, 1, 0, 0),  1491.209),\n",
       "       (datetime.datetime(1974, 4, 1, 0, 0),  1530.056),\n",
       "       (datetime.datetime(1974, 7, 1, 0, 0),  1560.026),\n",
       "       (datetime.datetime(1974, 10, 1, 0, 0),  1599.679),\n",
       "       (datetime.datetime(1975, 1, 1, 0, 0),  1616.116),\n",
       "       (datetime.datetime(1975, 4, 1, 0, 0),  1651.853),\n",
       "       (datetime.datetime(1975, 7, 1, 0, 0),  1709.82 ),\n",
       "       (datetime.datetime(1975, 10, 1, 0, 0),  1761.831),\n",
       "       (datetime.datetime(1976, 1, 1, 0, 0),  1820.487),\n",
       "       (datetime.datetime(1976, 4, 1, 0, 0),  1852.332),\n",
       "       (datetime.datetime(1976, 7, 1, 0, 0),  1886.558),\n",
       "       (datetime.datetime(1976, 10, 1, 0, 0),  1934.273),\n",
       "       (datetime.datetime(1977, 1, 1, 0, 0),  1988.648),\n",
       "       (datetime.datetime(1977, 4, 1, 0, 0),  2055.909),\n",
       "       (datetime.datetime(1977, 7, 1, 0, 0),  2118.473),\n",
       "       (datetime.datetime(1977, 10, 1, 0, 0),  2164.27 ),\n",
       "       (datetime.datetime(1978, 1, 1, 0, 0),  2202.76 ),\n",
       "       (datetime.datetime(1978, 4, 1, 0, 0),  2331.633),\n",
       "       (datetime.datetime(1978, 7, 1, 0, 0),  2395.053),\n",
       "       (datetime.datetime(1978, 10, 1, 0, 0),  2476.949),\n",
       "       (datetime.datetime(1979, 1, 1, 0, 0),  2526.61 ),\n",
       "       (datetime.datetime(1979, 4, 1, 0, 0),  2591.247),\n",
       "       (datetime.datetime(1979, 7, 1, 0, 0),  2667.565),\n",
       "       (datetime.datetime(1979, 10, 1, 0, 0),  2723.883),\n",
       "       (datetime.datetime(1980, 1, 1, 0, 0),  2789.842),\n",
       "       (datetime.datetime(1980, 4, 1, 0, 0),  2797.352),\n",
       "       (datetime.datetime(1980, 7, 1, 0, 0),  2856.483),\n",
       "       (datetime.datetime(1980, 10, 1, 0, 0),  2985.557),\n",
       "       (datetime.datetime(1981, 1, 1, 0, 0),  3124.206),\n",
       "       (datetime.datetime(1981, 4, 1, 0, 0),  3162.532),\n",
       "       (datetime.datetime(1981, 7, 1, 0, 0),  3260.609),\n",
       "       (datetime.datetime(1981, 10, 1, 0, 0),  3280.818),\n",
       "       (datetime.datetime(1982, 1, 1, 0, 0),  3274.302),\n",
       "       (datetime.datetime(1982, 4, 1, 0, 0),  3331.972),\n",
       "       (datetime.datetime(1982, 7, 1, 0, 0),  3366.322),\n",
       "       (datetime.datetime(1982, 10, 1, 0, 0),  3402.561),\n",
       "       (datetime.datetime(1983, 1, 1, 0, 0),  3473.413),\n",
       "       (datetime.datetime(1983, 4, 1, 0, 0),  3578.848),\n",
       "       (datetime.datetime(1983, 7, 1, 0, 0),  3689.179),\n",
       "       (datetime.datetime(1983, 10, 1, 0, 0),  3794.706),\n",
       "       (datetime.datetime(1984, 1, 1, 0, 0),  3908.054),\n",
       "       (datetime.datetime(1984, 4, 1, 0, 0),  4009.601),\n",
       "       (datetime.datetime(1984, 7, 1, 0, 0),  4084.25 ),\n",
       "       (datetime.datetime(1984, 10, 1, 0, 0),  4148.551),\n",
       "       (datetime.datetime(1985, 1, 1, 0, 0),  4230.168),\n",
       "       (datetime.datetime(1985, 4, 1, 0, 0),  4294.887),\n",
       "       (datetime.datetime(1985, 7, 1, 0, 0),  4386.773),\n",
       "       (datetime.datetime(1985, 10, 1, 0, 0),  4444.094),\n",
       "       (datetime.datetime(1986, 1, 1, 0, 0),  4507.894),\n",
       "       (datetime.datetime(1986, 4, 1, 0, 0),  4545.34 ),\n",
       "       (datetime.datetime(1986, 7, 1, 0, 0),  4607.669),\n",
       "       (datetime.datetime(1986, 10, 1, 0, 0),  4657.627),\n",
       "       (datetime.datetime(1987, 1, 1, 0, 0),  4722.156),\n",
       "       (datetime.datetime(1987, 4, 1, 0, 0),  4806.16 ),\n",
       "       (datetime.datetime(1987, 7, 1, 0, 0),  4884.555),\n",
       "       (datetime.datetime(1987, 10, 1, 0, 0),  5007.994),\n",
       "       (datetime.datetime(1988, 1, 1, 0, 0),  5073.372),\n",
       "       (datetime.datetime(1988, 4, 1, 0, 0),  5190.036),\n",
       "       (datetime.datetime(1988, 7, 1, 0, 0),  5282.835),\n",
       "       (datetime.datetime(1988, 10, 1, 0, 0),  5399.509),\n",
       "       (datetime.datetime(1989, 1, 1, 0, 0),  5511.253),\n",
       "       (datetime.datetime(1989, 4, 1, 0, 0),  5612.463),\n",
       "       (datetime.datetime(1989, 7, 1, 0, 0),  5695.365),\n",
       "       (datetime.datetime(1989, 10, 1, 0, 0),  5747.237),\n",
       "       (datetime.datetime(1990, 1, 1, 0, 0),  5872.701),\n",
       "       (datetime.datetime(1990, 4, 1, 0, 0),  5960.028),\n",
       "       (datetime.datetime(1990, 7, 1, 0, 0),  6015.116),\n",
       "       (datetime.datetime(1990, 10, 1, 0, 0),  6004.733),\n",
       "       (datetime.datetime(1991, 1, 1, 0, 0),  6035.178),\n",
       "       (datetime.datetime(1991, 4, 1, 0, 0),  6126.862),\n",
       "       (datetime.datetime(1991, 7, 1, 0, 0),  6205.937),\n",
       "       (datetime.datetime(1991, 10, 1, 0, 0),  6264.54 ),\n",
       "       (datetime.datetime(1992, 1, 1, 0, 0),  6363.102),\n",
       "       (datetime.datetime(1992, 4, 1, 0, 0),  6470.763),\n",
       "       (datetime.datetime(1992, 7, 1, 0, 0),  6566.641),\n",
       "       (datetime.datetime(1992, 10, 1, 0, 0),  6680.803),\n",
       "       (datetime.datetime(1993, 1, 1, 0, 0),  6729.459),\n",
       "       (datetime.datetime(1993, 4, 1, 0, 0),  6808.939),\n",
       "       (datetime.datetime(1993, 7, 1, 0, 0),  6882.098),\n",
       "       (datetime.datetime(1993, 10, 1, 0, 0),  7013.738),\n",
       "       (datetime.datetime(1994, 1, 1, 0, 0),  7115.652),\n",
       "       (datetime.datetime(1994, 4, 1, 0, 0),  7246.931),\n",
       "       (datetime.datetime(1994, 7, 1, 0, 0),  7331.075),\n",
       "       (datetime.datetime(1994, 10, 1, 0, 0),  7455.288),\n",
       "       (datetime.datetime(1995, 1, 1, 0, 0),  7522.289),\n",
       "       (datetime.datetime(1995, 4, 1, 0, 0),  7580.997),\n",
       "       (datetime.datetime(1995, 7, 1, 0, 0),  7683.125),\n",
       "       (datetime.datetime(1995, 10, 1, 0, 0),  7772.586),\n",
       "       (datetime.datetime(1996, 1, 1, 0, 0),  7868.468),\n",
       "       (datetime.datetime(1996, 4, 1, 0, 0),  8032.84 ),\n",
       "       (datetime.datetime(1996, 7, 1, 0, 0),  8131.408),\n",
       "       (datetime.datetime(1996, 10, 1, 0, 0),  8259.771),\n",
       "       (datetime.datetime(1997, 1, 1, 0, 0),  8362.655),\n",
       "       (datetime.datetime(1997, 4, 1, 0, 0),  8518.825),\n",
       "       (datetime.datetime(1997, 7, 1, 0, 0),  8662.823),\n",
       "       (datetime.datetime(1997, 10, 1, 0, 0),  8765.907),\n",
       "       (datetime.datetime(1998, 1, 1, 0, 0),  8866.48 ),\n",
       "       (datetime.datetime(1998, 4, 1, 0, 0),  8969.699),\n",
       "       (datetime.datetime(1998, 7, 1, 0, 0),  9121.097),\n",
       "       (datetime.datetime(1998, 10, 1, 0, 0),  9293.991),\n",
       "       (datetime.datetime(1999, 1, 1, 0, 0),  9417.264),\n",
       "       (datetime.datetime(1999, 4, 1, 0, 0),  9524.152),\n",
       "       (datetime.datetime(1999, 7, 1, 0, 0),  9681.856),\n",
       "       (datetime.datetime(1999, 10, 1, 0, 0),  9899.378),\n",
       "       (datetime.datetime(2000, 1, 1, 0, 0), 10002.857),\n",
       "       (datetime.datetime(2000, 4, 1, 0, 0), 10247.679),\n",
       "       (datetime.datetime(2000, 7, 1, 0, 0), 10319.825),\n",
       "       (datetime.datetime(2000, 10, 1, 0, 0), 10439.025),\n",
       "       (datetime.datetime(2001, 1, 1, 0, 0), 10472.879),\n",
       "       (datetime.datetime(2001, 4, 1, 0, 0), 10597.822),\n",
       "       (datetime.datetime(2001, 7, 1, 0, 0), 10596.294),\n",
       "       (datetime.datetime(2001, 10, 1, 0, 0), 10660.294),\n",
       "       (datetime.datetime(2002, 1, 1, 0, 0), 10788.952),\n",
       "       (datetime.datetime(2002, 4, 1, 0, 0), 10893.207),\n",
       "       (datetime.datetime(2002, 7, 1, 0, 0), 10992.051),\n",
       "       (datetime.datetime(2002, 10, 1, 0, 0), 11071.463),\n",
       "       (datetime.datetime(2003, 1, 1, 0, 0), 11183.507),\n",
       "       (datetime.datetime(2003, 4, 1, 0, 0), 11312.875),\n",
       "       (datetime.datetime(2003, 7, 1, 0, 0), 11567.326),\n",
       "       (datetime.datetime(2003, 10, 1, 0, 0), 11769.275),\n",
       "       (datetime.datetime(2004, 1, 1, 0, 0), 11920.169),\n",
       "       (datetime.datetime(2004, 4, 1, 0, 0), 12108.987),\n",
       "       (datetime.datetime(2004, 7, 1, 0, 0), 12303.34 ),\n",
       "       (datetime.datetime(2004, 10, 1, 0, 0), 12522.425),\n",
       "       (datetime.datetime(2005, 1, 1, 0, 0), 12761.337),\n",
       "       (datetime.datetime(2005, 4, 1, 0, 0), 12910.022),\n",
       "       (datetime.datetime(2005, 7, 1, 0, 0), 13142.873),\n",
       "       (datetime.datetime(2005, 10, 1, 0, 0), 13332.316),\n",
       "       (datetime.datetime(2006, 1, 1, 0, 0), 13603.933),\n",
       "       (datetime.datetime(2006, 4, 1, 0, 0), 13749.806),\n",
       "       (datetime.datetime(2006, 7, 1, 0, 0), 13867.469),\n",
       "       (datetime.datetime(2006, 10, 1, 0, 0), 14037.228),\n",
       "       (datetime.datetime(2007, 1, 1, 0, 0), 14208.569),\n",
       "       (datetime.datetime(2007, 4, 1, 0, 0), 14382.363),\n",
       "       (datetime.datetime(2007, 7, 1, 0, 0), 14535.003),\n",
       "       (datetime.datetime(2007, 10, 1, 0, 0), 14681.501),\n",
       "       (datetime.datetime(2008, 1, 1, 0, 0), 14651.039),\n",
       "       (datetime.datetime(2008, 4, 1, 0, 0), 14805.611),\n",
       "       (datetime.datetime(2008, 7, 1, 0, 0), 14835.187),\n",
       "       (datetime.datetime(2008, 10, 1, 0, 0), 14559.543),\n",
       "       (datetime.datetime(2009, 1, 1, 0, 0), 14394.547),\n",
       "       (datetime.datetime(2009, 4, 1, 0, 0), 14352.85 ),\n",
       "       (datetime.datetime(2009, 7, 1, 0, 0), 14420.312),\n",
       "       (datetime.datetime(2009, 10, 1, 0, 0), 14628.021),\n",
       "       (datetime.datetime(2010, 1, 1, 0, 0), 14721.35 ),\n",
       "       (datetime.datetime(2010, 4, 1, 0, 0), 14926.098),\n",
       "       (datetime.datetime(2010, 7, 1, 0, 0), 15079.917),\n",
       "       (datetime.datetime(2010, 10, 1, 0, 0), 15240.843),\n",
       "       (datetime.datetime(2011, 1, 1, 0, 0), 15285.828),\n",
       "       (datetime.datetime(2011, 4, 1, 0, 0), 15496.189),\n",
       "       (datetime.datetime(2011, 7, 1, 0, 0), 15591.85 ),\n",
       "       (datetime.datetime(2011, 10, 1, 0, 0), 15796.46 ),\n",
       "       (datetime.datetime(2012, 1, 1, 0, 0), 16019.758),\n",
       "       (datetime.datetime(2012, 4, 1, 0, 0), 16152.257),\n",
       "       (datetime.datetime(2012, 7, 1, 0, 0), 16257.151),\n",
       "       (datetime.datetime(2012, 10, 1, 0, 0), 16358.863),\n",
       "       (datetime.datetime(2013, 1, 1, 0, 0), 16569.591),\n",
       "       (datetime.datetime(2013, 4, 1, 0, 0), 16637.926),\n",
       "       (datetime.datetime(2013, 7, 1, 0, 0), 16848.748),\n",
       "       (datetime.datetime(2013, 10, 1, 0, 0), 17083.137),\n",
       "       (datetime.datetime(2014, 1, 1, 0, 0), 17104.555),\n",
       "       (datetime.datetime(2014, 4, 1, 0, 0), 17432.909),\n",
       "       (datetime.datetime(2014, 7, 1, 0, 0), 17721.657),\n",
       "       (datetime.datetime(2014, 10, 1, 0, 0), 17849.912),\n",
       "       (datetime.datetime(2015, 1, 1, 0, 0), 17984.178),\n",
       "       (datetime.datetime(2015, 4, 1, 0, 0), 18219.405),\n",
       "       (datetime.datetime(2015, 7, 1, 0, 0), 18344.713),\n",
       "       (datetime.datetime(2015, 10, 1, 0, 0), 18350.825),\n",
       "       (datetime.datetime(2016, 1, 1, 0, 0), 18424.283),\n",
       "       (datetime.datetime(2016, 4, 1, 0, 0), 18637.253),\n",
       "       (datetime.datetime(2016, 7, 1, 0, 0), 18806.743),\n",
       "       (datetime.datetime(2016, 10, 1, 0, 0), 18991.883),\n",
       "       (datetime.datetime(2017, 1, 1, 0, 0), 19190.431),\n",
       "       (datetime.datetime(2017, 4, 1, 0, 0), 19356.649),\n",
       "       (datetime.datetime(2017, 7, 1, 0, 0), 19611.704),\n",
       "       (datetime.datetime(2017, 10, 1, 0, 0), 19918.91 ),\n",
       "       (datetime.datetime(2018, 1, 1, 0, 0), 20163.159),\n",
       "       (datetime.datetime(2018, 4, 1, 0, 0), 20510.177),\n",
       "       (datetime.datetime(2018, 7, 1, 0, 0), 20749.752),\n",
       "       (datetime.datetime(2018, 10, 1, 0, 0), 20897.804),\n",
       "       (datetime.datetime(2019, 1, 1, 0, 0), 21098.827),\n",
       "       (datetime.datetime(2019, 4, 1, 0, 0), 21340.267),\n",
       "       (datetime.datetime(2019, 7, 1, 0, 0), 21542.54 )],\n",
       "      dtype=[('date', 'O'), ('gdp', '<f8')])"
      ]
     },
     "execution_count": 38,
     "metadata": {},
     "output_type": "execute_result"
    }
   ],
   "source": [
    "data"
   ]
  },
  {
   "cell_type": "code",
   "execution_count": 39,
   "id": "configured-organ",
   "metadata": {},
   "outputs": [
    {
     "data": {
      "text/plain": [
       "[<matplotlib.lines.Line2D at 0x7f84d88631d0>]"
      ]
     },
     "execution_count": 39,
     "metadata": {},
     "output_type": "execute_result"
    },
    {
     "data": {
      "image/png": "[encoded data removed]",
      "text/plain": [
       "<Figure size 432x288 with 1 Axes>"
      ]
     },
     "metadata": {
      "needs_background": "light"
     },
     "output_type": "display_data"
    }
   ],
   "source": [
    "plt.plot(data['date'], data['gdp'])"
   ]
  },
  {
   "cell_type": "code",
   "execution_count": null,
   "id": "spiritual-handy",
   "metadata": {},
   "outputs": [],
   "source": []
  }
 ],
 "metadata": {
  "kernelspec": {
   "display_name": "Python 3",
   "language": "python",
   "name": "python3"
  },
  "language_info": {
   "codemirror_mode": {
    "name": "ipython",
    "version": 3
   },
   "file_extension": ".py",
   "mimetype": "text/x-python",
   "name": "python",
   "nbconvert_exporter": "python",
   "pygments_lexer": "ipython3",
   "version": "3.7.9"
  }
 },
 "nbformat": 4,
 "nbformat_minor": 5
}
