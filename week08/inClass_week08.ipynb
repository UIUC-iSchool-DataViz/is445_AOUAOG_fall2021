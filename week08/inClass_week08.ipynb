{
 "cells": [
  {
   "cell_type": "markdown",
   "id": "respective-store",
   "metadata": {},
   "source": [
    "# In Class Notebook, Week 08"
   ]
  },
  {
   "cell_type": "markdown",
   "id": "2a597611",
   "metadata": {},
   "source": [
    "You can always paste the URL of this notebook (https://github.com/UIUC-iSchool-DataViz/is445_AOUAOG_fall2021/blob/master/week08/inClass_week08.ipynb ) into the nbviewer interface for a plain-text rendering:\n",
    "\n",
    "https://kokes.github.io/nbviewer.js/viewer.html"
   ]
  },
  {
   "cell_type": "markdown",
   "id": "84a393ed",
   "metadata": {},
   "source": [
    "First, import our usual things:"
   ]
  },
  {
   "cell_type": "code",
   "execution_count": 1,
   "id": "ff35584d",
   "metadata": {},
   "outputs": [],
   "source": [
    "import matplotlib.pyplot as plt\n",
    "import numpy as np\n",
    "import bqplot\n",
    "import pandas as pd\n",
    "# new one:\n",
    "import geopandas"
   ]
  },
  {
   "cell_type": "markdown",
   "id": "bd9cb657",
   "metadata": {},
   "source": [
    "## Quick look at bqplot maps"
   ]
  },
  {
   "cell_type": "code",
   "execution_count": 2,
   "id": "53431620",
   "metadata": {},
   "outputs": [],
   "source": [
    "bqplot.Map?"
   ]
  },
  {
   "cell_type": "code",
   "execution_count": 4,
   "id": "058535fd",
   "metadata": {},
   "outputs": [
    {
     "data": {
      "application/vnd.jupyter.widget-view+json": {
       "model_id": "06cedba586964bb6a2f3b5c893a97c6c",
       "version_major": 2,
       "version_minor": 0
      },
      "text/plain": [
       "Figure(fig_margin={'top': 0, 'bottom': 0, 'left': 0, 'right': 0}, marks=[Map(hovered_styles={'hovered_fill': '…"
      ]
     },
     "metadata": {},
     "output_type": "display_data"
    }
   ],
   "source": [
    "# 1. data (data & axis are meshed together)\n",
    "shape_data = bqplot.topo_load('map_data/WorldMap.json')\n",
    "\n",
    "# 2. scales -- projection\n",
    "sc_geo = bqplot.Mercator() # we already know this is not a great projection!\n",
    "\n",
    "# 3. Marks\n",
    "shape_map = bqplot.Map(map_data=shape_data, scales={'projection':sc_geo})\n",
    "\n",
    "# no interactions!\n",
    "\n",
    "# put it all together\n",
    "fig = bqplot.Figure(marks=[shape_map], fig_margin={'top':0, 'bottom':0, 'left':0, 'right':0})\n",
    "fig"
   ]
  },
  {
   "cell_type": "code",
   "execution_count": 5,
   "id": "0ccba198",
   "metadata": {},
   "outputs": [
    {
     "data": {
      "application/vnd.jupyter.widget-view+json": {
       "model_id": "9688c00c410e491f91745312b9e227a3",
       "version_major": 2,
       "version_minor": 0
      },
      "text/plain": [
       "Figure(fig_margin={'top': 0, 'bottom': 0, 'left': 0, 'right': 0}, marks=[Map(hovered_styles={'hovered_fill': '…"
      ]
     },
     "metadata": {},
     "output_type": "display_data"
    }
   ],
   "source": [
    "# 1. data (data & axis are meshed together)\n",
    "shape_data = bqplot.topo_load('map_data/WorldMap.json')\n",
    "\n",
    "# 2. scales -- projection\n",
    "sc_geo = bqplot.Gnomonic() # we already know this is not a great projection!\n",
    "\n",
    "# 3. Marks\n",
    "shape_map = bqplot.Map(map_data=shape_data, scales={'projection':sc_geo})\n",
    "\n",
    "# no interactions!\n",
    "\n",
    "# put it all together\n",
    "fig = bqplot.Figure(marks=[shape_map], fig_margin={'top':0, 'bottom':0, 'left':0, 'right':0})\n",
    "fig"
   ]
  },
  {
   "cell_type": "markdown",
   "id": "2f23a925",
   "metadata": {},
   "source": [
    "Above were world maps, we can also zoom into the US:"
   ]
  },
  {
   "cell_type": "code",
   "execution_count": 7,
   "id": "1f409fcf",
   "metadata": {},
   "outputs": [
    {
     "data": {
      "application/vnd.jupyter.widget-view+json": {
       "model_id": "4eca4605e1b24ebc9203bcea395ff10f",
       "version_major": 2,
       "version_minor": 0
      },
      "text/plain": [
       "Figure(fig_margin={'top': 0, 'bottom': 0, 'left': 0, 'right': 0}, marks=[Map(hovered_styles={'hovered_fill': '…"
      ]
     },
     "metadata": {},
     "output_type": "display_data"
    }
   ],
   "source": [
    "# 1. data (data & axis are meshed together)\n",
    "shape_data = bqplot.topo_load('map_data/USStatesMap.json')\n",
    "\n",
    "# 2. scales -- projection\n",
    "sc_geo = bqplot.AlbersUSA() # we already know this is not a great projection!\n",
    "\n",
    "# 3. Marks\n",
    "shape_map = bqplot.Map(map_data=shape_data, scales={'projection':sc_geo})\n",
    "\n",
    "# no interactions!\n",
    "\n",
    "# put it all together\n",
    "fig = bqplot.Figure(marks=[shape_map], fig_margin={'top':0, 'bottom':0, 'left':0, 'right':0})\n",
    "fig"
   ]
  },
  {
   "cell_type": "markdown",
   "id": "0cf2938d",
   "metadata": {},
   "source": [
    "There is some interactivity available in bqplot:"
   ]
  },
  {
   "cell_type": "code",
   "execution_count": 9,
   "id": "cc5e7cf4",
   "metadata": {},
   "outputs": [
    {
     "data": {
      "application/vnd.jupyter.widget-view+json": {
       "model_id": "81e6cd8ea967486f86fb182174818ff2",
       "version_major": 2,
       "version_minor": 0
      },
      "text/plain": [
       "Figure(fig_margin={'top': 0, 'bottom': 0, 'left': 0, 'right': 0}, marks=[Map(hovered_styles={'hovered_fill': '…"
      ]
     },
     "metadata": {},
     "output_type": "display_data"
    }
   ],
   "source": [
    "# 1. data (data & axis are meshed together)\n",
    "shape_data = bqplot.topo_load('map_data/USStatesMap.json')\n",
    "\n",
    "# 2. scales -- projection\n",
    "sc_geo = bqplot.AlbersUSA() # we already know this is not a great projection!\n",
    "\n",
    "# 3. Marks\n",
    "tt = bqplot.Tooltip(fields=['id','name'])\n",
    "shape_map = bqplot.Map(map_data=shape_data, scales={'projection':sc_geo}, tooltip=tt)\n",
    "\n",
    "# Add in tooltip\n",
    "shape_map.interactions = {'click':'select', 'hover':'tooltip'}\n",
    "\n",
    "# put it all together\n",
    "fig = bqplot.Figure(marks=[shape_map], fig_margin={'top':0, 'bottom':0, 'left':0, 'right':0})\n",
    "fig"
   ]
  },
  {
   "cell_type": "code",
   "execution_count": 10,
   "id": "64ef0b3c",
   "metadata": {},
   "outputs": [
    {
     "name": "stdout",
     "output_type": "stream",
     "text": [
      "EuropeMap.json     USCountiesMap.json USStatesMap.json   WorldMap.json\r\n"
     ]
    }
   ],
   "source": [
    "# this command on Windows would be dir not ls\n",
    "# also, probably in a different location\n",
    "!ls /Users/jillnaiman/opt/anaconda3/pkgs/bqplot-0.12.2-py_0/site-packages/bqplot/map_data"
   ]
  },
  {
   "cell_type": "markdown",
   "id": "d018b9be",
   "metadata": {},
   "source": [
    "## Focus on Geopandas"
   ]
  },
  {
   "cell_type": "code",
   "execution_count": 11,
   "id": "f0b31907",
   "metadata": {},
   "outputs": [
    {
     "data": {
      "text/plain": [
       "['naturalearth_cities', 'naturalearth_lowres', 'nybb']"
      ]
     },
     "execution_count": 11,
     "metadata": {},
     "output_type": "execute_result"
    }
   ],
   "source": [
    "geopandas.datasets.available"
   ]
  },
  {
   "cell_type": "code",
   "execution_count": 14,
   "id": "d67f1b1e",
   "metadata": {},
   "outputs": [
    {
     "data": {
      "text/plain": [
       "<matplotlib.axes._subplots.AxesSubplot at 0x7f9ff02fb150>"
      ]
     },
     "execution_count": 14,
     "metadata": {},
     "output_type": "execute_result"
    },
    {
     "data": {
      "image/png": "[encoded data removed]",
      "text/plain": [
       "<Figure size 576x576 with 1 Axes>"
      ]
     },
     "metadata": {
      "needs_background": "light"
     },
     "output_type": "display_data"
    }
   ],
   "source": [
    "df = geopandas.read_file(geopandas.datasets.get_path('nybb'))\n",
    "df.plot(figsize=(8,8), edgecolor='k')"
   ]
  },
  {
   "cell_type": "code",
   "execution_count": 15,
   "id": "29f2337e",
   "metadata": {},
   "outputs": [],
   "source": [
    "gdf_councils = geopandas.read_file('https://opendata.arcgis.com/datasets/1f75636917604299861fb408bbf79378_1.geojson')"
   ]
  },
  {
   "cell_type": "code",
   "execution_count": 16,
   "id": "cb344e32",
   "metadata": {},
   "outputs": [
    {
     "data": {
      "text/html": [
       "<div>\n",
       "<style scoped>\n",
       "    .dataframe tbody tr th:only-of-type {\n",
       "        vertical-align: middle;\n",
       "    }\n",
       "\n",
       "    .dataframe tbody tr th {\n",
       "        vertical-align: top;\n",
       "    }\n",
       "\n",
       "    .dataframe thead th {\n",
       "        text-align: right;\n",
       "    }\n",
       "</style>\n",
       "<table border=\"1\" class=\"dataframe\">\n",
       "  <thead>\n",
       "    <tr style=\"text-align: right;\">\n",
       "      <th></th>\n",
       "      <th>OBJECTID_1</th>\n",
       "      <th>District</th>\n",
       "      <th>Council_me</th>\n",
       "      <th>ShapeSTArea</th>\n",
       "      <th>ShapeSTLength</th>\n",
       "      <th>geometry</th>\n",
       "    </tr>\n",
       "  </thead>\n",
       "  <tbody>\n",
       "    <tr>\n",
       "      <th>0</th>\n",
       "      <td>811</td>\n",
       "      <td>5</td>\n",
       "      <td>Vanna Pianfetti</td>\n",
       "      <td>1.827758e+08</td>\n",
       "      <td>209845.933925</td>\n",
       "      <td>POLYGON ((-88.31441 40.11699, -88.31454 40.116...</td>\n",
       "    </tr>\n",
       "    <tr>\n",
       "      <th>1</th>\n",
       "      <td>812</td>\n",
       "      <td>3</td>\n",
       "      <td>Daniel Iniguez</td>\n",
       "      <td>2.007085e+08</td>\n",
       "      <td>145404.494177</td>\n",
       "      <td>POLYGON ((-88.27716 40.16364, -88.27732 40.163...</td>\n",
       "    </tr>\n",
       "    <tr>\n",
       "      <th>2</th>\n",
       "      <td>813</td>\n",
       "      <td>1</td>\n",
       "      <td>Davion Williams</td>\n",
       "      <td>1.078965e+08</td>\n",
       "      <td>83420.727939</td>\n",
       "      <td>POLYGON ((-88.22283 40.16000, -88.22283 40.160...</td>\n",
       "    </tr>\n",
       "    <tr>\n",
       "      <th>3</th>\n",
       "      <td>814</td>\n",
       "      <td>4</td>\n",
       "      <td>Michael Foellmer</td>\n",
       "      <td>1.049800e+08</td>\n",
       "      <td>77363.320814</td>\n",
       "      <td>POLYGON ((-88.26890 40.12733, -88.27076 40.127...</td>\n",
       "    </tr>\n",
       "    <tr>\n",
       "      <th>4</th>\n",
       "      <td>815</td>\n",
       "      <td>2</td>\n",
       "      <td>Alicia Beck</td>\n",
       "      <td>5.164512e+07</td>\n",
       "      <td>62243.277115</td>\n",
       "      <td>POLYGON ((-88.23537 40.10798, -88.23537 40.107...</td>\n",
       "    </tr>\n",
       "  </tbody>\n",
       "</table>\n",
       "</div>"
      ],
      "text/plain": [
       "   OBJECTID_1 District        Council_me   ShapeSTArea  ShapeSTLength  \\\n",
       "0         811        5   Vanna Pianfetti  1.827758e+08  209845.933925   \n",
       "1         812        3    Daniel Iniguez  2.007085e+08  145404.494177   \n",
       "2         813        1   Davion Williams  1.078965e+08   83420.727939   \n",
       "3         814        4  Michael Foellmer  1.049800e+08   77363.320814   \n",
       "4         815        2       Alicia Beck  5.164512e+07   62243.277115   \n",
       "\n",
       "                                            geometry  \n",
       "0  POLYGON ((-88.31441 40.11699, -88.31454 40.116...  \n",
       "1  POLYGON ((-88.27716 40.16364, -88.27732 40.163...  \n",
       "2  POLYGON ((-88.22283 40.16000, -88.22283 40.160...  \n",
       "3  POLYGON ((-88.26890 40.12733, -88.27076 40.127...  \n",
       "4  POLYGON ((-88.23537 40.10798, -88.23537 40.107...  "
      ]
     },
     "execution_count": 16,
     "metadata": {},
     "output_type": "execute_result"
    }
   ],
   "source": [
    "gdf_councils"
   ]
  },
  {
   "cell_type": "code",
   "execution_count": 17,
   "id": "7598d6d6",
   "metadata": {},
   "outputs": [
    {
     "data": {
      "text/html": [
       "<div>\n",
       "<style scoped>\n",
       "    .dataframe tbody tr th:only-of-type {\n",
       "        vertical-align: middle;\n",
       "    }\n",
       "\n",
       "    .dataframe tbody tr th {\n",
       "        vertical-align: top;\n",
       "    }\n",
       "\n",
       "    .dataframe thead th {\n",
       "        text-align: right;\n",
       "    }\n",
       "</style>\n",
       "<table border=\"1\" class=\"dataframe\">\n",
       "  <thead>\n",
       "    <tr style=\"text-align: right;\">\n",
       "      <th></th>\n",
       "      <th>OBJECTID_1</th>\n",
       "      <th>ShapeSTArea</th>\n",
       "      <th>ShapeSTLength</th>\n",
       "    </tr>\n",
       "  </thead>\n",
       "  <tbody>\n",
       "    <tr>\n",
       "      <th>count</th>\n",
       "      <td>5.000000</td>\n",
       "      <td>5.000000e+00</td>\n",
       "      <td>5.000000</td>\n",
       "    </tr>\n",
       "    <tr>\n",
       "      <th>mean</th>\n",
       "      <td>813.000000</td>\n",
       "      <td>1.296012e+08</td>\n",
       "      <td>115655.550794</td>\n",
       "    </tr>\n",
       "    <tr>\n",
       "      <th>std</th>\n",
       "      <td>1.581139</td>\n",
       "      <td>6.131525e+07</td>\n",
       "      <td>61471.695860</td>\n",
       "    </tr>\n",
       "    <tr>\n",
       "      <th>min</th>\n",
       "      <td>811.000000</td>\n",
       "      <td>5.164512e+07</td>\n",
       "      <td>62243.277115</td>\n",
       "    </tr>\n",
       "    <tr>\n",
       "      <th>25%</th>\n",
       "      <td>812.000000</td>\n",
       "      <td>1.049800e+08</td>\n",
       "      <td>77363.320814</td>\n",
       "    </tr>\n",
       "    <tr>\n",
       "      <th>50%</th>\n",
       "      <td>813.000000</td>\n",
       "      <td>1.078965e+08</td>\n",
       "      <td>83420.727939</td>\n",
       "    </tr>\n",
       "    <tr>\n",
       "      <th>75%</th>\n",
       "      <td>814.000000</td>\n",
       "      <td>1.827758e+08</td>\n",
       "      <td>145404.494177</td>\n",
       "    </tr>\n",
       "    <tr>\n",
       "      <th>max</th>\n",
       "      <td>815.000000</td>\n",
       "      <td>2.007085e+08</td>\n",
       "      <td>209845.933925</td>\n",
       "    </tr>\n",
       "  </tbody>\n",
       "</table>\n",
       "</div>"
      ],
      "text/plain": [
       "       OBJECTID_1   ShapeSTArea  ShapeSTLength\n",
       "count    5.000000  5.000000e+00       5.000000\n",
       "mean   813.000000  1.296012e+08  115655.550794\n",
       "std      1.581139  6.131525e+07   61471.695860\n",
       "min    811.000000  5.164512e+07   62243.277115\n",
       "25%    812.000000  1.049800e+08   77363.320814\n",
       "50%    813.000000  1.078965e+08   83420.727939\n",
       "75%    814.000000  1.827758e+08  145404.494177\n",
       "max    815.000000  2.007085e+08  209845.933925"
      ]
     },
     "execution_count": 17,
     "metadata": {},
     "output_type": "execute_result"
    }
   ],
   "source": [
    "gdf_councils.describe()"
   ]
  },
  {
   "cell_type": "code",
   "execution_count": 18,
   "id": "524f0d5d",
   "metadata": {},
   "outputs": [
    {
     "data": {
      "text/plain": [
       "<matplotlib.axes._subplots.AxesSubplot at 0x7f9ff06a5b50>"
      ]
     },
     "execution_count": 18,
     "metadata": {},
     "output_type": "execute_result"
    },
    {
     "data": {
      "image/png": "[encoded data removed]",
      "text/plain": [
       "<Figure size 432x288 with 1 Axes>"
      ]
     },
     "metadata": {
      "needs_background": "light"
     },
     "output_type": "display_data"
    }
   ],
   "source": [
    "gdf_councils.plot()"
   ]
  },
  {
   "cell_type": "code",
   "execution_count": null,
   "id": "be82787e",
   "metadata": {},
   "outputs": [],
   "source": []
  }
 ],
 "metadata": {
  "kernelspec": {
   "display_name": "Python 3 (ipykernel)",
   "language": "python",
   "name": "python3"
  },
  "language_info": {
   "codemirror_mode": {
    "name": "ipython",
    "version": 3
   },
   "file_extension": ".py",
   "mimetype": "text/x-python",
   "name": "python",
   "nbconvert_exporter": "python",
   "pygments_lexer": "ipython3",
   "version": "3.7.10"
  }
 },
 "nbformat": 4,
 "nbformat_minor": 5
}
