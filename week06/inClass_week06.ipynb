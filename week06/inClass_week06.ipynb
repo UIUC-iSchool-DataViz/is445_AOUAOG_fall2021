{
 "cells": [
  {
   "cell_type": "markdown",
   "id": "respective-store",
   "metadata": {},
   "source": [
    "# In Class Notebook, Week 06"
   ]
  },
  {
   "cell_type": "markdown",
   "id": "2a597611",
   "metadata": {},
   "source": [
    "You can always paste the URL of this notebook (https://github.com/UIUC-iSchool-DataViz/is445_AOUAOG_fall2021/blob/master/week06/inClass_week06.ipynb ) into the nbviewer interface for a plain-text rendering:\n",
    "\n",
    "https://kokes.github.io/nbviewer.js/viewer.html"
   ]
  },
  {
   "cell_type": "code",
   "execution_count": 1,
   "id": "94323f19",
   "metadata": {},
   "outputs": [],
   "source": [
    "# importing our usual things:\n",
    "import numpy as np\n",
    "import ipywidgets\n",
    "import bqplot # new thing!"
   ]
  },
  {
   "cell_type": "code",
   "execution_count": 2,
   "id": "e5ae92cf",
   "metadata": {},
   "outputs": [],
   "source": [
    "# 1. Data\n",
    "x = np.arange(100)"
   ]
  },
  {
   "cell_type": "code",
   "execution_count": 6,
   "id": "4ba49591",
   "metadata": {},
   "outputs": [],
   "source": [
    "#x"
   ]
  },
  {
   "cell_type": "code",
   "execution_count": 4,
   "id": "8527f7cd",
   "metadata": {},
   "outputs": [],
   "source": [
    "y = np.random.random(100) # random numbers your's might be different!"
   ]
  },
  {
   "cell_type": "code",
   "execution_count": 7,
   "id": "d10157dc",
   "metadata": {},
   "outputs": [],
   "source": [
    "#y"
   ]
  },
  {
   "cell_type": "code",
   "execution_count": 8,
   "id": "a509daa9",
   "metadata": {},
   "outputs": [],
   "source": [
    "# 2. Scales -- how will data translate to Marks\n",
    "bqplot.LinearScale?"
   ]
  },
  {
   "cell_type": "code",
   "execution_count": 9,
   "id": "1afc062a",
   "metadata": {},
   "outputs": [],
   "source": [
    "x_sc = bqplot.LinearScale()\n",
    "y_sc = bqplot.LinearScale()"
   ]
  },
  {
   "cell_type": "code",
   "execution_count": 10,
   "id": "44b37b21",
   "metadata": {},
   "outputs": [
    {
     "data": {
      "text/plain": [
       "LinearScale()"
      ]
     },
     "execution_count": 10,
     "metadata": {},
     "output_type": "execute_result"
    }
   ],
   "source": [
    "x_sc"
   ]
  },
  {
   "cell_type": "code",
   "execution_count": 11,
   "id": "907170fd",
   "metadata": {},
   "outputs": [],
   "source": [
    "# 3. Marks -- how we draw the data, here I'm going to make a line plot, so I'll use a line mark\n",
    "bqplot.Lines?"
   ]
  },
  {
   "cell_type": "code",
   "execution_count": 12,
   "id": "92b5644c",
   "metadata": {},
   "outputs": [],
   "source": [
    "lines = bqplot.Lines(x=x,y=y, scales={'x':x_sc, 'y':y_sc})"
   ]
  },
  {
   "cell_type": "code",
   "execution_count": 14,
   "id": "8904aebc",
   "metadata": {},
   "outputs": [],
   "source": [
    "#lines"
   ]
  },
  {
   "cell_type": "code",
   "execution_count": 15,
   "id": "4058ad57",
   "metadata": {},
   "outputs": [],
   "source": [
    "# 4. Axis\n",
    "bqplot.Axis?"
   ]
  },
  {
   "cell_type": "code",
   "execution_count": 16,
   "id": "6ab64194",
   "metadata": {},
   "outputs": [],
   "source": [
    "ax_x = bqplot.Axis(scale=x_sc, label='X Value')\n",
    "ax_y = bqplot.Axis(scale=y_sc, label='Y Value', orientation='vertical')"
   ]
  },
  {
   "cell_type": "code",
   "execution_count": 17,
   "id": "f706003e",
   "metadata": {},
   "outputs": [],
   "source": [
    "# 5. Around here there could be interactions defined, but not yet!"
   ]
  },
  {
   "cell_type": "code",
   "execution_count": 18,
   "id": "e3f8ce11",
   "metadata": {},
   "outputs": [],
   "source": [
    "# 6. Finally put it all together as a figure\n",
    "fig = bqplot.Figure(marks=[lines], axes=[ax_x,ax_y])"
   ]
  },
  {
   "cell_type": "code",
   "execution_count": 19,
   "id": "8fb0cee4",
   "metadata": {},
   "outputs": [
    {
     "data": {
      "application/vnd.jupyter.widget-view+json": {
       "model_id": "4be29806f71f489ba41c7e83d1f27174",
       "version_major": 2,
       "version_minor": 0
      },
      "text/plain": [
       "Figure(axes=[Axis(label='X Value', scale=LinearScale(), side='bottom'), Axis(label='Y Value', orientation='ver…"
      ]
     },
     "metadata": {},
     "output_type": "display_data"
    }
   ],
   "source": [
    "fig # note here: display(fig) from IPython.display like in test homework 1 (if you have no image)"
   ]
  },
  {
   "cell_type": "code",
   "execution_count": 20,
   "id": "d5c75880",
   "metadata": {},
   "outputs": [],
   "source": [
    "bqplot.interacts.PanZoom?"
   ]
  },
  {
   "cell_type": "code",
   "execution_count": 21,
   "id": "aaddb175",
   "metadata": {},
   "outputs": [],
   "source": [
    "pz = bqplot.interacts.PanZoom(scales={'x':[x_sc], 'y':[y_sc]})"
   ]
  },
  {
   "cell_type": "code",
   "execution_count": 22,
   "id": "b12e1e9b",
   "metadata": {},
   "outputs": [
    {
     "data": {
      "text/plain": [
       "PanZoom(scales={'x': [LinearScale()], 'y': [LinearScale()]})"
      ]
     },
     "execution_count": 22,
     "metadata": {},
     "output_type": "execute_result"
    }
   ],
   "source": [
    "pz"
   ]
  },
  {
   "cell_type": "code",
   "execution_count": 23,
   "id": "9d36417a",
   "metadata": {},
   "outputs": [
    {
     "data": {
      "application/vnd.jupyter.widget-view+json": {
       "model_id": "72b106dc7f124b0ab06177092b2222b0",
       "version_major": 2,
       "version_minor": 0
      },
      "text/plain": [
       "Figure(axes=[Axis(label='X Value', scale=LinearScale(), side='bottom'), Axis(label='Y Value', orientation='ver…"
      ]
     },
     "metadata": {},
     "output_type": "display_data"
    }
   ],
   "source": [
    "fig = bqplot.Figure(marks=[lines], axes=[ax_x,ax_y], interaction=pz)\n",
    "fig"
   ]
  },
  {
   "cell_type": "markdown",
   "id": "d9ac6cfc",
   "metadata": {},
   "source": [
    "Another example using random data:"
   ]
  },
  {
   "cell_type": "code",
   "execution_count": 27,
   "id": "1faf0656",
   "metadata": {},
   "outputs": [],
   "source": [
    "# 1. Data\n",
    "x = np.random.random(100)\n",
    "y = np.random.random(100)"
   ]
  },
  {
   "cell_type": "code",
   "execution_count": 28,
   "id": "f30455b6",
   "metadata": {},
   "outputs": [],
   "source": [
    "# 2. scales\n",
    "x_sc = bqplot.LinearScale()\n",
    "y_sc = bqplot.LinearScale()"
   ]
  },
  {
   "cell_type": "code",
   "execution_count": 29,
   "id": "d17e1ee1",
   "metadata": {},
   "outputs": [],
   "source": [
    "# 3. marks\n",
    "bqplot.Scatter?"
   ]
  },
  {
   "cell_type": "code",
   "execution_count": 30,
   "id": "1add94d4",
   "metadata": {},
   "outputs": [],
   "source": [
    "scatters = bqplot.Scatter(x=x,y=y, scales={'x':x_sc, 'y':y_sc})"
   ]
  },
  {
   "cell_type": "code",
   "execution_count": 31,
   "id": "eebe6297",
   "metadata": {},
   "outputs": [],
   "source": [
    "# 4. Axis\n",
    "x_ax = bqplot.Axis(scale=x_sc, label='X')\n",
    "y_ax = bqplot.Axis(scale=y_sc, label='Y', orientation='vertical')"
   ]
  },
  {
   "cell_type": "code",
   "execution_count": 32,
   "id": "2908140d",
   "metadata": {},
   "outputs": [],
   "source": [
    "# 5. interactions around here -- FastIntervalSelector\n",
    "selector = bqplot.interacts.FastIntervalSelector(scale=x_sc, marks=[scatters])"
   ]
  },
  {
   "cell_type": "code",
   "execution_count": 34,
   "id": "7cd5af4a",
   "metadata": {},
   "outputs": [
    {
     "data": {
      "application/vnd.jupyter.widget-view+json": {
       "model_id": "29584c8df13b458e93ee1fb008fe656c",
       "version_major": 2,
       "version_minor": 0
      },
      "text/plain": [
       "Figure(axes=[Axis(label='X', scale=LinearScale(), side='bottom'), Axis(label='Y', orientation='vertical', scal…"
      ]
     },
     "metadata": {},
     "output_type": "display_data"
    }
   ],
   "source": [
    "# 6. Make the figure\n",
    "fig = bqplot.Figure(marks=[scatters], axes=[x_ax, y_ax], interaction = selector)\n",
    "fig"
   ]
  },
  {
   "cell_type": "code",
   "execution_count": 35,
   "id": "3c02a6ed",
   "metadata": {},
   "outputs": [
    {
     "data": {
      "text/plain": [
       "['_model_module',\n",
       " '_model_module_version',\n",
       " '_model_name',\n",
       " '_view_count',\n",
       " '_view_module',\n",
       " '_view_module_version',\n",
       " '_view_name',\n",
       " 'color',\n",
       " 'marks',\n",
       " 'scale',\n",
       " 'selected',\n",
       " 'size']"
      ]
     },
     "execution_count": 35,
     "metadata": {},
     "output_type": "execute_result"
    }
   ],
   "source": [
    "selector.keys"
   ]
  },
  {
   "cell_type": "code",
   "execution_count": 37,
   "id": "8b1676e1",
   "metadata": {},
   "outputs": [
    {
     "data": {
      "text/plain": [
       "array([0.21758859, 0.40739032])"
      ]
     },
     "execution_count": 37,
     "metadata": {},
     "output_type": "execute_result"
    }
   ],
   "source": [
    "selector.selected"
   ]
  },
  {
   "cell_type": "code",
   "execution_count": 38,
   "id": "546a1acb",
   "metadata": {},
   "outputs": [
    {
     "data": {
      "text/plain": [
       "['_model_module',\n",
       " '_model_module_version',\n",
       " '_model_name',\n",
       " '_view_count',\n",
       " '_view_module',\n",
       " '_view_module_version',\n",
       " '_view_name',\n",
       " 'apply_clip',\n",
       " 'color',\n",
       " 'colors',\n",
       " 'default_size',\n",
       " 'default_skew',\n",
       " 'display_legend',\n",
       " 'display_names',\n",
       " 'drag_color',\n",
       " 'drag_size',\n",
       " 'enable_delete',\n",
       " 'enable_hover',\n",
       " 'enable_move',\n",
       " 'fill',\n",
       " 'hovered_point',\n",
       " 'hovered_style',\n",
       " 'interactions',\n",
       " 'label_display_horizontal_offset',\n",
       " 'label_display_vertical_offset',\n",
       " 'labels',\n",
       " 'marker',\n",
       " 'names',\n",
       " 'names_unique',\n",
       " 'opacities',\n",
       " 'opacity',\n",
       " 'preserve_domain',\n",
       " 'restrict_x',\n",
       " 'restrict_y',\n",
       " 'rotation',\n",
       " 'scales',\n",
       " 'scales_metadata',\n",
       " 'selected',\n",
       " 'selected_style',\n",
       " 'size',\n",
       " 'skew',\n",
       " 'stroke',\n",
       " 'stroke_width',\n",
       " 'tooltip',\n",
       " 'tooltip_location',\n",
       " 'tooltip_style',\n",
       " 'unhovered_style',\n",
       " 'unselected_style',\n",
       " 'update_on_move',\n",
       " 'visible',\n",
       " 'x',\n",
       " 'y']"
      ]
     },
     "execution_count": 38,
     "metadata": {},
     "output_type": "execute_result"
    }
   ],
   "source": [
    "scatters.keys"
   ]
  },
  {
   "cell_type": "code",
   "execution_count": 39,
   "id": "5bd15246",
   "metadata": {},
   "outputs": [],
   "source": [
    "scatters.unselected_style={'opacity':0.5} # a little see-through for unselected points"
   ]
  },
  {
   "cell_type": "code",
   "execution_count": 40,
   "id": "63490bb8",
   "metadata": {},
   "outputs": [],
   "source": [
    "scatters.selected_style = {'fill':'red', 'stroke':'yellow'}"
   ]
  },
  {
   "cell_type": "code",
   "execution_count": 41,
   "id": "dce00652",
   "metadata": {},
   "outputs": [
    {
     "data": {
      "application/vnd.jupyter.widget-view+json": {
       "model_id": "29584c8df13b458e93ee1fb008fe656c",
       "version_major": 2,
       "version_minor": 0
      },
      "text/plain": [
       "Figure(axes=[Axis(label='X', scale=LinearScale(), side='bottom'), Axis(label='Y', orientation='vertical', scal…"
      ]
     },
     "metadata": {},
     "output_type": "display_data"
    }
   ],
   "source": [
    "fig"
   ]
  },
  {
   "cell_type": "markdown",
   "id": "5e36640d",
   "metadata": {},
   "source": [
    "## Random data in 2D"
   ]
  },
  {
   "cell_type": "code",
   "execution_count": 42,
   "id": "7414b6c0",
   "metadata": {},
   "outputs": [],
   "source": [
    "# 1. data\n",
    "data = np.random.random((10,10))"
   ]
  },
  {
   "cell_type": "code",
   "execution_count": 44,
   "id": "b1c25262",
   "metadata": {},
   "outputs": [
    {
     "data": {
      "text/plain": [
       "(10, 10)"
      ]
     },
     "execution_count": 44,
     "metadata": {},
     "output_type": "execute_result"
    }
   ],
   "source": [
    "data.shape"
   ]
  },
  {
   "cell_type": "code",
   "execution_count": 59,
   "id": "886a5c8f",
   "metadata": {},
   "outputs": [],
   "source": [
    "bqplot.GridHeatMap?"
   ]
  },
  {
   "cell_type": "code",
   "execution_count": 48,
   "id": "4c380a67",
   "metadata": {},
   "outputs": [
    {
     "data": {
      "application/vnd.jupyter.widget-view+json": {
       "model_id": "28557792e9f74a56b0410361910d8e02",
       "version_major": 2,
       "version_minor": 0
      },
      "text/plain": [
       "Figure(fig_margin={'top': 60, 'bottom': 60, 'left': 60, 'right': 60}, marks=[GridHeatMap(color=array([[0.89691…"
      ]
     },
     "metadata": {},
     "output_type": "display_data"
    }
   ],
   "source": [
    "# 2. Scales\n",
    "col_sc = bqplot.ColorScale() # like x/y scale, but in \"color space\"\n",
    "\n",
    "# 3. Marks\n",
    "heat_map = bqplot.GridHeatMap(color=data, scales={'color':col_sc})\n",
    "\n",
    "# 4. Axis \n",
    "# rows/columns, skipping for now\n",
    "# color bars\n",
    "\n",
    "# 5. Interactions, skipping as well\n",
    "\n",
    "# 6. Figure object\n",
    "fig = bqplot.Figure(marks=[heat_map])\n",
    "fig"
   ]
  },
  {
   "cell_type": "code",
   "execution_count": 52,
   "id": "d3ecd190",
   "metadata": {},
   "outputs": [
    {
     "data": {
      "application/vnd.jupyter.widget-view+json": {
       "model_id": "c5b528923a974bc5bee36534caca5109",
       "version_major": 2,
       "version_minor": 0
      },
      "text/plain": [
       "Figure(fig_margin={'top': 60, 'bottom': 60, 'left': 60, 'right': 60}, marks=[GridHeatMap(color=array([[0.89691…"
      ]
     },
     "metadata": {},
     "output_type": "display_data"
    }
   ],
   "source": [
    "# 1. Data -- same as above\n",
    "\n",
    "# 2. Scales\n",
    "col_sc = bqplot.ColorScale(scheme = 'Reds') # like x/y scale, but in \"color space\"\n",
    "\n",
    "# 3. Marks\n",
    "heat_map = bqplot.GridHeatMap(color=data, scales={'color':col_sc})\n",
    "\n",
    "# 4. Axis \n",
    "# rows/columns, skipping for now\n",
    "# color bars\n",
    "\n",
    "# 5. Interactions, skipping as well\n",
    "\n",
    "# 6. Figure object\n",
    "fig = bqplot.Figure(marks=[heat_map])\n",
    "fig"
   ]
  },
  {
   "cell_type": "code",
   "execution_count": 54,
   "id": "f154c94a",
   "metadata": {},
   "outputs": [
    {
     "data": {
      "application/vnd.jupyter.widget-view+json": {
       "model_id": "60414e42c89c44b79e4f9e7eb387ed56",
       "version_major": 2,
       "version_minor": 0
      },
      "text/plain": [
       "Figure(axes=[ColorAxis(orientation='vertical', scale=ColorScale(scheme='Reds'), side='right')], fig_margin={'t…"
      ]
     },
     "metadata": {},
     "output_type": "display_data"
    }
   ],
   "source": [
    "# 1. Data -- same as above\n",
    "\n",
    "# 2. Scales\n",
    "col_sc = bqplot.ColorScale(scheme = 'Reds') # like x/y scale, but in \"color space\"\n",
    "\n",
    "# 3. Marks\n",
    "heat_map = bqplot.GridHeatMap(color=data, scales={'color':col_sc})\n",
    "\n",
    "# 4. Axis \n",
    "c_ax = bqplot.ColorAxis(scale=col_sc, orientation='vertical', side='right')\n",
    "\n",
    "# 5. Interactions, skipping as well\n",
    "\n",
    "# 6. Figure object\n",
    "fig = bqplot.Figure(marks=[heat_map], axes=[c_ax])\n",
    "fig"
   ]
  },
  {
   "cell_type": "code",
   "execution_count": 58,
   "id": "30d48140",
   "metadata": {},
   "outputs": [
    {
     "data": {
      "application/vnd.jupyter.widget-view+json": {
       "model_id": "b3a68fe7bf5a4db8b47faedf730e33bc",
       "version_major": 2,
       "version_minor": 0
      },
      "text/plain": [
       "Figure(axes=[ColorAxis(orientation='vertical', scale=ColorScale(scheme='Reds'), side='right'), Axis(scale=Ordi…"
      ]
     },
     "metadata": {},
     "output_type": "display_data"
    }
   ],
   "source": [
    "# 1. Data -- same as above\n",
    "\n",
    "# 2. Scales\n",
    "col_sc = bqplot.ColorScale(scheme = 'Reds') # like x/y scale, but in \"color space\"\n",
    "x_sc = bqplot.OrdinalScale() # ordered, categorical data, because our bins are more like categorical bins\n",
    "y_sc = bqplot.OrdinalScale()\n",
    "\n",
    "# 3. Marks\n",
    "heat_map = bqplot.GridHeatMap(color=data, scales={'color':col_sc, 'row':y_sc, 'column':x_sc})\n",
    "# note: we can pass arrays/lists of names for each categorical column, here we are just\n",
    "#. passing the scales\n",
    "\n",
    "# 4. Axis \n",
    "c_ax = bqplot.ColorAxis(scale=col_sc, orientation='vertical', side='right')\n",
    "x_ax = bqplot.Axis(scale=x_sc)\n",
    "y_ax = bqplot.Axis(scale=y_sc, orientation='vertical')\n",
    "\n",
    "# 5. Interactions, skipping as well\n",
    "\n",
    "# 6. Figure object\n",
    "fig = bqplot.Figure(marks=[heat_map], axes=[c_ax, x_ax, y_ax])\n",
    "fig"
   ]
  },
  {
   "cell_type": "code",
   "execution_count": 60,
   "id": "a11990c2",
   "metadata": {},
   "outputs": [
    {
     "data": {
      "text/plain": [
       "['_model_module',\n",
       " '_model_module_version',\n",
       " '_model_name',\n",
       " '_view_count',\n",
       " '_view_module',\n",
       " '_view_module_version',\n",
       " '_view_name',\n",
       " 'anchor_style',\n",
       " 'apply_clip',\n",
       " 'color',\n",
       " 'column',\n",
       " 'column_align',\n",
       " 'display_format',\n",
       " 'display_legend',\n",
       " 'enable_hover',\n",
       " 'font_style',\n",
       " 'interactions',\n",
       " 'labels',\n",
       " 'null_color',\n",
       " 'opacity',\n",
       " 'preserve_domain',\n",
       " 'row',\n",
       " 'row_align',\n",
       " 'scales',\n",
       " 'scales_metadata',\n",
       " 'selected',\n",
       " 'selected_style',\n",
       " 'stroke',\n",
       " 'tooltip',\n",
       " 'tooltip_location',\n",
       " 'tooltip_style',\n",
       " 'unselected_style',\n",
       " 'visible']"
      ]
     },
     "execution_count": 60,
     "metadata": {},
     "output_type": "execute_result"
    }
   ],
   "source": [
    "heat_map.keys"
   ]
  },
  {
   "cell_type": "code",
   "execution_count": 63,
   "id": "ec65579b",
   "metadata": {},
   "outputs": [
    {
     "data": {
      "application/vnd.jupyter.widget-view+json": {
       "model_id": "8760e0f8805b4a00861ca0cf1d59b803",
       "version_major": 2,
       "version_minor": 0
      },
      "text/plain": [
       "Figure(axes=[ColorAxis(orientation='vertical', scale=ColorScale(scheme='Reds'), side='right'), Axis(scale=Ordi…"
      ]
     },
     "metadata": {},
     "output_type": "display_data"
    }
   ],
   "source": [
    "# 1. Data -- same as above\n",
    "\n",
    "# 2. Scales\n",
    "col_sc = bqplot.ColorScale(scheme = 'Reds') # like x/y scale, but in \"color space\"\n",
    "x_sc = bqplot.OrdinalScale() # ordered, categorical data, because our bins are more like categorical bins\n",
    "y_sc = bqplot.OrdinalScale()\n",
    "\n",
    "# 3. Marks\n",
    "heat_map = bqplot.GridHeatMap(color=data, scales={'color':col_sc, 'row':y_sc, 'column':x_sc},\n",
    "                             interactions={'click':'select'},\n",
    "                             selected_style={'opacity':1.0}, \n",
    "                             unselected_style={'opacity':0.8}, \n",
    "                             anchor_style={'fill':'blue'})\n",
    "# note: we can pass arrays/lists of names for each categorical column, here we are just\n",
    "#. passing the scales\n",
    "\n",
    "# 4. Axis \n",
    "c_ax = bqplot.ColorAxis(scale=col_sc, orientation='vertical', side='right')\n",
    "x_ax = bqplot.Axis(scale=x_sc)\n",
    "y_ax = bqplot.Axis(scale=y_sc, orientation='vertical')\n",
    "\n",
    "# 5. Interactions, skipping as well\n",
    "\n",
    "# 6. Figure object\n",
    "fig = bqplot.Figure(marks=[heat_map], axes=[c_ax, x_ax, y_ax])\n",
    "fig"
   ]
  },
  {
   "cell_type": "code",
   "execution_count": 64,
   "id": "d92ad43a",
   "metadata": {},
   "outputs": [
    {
     "data": {
      "application/vnd.jupyter.widget-view+json": {
       "model_id": "786d0e8cb5a44b4b8892b4c8be5c70fc",
       "version_major": 2,
       "version_minor": 0
      },
      "text/plain": [
       "Figure(axes=[ColorAxis(orientation='vertical', scale=ColorScale(scheme='Reds'), side='right'), Axis(scale=Ordi…"
      ]
     },
     "metadata": {},
     "output_type": "display_data"
    }
   ],
   "source": [
    "# 1. Data -- same as above\n",
    "\n",
    "# 2. Scales\n",
    "col_sc = bqplot.ColorScale(scheme = 'Reds') # like x/y scale, but in \"color space\"\n",
    "x_sc = bqplot.OrdinalScale() # ordered, categorical data, because our bins are more like categorical bins\n",
    "y_sc = bqplot.OrdinalScale()\n",
    "\n",
    "# 3. Marks\n",
    "heat_map = bqplot.GridHeatMap(color=data, scales={'color':col_sc, 'row':y_sc, 'column':x_sc},\n",
    "                             interactions={'click':'select'},\n",
    "                             anchor_style={'fill':'blue'})\n",
    "# note: we can pass arrays/lists of names for each categorical column, here we are just\n",
    "#. passing the scales\n",
    "\n",
    "# 4. Axis \n",
    "c_ax = bqplot.ColorAxis(scale=col_sc, orientation='vertical', side='right')\n",
    "x_ax = bqplot.Axis(scale=x_sc)\n",
    "y_ax = bqplot.Axis(scale=y_sc, orientation='vertical')\n",
    "\n",
    "# 5. Interactions, skipping as well\n",
    "\n",
    "# 6. Figure object\n",
    "fig = bqplot.Figure(marks=[heat_map], axes=[c_ax, x_ax, y_ax])\n",
    "fig"
   ]
  },
  {
   "cell_type": "code",
   "execution_count": 66,
   "id": "b9b9d42f",
   "metadata": {},
   "outputs": [
    {
     "data": {
      "text/plain": [
       "array([[4, 4]])"
      ]
     },
     "execution_count": 66,
     "metadata": {},
     "output_type": "execute_result"
    }
   ],
   "source": [
    "heat_map.selected"
   ]
  },
  {
   "cell_type": "code",
   "execution_count": 68,
   "id": "138f80bf",
   "metadata": {},
   "outputs": [],
   "source": [
    "mySelectedLabel = ipywidgets.Label() # update what the value of the data in our selected bin is"
   ]
  },
  {
   "cell_type": "code",
   "execution_count": 69,
   "id": "33ca0210",
   "metadata": {},
   "outputs": [],
   "source": [
    "def on_selected(change): # take a look at what changes when I select a new bin\n",
    "    print(change)"
   ]
  },
  {
   "cell_type": "code",
   "execution_count": 70,
   "id": "7846bc3b",
   "metadata": {},
   "outputs": [
    {
     "data": {
      "application/vnd.jupyter.widget-view+json": {
       "model_id": "623cea51fb0d44b183ea4de062e546ef",
       "version_major": 2,
       "version_minor": 0
      },
      "text/plain": [
       "Figure(axes=[ColorAxis(orientation='vertical', scale=ColorScale(scheme='Reds'), side='right'), Axis(scale=Ordi…"
      ]
     },
     "metadata": {},
     "output_type": "display_data"
    },
    {
     "name": "stdout",
     "output_type": "stream",
     "text": [
      "{'name': 'selected', 'old': None, 'new': array([[3, 6]]), 'owner': GridHeatMap(anchor_style={'fill': 'blue'}, color=array([[0.89691181, 0.48859829, 0.95006818, 0.69601777, 0.73775513,\n",
      "        0.38569269, 0.68017469, 0.54575597, 0.00480574, 0.24579393],\n",
      "       [0.7962746 , 0.1783357 , 0.94882097, 0.40581645, 0.52912763,\n",
      "        0.37285539, 0.82120449, 0.94371314, 0.68962898, 0.91471067],\n",
      "       [0.4698892 , 0.99621421, 0.9176743 , 0.48230689, 0.84884311,\n",
      "        0.2255048 , 0.75520046, 0.50655736, 0.10780837, 0.90871802],\n",
      "       [0.68627458, 0.45620166, 0.99696782, 0.80687665, 0.30225841,\n",
      "        0.15660133, 0.28941562, 0.18002238, 0.39746809, 0.47033515],\n",
      "       [0.55108775, 0.65433285, 0.29482268, 0.07033723, 0.91848317,\n",
      "        0.96783228, 0.78990487, 0.47010381, 0.81955856, 0.32139952],\n",
      "       [0.06993581, 0.05198585, 0.32260134, 0.12551586, 0.61415097,\n",
      "        0.08934409, 0.83918262, 0.20375412, 0.69105229, 0.15136115],\n",
      "       [0.64619925, 0.74768848, 0.34259561, 0.20438315, 0.91541879,\n",
      "        0.77133414, 0.44392775, 0.7851211 , 0.46601866, 0.97505911],\n",
      "       [0.376186  , 0.91585502, 0.09328568, 0.20736835, 0.60091653,\n",
      "        0.00644473, 0.81841232, 0.41468882, 0.19947748, 0.06525306],\n",
      "       [0.06259187, 0.01814559, 0.67481962, 0.46387214, 0.71894305,\n",
      "        0.97442623, 0.04489136, 0.13399094, 0.95669132, 0.87886716],\n",
      "       [0.02949662, 0.79298729, 0.0512228 , 0.21978266, 0.11883425,\n",
      "        0.32269267, 0.08286073, 0.31157205, 0.27732199, 0.4428083 ]]), interactions={'click': 'select'}, scales={'color': ColorScale(scheme='Reds'), 'row': OrdinalScale(), 'column': OrdinalScale()}, scales_metadata={'row': {'orientation': 'vertical', 'dimension': 'y'}, 'column': {'orientation': 'horizontal', 'dimension': 'x'}, 'color': {'dimension': 'color'}}, selected=array([[3, 6]]), tooltip_style={'opacity': 0.9}), 'type': 'change'}\n",
      "{'name': 'selected', 'old': array([[3, 6]]), 'new': array([[6, 7]]), 'owner': GridHeatMap(anchor_style={'fill': 'blue'}, color=array([[0.89691181, 0.48859829, 0.95006818, 0.69601777, 0.73775513,\n",
      "        0.38569269, 0.68017469, 0.54575597, 0.00480574, 0.24579393],\n",
      "       [0.7962746 , 0.1783357 , 0.94882097, 0.40581645, 0.52912763,\n",
      "        0.37285539, 0.82120449, 0.94371314, 0.68962898, 0.91471067],\n",
      "       [0.4698892 , 0.99621421, 0.9176743 , 0.48230689, 0.84884311,\n",
      "        0.2255048 , 0.75520046, 0.50655736, 0.10780837, 0.90871802],\n",
      "       [0.68627458, 0.45620166, 0.99696782, 0.80687665, 0.30225841,\n",
      "        0.15660133, 0.28941562, 0.18002238, 0.39746809, 0.47033515],\n",
      "       [0.55108775, 0.65433285, 0.29482268, 0.07033723, 0.91848317,\n",
      "        0.96783228, 0.78990487, 0.47010381, 0.81955856, 0.32139952],\n",
      "       [0.06993581, 0.05198585, 0.32260134, 0.12551586, 0.61415097,\n",
      "        0.08934409, 0.83918262, 0.20375412, 0.69105229, 0.15136115],\n",
      "       [0.64619925, 0.74768848, 0.34259561, 0.20438315, 0.91541879,\n",
      "        0.77133414, 0.44392775, 0.7851211 , 0.46601866, 0.97505911],\n",
      "       [0.376186  , 0.91585502, 0.09328568, 0.20736835, 0.60091653,\n",
      "        0.00644473, 0.81841232, 0.41468882, 0.19947748, 0.06525306],\n",
      "       [0.06259187, 0.01814559, 0.67481962, 0.46387214, 0.71894305,\n",
      "        0.97442623, 0.04489136, 0.13399094, 0.95669132, 0.87886716],\n",
      "       [0.02949662, 0.79298729, 0.0512228 , 0.21978266, 0.11883425,\n",
      "        0.32269267, 0.08286073, 0.31157205, 0.27732199, 0.4428083 ]]), interactions={'click': 'select'}, scales={'color': ColorScale(scheme='Reds'), 'row': OrdinalScale(), 'column': OrdinalScale()}, scales_metadata={'row': {'orientation': 'vertical', 'dimension': 'y'}, 'column': {'orientation': 'horizontal', 'dimension': 'x'}, 'color': {'dimension': 'color'}}, selected=array([[6, 7]]), tooltip_style={'opacity': 0.9}), 'type': 'change'}\n"
     ]
    }
   ],
   "source": [
    "# 1. Data -- same as above\n",
    "\n",
    "# 2. Scales\n",
    "col_sc = bqplot.ColorScale(scheme = 'Reds') # like x/y scale, but in \"color space\"\n",
    "x_sc = bqplot.OrdinalScale() # ordered, categorical data, because our bins are more like categorical bins\n",
    "y_sc = bqplot.OrdinalScale()\n",
    "\n",
    "# 3. Marks\n",
    "heat_map = bqplot.GridHeatMap(color=data, scales={'color':col_sc, 'row':y_sc, 'column':x_sc},\n",
    "                             interactions={'click':'select'},\n",
    "                             anchor_style={'fill':'blue'})\n",
    "# note: we can pass arrays/lists of names for each categorical column, here we are just\n",
    "#. passing the scales\n",
    "\n",
    "# 4. Axis \n",
    "c_ax = bqplot.ColorAxis(scale=col_sc, orientation='vertical', side='right')\n",
    "x_ax = bqplot.Axis(scale=x_sc)\n",
    "y_ax = bqplot.Axis(scale=y_sc, orientation='vertical')\n",
    "\n",
    "# 5. Interactions\n",
    "heat_map.observe(on_selected,'selected')\n",
    "\n",
    "# 6. Figure object\n",
    "fig = bqplot.Figure(marks=[heat_map], axes=[c_ax, x_ax, y_ax])\n",
    "fig"
   ]
  },
  {
   "cell_type": "code",
   "execution_count": 71,
   "id": "a933d0b6",
   "metadata": {},
   "outputs": [
    {
     "data": {
      "application/vnd.jupyter.widget-view+json": {
       "model_id": "c249d81145f34c4abfc2ca2b9cef37b3",
       "version_major": 2,
       "version_minor": 0
      },
      "text/plain": [
       "Figure(axes=[ColorAxis(orientation='vertical', scale=ColorScale(scheme='Reds'), side='right'), Axis(scale=Ordi…"
      ]
     },
     "metadata": {},
     "output_type": "display_data"
    },
    {
     "name": "stdout",
     "output_type": "stream",
     "text": [
      "[[9 2]]\n",
      "[[4 2]]\n",
      "[[3 3]]\n",
      "[[3 4]]\n",
      "[[4 4]]\n",
      "[[2 4]]\n",
      "[[9 4]]\n",
      "[[0 4]]\n",
      "[[0 4]\n",
      " [0 5]]\n",
      "[[0 4]\n",
      " [0 5]\n",
      " [1 5]]\n",
      "[[0 4]\n",
      " [0 5]\n",
      " [1 5]\n",
      " [2 5]]\n"
     ]
    }
   ],
   "source": [
    "# 1. Data -- same as above\n",
    "\n",
    "# 2. Scales\n",
    "col_sc = bqplot.ColorScale(scheme = 'Reds') # like x/y scale, but in \"color space\"\n",
    "x_sc = bqplot.OrdinalScale() # ordered, categorical data, because our bins are more like categorical bins\n",
    "y_sc = bqplot.OrdinalScale()\n",
    "\n",
    "# 3. Marks\n",
    "heat_map = bqplot.GridHeatMap(color=data, scales={'color':col_sc, 'row':y_sc, 'column':x_sc},\n",
    "                             interactions={'click':'select'},\n",
    "                             anchor_style={'fill':'blue'})\n",
    "# note: we can pass arrays/lists of names for each categorical column, here we are just\n",
    "#. passing the scales\n",
    "\n",
    "# 4. Axis \n",
    "c_ax = bqplot.ColorAxis(scale=col_sc, orientation='vertical', side='right')\n",
    "x_ax = bqplot.Axis(scale=x_sc)\n",
    "y_ax = bqplot.Axis(scale=y_sc, orientation='vertical')\n",
    "\n",
    "# 5. Interactions\n",
    "def on_selected(change): # take a look at what changes when I select a new bin\n",
    "    print(change['owner'].selected)\n",
    "heat_map.observe(on_selected,'selected')\n",
    "\n",
    "# 6. Figure object\n",
    "fig = bqplot.Figure(marks=[heat_map], axes=[c_ax, x_ax, y_ax])\n",
    "fig"
   ]
  },
  {
   "cell_type": "code",
   "execution_count": 72,
   "id": "45a035d6",
   "metadata": {},
   "outputs": [
    {
     "data": {
      "application/vnd.jupyter.widget-view+json": {
       "model_id": "1736ca827fd84683b60bea9e792d0618",
       "version_major": 2,
       "version_minor": 0
      },
      "text/plain": [
       "Figure(axes=[ColorAxis(orientation='vertical', scale=ColorScale(scheme='Reds'), side='right'), Axis(scale=Ordi…"
      ]
     },
     "metadata": {},
     "output_type": "display_data"
    },
    {
     "name": "stdout",
     "output_type": "stream",
     "text": [
      "[0 2]\n",
      "[0 3]\n",
      "[3 4]\n",
      "[2 5]\n",
      "[4 5]\n",
      "[5 5]\n",
      "[5 2]\n"
     ]
    }
   ],
   "source": [
    "# 1. Data -- same as above\n",
    "\n",
    "# 2. Scales\n",
    "col_sc = bqplot.ColorScale(scheme = 'Reds') # like x/y scale, but in \"color space\"\n",
    "x_sc = bqplot.OrdinalScale() # ordered, categorical data, because our bins are more like categorical bins\n",
    "y_sc = bqplot.OrdinalScale()\n",
    "\n",
    "# 3. Marks\n",
    "heat_map = bqplot.GridHeatMap(color=data, scales={'color':col_sc, 'row':y_sc, 'column':x_sc},\n",
    "                             interactions={'click':'select'},\n",
    "                             anchor_style={'fill':'blue'})\n",
    "# note: we can pass arrays/lists of names for each categorical column, here we are just\n",
    "#. passing the scales\n",
    "\n",
    "# 4. Axis \n",
    "c_ax = bqplot.ColorAxis(scale=col_sc, orientation='vertical', side='right')\n",
    "x_ax = bqplot.Axis(scale=x_sc)\n",
    "y_ax = bqplot.Axis(scale=y_sc, orientation='vertical')\n",
    "\n",
    "# 5. Interactions\n",
    "def on_selected(change): # take a look at what changes when I select a new bin\n",
    "    if len(change['owner'].selected) == 1: # checking that user is only selecting one element\n",
    "        print(change['owner'].selected[0]) # printing that single element\n",
    "    \n",
    "heat_map.observe(on_selected,'selected')\n",
    "\n",
    "# 6. Figure object\n",
    "fig = bqplot.Figure(marks=[heat_map], axes=[c_ax, x_ax, y_ax])\n",
    "fig"
   ]
  },
  {
   "cell_type": "code",
   "execution_count": 73,
   "id": "57f856e0",
   "metadata": {},
   "outputs": [
    {
     "data": {
      "application/vnd.jupyter.widget-view+json": {
       "model_id": "583ea9f0afae45a5ac694b86d4a607ee",
       "version_major": 2,
       "version_minor": 0
      },
      "text/plain": [
       "Figure(axes=[ColorAxis(orientation='vertical', scale=ColorScale(scheme='Reds'), side='right'), Axis(scale=Ordi…"
      ]
     },
     "metadata": {},
     "output_type": "display_data"
    },
    {
     "name": "stdout",
     "output_type": "stream",
     "text": [
      "[0 0]\n",
      "value= 0.896911809463098\n",
      "[0 8]\n",
      "value= 0.004805737740776195\n",
      "[6 9]\n",
      "value= 0.9750591100354541\n",
      "[3 6]\n",
      "value= 0.2894156198658885\n"
     ]
    }
   ],
   "source": [
    "# 1. Data -- same as above\n",
    "\n",
    "# 2. Scales\n",
    "col_sc = bqplot.ColorScale(scheme = 'Reds') # like x/y scale, but in \"color space\"\n",
    "x_sc = bqplot.OrdinalScale() # ordered, categorical data, because our bins are more like categorical bins\n",
    "y_sc = bqplot.OrdinalScale()\n",
    "\n",
    "# 3. Marks\n",
    "heat_map = bqplot.GridHeatMap(color=data, scales={'color':col_sc, 'row':y_sc, 'column':x_sc},\n",
    "                             interactions={'click':'select'},\n",
    "                             anchor_style={'fill':'blue'})\n",
    "# note: we can pass arrays/lists of names for each categorical column, here we are just\n",
    "#. passing the scales\n",
    "\n",
    "# 4. Axis \n",
    "c_ax = bqplot.ColorAxis(scale=col_sc, orientation='vertical', side='right')\n",
    "x_ax = bqplot.Axis(scale=x_sc)\n",
    "y_ax = bqplot.Axis(scale=y_sc, orientation='vertical')\n",
    "\n",
    "# 5. Interactions\n",
    "def on_selected(change): # take a look at what changes when I select a new bin\n",
    "    if len(change['owner'].selected) == 1: # checking that user is only selecting one element\n",
    "        print(change['owner'].selected[0]) # printing that single element\n",
    "        i,j = change['owner'].selected[0]\n",
    "        val = data[i,j]\n",
    "        print('value=',val)\n",
    "    \n",
    "heat_map.observe(on_selected,'selected')\n",
    "\n",
    "# 6. Figure object\n",
    "fig = bqplot.Figure(marks=[heat_map], axes=[c_ax, x_ax, y_ax])\n",
    "fig"
   ]
  },
  {
   "cell_type": "code",
   "execution_count": 77,
   "id": "6b60a450",
   "metadata": {},
   "outputs": [],
   "source": [
    "mySelectedLabel.value = 'Hello!'"
   ]
  },
  {
   "cell_type": "code",
   "execution_count": 76,
   "id": "16a79ed5",
   "metadata": {},
   "outputs": [
    {
     "data": {
      "application/vnd.jupyter.widget-view+json": {
       "model_id": "953bf708a451442b80a8d8020c93834c",
       "version_major": 2,
       "version_minor": 0
      },
      "text/plain": [
       "Label(value='Hi there')"
      ]
     },
     "metadata": {},
     "output_type": "display_data"
    }
   ],
   "source": [
    "mySelectedLabel"
   ]
  },
  {
   "cell_type": "code",
   "execution_count": 78,
   "id": "1f11e5a2",
   "metadata": {},
   "outputs": [
    {
     "data": {
      "application/vnd.jupyter.widget-view+json": {
       "model_id": "937405aa203a4493a1bb50fdc0000659",
       "version_major": 2,
       "version_minor": 0
      },
      "text/plain": [
       "Figure(axes=[ColorAxis(orientation='vertical', scale=ColorScale(scheme='Reds'), side='right'), Axis(scale=Ordi…"
      ]
     },
     "metadata": {},
     "output_type": "display_data"
    }
   ],
   "source": [
    "# 1. Data -- same as above\n",
    "\n",
    "# 2. Scales\n",
    "col_sc = bqplot.ColorScale(scheme = 'Reds') # like x/y scale, but in \"color space\"\n",
    "x_sc = bqplot.OrdinalScale() # ordered, categorical data, because our bins are more like categorical bins\n",
    "y_sc = bqplot.OrdinalScale()\n",
    "\n",
    "# 3. Marks\n",
    "heat_map = bqplot.GridHeatMap(color=data, scales={'color':col_sc, 'row':y_sc, 'column':x_sc},\n",
    "                             interactions={'click':'select'},\n",
    "                             anchor_style={'fill':'blue'})\n",
    "# note: we can pass arrays/lists of names for each categorical column, here we are just\n",
    "#. passing the scales\n",
    "\n",
    "# 4. Axis \n",
    "c_ax = bqplot.ColorAxis(scale=col_sc, orientation='vertical', side='right')\n",
    "x_ax = bqplot.Axis(scale=x_sc)\n",
    "y_ax = bqplot.Axis(scale=y_sc, orientation='vertical')\n",
    "\n",
    "# 5. Interactions\n",
    "def on_selected(change): # take a look at what changes when I select a new bin\n",
    "    if len(change['owner'].selected) == 1: # checking that user is only selecting one element\n",
    "        #print(change['owner'].selected[0]) # printing that single element\n",
    "        i,j = change['owner'].selected[0]\n",
    "        val = data[i,j]\n",
    "        #print('value=',val)\n",
    "        mySelectedLabel.value = 'Data Value='+str(val)\n",
    "        \n",
    "heat_map.observe(on_selected,'selected')\n",
    "\n",
    "# 6. Figure object\n",
    "fig = bqplot.Figure(marks=[heat_map], axes=[c_ax, x_ax, y_ax])\n",
    "fig"
   ]
  },
  {
   "cell_type": "code",
   "execution_count": 79,
   "id": "4dbb0e0d",
   "metadata": {},
   "outputs": [
    {
     "data": {
      "application/vnd.jupyter.widget-view+json": {
       "model_id": "953bf708a451442b80a8d8020c93834c",
       "version_major": 2,
       "version_minor": 0
      },
      "text/plain": [
       "Label(value='Data Value=0.9969678213227691')"
      ]
     },
     "metadata": {},
     "output_type": "display_data"
    }
   ],
   "source": [
    "mySelectedLabel"
   ]
  },
  {
   "cell_type": "code",
   "execution_count": 80,
   "id": "e860c92a",
   "metadata": {},
   "outputs": [
    {
     "data": {
      "application/vnd.jupyter.widget-view+json": {
       "model_id": "3ba05680bfa3487da150b331078528a9",
       "version_major": 2,
       "version_minor": 0
      },
      "text/plain": [
       "VBox(children=(Label(value='Data Value=0.20375411650896746'), Figure(axes=[ColorAxis(orientation='vertical', s…"
      ]
     },
     "metadata": {},
     "output_type": "display_data"
    }
   ],
   "source": [
    "# 1. Data -- same as above\n",
    "\n",
    "# 2. Scales\n",
    "col_sc = bqplot.ColorScale(scheme = 'Reds') # like x/y scale, but in \"color space\"\n",
    "x_sc = bqplot.OrdinalScale() # ordered, categorical data, because our bins are more like categorical bins\n",
    "y_sc = bqplot.OrdinalScale()\n",
    "\n",
    "# 3. Marks\n",
    "heat_map = bqplot.GridHeatMap(color=data, scales={'color':col_sc, 'row':y_sc, 'column':x_sc},\n",
    "                             interactions={'click':'select'},\n",
    "                             anchor_style={'fill':'blue'})\n",
    "# note: we can pass arrays/lists of names for each categorical column, here we are just\n",
    "#. passing the scales\n",
    "\n",
    "# 4. Axis \n",
    "c_ax = bqplot.ColorAxis(scale=col_sc, orientation='vertical', side='right')\n",
    "x_ax = bqplot.Axis(scale=x_sc)\n",
    "y_ax = bqplot.Axis(scale=y_sc, orientation='vertical')\n",
    "\n",
    "# 5. Interactions\n",
    "def on_selected(change): # take a look at what changes when I select a new bin\n",
    "    if len(change['owner'].selected) == 1: # checking that user is only selecting one element\n",
    "        #print(change['owner'].selected[0]) # printing that single element\n",
    "        i,j = change['owner'].selected[0]\n",
    "        val = data[i,j]\n",
    "        #print('value=',val)\n",
    "        mySelectedLabel.value = 'Data Value='+str(val)\n",
    "        \n",
    "heat_map.observe(on_selected,'selected')\n",
    "\n",
    "# 6. Figure object\n",
    "fig = bqplot.Figure(marks=[heat_map], axes=[c_ax, x_ax, y_ax])\n",
    "#fig\n",
    "myDashboard = ipywidgets.VBox([mySelectedLabel, fig])\n",
    "myDashboard"
   ]
  },
  {
   "cell_type": "code",
   "execution_count": 82,
   "id": "69674b3a",
   "metadata": {},
   "outputs": [
    {
     "data": {
      "text/plain": [
       "(10, 10)"
      ]
     },
     "execution_count": 82,
     "metadata": {},
     "output_type": "execute_result"
    }
   ],
   "source": [
    "data.shape"
   ]
  },
  {
   "cell_type": "markdown",
   "id": "f388d85e",
   "metadata": {},
   "source": [
    "## Random 3D data"
   ]
  },
  {
   "cell_type": "code",
   "execution_count": 83,
   "id": "1cf3cc14",
   "metadata": {},
   "outputs": [],
   "source": [
    "data = np.random.random((10,10,20))"
   ]
  },
  {
   "cell_type": "code",
   "execution_count": 85,
   "id": "b90a8003",
   "metadata": {},
   "outputs": [
    {
     "data": {
      "text/plain": [
       "(10, 10, 20)"
      ]
     },
     "execution_count": 85,
     "metadata": {},
     "output_type": "execute_result"
    }
   ],
   "source": [
    "data.shape"
   ]
  },
  {
   "cell_type": "code",
   "execution_count": 86,
   "id": "0a1e1024",
   "metadata": {},
   "outputs": [
    {
     "data": {
      "text/plain": [
       "array([0.17876132, 0.61754544, 0.40777043, 0.88176259, 0.0496922 ,\n",
       "       0.78890102, 0.45295427, 0.41170028, 0.5144766 , 0.34964404,\n",
       "       0.0486498 , 0.56107582, 0.89939653, 0.48313486, 0.48337734,\n",
       "       0.21999646, 0.59561444, 0.43669691, 0.63594383, 0.96145115])"
      ]
     },
     "execution_count": 86,
     "metadata": {},
     "output_type": "execute_result"
    }
   ],
   "source": [
    "data[0,0,:]"
   ]
  },
  {
   "cell_type": "code",
   "execution_count": 88,
   "id": "6664b0c6",
   "metadata": {},
   "outputs": [
    {
     "data": {
      "text/plain": [
       "(10, 10)"
      ]
     },
     "execution_count": 88,
     "metadata": {},
     "output_type": "execute_result"
    }
   ],
   "source": [
    "np.sum(data,axis=2).shape"
   ]
  },
  {
   "cell_type": "code",
   "execution_count": 89,
   "id": "d9bd47ef",
   "metadata": {},
   "outputs": [
    {
     "data": {
      "text/plain": [
       "1004.6403490676723"
      ]
     },
     "execution_count": 89,
     "metadata": {},
     "output_type": "execute_result"
    }
   ],
   "source": [
    "np.sum(data)"
   ]
  },
  {
   "cell_type": "code",
   "execution_count": 91,
   "id": "d5dd65d3",
   "metadata": {},
   "outputs": [
    {
     "data": {
      "text/plain": [
       "(10, 20)"
      ]
     },
     "execution_count": 91,
     "metadata": {},
     "output_type": "execute_result"
    }
   ],
   "source": [
    "np.sum(data,axis=1).shape"
   ]
  },
  {
   "cell_type": "code",
   "execution_count": 92,
   "id": "25559500",
   "metadata": {},
   "outputs": [
    {
     "data": {
      "text/plain": [
       "array([[ 9.97854532,  9.97504454,  8.98695704, 11.07464205, 11.71984928,\n",
       "        10.28800028, 10.4740139 , 11.22934712,  8.92947199, 10.22342584],\n",
       "       [10.70365833, 10.68356055, 11.21772251,  7.2260998 , 11.20084407,\n",
       "        10.07532615, 10.53850024, 11.49114257,  8.26512607,  9.83750006],\n",
       "       [ 9.00180064,  8.01604974, 11.02335081,  8.53004802, 11.96696634,\n",
       "        10.06327106,  9.15253536, 12.96474829,  9.19271136, 10.10569155],\n",
       "       [ 9.9397673 ,  8.97263057, 10.04611252,  9.19364394,  8.68700172,\n",
       "        10.77571339,  9.16408173,  8.82407512, 10.88200848, 11.12731525],\n",
       "       [ 9.92417217, 12.09428366,  8.48905911,  8.95086985, 10.95422731,\n",
       "         9.45691346,  9.5807276 ,  9.32820223,  9.45844396, 10.39959045],\n",
       "       [ 9.7838676 ,  9.79623417, 10.93620716,  9.87350484, 10.70182509,\n",
       "         9.25873239,  8.80050868,  8.99686472, 10.71482812,  9.60464047],\n",
       "       [10.19973589, 10.89797102,  9.6632507 ,  9.5992491 , 10.36458174,\n",
       "        11.83623664,  8.02120325,  8.30918935, 10.2617208 , 10.52850907],\n",
       "       [11.64091634, 10.50844355, 10.04179101,  8.51274087,  9.08082842,\n",
       "         8.99523866, 10.14272467, 10.68196405,  9.0969514 ,  9.46254183],\n",
       "       [10.17341636,  7.98725677, 10.09466693, 12.33562441, 10.12194079,\n",
       "        12.1378261 ,  8.49238592, 10.60280951, 11.30881573, 10.22221346],\n",
       "       [11.49480577, 10.39164368, 10.57885857,  9.7216638 ,  9.69480481,\n",
       "        10.9841167 ,  9.05267978, 11.25390591, 10.68349207, 10.60962965]])"
      ]
     },
     "execution_count": 92,
     "metadata": {},
     "output_type": "execute_result"
    }
   ],
   "source": [
    "np.sum(data,axis=2)"
   ]
  },
  {
   "cell_type": "code",
   "execution_count": 93,
   "id": "5700fe17",
   "metadata": {},
   "outputs": [
    {
     "data": {
      "application/vnd.jupyter.widget-view+json": {
       "model_id": "b3e47ca3103443f99870e0ae09bcdc90",
       "version_major": 2,
       "version_minor": 0
      },
      "text/plain": [
       "VBox(children=(Label(value='Data Value=0.7476884796719783'), Figure(axes=[ColorAxis(orientation='vertical', sc…"
      ]
     },
     "metadata": {},
     "output_type": "display_data"
    }
   ],
   "source": [
    "# 1. Data -- same as above\n",
    "\n",
    "# 2. Scales\n",
    "col_sc = bqplot.ColorScale(scheme = 'Reds') # like x/y scale, but in \"color space\"\n",
    "x_sc = bqplot.OrdinalScale() # ordered, categorical data, because our bins are more like categorical bins\n",
    "y_sc = bqplot.OrdinalScale()\n",
    "\n",
    "# 3. Marks\n",
    "heat_map = bqplot.GridHeatMap(color=np.sum(data,axis=2), \n",
    "                              scales={'color':col_sc, 'row':y_sc, 'column':x_sc},\n",
    "                             interactions={'click':'select'},\n",
    "                             anchor_style={'fill':'blue'})\n",
    "# note: we can pass arrays/lists of names for each categorical column, here we are just\n",
    "#. passing the scales\n",
    "\n",
    "# 4. Axis \n",
    "c_ax = bqplot.ColorAxis(scale=col_sc, orientation='vertical', side='right')\n",
    "x_ax = bqplot.Axis(scale=x_sc)\n",
    "y_ax = bqplot.Axis(scale=y_sc, orientation='vertical')\n",
    "\n",
    "# # 5. Interactions\n",
    "# def on_selected(change): # take a look at what changes when I select a new bin\n",
    "#     if len(change['owner'].selected) == 1: # checking that user is only selecting one element\n",
    "#         #print(change['owner'].selected[0]) # printing that single element\n",
    "#         i,j = change['owner'].selected[0]\n",
    "#         val = data[i,j]\n",
    "#         #print('value=',val)\n",
    "#         mySelectedLabel.value = 'Data Value='+str(val)\n",
    "        \n",
    "# heat_map.observe(on_selected,'selected')\n",
    "\n",
    "# 6. Figure object\n",
    "fig = bqplot.Figure(marks=[heat_map], axes=[c_ax, x_ax, y_ax])\n",
    "#fig\n",
    "myDashboard = ipywidgets.VBox([mySelectedLabel, fig])\n",
    "myDashboard"
   ]
  },
  {
   "cell_type": "code",
   "execution_count": null,
   "id": "47e2609c",
   "metadata": {},
   "outputs": [],
   "source": []
  }
 ],
 "metadata": {
  "kernelspec": {
   "display_name": "Python 3 (ipykernel)",
   "language": "python",
   "name": "python3"
  },
  "language_info": {
   "codemirror_mode": {
    "name": "ipython",
    "version": 3
   },
   "file_extension": ".py",
   "mimetype": "text/x-python",
   "name": "python",
   "nbconvert_exporter": "python",
   "pygments_lexer": "ipython3",
   "version": "3.7.10"
  }
 },
 "nbformat": 4,
 "nbformat_minor": 5
}
