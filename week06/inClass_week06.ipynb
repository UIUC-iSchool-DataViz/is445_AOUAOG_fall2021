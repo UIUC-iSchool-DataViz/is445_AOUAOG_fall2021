{
 "cells": [
  {
   "cell_type": "markdown",
   "id": "respective-store",
   "metadata": {},
   "source": [
    "# In Class Notebook, Week 06"
   ]
  },
  {
   "cell_type": "markdown",
   "id": "2a597611",
   "metadata": {},
   "source": [
    "You can always paste the URL of this notebook (https://github.com/UIUC-iSchool-DataViz/is445_AOUAOG_fall2021/blob/master/week06/inClass_week06.ipynb ) into the nbviewer interface for a plain-text rendering:\n",
    "\n",
    "https://kokes.github.io/nbviewer.js/viewer.html"
   ]
  },
  {
   "cell_type": "code",
   "execution_count": 94,
   "id": "94323f19",
   "metadata": {},
   "outputs": [],
   "source": [
    "# importing our usual things:\n",
    "import numpy as np\n",
    "import ipywidgets\n",
    "import bqplot # new thing!"
   ]
  },
  {
   "cell_type": "code",
   "execution_count": 95,
   "id": "f2e7bd7d",
   "metadata": {},
   "outputs": [],
   "source": [
    "# 1. Data\n",
    "x = np.arange(100)"
   ]
  },
  {
   "cell_type": "code",
   "execution_count": 96,
   "id": "f90f9b34",
   "metadata": {},
   "outputs": [],
   "source": [
    "#x"
   ]
  },
  {
   "cell_type": "code",
   "execution_count": 97,
   "id": "8da53a90",
   "metadata": {},
   "outputs": [],
   "source": [
    "y = np.random.random(100) # random numbers your's might be different!"
   ]
  },
  {
   "cell_type": "code",
   "execution_count": 98,
   "id": "a76e07d9",
   "metadata": {},
   "outputs": [],
   "source": [
    "#y"
   ]
  },
  {
   "cell_type": "code",
   "execution_count": 99,
   "id": "7fc471ad",
   "metadata": {},
   "outputs": [],
   "source": [
    "# 2. Scales -- how will data translate to Marks\n",
    "bqplot.LinearScale?"
   ]
  },
  {
   "cell_type": "code",
   "execution_count": 100,
   "id": "40db3074",
   "metadata": {},
   "outputs": [],
   "source": [
    "x_sc = bqplot.LinearScale()\n",
    "y_sc = bqplot.LinearScale()"
   ]
  },
  {
   "cell_type": "code",
   "execution_count": 101,
   "id": "1cd37a5f",
   "metadata": {},
   "outputs": [
    {
     "data": {
      "text/plain": [
       "LinearScale()"
      ]
     },
     "execution_count": 101,
     "metadata": {},
     "output_type": "execute_result"
    }
   ],
   "source": [
    "x_sc"
   ]
  },
  {
   "cell_type": "code",
   "execution_count": 102,
   "id": "1be20887",
   "metadata": {},
   "outputs": [],
   "source": [
    "# 3. Marks -- how we draw the data, here I'm going to make a line plot, so I'll use a line mark\n",
    "bqplot.Lines?"
   ]
  },
  {
   "cell_type": "code",
   "execution_count": 103,
   "id": "ee2e1883",
   "metadata": {},
   "outputs": [],
   "source": [
    "lines = bqplot.Lines(x=x,y=y, scales={'x':x_sc, 'y':y_sc})"
   ]
  },
  {
   "cell_type": "code",
   "execution_count": 104,
   "id": "4dea7bbf",
   "metadata": {},
   "outputs": [],
   "source": [
    "#lines"
   ]
  },
  {
   "cell_type": "code",
   "execution_count": 105,
   "id": "673cd5db",
   "metadata": {},
   "outputs": [],
   "source": [
    "# 4. Axis\n",
    "bqplot.Axis?"
   ]
  },
  {
   "cell_type": "code",
   "execution_count": 106,
   "id": "b1382d7e",
   "metadata": {},
   "outputs": [],
   "source": [
    "ax_x = bqplot.Axis(scale=x_sc, label='X Value')\n",
    "ax_y = bqplot.Axis(scale=y_sc, label='Y Value', orientation='vertical')"
   ]
  },
  {
   "cell_type": "code",
   "execution_count": 107,
   "id": "7747aa50",
   "metadata": {},
   "outputs": [],
   "source": [
    "# 5. Around here there could be interactions defined, but not yet!"
   ]
  },
  {
   "cell_type": "code",
   "execution_count": 108,
   "id": "0fefee2e",
   "metadata": {},
   "outputs": [],
   "source": [
    "# 6. Finally put it all together as a figure\n",
    "fig = bqplot.Figure(marks=[lines], axes=[ax_x,ax_y])"
   ]
  },
  {
   "cell_type": "code",
   "execution_count": 109,
   "id": "e5c9297e",
   "metadata": {},
   "outputs": [
    {
     "data": {
      "application/vnd.jupyter.widget-view+json": {
       "model_id": "6ee4b3c407624cf19b6fa59a136fe1e2",
       "version_major": 2,
       "version_minor": 0
      },
      "text/plain": [
       "Figure(axes=[Axis(label='X Value', scale=LinearScale()), Axis(label='Y Value', orientation='vertical', scale=L…"
      ]
     },
     "metadata": {},
     "output_type": "display_data"
    }
   ],
   "source": [
    "fig # note here: display(fig) from IPython.display like in test homework 1 (if you have no image)"
   ]
  },
  {
   "cell_type": "code",
   "execution_count": 110,
   "id": "ea345425",
   "metadata": {},
   "outputs": [],
   "source": [
    "bqplot.interacts.PanZoom?"
   ]
  },
  {
   "cell_type": "code",
   "execution_count": 111,
   "id": "29b641f8",
   "metadata": {},
   "outputs": [],
   "source": [
    "pz = bqplot.interacts.PanZoom(scales={'x':[x_sc], 'y':[y_sc]})"
   ]
  },
  {
   "cell_type": "code",
   "execution_count": 112,
   "id": "79f2e2eb",
   "metadata": {},
   "outputs": [
    {
     "data": {
      "text/plain": [
       "PanZoom(scales={'x': [LinearScale()], 'y': [LinearScale()]})"
      ]
     },
     "execution_count": 112,
     "metadata": {},
     "output_type": "execute_result"
    }
   ],
   "source": [
    "pz"
   ]
  },
  {
   "cell_type": "code",
   "execution_count": 113,
   "id": "e169cf38",
   "metadata": {},
   "outputs": [
    {
     "data": {
      "application/vnd.jupyter.widget-view+json": {
       "model_id": "900b3953e5a54d86afb32d234ab16461",
       "version_major": 2,
       "version_minor": 0
      },
      "text/plain": [
       "Figure(axes=[Axis(label='X Value', scale=LinearScale()), Axis(label='Y Value', orientation='vertical', scale=L…"
      ]
     },
     "metadata": {},
     "output_type": "display_data"
    }
   ],
   "source": [
    "fig = bqplot.Figure(marks=[lines], axes=[ax_x,ax_y], interaction=pz)\n",
    "fig"
   ]
  },
  {
   "cell_type": "markdown",
   "id": "77df7028",
   "metadata": {},
   "source": [
    "Another example using random data:"
   ]
  },
  {
   "cell_type": "code",
   "execution_count": 114,
   "id": "395d6a26",
   "metadata": {},
   "outputs": [],
   "source": [
    "# 1. Data\n",
    "x = np.random.random(100)\n",
    "y = np.random.random(100)"
   ]
  },
  {
   "cell_type": "code",
   "execution_count": 115,
   "id": "418c741a",
   "metadata": {},
   "outputs": [],
   "source": [
    "# 2. scales\n",
    "x_sc = bqplot.LinearScale()\n",
    "y_sc = bqplot.LinearScale()"
   ]
  },
  {
   "cell_type": "code",
   "execution_count": 116,
   "id": "afd2d59e",
   "metadata": {},
   "outputs": [],
   "source": [
    "# 3. marks\n",
    "bqplot.Scatter?"
   ]
  },
  {
   "cell_type": "code",
   "execution_count": 117,
   "id": "68cf49e8",
   "metadata": {},
   "outputs": [],
   "source": [
    "scatters = bqplot.Scatter(x=x,y=y, scales={'x':x_sc, 'y':y_sc})"
   ]
  },
  {
   "cell_type": "code",
   "execution_count": 118,
   "id": "1458e536",
   "metadata": {},
   "outputs": [],
   "source": [
    "# 4. Axis\n",
    "x_ax = bqplot.Axis(scale=x_sc, label='X')\n",
    "y_ax = bqplot.Axis(scale=y_sc, label='Y', orientation='vertical')"
   ]
  },
  {
   "cell_type": "code",
   "execution_count": 119,
   "id": "5e2755c3",
   "metadata": {},
   "outputs": [],
   "source": [
    "# 5. interactions around here -- FastIntervalSelector\n",
    "selector = bqplot.interacts.FastIntervalSelector(scale=x_sc, marks=[scatters])"
   ]
  },
  {
   "cell_type": "code",
   "execution_count": 120,
   "id": "70621b16",
   "metadata": {},
   "outputs": [
    {
     "data": {
      "application/vnd.jupyter.widget-view+json": {
       "model_id": "efc1640cac8741eba7c5d40e9cfd1cd4",
       "version_major": 2,
       "version_minor": 0
      },
      "text/plain": [
       "Figure(axes=[Axis(label='X', scale=LinearScale()), Axis(label='Y', orientation='vertical', scale=LinearScale()…"
      ]
     },
     "metadata": {},
     "output_type": "display_data"
    }
   ],
   "source": [
    "# 6. Make the figure\n",
    "fig = bqplot.Figure(marks=[scatters], axes=[x_ax, y_ax], interaction = selector)\n",
    "fig"
   ]
  },
  {
   "cell_type": "code",
   "execution_count": 121,
   "id": "a1e76041",
   "metadata": {},
   "outputs": [
    {
     "data": {
      "text/plain": [
       "['_model_module',\n",
       " '_model_module_version',\n",
       " '_model_name',\n",
       " '_view_count',\n",
       " '_view_module',\n",
       " '_view_module_version',\n",
       " '_view_name',\n",
       " 'color',\n",
       " 'marks',\n",
       " 'scale',\n",
       " 'selected',\n",
       " 'size']"
      ]
     },
     "execution_count": 121,
     "metadata": {},
     "output_type": "execute_result"
    }
   ],
   "source": [
    "selector.keys"
   ]
  },
  {
   "cell_type": "code",
   "execution_count": 122,
   "id": "7af04797",
   "metadata": {},
   "outputs": [],
   "source": [
    "selector.selected"
   ]
  },
  {
   "cell_type": "code",
   "execution_count": 123,
   "id": "0fb5cb3e",
   "metadata": {},
   "outputs": [
    {
     "data": {
      "text/plain": [
       "['_model_module',\n",
       " '_model_module_version',\n",
       " '_model_name',\n",
       " '_view_count',\n",
       " '_view_module',\n",
       " '_view_module_version',\n",
       " '_view_name',\n",
       " 'apply_clip',\n",
       " 'color',\n",
       " 'colors',\n",
       " 'default_size',\n",
       " 'default_skew',\n",
       " 'display_legend',\n",
       " 'display_names',\n",
       " 'drag_color',\n",
       " 'drag_size',\n",
       " 'enable_delete',\n",
       " 'enable_hover',\n",
       " 'enable_move',\n",
       " 'fill',\n",
       " 'hovered_point',\n",
       " 'hovered_style',\n",
       " 'interactions',\n",
       " 'label_display_horizontal_offset',\n",
       " 'label_display_vertical_offset',\n",
       " 'labels',\n",
       " 'marker',\n",
       " 'names',\n",
       " 'names_unique',\n",
       " 'opacities',\n",
       " 'opacity',\n",
       " 'preserve_domain',\n",
       " 'restrict_x',\n",
       " 'restrict_y',\n",
       " 'rotation',\n",
       " 'scales',\n",
       " 'scales_metadata',\n",
       " 'selected',\n",
       " 'selected_style',\n",
       " 'size',\n",
       " 'skew',\n",
       " 'stroke',\n",
       " 'stroke_width',\n",
       " 'tooltip',\n",
       " 'tooltip_location',\n",
       " 'tooltip_style',\n",
       " 'unhovered_style',\n",
       " 'unselected_style',\n",
       " 'update_on_move',\n",
       " 'visible',\n",
       " 'x',\n",
       " 'y']"
      ]
     },
     "execution_count": 123,
     "metadata": {},
     "output_type": "execute_result"
    }
   ],
   "source": [
    "scatters.keys"
   ]
  },
  {
   "cell_type": "code",
   "execution_count": 124,
   "id": "47e68453",
   "metadata": {},
   "outputs": [],
   "source": [
    "scatters.unselected_style={'opacity':0.5} # a little see-through for unselected points"
   ]
  },
  {
   "cell_type": "code",
   "execution_count": 125,
   "id": "4503737a",
   "metadata": {},
   "outputs": [],
   "source": [
    "scatters.selected_style = {'fill':'red', 'stroke':'yellow'}"
   ]
  },
  {
   "cell_type": "code",
   "execution_count": 126,
   "id": "5ddd8f17",
   "metadata": {},
   "outputs": [
    {
     "data": {
      "application/vnd.jupyter.widget-view+json": {
       "model_id": "efc1640cac8741eba7c5d40e9cfd1cd4",
       "version_major": 2,
       "version_minor": 0
      },
      "text/plain": [
       "Figure(axes=[Axis(label='X', scale=LinearScale()), Axis(label='Y', orientation='vertical', scale=LinearScale()…"
      ]
     },
     "metadata": {},
     "output_type": "display_data"
    }
   ],
   "source": [
    "fig"
   ]
  },
  {
   "cell_type": "markdown",
   "id": "dfea8b99",
   "metadata": {},
   "source": [
    "## Random data in 2D"
   ]
  },
  {
   "cell_type": "code",
   "execution_count": 127,
   "id": "8f99d8ff",
   "metadata": {},
   "outputs": [],
   "source": [
    "# 1. data\n",
    "data = np.random.random((10,10))"
   ]
  },
  {
   "cell_type": "code",
   "execution_count": 128,
   "id": "5e2d8927",
   "metadata": {},
   "outputs": [
    {
     "data": {
      "text/plain": [
       "(10, 10)"
      ]
     },
     "execution_count": 128,
     "metadata": {},
     "output_type": "execute_result"
    }
   ],
   "source": [
    "data.shape"
   ]
  },
  {
   "cell_type": "code",
   "execution_count": 129,
   "id": "808ecd32",
   "metadata": {},
   "outputs": [],
   "source": [
    "bqplot.GridHeatMap?"
   ]
  },
  {
   "cell_type": "code",
   "execution_count": 130,
   "id": "bcc52d3b",
   "metadata": {},
   "outputs": [
    {
     "data": {
      "application/vnd.jupyter.widget-view+json": {
       "model_id": "5613e16a65e446e1854b7591196a78e9",
       "version_major": 2,
       "version_minor": 0
      },
      "text/plain": [
       "Figure(fig_margin={'top': 60, 'bottom': 60, 'left': 60, 'right': 60}, marks=[GridHeatMap(color=array([[0.31668…"
      ]
     },
     "metadata": {},
     "output_type": "display_data"
    }
   ],
   "source": [
    "# 2. Scales\n",
    "col_sc = bqplot.ColorScale() # like x/y scale, but in \"color space\"\n",
    "\n",
    "# 3. Marks\n",
    "heat_map = bqplot.GridHeatMap(color=data, scales={'color':col_sc})\n",
    "\n",
    "# 4. Axis \n",
    "# rows/columns, skipping for now\n",
    "# color bars\n",
    "\n",
    "# 5. Interactions, skipping as well\n",
    "\n",
    "# 6. Figure object\n",
    "fig = bqplot.Figure(marks=[heat_map])\n",
    "fig"
   ]
  },
  {
   "cell_type": "code",
   "execution_count": 131,
   "id": "57973ace",
   "metadata": {},
   "outputs": [
    {
     "data": {
      "application/vnd.jupyter.widget-view+json": {
       "model_id": "88ed746718bb4c6c999ba604b1122567",
       "version_major": 2,
       "version_minor": 0
      },
      "text/plain": [
       "Figure(fig_margin={'top': 60, 'bottom': 60, 'left': 60, 'right': 60}, marks=[GridHeatMap(color=array([[0.31668…"
      ]
     },
     "metadata": {},
     "output_type": "display_data"
    }
   ],
   "source": [
    "# 1. Data -- same as above\n",
    "\n",
    "# 2. Scales\n",
    "col_sc = bqplot.ColorScale(scheme = 'Reds') # like x/y scale, but in \"color space\"\n",
    "\n",
    "# 3. Marks\n",
    "heat_map = bqplot.GridHeatMap(color=data, scales={'color':col_sc})\n",
    "\n",
    "# 4. Axis \n",
    "# rows/columns, skipping for now\n",
    "# color bars\n",
    "\n",
    "# 5. Interactions, skipping as well\n",
    "\n",
    "# 6. Figure object\n",
    "fig = bqplot.Figure(marks=[heat_map])\n",
    "fig"
   ]
  },
  {
   "cell_type": "code",
   "execution_count": 132,
   "id": "37052cd5",
   "metadata": {},
   "outputs": [
    {
     "data": {
      "application/vnd.jupyter.widget-view+json": {
       "model_id": "2adcce61673041ef97b65b7f3bb70bc3",
       "version_major": 2,
       "version_minor": 0
      },
      "text/plain": [
       "Figure(axes=[ColorAxis(orientation='vertical', scale=ColorScale(scheme='Reds'), side='right')], fig_margin={'t…"
      ]
     },
     "metadata": {},
     "output_type": "display_data"
    }
   ],
   "source": [
    "# 1. Data -- same as above\n",
    "\n",
    "# 2. Scales\n",
    "col_sc = bqplot.ColorScale(scheme = 'Reds') # like x/y scale, but in \"color space\"\n",
    "\n",
    "# 3. Marks\n",
    "heat_map = bqplot.GridHeatMap(color=data, scales={'color':col_sc})\n",
    "\n",
    "# 4. Axis \n",
    "c_ax = bqplot.ColorAxis(scale=col_sc, orientation='vertical', side='right')\n",
    "\n",
    "# 5. Interactions, skipping as well\n",
    "\n",
    "# 6. Figure object\n",
    "fig = bqplot.Figure(marks=[heat_map], axes=[c_ax])\n",
    "fig"
   ]
  },
  {
   "cell_type": "code",
   "execution_count": 133,
   "id": "ea89c335",
   "metadata": {},
   "outputs": [
    {
     "data": {
      "application/vnd.jupyter.widget-view+json": {
       "model_id": "0ff74131f2d54490b47528df0fef0bcb",
       "version_major": 2,
       "version_minor": 0
      },
      "text/plain": [
       "Figure(axes=[ColorAxis(orientation='vertical', scale=ColorScale(scheme='Reds'), side='right'), Axis(scale=Ordi…"
      ]
     },
     "metadata": {},
     "output_type": "display_data"
    }
   ],
   "source": [
    "# 1. Data -- same as above\n",
    "\n",
    "# 2. Scales\n",
    "col_sc = bqplot.ColorScale(scheme = 'Reds') # like x/y scale, but in \"color space\"\n",
    "x_sc = bqplot.OrdinalScale() # ordered, categorical data, because our bins are more like categorical bins\n",
    "y_sc = bqplot.OrdinalScale()\n",
    "\n",
    "# 3. Marks\n",
    "heat_map = bqplot.GridHeatMap(color=data, scales={'color':col_sc, 'row':y_sc, 'column':x_sc})\n",
    "# note: we can pass arrays/lists of names for each categorical column, here we are just\n",
    "#. passing the scales\n",
    "\n",
    "# 4. Axis \n",
    "c_ax = bqplot.ColorAxis(scale=col_sc, orientation='vertical', side='right')\n",
    "x_ax = bqplot.Axis(scale=x_sc)\n",
    "y_ax = bqplot.Axis(scale=y_sc, orientation='vertical')\n",
    "\n",
    "# 5. Interactions, skipping as well\n",
    "\n",
    "# 6. Figure object\n",
    "fig = bqplot.Figure(marks=[heat_map], axes=[c_ax, x_ax, y_ax])\n",
    "fig"
   ]
  },
  {
   "cell_type": "code",
   "execution_count": 134,
   "id": "450c88b5",
   "metadata": {},
   "outputs": [
    {
     "data": {
      "text/plain": [
       "['_model_module',\n",
       " '_model_module_version',\n",
       " '_model_name',\n",
       " '_view_count',\n",
       " '_view_module',\n",
       " '_view_module_version',\n",
       " '_view_name',\n",
       " 'anchor_style',\n",
       " 'apply_clip',\n",
       " 'color',\n",
       " 'column',\n",
       " 'column_align',\n",
       " 'display_format',\n",
       " 'display_legend',\n",
       " 'enable_hover',\n",
       " 'font_style',\n",
       " 'interactions',\n",
       " 'labels',\n",
       " 'null_color',\n",
       " 'opacity',\n",
       " 'preserve_domain',\n",
       " 'row',\n",
       " 'row_align',\n",
       " 'scales',\n",
       " 'scales_metadata',\n",
       " 'selected',\n",
       " 'selected_style',\n",
       " 'stroke',\n",
       " 'tooltip',\n",
       " 'tooltip_location',\n",
       " 'tooltip_style',\n",
       " 'unselected_style',\n",
       " 'visible']"
      ]
     },
     "execution_count": 134,
     "metadata": {},
     "output_type": "execute_result"
    }
   ],
   "source": [
    "heat_map.keys"
   ]
  },
  {
   "cell_type": "code",
   "execution_count": 135,
   "id": "fffebdb9",
   "metadata": {},
   "outputs": [
    {
     "data": {
      "application/vnd.jupyter.widget-view+json": {
       "model_id": "fb180bc093474bcda8d731c74b5297ff",
       "version_major": 2,
       "version_minor": 0
      },
      "text/plain": [
       "Figure(axes=[ColorAxis(orientation='vertical', scale=ColorScale(scheme='Reds'), side='right'), Axis(scale=Ordi…"
      ]
     },
     "metadata": {},
     "output_type": "display_data"
    }
   ],
   "source": [
    "# 1. Data -- same as above\n",
    "\n",
    "# 2. Scales\n",
    "col_sc = bqplot.ColorScale(scheme = 'Reds') # like x/y scale, but in \"color space\"\n",
    "x_sc = bqplot.OrdinalScale() # ordered, categorical data, because our bins are more like categorical bins\n",
    "y_sc = bqplot.OrdinalScale()\n",
    "\n",
    "# 3. Marks\n",
    "heat_map = bqplot.GridHeatMap(color=data, scales={'color':col_sc, 'row':y_sc, 'column':x_sc},\n",
    "                             interactions={'click':'select'},\n",
    "                             selected_style={'opacity':1.0}, \n",
    "                             unselected_style={'opacity':0.8}, \n",
    "                             anchor_style={'fill':'blue'})\n",
    "# note: we can pass arrays/lists of names for each categorical column, here we are just\n",
    "#. passing the scales\n",
    "\n",
    "# 4. Axis \n",
    "c_ax = bqplot.ColorAxis(scale=col_sc, orientation='vertical', side='right')\n",
    "x_ax = bqplot.Axis(scale=x_sc)\n",
    "y_ax = bqplot.Axis(scale=y_sc, orientation='vertical')\n",
    "\n",
    "# 5. Interactions, skipping as well\n",
    "\n",
    "# 6. Figure object\n",
    "fig = bqplot.Figure(marks=[heat_map], axes=[c_ax, x_ax, y_ax])\n",
    "fig"
   ]
  },
  {
   "cell_type": "code",
   "execution_count": 136,
   "id": "7d8b584e",
   "metadata": {},
   "outputs": [
    {
     "data": {
      "application/vnd.jupyter.widget-view+json": {
       "model_id": "ff8c024fa9f5447aa198ad943cbf0dab",
       "version_major": 2,
       "version_minor": 0
      },
      "text/plain": [
       "Figure(axes=[ColorAxis(orientation='vertical', scale=ColorScale(scheme='Reds'), side='right'), Axis(scale=Ordi…"
      ]
     },
     "metadata": {},
     "output_type": "display_data"
    }
   ],
   "source": [
    "# 1. Data -- same as above\n",
    "\n",
    "# 2. Scales\n",
    "col_sc = bqplot.ColorScale(scheme = 'Reds') # like x/y scale, but in \"color space\"\n",
    "x_sc = bqplot.OrdinalScale() # ordered, categorical data, because our bins are more like categorical bins\n",
    "y_sc = bqplot.OrdinalScale()\n",
    "\n",
    "# 3. Marks\n",
    "heat_map = bqplot.GridHeatMap(color=data, scales={'color':col_sc, 'row':y_sc, 'column':x_sc},\n",
    "                             interactions={'click':'select'},\n",
    "                             anchor_style={'fill':'blue'})\n",
    "# note: we can pass arrays/lists of names for each categorical column, here we are just\n",
    "#. passing the scales\n",
    "\n",
    "# 4. Axis \n",
    "c_ax = bqplot.ColorAxis(scale=col_sc, orientation='vertical', side='right')\n",
    "x_ax = bqplot.Axis(scale=x_sc)\n",
    "y_ax = bqplot.Axis(scale=y_sc, orientation='vertical')\n",
    "\n",
    "# 5. Interactions, skipping as well\n",
    "\n",
    "# 6. Figure object\n",
    "fig = bqplot.Figure(marks=[heat_map], axes=[c_ax, x_ax, y_ax])\n",
    "fig"
   ]
  },
  {
   "cell_type": "code",
   "execution_count": 137,
   "id": "e9436a86",
   "metadata": {},
   "outputs": [],
   "source": [
    "heat_map.selected"
   ]
  },
  {
   "cell_type": "code",
   "execution_count": 138,
   "id": "51b940a2",
   "metadata": {},
   "outputs": [],
   "source": [
    "mySelectedLabel = ipywidgets.Label() # update what the value of the data in our selected bin is"
   ]
  },
  {
   "cell_type": "code",
   "execution_count": 139,
   "id": "4d38e6d5",
   "metadata": {},
   "outputs": [],
   "source": [
    "def on_selected(change): # take a look at what changes when I select a new bin\n",
    "    print(change)"
   ]
  },
  {
   "cell_type": "code",
   "execution_count": 140,
   "id": "c746702e",
   "metadata": {},
   "outputs": [
    {
     "data": {
      "application/vnd.jupyter.widget-view+json": {
       "model_id": "519cc9f4f2fe495686636992049c9ce2",
       "version_major": 2,
       "version_minor": 0
      },
      "text/plain": [
       "Figure(axes=[ColorAxis(orientation='vertical', scale=ColorScale(scheme='Reds'), side='right'), Axis(scale=Ordi…"
      ]
     },
     "metadata": {},
     "output_type": "display_data"
    }
   ],
   "source": [
    "# 1. Data -- same as above\n",
    "\n",
    "# 2. Scales\n",
    "col_sc = bqplot.ColorScale(scheme = 'Reds') # like x/y scale, but in \"color space\"\n",
    "x_sc = bqplot.OrdinalScale() # ordered, categorical data, because our bins are more like categorical bins\n",
    "y_sc = bqplot.OrdinalScale()\n",
    "\n",
    "# 3. Marks\n",
    "heat_map = bqplot.GridHeatMap(color=data, scales={'color':col_sc, 'row':y_sc, 'column':x_sc},\n",
    "                             interactions={'click':'select'},\n",
    "                             anchor_style={'fill':'blue'})\n",
    "# note: we can pass arrays/lists of names for each categorical column, here we are just\n",
    "#. passing the scales\n",
    "\n",
    "# 4. Axis \n",
    "c_ax = bqplot.ColorAxis(scale=col_sc, orientation='vertical', side='right')\n",
    "x_ax = bqplot.Axis(scale=x_sc)\n",
    "y_ax = bqplot.Axis(scale=y_sc, orientation='vertical')\n",
    "\n",
    "# 5. Interactions\n",
    "heat_map.observe(on_selected,'selected')\n",
    "\n",
    "# 6. Figure object\n",
    "fig = bqplot.Figure(marks=[heat_map], axes=[c_ax, x_ax, y_ax])\n",
    "fig"
   ]
  },
  {
   "cell_type": "code",
   "execution_count": 141,
   "id": "41fbbc81",
   "metadata": {},
   "outputs": [
    {
     "data": {
      "application/vnd.jupyter.widget-view+json": {
       "model_id": "5b1ec4cb2bc4468e95d4b271621fb0b5",
       "version_major": 2,
       "version_minor": 0
      },
      "text/plain": [
       "Figure(axes=[ColorAxis(orientation='vertical', scale=ColorScale(scheme='Reds'), side='right'), Axis(scale=Ordi…"
      ]
     },
     "metadata": {},
     "output_type": "display_data"
    }
   ],
   "source": [
    "# 1. Data -- same as above\n",
    "\n",
    "# 2. Scales\n",
    "col_sc = bqplot.ColorScale(scheme = 'Reds') # like x/y scale, but in \"color space\"\n",
    "x_sc = bqplot.OrdinalScale() # ordered, categorical data, because our bins are more like categorical bins\n",
    "y_sc = bqplot.OrdinalScale()\n",
    "\n",
    "# 3. Marks\n",
    "heat_map = bqplot.GridHeatMap(color=data, scales={'color':col_sc, 'row':y_sc, 'column':x_sc},\n",
    "                             interactions={'click':'select'},\n",
    "                             anchor_style={'fill':'blue'})\n",
    "# note: we can pass arrays/lists of names for each categorical column, here we are just\n",
    "#. passing the scales\n",
    "\n",
    "# 4. Axis \n",
    "c_ax = bqplot.ColorAxis(scale=col_sc, orientation='vertical', side='right')\n",
    "x_ax = bqplot.Axis(scale=x_sc)\n",
    "y_ax = bqplot.Axis(scale=y_sc, orientation='vertical')\n",
    "\n",
    "# 5. Interactions\n",
    "def on_selected(change): # take a look at what changes when I select a new bin\n",
    "    print(change['owner'].selected)\n",
    "heat_map.observe(on_selected,'selected')\n",
    "\n",
    "# 6. Figure object\n",
    "fig = bqplot.Figure(marks=[heat_map], axes=[c_ax, x_ax, y_ax])\n",
    "fig"
   ]
  },
  {
   "cell_type": "code",
   "execution_count": 142,
   "id": "a4a824ad",
   "metadata": {},
   "outputs": [
    {
     "data": {
      "application/vnd.jupyter.widget-view+json": {
       "model_id": "b49e1475bb0541a2b1954bb9eb42cf60",
       "version_major": 2,
       "version_minor": 0
      },
      "text/plain": [
       "Figure(axes=[ColorAxis(orientation='vertical', scale=ColorScale(scheme='Reds'), side='right'), Axis(scale=Ordi…"
      ]
     },
     "metadata": {},
     "output_type": "display_data"
    }
   ],
   "source": [
    "# 1. Data -- same as above\n",
    "\n",
    "# 2. Scales\n",
    "col_sc = bqplot.ColorScale(scheme = 'Reds') # like x/y scale, but in \"color space\"\n",
    "x_sc = bqplot.OrdinalScale() # ordered, categorical data, because our bins are more like categorical bins\n",
    "y_sc = bqplot.OrdinalScale()\n",
    "\n",
    "# 3. Marks\n",
    "heat_map = bqplot.GridHeatMap(color=data, scales={'color':col_sc, 'row':y_sc, 'column':x_sc},\n",
    "                             interactions={'click':'select'},\n",
    "                             anchor_style={'fill':'blue'})\n",
    "# note: we can pass arrays/lists of names for each categorical column, here we are just\n",
    "#. passing the scales\n",
    "\n",
    "# 4. Axis \n",
    "c_ax = bqplot.ColorAxis(scale=col_sc, orientation='vertical', side='right')\n",
    "x_ax = bqplot.Axis(scale=x_sc)\n",
    "y_ax = bqplot.Axis(scale=y_sc, orientation='vertical')\n",
    "\n",
    "# 5. Interactions\n",
    "def on_selected(change): # take a look at what changes when I select a new bin\n",
    "    if len(change['owner'].selected) == 1: # checking that user is only selecting one element\n",
    "        print(change['owner'].selected[0]) # printing that single element\n",
    "    \n",
    "heat_map.observe(on_selected,'selected')\n",
    "\n",
    "# 6. Figure object\n",
    "fig = bqplot.Figure(marks=[heat_map], axes=[c_ax, x_ax, y_ax])\n",
    "fig"
   ]
  },
  {
   "cell_type": "code",
   "execution_count": 143,
   "id": "233bd554",
   "metadata": {},
   "outputs": [
    {
     "data": {
      "application/vnd.jupyter.widget-view+json": {
       "model_id": "30824c9c95484da7b0f2108c1f40f15e",
       "version_major": 2,
       "version_minor": 0
      },
      "text/plain": [
       "Figure(axes=[ColorAxis(orientation='vertical', scale=ColorScale(scheme='Reds'), side='right'), Axis(scale=Ordi…"
      ]
     },
     "metadata": {},
     "output_type": "display_data"
    }
   ],
   "source": [
    "# 1. Data -- same as above\n",
    "\n",
    "# 2. Scales\n",
    "col_sc = bqplot.ColorScale(scheme = 'Reds') # like x/y scale, but in \"color space\"\n",
    "x_sc = bqplot.OrdinalScale() # ordered, categorical data, because our bins are more like categorical bins\n",
    "y_sc = bqplot.OrdinalScale()\n",
    "\n",
    "# 3. Marks\n",
    "heat_map = bqplot.GridHeatMap(color=data, scales={'color':col_sc, 'row':y_sc, 'column':x_sc},\n",
    "                             interactions={'click':'select'},\n",
    "                             anchor_style={'fill':'blue'})\n",
    "# note: we can pass arrays/lists of names for each categorical column, here we are just\n",
    "#. passing the scales\n",
    "\n",
    "# 4. Axis \n",
    "c_ax = bqplot.ColorAxis(scale=col_sc, orientation='vertical', side='right')\n",
    "x_ax = bqplot.Axis(scale=x_sc)\n",
    "y_ax = bqplot.Axis(scale=y_sc, orientation='vertical')\n",
    "\n",
    "# 5. Interactions\n",
    "def on_selected(change): # take a look at what changes when I select a new bin\n",
    "    if len(change['owner'].selected) == 1: # checking that user is only selecting one element\n",
    "        print(change['owner'].selected[0]) # printing that single element\n",
    "        i,j = change['owner'].selected[0]\n",
    "        val = data[i,j]\n",
    "        print('value=',val)\n",
    "    \n",
    "heat_map.observe(on_selected,'selected')\n",
    "\n",
    "# 6. Figure object\n",
    "fig = bqplot.Figure(marks=[heat_map], axes=[c_ax, x_ax, y_ax])\n",
    "fig"
   ]
  },
  {
   "cell_type": "code",
   "execution_count": 144,
   "id": "ef7166be",
   "metadata": {},
   "outputs": [],
   "source": [
    "mySelectedLabel.value = 'Hello!'"
   ]
  },
  {
   "cell_type": "code",
   "execution_count": 145,
   "id": "053e01d9",
   "metadata": {},
   "outputs": [
    {
     "data": {
      "application/vnd.jupyter.widget-view+json": {
       "model_id": "0528727303ec4340a14ca270299c8489",
       "version_major": 2,
       "version_minor": 0
      },
      "text/plain": [
       "Label(value='Hello!')"
      ]
     },
     "metadata": {},
     "output_type": "display_data"
    }
   ],
   "source": [
    "mySelectedLabel"
   ]
  },
  {
   "cell_type": "code",
   "execution_count": 146,
   "id": "32c1053a",
   "metadata": {},
   "outputs": [
    {
     "data": {
      "application/vnd.jupyter.widget-view+json": {
       "model_id": "c3ac6709ee494cba830e4acb991acc6f",
       "version_major": 2,
       "version_minor": 0
      },
      "text/plain": [
       "Figure(axes=[ColorAxis(orientation='vertical', scale=ColorScale(scheme='Reds'), side='right'), Axis(scale=Ordi…"
      ]
     },
     "metadata": {},
     "output_type": "display_data"
    }
   ],
   "source": [
    "# 1. Data -- same as above\n",
    "\n",
    "# 2. Scales\n",
    "col_sc = bqplot.ColorScale(scheme = 'Reds') # like x/y scale, but in \"color space\"\n",
    "x_sc = bqplot.OrdinalScale() # ordered, categorical data, because our bins are more like categorical bins\n",
    "y_sc = bqplot.OrdinalScale()\n",
    "\n",
    "# 3. Marks\n",
    "heat_map = bqplot.GridHeatMap(color=data, scales={'color':col_sc, 'row':y_sc, 'column':x_sc},\n",
    "                             interactions={'click':'select'},\n",
    "                             anchor_style={'fill':'blue'})\n",
    "# note: we can pass arrays/lists of names for each categorical column, here we are just\n",
    "#. passing the scales\n",
    "\n",
    "# 4. Axis \n",
    "c_ax = bqplot.ColorAxis(scale=col_sc, orientation='vertical', side='right')\n",
    "x_ax = bqplot.Axis(scale=x_sc)\n",
    "y_ax = bqplot.Axis(scale=y_sc, orientation='vertical')\n",
    "\n",
    "# 5. Interactions\n",
    "def on_selected(change): # take a look at what changes when I select a new bin\n",
    "    if len(change['owner'].selected) == 1: # checking that user is only selecting one element\n",
    "        #print(change['owner'].selected[0]) # printing that single element\n",
    "        i,j = change['owner'].selected[0]\n",
    "        val = data[i,j]\n",
    "        #print('value=',val)\n",
    "        mySelectedLabel.value = 'Data Value='+str(val)\n",
    "        \n",
    "heat_map.observe(on_selected,'selected')\n",
    "\n",
    "# 6. Figure object\n",
    "fig = bqplot.Figure(marks=[heat_map], axes=[c_ax, x_ax, y_ax])\n",
    "fig"
   ]
  },
  {
   "cell_type": "code",
   "execution_count": 147,
   "id": "8528ebbd",
   "metadata": {},
   "outputs": [
    {
     "data": {
      "application/vnd.jupyter.widget-view+json": {
       "model_id": "0528727303ec4340a14ca270299c8489",
       "version_major": 2,
       "version_minor": 0
      },
      "text/plain": [
       "Label(value='Hello!')"
      ]
     },
     "metadata": {},
     "output_type": "display_data"
    }
   ],
   "source": [
    "mySelectedLabel"
   ]
  },
  {
   "cell_type": "code",
   "execution_count": 148,
   "id": "7f017884",
   "metadata": {},
   "outputs": [
    {
     "data": {
      "application/vnd.jupyter.widget-view+json": {
       "model_id": "1f1e3a0b82694e6db57288eb2826371d",
       "version_major": 2,
       "version_minor": 0
      },
      "text/plain": [
       "VBox(children=(Label(value='Hello!'), Figure(axes=[ColorAxis(orientation='vertical', scale=ColorScale(scheme='…"
      ]
     },
     "metadata": {},
     "output_type": "display_data"
    }
   ],
   "source": [
    "# 1. Data -- same as above\n",
    "\n",
    "# 2. Scales\n",
    "col_sc = bqplot.ColorScale(scheme = 'Reds') # like x/y scale, but in \"color space\"\n",
    "x_sc = bqplot.OrdinalScale() # ordered, categorical data, because our bins are more like categorical bins\n",
    "y_sc = bqplot.OrdinalScale()\n",
    "\n",
    "# 3. Marks\n",
    "heat_map = bqplot.GridHeatMap(color=data, scales={'color':col_sc, 'row':y_sc, 'column':x_sc},\n",
    "                             interactions={'click':'select'},\n",
    "                             anchor_style={'fill':'blue'})\n",
    "# note: we can pass arrays/lists of names for each categorical column, here we are just\n",
    "#. passing the scales\n",
    "\n",
    "# 4. Axis \n",
    "c_ax = bqplot.ColorAxis(scale=col_sc, orientation='vertical', side='right')\n",
    "x_ax = bqplot.Axis(scale=x_sc)\n",
    "y_ax = bqplot.Axis(scale=y_sc, orientation='vertical')\n",
    "\n",
    "# 5. Interactions\n",
    "def on_selected(change): # take a look at what changes when I select a new bin\n",
    "    if len(change['owner'].selected) == 1: # checking that user is only selecting one element\n",
    "        #print(change['owner'].selected[0]) # printing that single element\n",
    "        i,j = change['owner'].selected[0]\n",
    "        val = data[i,j]\n",
    "        #print('value=',val)\n",
    "        mySelectedLabel.value = 'Data Value='+str(val)\n",
    "        \n",
    "heat_map.observe(on_selected,'selected')\n",
    "\n",
    "# 6. Figure object\n",
    "fig = bqplot.Figure(marks=[heat_map], axes=[c_ax, x_ax, y_ax])\n",
    "#fig\n",
    "myDashboard = ipywidgets.VBox([mySelectedLabel, fig])\n",
    "myDashboard"
   ]
  },
  {
   "cell_type": "code",
   "execution_count": 149,
   "id": "83c6a43a",
   "metadata": {},
   "outputs": [
    {
     "data": {
      "text/plain": [
       "(10, 10)"
      ]
     },
     "execution_count": 149,
     "metadata": {},
     "output_type": "execute_result"
    }
   ],
   "source": [
    "data.shape"
   ]
  },
  {
   "cell_type": "markdown",
   "id": "87d9d45c",
   "metadata": {},
   "source": [
    "## Random 3D data"
   ]
  },
  {
   "cell_type": "code",
   "execution_count": 150,
   "id": "f276ed31",
   "metadata": {},
   "outputs": [],
   "source": [
    "data3d = np.random.random((10,10,20))"
   ]
  },
  {
   "cell_type": "code",
   "execution_count": 151,
   "id": "ee4a6d5b",
   "metadata": {},
   "outputs": [
    {
     "data": {
      "text/plain": [
       "(10, 10, 20)"
      ]
     },
     "execution_count": 151,
     "metadata": {},
     "output_type": "execute_result"
    }
   ],
   "source": [
    "data3d.shape"
   ]
  },
  {
   "cell_type": "code",
   "execution_count": 152,
   "id": "3113e19d",
   "metadata": {},
   "outputs": [
    {
     "data": {
      "text/plain": [
       "array([0.78049171, 0.82489399, 0.2987436 , 0.44961247, 0.59908696,\n",
       "       0.91839418, 0.98287174, 0.57038195, 0.2654955 , 0.73690975,\n",
       "       0.4314573 , 0.76499333, 0.17197914, 0.0149645 , 0.90430041,\n",
       "       0.40158653, 0.73123691, 0.53645892, 0.55290778, 0.99642453])"
      ]
     },
     "execution_count": 152,
     "metadata": {},
     "output_type": "execute_result"
    }
   ],
   "source": [
    "data3d[0,0,:]"
   ]
  },
  {
   "cell_type": "code",
   "execution_count": 153,
   "id": "e000e031",
   "metadata": {},
   "outputs": [
    {
     "data": {
      "text/plain": [
       "(10, 10)"
      ]
     },
     "execution_count": 153,
     "metadata": {},
     "output_type": "execute_result"
    }
   ],
   "source": [
    "np.sum(data3d,axis=2).shape"
   ]
  },
  {
   "cell_type": "code",
   "execution_count": 154,
   "id": "278d8d1d",
   "metadata": {},
   "outputs": [
    {
     "data": {
      "text/plain": [
       "1006.4638807957647"
      ]
     },
     "execution_count": 154,
     "metadata": {},
     "output_type": "execute_result"
    }
   ],
   "source": [
    "np.sum(data3d)"
   ]
  },
  {
   "cell_type": "code",
   "execution_count": 155,
   "id": "2b26491c",
   "metadata": {},
   "outputs": [
    {
     "data": {
      "text/plain": [
       "(10, 20)"
      ]
     },
     "execution_count": 155,
     "metadata": {},
     "output_type": "execute_result"
    }
   ],
   "source": [
    "np.sum(data3d,axis=1).shape"
   ]
  },
  {
   "cell_type": "code",
   "execution_count": 156,
   "id": "a5055340",
   "metadata": {},
   "outputs": [
    {
     "data": {
      "text/plain": [
       "array([[11.9331912 , 10.78378424,  6.42520138,  9.48815692, 11.13529782,\n",
       "        11.08060188, 10.20827127, 10.22838968, 10.66786284, 10.03951323],\n",
       "       [ 8.43060234, 10.2142163 , 10.21569325, 12.16429069, 10.72924859,\n",
       "        11.13413111, 12.68512724, 10.45967494, 12.35158097, 11.49798836],\n",
       "       [11.76558685, 11.67768783,  9.37879036, 10.29065162,  7.68691077,\n",
       "        12.18617109,  9.70741001, 10.08290206,  9.18989497, 10.40927819],\n",
       "       [ 8.6320413 , 11.28857738, 11.52152003, 10.10813916, 11.83034781,\n",
       "         9.558716  , 10.46315126,  8.20913405, 10.17998919,  9.89327407],\n",
       "       [11.3403207 ,  8.10010889, 10.85254886, 10.19880518, 10.39826513,\n",
       "         9.47664428,  7.63792   ,  9.06518094,  7.51979746,  9.9338682 ],\n",
       "       [ 8.36094856,  9.46450438, 10.41568385, 11.98789689,  8.34584908,\n",
       "        10.04951075,  8.91019141,  9.67919299,  9.29377743,  9.01754329],\n",
       "       [11.15084302, 11.89194942,  9.5115019 ,  9.23141127, 11.33250933,\n",
       "         9.10553145, 10.19466703, 11.9514352 ,  9.6517091 ,  9.44953108],\n",
       "       [ 9.40283272, 10.39303137,  7.67269331, 10.54483178, 10.97902978,\n",
       "        12.12165693, 11.10803216,  9.50533964, 12.78986813, 10.17113715],\n",
       "       [10.94385814,  9.16031094,  8.89212076,  9.60838389,  9.08318849,\n",
       "        10.28443115, 10.23664871,  9.11526943,  7.58496211,  8.35047867],\n",
       "       [ 9.00998424,  9.29050414,  6.02996258,  9.11800859, 12.02396922,\n",
       "         9.54508925, 12.75768478, 10.48926993,  8.91039251, 11.88826495]])"
      ]
     },
     "execution_count": 156,
     "metadata": {},
     "output_type": "execute_result"
    }
   ],
   "source": [
    "np.sum(data3d,axis=2)"
   ]
  },
  {
   "cell_type": "code",
   "execution_count": 157,
   "id": "5c857c91",
   "metadata": {},
   "outputs": [
    {
     "data": {
      "application/vnd.jupyter.widget-view+json": {
       "model_id": "6ba93b8ecb1249b8aa5fdad79052d1ce",
       "version_major": 2,
       "version_minor": 0
      },
      "text/plain": [
       "VBox(children=(Label(value='Hello!'), Figure(axes=[ColorAxis(orientation='vertical', scale=ColorScale(scheme='…"
      ]
     },
     "metadata": {},
     "output_type": "display_data"
    }
   ],
   "source": [
    "# 1. Data -- same as above\n",
    "\n",
    "# 2. Scales\n",
    "col_sc = bqplot.ColorScale(scheme = 'Reds') # like x/y scale, but in \"color space\"\n",
    "x_sc = bqplot.OrdinalScale() # ordered, categorical data, because our bins are more like categorical bins\n",
    "y_sc = bqplot.OrdinalScale()\n",
    "\n",
    "# 3. Marks\n",
    "heat_map = bqplot.GridHeatMap(color=np.sum(data3d,axis=2), \n",
    "                              scales={'color':col_sc, 'row':y_sc, 'column':x_sc},\n",
    "                             interactions={'click':'select'},\n",
    "                             anchor_style={'fill':'blue'})\n",
    "# note: we can pass arrays/lists of names for each categorical column, here we are just\n",
    "#. passing the scales\n",
    "\n",
    "# 4. Axis \n",
    "c_ax = bqplot.ColorAxis(scale=col_sc, orientation='vertical', side='right')\n",
    "x_ax = bqplot.Axis(scale=x_sc)\n",
    "y_ax = bqplot.Axis(scale=y_sc, orientation='vertical')\n",
    "\n",
    "# # 5. Interactions\n",
    "# def on_selected(change): # take a look at what changes when I select a new bin\n",
    "#     if len(change['owner'].selected) == 1: # checking that user is only selecting one element\n",
    "#         #print(change['owner'].selected[0]) # printing that single element\n",
    "#         i,j = change['owner'].selected[0]\n",
    "#         val = data[i,j]\n",
    "#         #print('value=',val)\n",
    "#         mySelectedLabel.value = 'Data Value='+str(val)\n",
    "        \n",
    "# heat_map.observe(on_selected,'selected')\n",
    "\n",
    "# 6. Figure object\n",
    "fig = bqplot.Figure(marks=[heat_map], axes=[c_ax, x_ax, y_ax])\n",
    "#fig\n",
    "myDashboard = ipywidgets.VBox([mySelectedLabel, fig])\n",
    "myDashboard"
   ]
  },
  {
   "cell_type": "markdown",
   "id": "95ee8390",
   "metadata": {},
   "source": [
    "Note: the mySelectedLabel is tied to the original 2D plot!  *And* there are NO interactions to this plot (yet!)"
   ]
  },
  {
   "cell_type": "code",
   "execution_count": 159,
   "id": "5f9ccf81",
   "metadata": {},
   "outputs": [
    {
     "data": {
      "application/vnd.jupyter.widget-view+json": {
       "model_id": "d44547f552d545bb84c4c19f517fe31b",
       "version_major": 2,
       "version_minor": 0
      },
      "text/plain": [
       "VBox(children=(Label(value='Data Value=[0.43379925 0.85712287 0.97032979 0.88652661 0.09081377 0.80583224\\n 0.…"
      ]
     },
     "metadata": {},
     "output_type": "display_data"
    }
   ],
   "source": [
    "# 1. Data -- same as above\n",
    "\n",
    "# 2. Scales\n",
    "col_sc = bqplot.ColorScale(scheme = 'Reds') # like x/y scale, but in \"color space\"\n",
    "x_sc = bqplot.OrdinalScale() # ordered, categorical data, because our bins are more like categorical bins\n",
    "y_sc = bqplot.OrdinalScale()\n",
    "\n",
    "# 3. Marks\n",
    "heat_map = bqplot.GridHeatMap(color=np.sum(data3d,axis=2), \n",
    "                              scales={'color':col_sc, 'row':y_sc, 'column':x_sc},\n",
    "                             interactions={'click':'select'},\n",
    "                             anchor_style={'fill':'blue'})\n",
    "# note: we can pass arrays/lists of names for each categorical column, here we are just\n",
    "#. passing the scales\n",
    "\n",
    "# 4. Axis \n",
    "c_ax = bqplot.ColorAxis(scale=col_sc, orientation='vertical', side='right')\n",
    "x_ax = bqplot.Axis(scale=x_sc)\n",
    "y_ax = bqplot.Axis(scale=y_sc, orientation='vertical')\n",
    "\n",
    "# 5. Interactions\n",
    "def on_selected(change): # take a look at what changes when I select a new bin\n",
    "    if len(change['owner'].selected) == 1: # checking that user is only selecting one element\n",
    "        #print(change['owner'].selected[0]) # printing that single element\n",
    "        i,j = change['owner'].selected[0]\n",
    "        val = np.sum(data3d[i,j])\n",
    "        #print('value=',val)\n",
    "        mySelectedLabel.value = 'Data Sum='+str(val)\n",
    "        \n",
    "heat_map.observe(on_selected,'selected')\n",
    "\n",
    "# 6. Figure object\n",
    "fig = bqplot.Figure(marks=[heat_map], axes=[c_ax, x_ax, y_ax])\n",
    "#fig\n",
    "myDashboard = ipywidgets.VBox([mySelectedLabel, fig])\n",
    "myDashboard"
   ]
  },
  {
   "cell_type": "markdown",
   "id": "3c238ae0",
   "metadata": {},
   "source": [
    "### Getting started on the 3rd of our dashboard -- Histogram!"
   ]
  },
  {
   "cell_type": "code",
   "execution_count": 161,
   "id": "4ef9faa4",
   "metadata": {},
   "outputs": [],
   "source": [
    "data1d = data3d[0,0,:]"
   ]
  },
  {
   "cell_type": "code",
   "execution_count": 162,
   "id": "c49902a9",
   "metadata": {},
   "outputs": [
    {
     "data": {
      "text/plain": [
       "array([0.78049171, 0.82489399, 0.2987436 , 0.44961247, 0.59908696,\n",
       "       0.91839418, 0.98287174, 0.57038195, 0.2654955 , 0.73690975,\n",
       "       0.4314573 , 0.76499333, 0.17197914, 0.0149645 , 0.90430041,\n",
       "       0.40158653, 0.73123691, 0.53645892, 0.55290778, 0.99642453])"
      ]
     },
     "execution_count": 162,
     "metadata": {},
     "output_type": "execute_result"
    }
   ],
   "source": [
    "data1d # 1. data for 2nd plot"
   ]
  },
  {
   "cell_type": "code",
   "execution_count": 163,
   "id": "0637c046",
   "metadata": {},
   "outputs": [],
   "source": [
    "# 2. scales for 2nd plot\n",
    "x_sch = bqplot.LinearScale()\n",
    "y_sch = bqplot.LinearScale()"
   ]
  },
  {
   "cell_type": "code",
   "execution_count": 164,
   "id": "5fec7103",
   "metadata": {},
   "outputs": [],
   "source": [
    "bqplot.Hist?"
   ]
  },
  {
   "cell_type": "code",
   "execution_count": 165,
   "id": "f1fa31bf",
   "metadata": {},
   "outputs": [],
   "source": [
    "# 3. Marks for 2nd plot\n",
    "hist = bqplot.Hist(sample=data1d, scales={'sample':x_sch, 'count':y_sch}, bins=5)"
   ]
  },
  {
   "cell_type": "code",
   "execution_count": null,
   "id": "68c9cdfd",
   "metadata": {},
   "outputs": [],
   "source": [
    "# 4. Axis for 2nd plot\n",
    "x_axh = bqplot.Axis()"
   ]
  }
 ],
 "metadata": {
  "kernelspec": {
   "display_name": "Python 3 (ipykernel)",
   "language": "python",
   "name": "python3"
  },
  "language_info": {
   "codemirror_mode": {
    "name": "ipython",
    "version": 3
   },
   "file_extension": ".py",
   "mimetype": "text/x-python",
   "name": "python",
   "nbconvert_exporter": "python",
   "pygments_lexer": "ipython3",
   "version": "3.7.10"
  }
 },
 "nbformat": 4,
 "nbformat_minor": 5
}
