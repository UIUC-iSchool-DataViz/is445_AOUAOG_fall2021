{
 "cells": [
  {
   "cell_type": "markdown",
   "id": "respective-store",
   "metadata": {},
   "source": [
    "# In Class Notebook, Week 06"
   ]
  },
  {
   "cell_type": "markdown",
   "id": "2a597611",
   "metadata": {},
   "source": [
    "You can always paste the URL of this notebook (https://github.com/UIUC-iSchool-DataViz/is445_AOUAOG_fall2021/blob/master/week06/inClass_week06.ipynb ) into the nbviewer interface for a plain-text rendering:\n",
    "\n",
    "https://kokes.github.io/nbviewer.js/viewer.html"
   ]
  },
  {
   "cell_type": "code",
   "execution_count": 1,
   "id": "94323f19",
   "metadata": {},
   "outputs": [],
   "source": [
    "# importing our usual things:\n",
    "import numpy as np\n",
    "import ipywidgets\n",
    "import bqplot # new thing!"
   ]
  },
  {
   "cell_type": "code",
   "execution_count": 2,
   "id": "db1f8b52",
   "metadata": {},
   "outputs": [],
   "source": [
    "# 1. Data\n",
    "x = np.arange(100)"
   ]
  },
  {
   "cell_type": "code",
   "execution_count": 6,
   "id": "68f85795",
   "metadata": {},
   "outputs": [],
   "source": [
    "#x"
   ]
  },
  {
   "cell_type": "code",
   "execution_count": 4,
   "id": "18c8a614",
   "metadata": {},
   "outputs": [],
   "source": [
    "y = np.random.random(100) # random numbers your's might be different!"
   ]
  },
  {
   "cell_type": "code",
   "execution_count": 7,
   "id": "92ff14c5",
   "metadata": {},
   "outputs": [],
   "source": [
    "#y"
   ]
  },
  {
   "cell_type": "code",
   "execution_count": 8,
   "id": "672fc8b2",
   "metadata": {},
   "outputs": [],
   "source": [
    "# 2. Scales -- how will data translate to Marks\n",
    "bqplot.LinearScale?"
   ]
  },
  {
   "cell_type": "code",
   "execution_count": 9,
   "id": "02883874",
   "metadata": {},
   "outputs": [],
   "source": [
    "x_sc = bqplot.LinearScale()\n",
    "y_sc = bqplot.LinearScale()"
   ]
  },
  {
   "cell_type": "code",
   "execution_count": 10,
   "id": "44ad9d1d",
   "metadata": {},
   "outputs": [
    {
     "data": {
      "text/plain": [
       "LinearScale()"
      ]
     },
     "execution_count": 10,
     "metadata": {},
     "output_type": "execute_result"
    }
   ],
   "source": [
    "x_sc"
   ]
  },
  {
   "cell_type": "code",
   "execution_count": 11,
   "id": "adeaf182",
   "metadata": {},
   "outputs": [],
   "source": [
    "# 3. Marks -- how we draw the data, here I'm going to make a line plot, so I'll use a line mark\n",
    "bqplot.Lines?"
   ]
  },
  {
   "cell_type": "code",
   "execution_count": 12,
   "id": "fbd07dad",
   "metadata": {},
   "outputs": [],
   "source": [
    "lines = bqplot.Lines(x=x,y=y, scales={'x':x_sc, 'y':y_sc})"
   ]
  },
  {
   "cell_type": "code",
   "execution_count": 14,
   "id": "bb3a143f",
   "metadata": {},
   "outputs": [],
   "source": [
    "#lines"
   ]
  },
  {
   "cell_type": "code",
   "execution_count": 15,
   "id": "5ff3ce8b",
   "metadata": {},
   "outputs": [],
   "source": [
    "# 4. Axis\n",
    "bqplot.Axis?"
   ]
  },
  {
   "cell_type": "code",
   "execution_count": 16,
   "id": "2aafce63",
   "metadata": {},
   "outputs": [],
   "source": [
    "ax_x = bqplot.Axis(scale=x_sc, label='X Value')\n",
    "ax_y = bqplot.Axis(scale=y_sc, label='Y Value', orientation='vertical')"
   ]
  },
  {
   "cell_type": "code",
   "execution_count": 17,
   "id": "78ce5679",
   "metadata": {},
   "outputs": [],
   "source": [
    "# 5. Around here there could be interactions defined, but not yet!"
   ]
  },
  {
   "cell_type": "code",
   "execution_count": 18,
   "id": "404c8b4b",
   "metadata": {},
   "outputs": [],
   "source": [
    "# 6. Finally put it all together as a figure\n",
    "fig = bqplot.Figure(marks=[lines], axes=[ax_x,ax_y])"
   ]
  },
  {
   "cell_type": "code",
   "execution_count": 19,
   "id": "9bf59f90",
   "metadata": {},
   "outputs": [
    {
     "data": {
      "application/vnd.jupyter.widget-view+json": {
       "model_id": "4be29806f71f489ba41c7e83d1f27174",
       "version_major": 2,
       "version_minor": 0
      },
      "text/plain": [
       "Figure(axes=[Axis(label='X Value', scale=LinearScale(), side='bottom'), Axis(label='Y Value', orientation='ver…"
      ]
     },
     "metadata": {},
     "output_type": "display_data"
    }
   ],
   "source": [
    "fig # note here: display(fig) from IPython.display like in test homework 1 (if you have no image)"
   ]
  },
  {
   "cell_type": "code",
   "execution_count": 20,
   "id": "b74d0708",
   "metadata": {},
   "outputs": [],
   "source": [
    "bqplot.interacts.PanZoom?"
   ]
  },
  {
   "cell_type": "code",
   "execution_count": 21,
   "id": "b024513c",
   "metadata": {},
   "outputs": [],
   "source": [
    "pz = bqplot.interacts.PanZoom(scales={'x':[x_sc], 'y':[y_sc]})"
   ]
  },
  {
   "cell_type": "code",
   "execution_count": 22,
   "id": "530ac108",
   "metadata": {},
   "outputs": [
    {
     "data": {
      "text/plain": [
       "PanZoom(scales={'x': [LinearScale()], 'y': [LinearScale()]})"
      ]
     },
     "execution_count": 22,
     "metadata": {},
     "output_type": "execute_result"
    }
   ],
   "source": [
    "pz"
   ]
  },
  {
   "cell_type": "code",
   "execution_count": 23,
   "id": "f54905c8",
   "metadata": {},
   "outputs": [
    {
     "data": {
      "application/vnd.jupyter.widget-view+json": {
       "model_id": "72b106dc7f124b0ab06177092b2222b0",
       "version_major": 2,
       "version_minor": 0
      },
      "text/plain": [
       "Figure(axes=[Axis(label='X Value', scale=LinearScale(), side='bottom'), Axis(label='Y Value', orientation='ver…"
      ]
     },
     "metadata": {},
     "output_type": "display_data"
    }
   ],
   "source": [
    "fig = bqplot.Figure(marks=[lines], axes=[ax_x,ax_y], interaction=pz)\n",
    "fig"
   ]
  },
  {
   "cell_type": "markdown",
   "id": "dccb16b5",
   "metadata": {},
   "source": [
    "Another example using random data:"
   ]
  },
  {
   "cell_type": "code",
   "execution_count": 27,
   "id": "f6e34a65",
   "metadata": {},
   "outputs": [],
   "source": [
    "# 1. Data\n",
    "x = np.random.random(100)\n",
    "y = np.random.random(100)"
   ]
  },
  {
   "cell_type": "code",
   "execution_count": 28,
   "id": "0df91a50",
   "metadata": {},
   "outputs": [],
   "source": [
    "# 2. scales\n",
    "x_sc = bqplot.LinearScale()\n",
    "y_sc = bqplot.LinearScale()"
   ]
  },
  {
   "cell_type": "code",
   "execution_count": 29,
   "id": "4f8c3be2",
   "metadata": {},
   "outputs": [],
   "source": [
    "# 3. marks\n",
    "bqplot.Scatter?"
   ]
  },
  {
   "cell_type": "code",
   "execution_count": 30,
   "id": "8f20d547",
   "metadata": {},
   "outputs": [],
   "source": [
    "scatters = bqplot.Scatter(x=x,y=y, scales={'x':x_sc, 'y':y_sc})"
   ]
  },
  {
   "cell_type": "code",
   "execution_count": 31,
   "id": "76ac9b58",
   "metadata": {},
   "outputs": [],
   "source": [
    "# 4. Axis\n",
    "x_ax = bqplot.Axis(scale=x_sc, label='X')\n",
    "y_ax = bqplot.Axis(scale=y_sc, label='Y', orientation='vertical')"
   ]
  },
  {
   "cell_type": "code",
   "execution_count": 32,
   "id": "bd396413",
   "metadata": {},
   "outputs": [],
   "source": [
    "# 5. interactions around here -- FastIntervalSelector\n",
    "selector = bqplot.interacts.FastIntervalSelector(scale=x_sc, marks=[scatters])"
   ]
  },
  {
   "cell_type": "code",
   "execution_count": 34,
   "id": "02b7fb23",
   "metadata": {},
   "outputs": [
    {
     "data": {
      "application/vnd.jupyter.widget-view+json": {
       "model_id": "29584c8df13b458e93ee1fb008fe656c",
       "version_major": 2,
       "version_minor": 0
      },
      "text/plain": [
       "Figure(axes=[Axis(label='X', scale=LinearScale(), side='bottom'), Axis(label='Y', orientation='vertical', scal…"
      ]
     },
     "metadata": {},
     "output_type": "display_data"
    }
   ],
   "source": [
    "# 6. Make the figure\n",
    "fig = bqplot.Figure(marks=[scatters], axes=[x_ax, y_ax], interaction = selector)\n",
    "fig"
   ]
  },
  {
   "cell_type": "code",
   "execution_count": 35,
   "id": "6ed15360",
   "metadata": {},
   "outputs": [
    {
     "data": {
      "text/plain": [
       "['_model_module',\n",
       " '_model_module_version',\n",
       " '_model_name',\n",
       " '_view_count',\n",
       " '_view_module',\n",
       " '_view_module_version',\n",
       " '_view_name',\n",
       " 'color',\n",
       " 'marks',\n",
       " 'scale',\n",
       " 'selected',\n",
       " 'size']"
      ]
     },
     "execution_count": 35,
     "metadata": {},
     "output_type": "execute_result"
    }
   ],
   "source": [
    "selector.keys"
   ]
  },
  {
   "cell_type": "code",
   "execution_count": 37,
   "id": "4faeac5f",
   "metadata": {},
   "outputs": [
    {
     "data": {
      "text/plain": [
       "array([0.21758859, 0.40739032])"
      ]
     },
     "execution_count": 37,
     "metadata": {},
     "output_type": "execute_result"
    }
   ],
   "source": [
    "selector.selected"
   ]
  },
  {
   "cell_type": "code",
   "execution_count": 38,
   "id": "6f0811a9",
   "metadata": {},
   "outputs": [
    {
     "data": {
      "text/plain": [
       "['_model_module',\n",
       " '_model_module_version',\n",
       " '_model_name',\n",
       " '_view_count',\n",
       " '_view_module',\n",
       " '_view_module_version',\n",
       " '_view_name',\n",
       " 'apply_clip',\n",
       " 'color',\n",
       " 'colors',\n",
       " 'default_size',\n",
       " 'default_skew',\n",
       " 'display_legend',\n",
       " 'display_names',\n",
       " 'drag_color',\n",
       " 'drag_size',\n",
       " 'enable_delete',\n",
       " 'enable_hover',\n",
       " 'enable_move',\n",
       " 'fill',\n",
       " 'hovered_point',\n",
       " 'hovered_style',\n",
       " 'interactions',\n",
       " 'label_display_horizontal_offset',\n",
       " 'label_display_vertical_offset',\n",
       " 'labels',\n",
       " 'marker',\n",
       " 'names',\n",
       " 'names_unique',\n",
       " 'opacities',\n",
       " 'opacity',\n",
       " 'preserve_domain',\n",
       " 'restrict_x',\n",
       " 'restrict_y',\n",
       " 'rotation',\n",
       " 'scales',\n",
       " 'scales_metadata',\n",
       " 'selected',\n",
       " 'selected_style',\n",
       " 'size',\n",
       " 'skew',\n",
       " 'stroke',\n",
       " 'stroke_width',\n",
       " 'tooltip',\n",
       " 'tooltip_location',\n",
       " 'tooltip_style',\n",
       " 'unhovered_style',\n",
       " 'unselected_style',\n",
       " 'update_on_move',\n",
       " 'visible',\n",
       " 'x',\n",
       " 'y']"
      ]
     },
     "execution_count": 38,
     "metadata": {},
     "output_type": "execute_result"
    }
   ],
   "source": [
    "scatters.keys"
   ]
  },
  {
   "cell_type": "code",
   "execution_count": 39,
   "id": "86c2a555",
   "metadata": {},
   "outputs": [],
   "source": [
    "scatters.unselected_style={'opacity':0.5} # a little see-through for unselected points"
   ]
  },
  {
   "cell_type": "code",
   "execution_count": 40,
   "id": "f834bde1",
   "metadata": {},
   "outputs": [],
   "source": [
    "scatters.selected_style = {'fill':'red', 'stroke':'yellow'}"
   ]
  },
  {
   "cell_type": "code",
   "execution_count": 41,
   "id": "1533b7e4",
   "metadata": {},
   "outputs": [
    {
     "data": {
      "application/vnd.jupyter.widget-view+json": {
       "model_id": "29584c8df13b458e93ee1fb008fe656c",
       "version_major": 2,
       "version_minor": 0
      },
      "text/plain": [
       "Figure(axes=[Axis(label='X', scale=LinearScale(), side='bottom'), Axis(label='Y', orientation='vertical', scal…"
      ]
     },
     "metadata": {},
     "output_type": "display_data"
    }
   ],
   "source": [
    "fig"
   ]
  },
  {
   "cell_type": "markdown",
   "id": "49efc96b",
   "metadata": {},
   "source": [
    "## Random data in 2D"
   ]
  },
  {
   "cell_type": "code",
   "execution_count": 42,
   "id": "43af8e36",
   "metadata": {},
   "outputs": [],
   "source": [
    "# 1. data\n",
    "data = np.random.random((10,10))"
   ]
  },
  {
   "cell_type": "code",
   "execution_count": 44,
   "id": "eb2586ba",
   "metadata": {},
   "outputs": [
    {
     "data": {
      "text/plain": [
       "(10, 10)"
      ]
     },
     "execution_count": 44,
     "metadata": {},
     "output_type": "execute_result"
    }
   ],
   "source": [
    "data.shape"
   ]
  },
  {
   "cell_type": "code",
   "execution_count": 59,
   "id": "91b37fd7",
   "metadata": {},
   "outputs": [],
   "source": [
    "bqplot.GridHeatMap?"
   ]
  },
  {
   "cell_type": "code",
   "execution_count": 48,
   "id": "aba635b1",
   "metadata": {},
   "outputs": [
    {
     "data": {
      "application/vnd.jupyter.widget-view+json": {
       "model_id": "28557792e9f74a56b0410361910d8e02",
       "version_major": 2,
       "version_minor": 0
      },
      "text/plain": [
       "Figure(fig_margin={'top': 60, 'bottom': 60, 'left': 60, 'right': 60}, marks=[GridHeatMap(color=array([[0.89691…"
      ]
     },
     "metadata": {},
     "output_type": "display_data"
    }
   ],
   "source": [
    "# 2. Scales\n",
    "col_sc = bqplot.ColorScale() # like x/y scale, but in \"color space\"\n",
    "\n",
    "# 3. Marks\n",
    "heat_map = bqplot.GridHeatMap(color=data, scales={'color':col_sc})\n",
    "\n",
    "# 4. Axis \n",
    "# rows/columns, skipping for now\n",
    "# color bars\n",
    "\n",
    "# 5. Interactions, skipping as well\n",
    "\n",
    "# 6. Figure object\n",
    "fig = bqplot.Figure(marks=[heat_map])\n",
    "fig"
   ]
  },
  {
   "cell_type": "code",
   "execution_count": 52,
   "id": "5b2d8ebf",
   "metadata": {},
   "outputs": [
    {
     "data": {
      "application/vnd.jupyter.widget-view+json": {
       "model_id": "c5b528923a974bc5bee36534caca5109",
       "version_major": 2,
       "version_minor": 0
      },
      "text/plain": [
       "Figure(fig_margin={'top': 60, 'bottom': 60, 'left': 60, 'right': 60}, marks=[GridHeatMap(color=array([[0.89691…"
      ]
     },
     "metadata": {},
     "output_type": "display_data"
    }
   ],
   "source": [
    "# 1. Data -- same as above\n",
    "\n",
    "# 2. Scales\n",
    "col_sc = bqplot.ColorScale(scheme = 'Reds') # like x/y scale, but in \"color space\"\n",
    "\n",
    "# 3. Marks\n",
    "heat_map = bqplot.GridHeatMap(color=data, scales={'color':col_sc})\n",
    "\n",
    "# 4. Axis \n",
    "# rows/columns, skipping for now\n",
    "# color bars\n",
    "\n",
    "# 5. Interactions, skipping as well\n",
    "\n",
    "# 6. Figure object\n",
    "fig = bqplot.Figure(marks=[heat_map])\n",
    "fig"
   ]
  },
  {
   "cell_type": "code",
   "execution_count": 54,
   "id": "ab18c1f3",
   "metadata": {},
   "outputs": [
    {
     "data": {
      "application/vnd.jupyter.widget-view+json": {
       "model_id": "60414e42c89c44b79e4f9e7eb387ed56",
       "version_major": 2,
       "version_minor": 0
      },
      "text/plain": [
       "Figure(axes=[ColorAxis(orientation='vertical', scale=ColorScale(scheme='Reds'), side='right')], fig_margin={'t…"
      ]
     },
     "metadata": {},
     "output_type": "display_data"
    }
   ],
   "source": [
    "# 1. Data -- same as above\n",
    "\n",
    "# 2. Scales\n",
    "col_sc = bqplot.ColorScale(scheme = 'Reds') # like x/y scale, but in \"color space\"\n",
    "\n",
    "# 3. Marks\n",
    "heat_map = bqplot.GridHeatMap(color=data, scales={'color':col_sc})\n",
    "\n",
    "# 4. Axis \n",
    "c_ax = bqplot.ColorAxis(scale=col_sc, orientation='vertical', side='right')\n",
    "\n",
    "# 5. Interactions, skipping as well\n",
    "\n",
    "# 6. Figure object\n",
    "fig = bqplot.Figure(marks=[heat_map], axes=[c_ax])\n",
    "fig"
   ]
  },
  {
   "cell_type": "code",
   "execution_count": 58,
   "id": "aa787010",
   "metadata": {},
   "outputs": [
    {
     "data": {
      "application/vnd.jupyter.widget-view+json": {
       "model_id": "b3a68fe7bf5a4db8b47faedf730e33bc",
       "version_major": 2,
       "version_minor": 0
      },
      "text/plain": [
       "Figure(axes=[ColorAxis(orientation='vertical', scale=ColorScale(scheme='Reds'), side='right'), Axis(scale=Ordi…"
      ]
     },
     "metadata": {},
     "output_type": "display_data"
    }
   ],
   "source": [
    "# 1. Data -- same as above\n",
    "\n",
    "# 2. Scales\n",
    "col_sc = bqplot.ColorScale(scheme = 'Reds') # like x/y scale, but in \"color space\"\n",
    "x_sc = bqplot.OrdinalScale() # ordered, categorical data, because our bins are more like categorical bins\n",
    "y_sc = bqplot.OrdinalScale()\n",
    "\n",
    "# 3. Marks\n",
    "heat_map = bqplot.GridHeatMap(color=data, scales={'color':col_sc, 'row':y_sc, 'column':x_sc})\n",
    "# note: we can pass arrays/lists of names for each categorical column, here we are just\n",
    "#. passing the scales\n",
    "\n",
    "# 4. Axis \n",
    "c_ax = bqplot.ColorAxis(scale=col_sc, orientation='vertical', side='right')\n",
    "x_ax = bqplot.Axis(scale=x_sc)\n",
    "y_ax = bqplot.Axis(scale=y_sc, orientation='vertical')\n",
    "\n",
    "# 5. Interactions, skipping as well\n",
    "\n",
    "# 6. Figure object\n",
    "fig = bqplot.Figure(marks=[heat_map], axes=[c_ax, x_ax, y_ax])\n",
    "fig"
   ]
  },
  {
   "cell_type": "code",
   "execution_count": 60,
   "id": "2c788da3",
   "metadata": {},
   "outputs": [
    {
     "data": {
      "text/plain": [
       "['_model_module',\n",
       " '_model_module_version',\n",
       " '_model_name',\n",
       " '_view_count',\n",
       " '_view_module',\n",
       " '_view_module_version',\n",
       " '_view_name',\n",
       " 'anchor_style',\n",
       " 'apply_clip',\n",
       " 'color',\n",
       " 'column',\n",
       " 'column_align',\n",
       " 'display_format',\n",
       " 'display_legend',\n",
       " 'enable_hover',\n",
       " 'font_style',\n",
       " 'interactions',\n",
       " 'labels',\n",
       " 'null_color',\n",
       " 'opacity',\n",
       " 'preserve_domain',\n",
       " 'row',\n",
       " 'row_align',\n",
       " 'scales',\n",
       " 'scales_metadata',\n",
       " 'selected',\n",
       " 'selected_style',\n",
       " 'stroke',\n",
       " 'tooltip',\n",
       " 'tooltip_location',\n",
       " 'tooltip_style',\n",
       " 'unselected_style',\n",
       " 'visible']"
      ]
     },
     "execution_count": 60,
     "metadata": {},
     "output_type": "execute_result"
    }
   ],
   "source": [
    "heat_map.keys"
   ]
  },
  {
   "cell_type": "code",
   "execution_count": 63,
   "id": "46e84b65",
   "metadata": {},
   "outputs": [
    {
     "data": {
      "application/vnd.jupyter.widget-view+json": {
       "model_id": "8760e0f8805b4a00861ca0cf1d59b803",
       "version_major": 2,
       "version_minor": 0
      },
      "text/plain": [
       "Figure(axes=[ColorAxis(orientation='vertical', scale=ColorScale(scheme='Reds'), side='right'), Axis(scale=Ordi…"
      ]
     },
     "metadata": {},
     "output_type": "display_data"
    }
   ],
   "source": [
    "# 1. Data -- same as above\n",
    "\n",
    "# 2. Scales\n",
    "col_sc = bqplot.ColorScale(scheme = 'Reds') # like x/y scale, but in \"color space\"\n",
    "x_sc = bqplot.OrdinalScale() # ordered, categorical data, because our bins are more like categorical bins\n",
    "y_sc = bqplot.OrdinalScale()\n",
    "\n",
    "# 3. Marks\n",
    "heat_map = bqplot.GridHeatMap(color=data, scales={'color':col_sc, 'row':y_sc, 'column':x_sc},\n",
    "                             interactions={'click':'select'},\n",
    "                             selected_style={'opacity':1.0}, \n",
    "                             unselected_style={'opacity':0.8}, \n",
    "                             anchor_style={'fill':'blue'})\n",
    "# note: we can pass arrays/lists of names for each categorical column, here we are just\n",
    "#. passing the scales\n",
    "\n",
    "# 4. Axis \n",
    "c_ax = bqplot.ColorAxis(scale=col_sc, orientation='vertical', side='right')\n",
    "x_ax = bqplot.Axis(scale=x_sc)\n",
    "y_ax = bqplot.Axis(scale=y_sc, orientation='vertical')\n",
    "\n",
    "# 5. Interactions, skipping as well\n",
    "\n",
    "# 6. Figure object\n",
    "fig = bqplot.Figure(marks=[heat_map], axes=[c_ax, x_ax, y_ax])\n",
    "fig"
   ]
  },
  {
   "cell_type": "code",
   "execution_count": null,
   "id": "df71ff32",
   "metadata": {},
   "outputs": [],
   "source": []
  }
 ],
 "metadata": {
  "kernelspec": {
   "display_name": "Python 3 (ipykernel)",
   "language": "python",
   "name": "python3"
  },
  "language_info": {
   "codemirror_mode": {
    "name": "ipython",
    "version": 3
   },
   "file_extension": ".py",
   "mimetype": "text/x-python",
   "name": "python",
   "nbconvert_exporter": "python",
   "pygments_lexer": "ipython3",
   "version": "3.7.10"
  }
 },
 "nbformat": 4,
 "nbformat_minor": 5
}
