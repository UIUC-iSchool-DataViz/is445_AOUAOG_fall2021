{
 "cells": [
  {
   "cell_type": "markdown",
   "id": "respective-store",
   "metadata": {},
   "source": [
    "# In Class Notebook, Week 06"
   ]
  },
  {
   "cell_type": "markdown",
   "id": "2a597611",
   "metadata": {},
   "source": [
    "You can always paste the URL of this notebook (https://github.com/UIUC-iSchool-DataViz/is445_AOUAOG_fall2021/blob/master/week06/inClass_week06.ipynb ) into the nbviewer interface for a plain-text rendering:\n",
    "\n",
    "https://kokes.github.io/nbviewer.js/viewer.html"
   ]
  },
  {
   "cell_type": "code",
   "execution_count": 1,
   "id": "94323f19",
   "metadata": {},
   "outputs": [],
   "source": [
    "# importing our usual things:\n",
    "import numpy as np\n",
    "import ipywidgets\n",
    "import bqplot # new thing!"
   ]
  },
  {
   "cell_type": "code",
   "execution_count": 2,
   "id": "06ccec6e",
   "metadata": {},
   "outputs": [],
   "source": [
    "# 1. Data\n",
    "x = np.arange(100)"
   ]
  },
  {
   "cell_type": "code",
   "execution_count": 6,
   "id": "4a5a5fff",
   "metadata": {},
   "outputs": [],
   "source": [
    "#x"
   ]
  },
  {
   "cell_type": "code",
   "execution_count": 4,
   "id": "c0da6c37",
   "metadata": {},
   "outputs": [],
   "source": [
    "y = np.random.random(100) # random numbers your's might be different!"
   ]
  },
  {
   "cell_type": "code",
   "execution_count": 7,
   "id": "9937e18b",
   "metadata": {},
   "outputs": [],
   "source": [
    "#y"
   ]
  },
  {
   "cell_type": "code",
   "execution_count": 8,
   "id": "d544c86b",
   "metadata": {},
   "outputs": [],
   "source": [
    "# 2. Scales -- how will data translate to Marks\n",
    "bqplot.LinearScale?"
   ]
  },
  {
   "cell_type": "code",
   "execution_count": 9,
   "id": "6bc95635",
   "metadata": {},
   "outputs": [],
   "source": [
    "x_sc = bqplot.LinearScale()\n",
    "y_sc = bqplot.LinearScale()"
   ]
  },
  {
   "cell_type": "code",
   "execution_count": 10,
   "id": "82b393d0",
   "metadata": {},
   "outputs": [
    {
     "data": {
      "text/plain": [
       "LinearScale()"
      ]
     },
     "execution_count": 10,
     "metadata": {},
     "output_type": "execute_result"
    }
   ],
   "source": [
    "x_sc"
   ]
  },
  {
   "cell_type": "code",
   "execution_count": 11,
   "id": "380b6e02",
   "metadata": {},
   "outputs": [],
   "source": [
    "# 3. Marks -- how we draw the data, here I'm going to make a line plot, so I'll use a line mark\n",
    "bqplot.Lines?"
   ]
  },
  {
   "cell_type": "code",
   "execution_count": null,
   "id": "55b0cc32",
   "metadata": {},
   "outputs": [],
   "source": []
  }
 ],
 "metadata": {
  "kernelspec": {
   "display_name": "Python 3 (ipykernel)",
   "language": "python",
   "name": "python3"
  },
  "language_info": {
   "codemirror_mode": {
    "name": "ipython",
    "version": 3
   },
   "file_extension": ".py",
   "mimetype": "text/x-python",
   "name": "python",
   "nbconvert_exporter": "python",
   "pygments_lexer": "ipython3",
   "version": "3.7.10"
  }
 },
 "nbformat": 4,
 "nbformat_minor": 5
}
