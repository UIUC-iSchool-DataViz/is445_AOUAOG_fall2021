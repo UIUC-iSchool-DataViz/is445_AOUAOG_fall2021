{
 "cells": [
  {
   "cell_type": "markdown",
   "id": "respective-store",
   "metadata": {},
   "source": [
    "# In Class Notebook, Week 02"
   ]
  },
  {
   "cell_type": "markdown",
   "id": "patent-merit",
   "metadata": {},
   "source": [
    "You can always paste the URL of this notebook (https://github.com/UIUC-iSchool-DataViz/is445_AOUAOG_fall2021/blob/master/week02/inClass_week02.ipynb ) into the nbviewer interface for a plain-text rendering:\n",
    "\n",
    "https://kokes.github.io/nbviewer.js/viewer.html"
   ]
  },
  {
   "cell_type": "markdown",
   "id": "3a994bf5",
   "metadata": {},
   "source": [
    "I am writing another thing here!"
   ]
  },
  {
   "cell_type": "code",
   "execution_count": 1,
   "id": "a81a90e9",
   "metadata": {},
   "outputs": [],
   "source": [
    "import matplotlib.pyplot as plt"
   ]
  },
  {
   "cell_type": "code",
   "execution_count": 2,
   "id": "ecef410e",
   "metadata": {},
   "outputs": [
    {
     "data": {
      "text/plain": [
       "<function matplotlib.pyplot.plot(*args, scalex=True, scaley=True, data=None, **kwargs)>"
      ]
     },
     "execution_count": 2,
     "metadata": {},
     "output_type": "execute_result"
    }
   ],
   "source": [
    "plt.plot"
   ]
  },
  {
   "cell_type": "code",
   "execution_count": 3,
   "id": "87e2b7d9",
   "metadata": {},
   "outputs": [],
   "source": [
    "import numpy as np"
   ]
  },
  {
   "cell_type": "code",
   "execution_count": 4,
   "id": "d75323ee",
   "metadata": {},
   "outputs": [],
   "source": [
    "import PIL.Image as Image"
   ]
  },
  {
   "cell_type": "code",
   "execution_count": 5,
   "id": "534e3c89",
   "metadata": {},
   "outputs": [],
   "source": [
    "im = Image.open(\"/Users/jillnaiman/Downloads/stitch_reworked.png\")"
   ]
  },
  {
   "cell_type": "code",
   "execution_count": 6,
   "id": "76d240e4",
   "metadata": {},
   "outputs": [],
   "source": [
    "im = Image.open(\"/Users/jillnaiman/Downloads/stitch_reworked.png\")\n",
    "#C://Downloads... (on wi)"
   ]
  },
  {
   "cell_type": "code",
   "execution_count": null,
   "id": "2a26ffcf",
   "metadata": {},
   "outputs": [],
   "source": []
  }
 ],
 "metadata": {
  "kernelspec": {
   "display_name": "Python 3 (ipykernel)",
   "language": "python",
   "name": "python3"
  },
  "language_info": {
   "codemirror_mode": {
    "name": "ipython",
    "version": 3
   },
   "file_extension": ".py",
   "mimetype": "text/x-python",
   "name": "python",
   "nbconvert_exporter": "python",
   "pygments_lexer": "ipython3",
   "version": "3.7.10"
  }
 },
 "nbformat": 4,
 "nbformat_minor": 5
}
