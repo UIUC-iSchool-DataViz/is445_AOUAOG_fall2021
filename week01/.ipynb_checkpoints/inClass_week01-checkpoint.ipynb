{
 "cells": [
  {
   "cell_type": "code",
   "execution_count": 3,
   "id": "spectacular-hartford",
   "metadata": {},
   "outputs": [
    {
     "name": "stdout",
     "output_type": "stream",
     "text": [
      "hi all!\n"
     ]
    }
   ],
   "source": [
    "print('hi all!')"
   ]
  },
  {
   "cell_type": "markdown",
   "id": "racial-sussex",
   "metadata": {},
   "source": [
    "I can just write words (this is a markdown cell).\n",
    "\n",
    "# This is a big header\n",
    "\n",
    "## Smaller header\n",
    "\n",
    "### Smaller even header\n",
    "\n",
    "I can make an unordered list:\n",
    " * this is the first element in my list\n",
    " * this is the second element in my list\n",
    " \n",
    "I can also make an ordered list:\n",
    " 1. This will be number 1\n",
    " 1. this will be a totally different thing\n",
    " 1. this will be another thing\n"
   ]
  },
  {
   "cell_type": "markdown",
   "id": "genuine-apparatus",
   "metadata": {},
   "source": [
    "I pressed `ESC-m` to make this a markdown cell.\n",
    "\n",
    "Another useful hot-key is `SHIFT+RETURN` - run the cell (just like pressing the run button) -- the command is `SHIFT+ENTER` on a Windows!\n",
    "\n",
    "Another few that are going to be used less are: `ESC-a` to insert a cell above and `ESC-b` to insert a cell below."
   ]
  },
  {
   "cell_type": "code",
   "execution_count": 5,
   "id": "blessed-charm",
   "metadata": {},
   "outputs": [
    {
     "data": {
      "text/plain": [
       "9"
      ]
     },
     "execution_count": 5,
     "metadata": {},
     "output_type": "execute_result"
    }
   ],
   "source": [
    "4+5"
   ]
  },
  {
   "cell_type": "markdown",
   "id": "prescribed-sweden",
   "metadata": {},
   "source": [
    "4+5\n",
    "\n",
    "$x = \\frac{7}{y}$ (LaTex formatting, not going to use this really, but its there!)"
   ]
  },
  {
   "cell_type": "markdown",
   "id": "apparent-child",
   "metadata": {},
   "source": [
    "# 1. Making plots!"
   ]
  },
  {
   "cell_type": "code",
   "execution_count": 6,
   "id": "sudden-indonesia",
   "metadata": {},
   "outputs": [],
   "source": [
    "%matplotlib inline"
   ]
  },
  {
   "cell_type": "code",
   "execution_count": 7,
   "id": "hungarian-childhood",
   "metadata": {},
   "outputs": [],
   "source": [
    "# this is a comment -- I am importing matplotlib\n",
    "import matplotlib\n",
    "import matplotlib.pyplot as plt\n",
    "import datetime"
   ]
  },
  {
   "cell_type": "code",
   "execution_count": 8,
   "id": "municipal-being",
   "metadata": {},
   "outputs": [],
   "source": [
    "# importing one last thing -- numpy library for arrays/matricies\n",
    "import numpy as np"
   ]
  },
  {
   "cell_type": "code",
   "execution_count": 11,
   "id": "sticky-empty",
   "metadata": {},
   "outputs": [
    {
     "data": {
      "text/plain": [
       "[20070101,\n",
       " 20070401,\n",
       " 20070701,\n",
       " 20071001,\n",
       " 20080101,\n",
       " 20080401,\n",
       " 20080701,\n",
       " 20081001,\n",
       " 20090101]"
      ]
     },
     "execution_count": 11,
     "metadata": {},
     "output_type": "execute_result"
    }
   ],
   "source": [
    "time = [20070101, 20070401, 20070701, 20071001, 20080101, 20080401, 20080701, 20081001, 20090101]\n",
    "time"
   ]
  },
  {
   "cell_type": "code",
   "execution_count": 10,
   "id": "stylish-rolling",
   "metadata": {},
   "outputs": [
    {
     "name": "stdout",
     "output_type": "stream",
     "text": [
      "[20070101, 20070401, 20070701, 20071001, 20080101, 20080401, 20080701, 20081001, 20090101]\n"
     ]
    }
   ],
   "source": [
    "print(time)"
   ]
  },
  {
   "cell_type": "code",
   "execution_count": 12,
   "id": "primary-tournament",
   "metadata": {},
   "outputs": [
    {
     "data": {
      "text/plain": [
       "[<matplotlib.lines.Line2D at 0x7f84d8577e10>]"
      ]
     },
     "execution_count": 12,
     "metadata": {},
     "output_type": "execute_result"
    },
    {
     "data": {
      "image/png": "[encoded data removed]",
      "text/plain": [
       "<Figure size 432x288 with 1 Axes>"
      ]
     },
     "metadata": {
      "needs_background": "light"
     },
     "output_type": "display_data"
    }
   ],
   "source": [
    "# finally making a plot!\n",
    "plt.plot(time)"
   ]
  },
  {
   "cell_type": "code",
   "execution_count": 13,
   "id": "cheap-summary",
   "metadata": {},
   "outputs": [
    {
     "data": {
      "text/plain": [
       "Text(0, 0.5, 'YearMonthDay')"
      ]
     },
     "execution_count": 13,
     "metadata": {},
     "output_type": "execute_result"
    },
    {
     "data": {
      "image/png": "[encoded data removed]",
      "text/plain": [
       "<Figure size 432x288 with 1 Axes>"
      ]
     },
     "metadata": {
      "needs_background": "light"
     },
     "output_type": "display_data"
    }
   ],
   "source": [
    "# add some x/y labels to our plot\n",
    "plt.plot(time)\n",
    "\n",
    "plt.xlabel('Measurement number') # adding an x-axis label\n",
    "plt.ylabel('YearMonthDay')"
   ]
  },
  {
   "cell_type": "code",
   "execution_count": 14,
   "id": "subject-standing",
   "metadata": {},
   "outputs": [],
   "source": [
    "gdp = [14233.2, 14422.3, 14569.7, 14685.3, 14668.4, 14813.0, 14843.0, 14549.9, 14383.9] # US GDP in billions"
   ]
  },
  {
   "cell_type": "code",
   "execution_count": 15,
   "id": "minor-exercise",
   "metadata": {},
   "outputs": [
    {
     "data": {
      "text/plain": [
       "[14233.2,\n",
       " 14422.3,\n",
       " 14569.7,\n",
       " 14685.3,\n",
       " 14668.4,\n",
       " 14813.0,\n",
       " 14843.0,\n",
       " 14549.9,\n",
       " 14383.9]"
      ]
     },
     "execution_count": 15,
     "metadata": {},
     "output_type": "execute_result"
    }
   ],
   "source": [
    "gdp"
   ]
  },
  {
   "cell_type": "code",
   "execution_count": 17,
   "id": "historic-generic",
   "metadata": {},
   "outputs": [
    {
     "data": {
      "text/plain": [
       "[<matplotlib.lines.Line2D at 0x7f850874e790>]"
      ]
     },
     "execution_count": 17,
     "metadata": {},
     "output_type": "execute_result"
    },
    {
     "data": {
      "image/png": "[encoded data removed]",
      "text/plain": [
       "<Figure size 432x288 with 1 Axes>"
      ]
     },
     "metadata": {
      "needs_background": "light"
     },
     "output_type": "display_data"
    }
   ],
   "source": [
    "plt.plot(time,gdp) # plot of GDP (in billions) as a function of time (YearMonthDay)"
   ]
  },
  {
   "cell_type": "code",
   "execution_count": 18,
   "id": "welsh-group",
   "metadata": {},
   "outputs": [
    {
     "data": {
      "text/plain": [
       "Text(0, 0.5, 'GDP in Billions')"
      ]
     },
     "execution_count": 18,
     "metadata": {},
     "output_type": "execute_result"
    },
    {
     "data": {
      "image/png": "[encoded data removed]",
      "text/plain": [
       "<Figure size 432x288 with 1 Axes>"
      ]
     },
     "metadata": {
      "needs_background": "light"
     },
     "output_type": "display_data"
    }
   ],
   "source": [
    "plt.plot(time,gdp) # plot of GDP (in billions) as a function of time (YearMonthDay)\n",
    "\n",
    "plt.xlabel('Time in format of YearMonthDay') # x-axis label\n",
    "plt.ylabel('GDP in Billions') # y-axis label"
   ]
  },
  {
   "cell_type": "code",
   "execution_count": 19,
   "id": "supported-plaza",
   "metadata": {},
   "outputs": [
    {
     "data": {
      "text/plain": [
       "Text(0, 0.5, 'GDP in Billions')"
      ]
     },
     "execution_count": 19,
     "metadata": {},
     "output_type": "execute_result"
    },
    {
     "data": {
      "image/png": "[encoded data removed]",
      "text/plain": [
       "<Figure size 432x288 with 1 Axes>"
      ]
     },
     "metadata": {
      "needs_background": "light"
     },
     "output_type": "display_data"
    }
   ],
   "source": [
    "plt.plot(time,gdp, 'o-') # plot of GDP (in billions) as a function of time (YearMonthDay)\n",
    "\n",
    "plt.xlabel('Time in format of YearMonthDay') # x-axis label\n",
    "plt.ylabel('GDP in Billions') # y-axis label"
   ]
  },
  {
   "cell_type": "markdown",
   "id": "average-plate",
   "metadata": {},
   "source": [
    "Transforming our data **this is something we are going to get very familar with!**\n",
    "\n",
    "*I can also do italics!*"
   ]
  },
  {
   "cell_type": "code",
   "execution_count": 23,
   "id": "smart-manual",
   "metadata": {},
   "outputs": [
    {
     "ename": "AttributeError",
     "evalue": "module 'datetime' has no attribute 'strptime'",
     "output_type": "error",
     "traceback": [
      "\u001b[0;31m---------------------------------------------------------------------------\u001b[0m",
      "\u001b[0;31mAttributeError\u001b[0m                            Traceback (most recent call last)",
      "\u001b[0;32m<ipython-input-23-679faea9295f>\u001b[0m in \u001b[0;36m<module>\u001b[0;34m\u001b[0m\n\u001b[1;32m      2\u001b[0m \u001b[0;31m# do a for-loop that updates our date array with the correct formatting\u001b[0m\u001b[0;34m\u001b[0m\u001b[0;34m\u001b[0m\u001b[0;34m\u001b[0m\u001b[0m\n\u001b[1;32m      3\u001b[0m \u001b[0;32mfor\u001b[0m \u001b[0mt\u001b[0m \u001b[0;32min\u001b[0m \u001b[0mtime\u001b[0m\u001b[0;34m:\u001b[0m\u001b[0;34m\u001b[0m\u001b[0;34m\u001b[0m\u001b[0m\n\u001b[0;32m----> 4\u001b[0;31m     \u001b[0mdate\u001b[0m\u001b[0;34m.\u001b[0m\u001b[0mappend\u001b[0m\u001b[0;34m(\u001b[0m \u001b[0mdatetime\u001b[0m\u001b[0;34m.\u001b[0m\u001b[0mstrptime\u001b[0m\u001b[0;34m(\u001b[0m\u001b[0mstr\u001b[0m\u001b[0;34m(\u001b[0m\u001b[0mt\u001b[0m\u001b[0;34m)\u001b[0m\u001b[0;34m,\u001b[0m \u001b[0;34m'%Y%m%d'\u001b[0m\u001b[0;34m)\u001b[0m \u001b[0;34m)\u001b[0m\u001b[0;34m\u001b[0m\u001b[0;34m\u001b[0m\u001b[0m\n\u001b[0m",
      "\u001b[0;31mAttributeError\u001b[0m: module 'datetime' has no attribute 'strptime'"
     ]
    }
   ],
   "source": [
    "date = []\n",
    "# do a for-loop that updates our date array with the correct formatting\n",
    "for t in time:\n",
    "    date.append( datetime.strptime(str(t), '%Y%m%d') )"
   ]
  },
  {
   "cell_type": "code",
   "execution_count": 25,
   "id": "psychological-committee",
   "metadata": {},
   "outputs": [],
   "source": [
    "datetime.datetime.strptime?"
   ]
  },
  {
   "cell_type": "code",
   "execution_count": null,
   "id": "major-shield",
   "metadata": {},
   "outputs": [],
   "source": []
  }
 ],
 "metadata": {
  "kernelspec": {
   "display_name": "Python 3",
   "language": "python",
   "name": "python3"
  },
  "language_info": {
   "codemirror_mode": {
    "name": "ipython",
    "version": 3
   },
   "file_extension": ".py",
   "mimetype": "text/x-python",
   "name": "python",
   "nbconvert_exporter": "python",
   "pygments_lexer": "ipython3",
   "version": "3.7.9"
  }
 },
 "nbformat": 4,
 "nbformat_minor": 5
}
