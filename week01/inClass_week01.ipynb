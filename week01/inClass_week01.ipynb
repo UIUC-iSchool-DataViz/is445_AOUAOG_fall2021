{
 "cells": [
  {
   "cell_type": "markdown",
   "id": "respective-store",
   "metadata": {},
   "source": [
    "# In Class Notebook, Week 01"
   ]
  },
  {
   "cell_type": "markdown",
   "id": "patent-merit",
   "metadata": {},
   "source": [
    "You can always paste the URL of this notebook (https://github.com/UIUC-iSchool-DataViz/is445_AOUAOG_fall2021/blob/master/week01/inClass_week01.ipynb ) into the nbviewer interface for a plain-text rendering:\n",
    "\n",
    "https://kokes.github.io/nbviewer.js/viewer.html"
   ]
  },
  {
   "cell_type": "markdown",
   "id": "bf815c34",
   "metadata": {},
   "source": [
    "This is me writing some words right here.\n",
    "\n",
    "I am writing more words here."
   ]
  },
  {
   "cell_type": "markdown",
   "id": "d2e35bf6",
   "metadata": {},
   "source": [
    "# This is a large header\n",
    "\n",
    "Lists of stuff:\n",
    "1. this is a first thing\n",
    "1. this is a 2nd thing\n",
    "1. this is a last thing"
   ]
  },
  {
   "cell_type": "markdown",
   "id": "7ff24d3b",
   "metadata": {},
   "source": [
    "Also make an unordered list:\n",
    "* first thing\n",
    "* second thing\n",
    "* third thing"
   ]
  },
  {
   "cell_type": "markdown",
   "id": "1118427d",
   "metadata": {},
   "source": [
    "Can also used LaTex equations:\n",
    "$ y = \\frac{x}{2}$"
   ]
  },
  {
   "cell_type": "code",
   "execution_count": 2,
   "id": "ca704153",
   "metadata": {},
   "outputs": [
    {
     "data": {
      "text/plain": [
       "9"
      ]
     },
     "execution_count": 2,
     "metadata": {},
     "output_type": "execute_result"
    }
   ],
   "source": [
    "4+5"
   ]
  },
  {
   "cell_type": "code",
   "execution_count": 3,
   "id": "a20f74a3",
   "metadata": {},
   "outputs": [
    {
     "data": {
      "text/plain": [
       "'hi there I am a string'"
      ]
     },
     "execution_count": 3,
     "metadata": {},
     "output_type": "execute_result"
    }
   ],
   "source": [
    "'hi there I am a string'"
   ]
  },
  {
   "cell_type": "code",
   "execution_count": 5,
   "id": "19945bd6",
   "metadata": {},
   "outputs": [],
   "source": [
    "# this is a comment\n",
    "# here I'll import some packages\n",
    "import matplotlib\n",
    "import numpy as np"
   ]
  },
  {
   "cell_type": "code",
   "execution_count": 6,
   "id": "09ebf7cb",
   "metadata": {},
   "outputs": [
    {
     "data": {
      "text/plain": [
       "array([5, 6, 7, 8])"
      ]
     },
     "execution_count": 6,
     "metadata": {},
     "output_type": "execute_result"
    }
   ],
   "source": [
    "np.array([5,6,7,8])"
   ]
  },
  {
   "cell_type": "code",
   "execution_count": null,
   "id": "576e6ece",
   "metadata": {},
   "outputs": [],
   "source": []
  }
 ],
 "metadata": {
  "kernelspec": {
   "display_name": "Python 3 (ipykernel)",
   "language": "python",
   "name": "python3"
  },
  "language_info": {
   "codemirror_mode": {
    "name": "ipython",
    "version": 3
   },
   "file_extension": ".py",
   "mimetype": "text/x-python",
   "name": "python",
   "nbconvert_exporter": "python",
   "pygments_lexer": "ipython3",
   "version": "3.7.10"
  }
 },
 "nbformat": 4,
 "nbformat_minor": 5
}
