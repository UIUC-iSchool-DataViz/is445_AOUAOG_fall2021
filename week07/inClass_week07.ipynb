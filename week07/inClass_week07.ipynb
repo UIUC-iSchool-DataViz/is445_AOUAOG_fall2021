{
 "cells": [
  {
   "cell_type": "markdown",
   "id": "respective-store",
   "metadata": {},
   "source": [
    "# In Class Notebook, Week 07"
   ]
  },
  {
   "cell_type": "markdown",
   "id": "2a597611",
   "metadata": {},
   "source": [
    "You can always paste the URL of this notebook (https://github.com/UIUC-iSchool-DataViz/is445_AOUAOG_fall2021/blob/master/week07/inClass_week07.ipynb ) into the nbviewer interface for a plain-text rendering:\n",
    "\n",
    "https://kokes.github.io/nbviewer.js/viewer.html"
   ]
  },
  {
   "cell_type": "code",
   "execution_count": 10,
   "id": "98501859",
   "metadata": {},
   "outputs": [],
   "source": [
    "# import our usual things\n",
    "import pandas as pd\n",
    "import bqplot\n",
    "import numpy as np\n",
    "import ipywidgets"
   ]
  },
  {
   "cell_type": "markdown",
   "id": "fb37f2c2",
   "metadata": {},
   "source": [
    "## Review from last time"
   ]
  },
  {
   "cell_type": "code",
   "execution_count": 2,
   "id": "604431bd",
   "metadata": {},
   "outputs": [],
   "source": [
    "data3d = np.random.random((10,10,20))"
   ]
  },
  {
   "cell_type": "code",
   "execution_count": 3,
   "id": "2431bc01",
   "metadata": {},
   "outputs": [
    {
     "data": {
      "text/plain": [
       "(10, 10, 20)"
      ]
     },
     "execution_count": 3,
     "metadata": {},
     "output_type": "execute_result"
    }
   ],
   "source": [
    "data3d.shape"
   ]
  },
  {
   "cell_type": "code",
   "execution_count": 5,
   "id": "08282e78",
   "metadata": {},
   "outputs": [
    {
     "data": {
      "text/plain": [
       "array([0.54124828, 0.74085663, 0.09687062, 0.41278187, 0.86485492,\n",
       "       0.83916209, 0.12256965, 0.29033369, 0.77222567, 0.56508207,\n",
       "       0.90867493, 0.01965847, 0.20915492, 0.79891201, 0.63663157,\n",
       "       0.95864038, 0.37553424, 0.16664989, 0.91251915, 0.58197625])"
      ]
     },
     "execution_count": 5,
     "metadata": {},
     "output_type": "execute_result"
    }
   ],
   "source": [
    "data3d[0,0,:]"
   ]
  },
  {
   "cell_type": "code",
   "execution_count": 6,
   "id": "3ec00bd5",
   "metadata": {},
   "outputs": [
    {
     "data": {
      "text/plain": [
       "array([[0.54071686, 0.55107975, 0.51234274, 0.5145504 , 0.46497102,\n",
       "        0.42905291, 0.42656233, 0.49128036, 0.4054977 , 0.56155958],\n",
       "       [0.46228498, 0.42338155, 0.59415794, 0.60819728, 0.56597605,\n",
       "        0.51121569, 0.45792426, 0.61043616, 0.54714568, 0.58127305],\n",
       "       [0.51397774, 0.52889253, 0.36980809, 0.52864474, 0.42484609,\n",
       "        0.42711735, 0.56227841, 0.38661328, 0.65091268, 0.49966308],\n",
       "       [0.43665654, 0.48015288, 0.46679803, 0.5792847 , 0.47955188,\n",
       "        0.40715425, 0.50125869, 0.55210181, 0.46538023, 0.39810901],\n",
       "       [0.52048808, 0.46948613, 0.57809338, 0.49964317, 0.48100504,\n",
       "        0.4985754 , 0.54884247, 0.54509474, 0.545756  , 0.46683585],\n",
       "       [0.46519147, 0.54068073, 0.5179983 , 0.41309053, 0.47186924,\n",
       "        0.42179622, 0.62895304, 0.44321757, 0.55757922, 0.55300718],\n",
       "       [0.46214573, 0.54584009, 0.57520554, 0.55510407, 0.57548104,\n",
       "        0.47499138, 0.51263281, 0.49698276, 0.47479926, 0.53358586],\n",
       "       [0.58795587, 0.54341188, 0.55746425, 0.5480153 , 0.4819784 ,\n",
       "        0.45436881, 0.4381639 , 0.53793498, 0.5481346 , 0.55022462],\n",
       "       [0.47191528, 0.43735681, 0.4336962 , 0.49718265, 0.47924911,\n",
       "        0.55387815, 0.61285167, 0.5382788 , 0.52775366, 0.6292518 ],\n",
       "       [0.48260779, 0.42915958, 0.45359732, 0.38761013, 0.51596245,\n",
       "        0.57618925, 0.48386763, 0.56724481, 0.41891151, 0.54036243]])"
      ]
     },
     "execution_count": 6,
     "metadata": {},
     "output_type": "execute_result"
    }
   ],
   "source": [
    "data3d.mean(axis=2)"
   ]
  },
  {
   "cell_type": "code",
   "execution_count": 7,
   "id": "48f93c91",
   "metadata": {},
   "outputs": [
    {
     "data": {
      "text/plain": [
       "(10, 10)"
      ]
     },
     "execution_count": 7,
     "metadata": {},
     "output_type": "execute_result"
    }
   ],
   "source": [
    "data3d.mean(axis=2).shape"
   ]
  },
  {
   "cell_type": "code",
   "execution_count": 8,
   "id": "17cd0c6d",
   "metadata": {},
   "outputs": [
    {
     "data": {
      "application/vnd.jupyter.widget-view+json": {
       "model_id": "3ccb3080512f4f45b901bdff080f71cb",
       "version_major": 2,
       "version_minor": 0
      },
      "text/plain": [
       "Figure(axes=[ColorAxis(orientation='vertical', scale=ColorScale(scheme='Reds'), side='right'), Axis(scale=Ordi…"
      ]
     },
     "metadata": {},
     "output_type": "display_data"
    }
   ],
   "source": [
    "# 1. Data -- data3d\n",
    "\n",
    "#2. Scales\n",
    "col_sc = bqplot.ColorScale(scheme=\"Reds\") \n",
    "x_sc = bqplot.OrdinalScale() # treating bins like bins of categorical data\n",
    "y_sc = bqplot.OrdinalScale()\n",
    "\n",
    "#3. Axis -- color & for x/y\n",
    "ax_col = bqplot.ColorAxis(scale=col_sc, orientation='vertical', side='right')\n",
    "ax_x = bqplot.Axis(scale=x_sc)\n",
    "ax_y = bqplot.Axis(scale=y_sc, orientation='vertical')\n",
    "\n",
    "# 4. Mark -- heatmap\n",
    "heat_map = bqplot.GridHeatMap(color=data3d.mean(axis=2),\n",
    "                             scales={'color':col_sc, 'row':y_sc, 'column':x_sc})\n",
    "\n",
    "# 5. interactions around here -- in a moment!\n",
    "\n",
    "# 6. Finally, put together figure\n",
    "fig = bqplot.Figure(marks=[heat_map], axes=[ax_col, ax_x, ax_y])\n",
    "\n",
    "# display!\n",
    "fig"
   ]
  },
  {
   "cell_type": "code",
   "execution_count": 12,
   "id": "a4fde58a",
   "metadata": {},
   "outputs": [
    {
     "data": {
      "application/vnd.jupyter.widget-view+json": {
       "model_id": "669ac855fb38416384b1621164cc2255",
       "version_major": 2,
       "version_minor": 0
      },
      "text/plain": [
       "VBox(children=(Label(value='Mean selected point here'), Figure(axes=[ColorAxis(orientation='vertical', scale=C…"
      ]
     },
     "metadata": {},
     "output_type": "display_data"
    }
   ],
   "source": [
    "# 1. Data -- data3d\n",
    "\n",
    "#2. Scales\n",
    "col_sc = bqplot.ColorScale(scheme=\"Reds\") \n",
    "x_sc = bqplot.OrdinalScale() # treating bins like bins of categorical data\n",
    "y_sc = bqplot.OrdinalScale()\n",
    "\n",
    "#3. Axis -- color & for x/y\n",
    "ax_col = bqplot.ColorAxis(scale=col_sc, orientation='vertical', side='right')\n",
    "ax_x = bqplot.Axis(scale=x_sc)\n",
    "ax_y = bqplot.Axis(scale=y_sc, orientation='vertical')\n",
    "\n",
    "# 4. Mark -- heatmap\n",
    "heat_map = bqplot.GridHeatMap(color=data3d.mean(axis=2),\n",
    "                             scales={'color':col_sc, 'row':y_sc, 'column':x_sc})\n",
    "\n",
    "# 5. interactions around here -- in a moment!\n",
    "mySelectedLabel = ipywidgets.Label()\n",
    "mySelectedLabel.value = 'Mean selected point here'\n",
    "\n",
    "# 6. Finally, put together figure\n",
    "fig = bqplot.Figure(marks=[heat_map], axes=[ax_col, ax_x, ax_y])\n",
    "\n",
    "# display!\n",
    "#fig\n",
    "myDashboard = ipywidgets.VBox([mySelectedLabel, fig])\n",
    "myDashboard"
   ]
  },
  {
   "cell_type": "code",
   "execution_count": 13,
   "id": "35c7a82d",
   "metadata": {},
   "outputs": [
    {
     "data": {
      "application/vnd.jupyter.widget-view+json": {
       "model_id": "ecf3a9f1be904265bf4b7e8dd95ce23f",
       "version_major": 2,
       "version_minor": 0
      },
      "text/plain": [
       "VBox(children=(Label(value='Mean selected point here'), Figure(axes=[ColorAxis(orientation='vertical', scale=C…"
      ]
     },
     "metadata": {},
     "output_type": "display_data"
    }
   ],
   "source": [
    "# 1. Data -- data3d\n",
    "\n",
    "#2. Scales\n",
    "col_sc = bqplot.ColorScale(scheme=\"Reds\") \n",
    "x_sc = bqplot.OrdinalScale() # treating bins like bins of categorical data\n",
    "y_sc = bqplot.OrdinalScale()\n",
    "\n",
    "#3. Axis -- color & for x/y\n",
    "ax_col = bqplot.ColorAxis(scale=col_sc, orientation='vertical', side='right')\n",
    "ax_x = bqplot.Axis(scale=x_sc)\n",
    "ax_y = bqplot.Axis(scale=y_sc, orientation='vertical')\n",
    "\n",
    "# 4. Mark -- heatmap\n",
    "heat_map = bqplot.GridHeatMap(color=data3d.mean(axis=2),\n",
    "                             scales={'color':col_sc, 'row':y_sc, 'column':x_sc})\n",
    "\n",
    "# 5. interactions around here -- in a moment!\n",
    "mySelectedLabel = ipywidgets.Label()\n",
    "mySelectedLabel.value = 'Mean selected point here'\n",
    "# interaction function -- what happens on selection:\n",
    "def on_selected(change):\n",
    "    print(change)\n",
    "# link interaction function to my mark:\n",
    "heat_map.observe(on_selected, 'selected')\n",
    "\n",
    "# 6. Finally, put together figure\n",
    "fig = bqplot.Figure(marks=[heat_map], axes=[ax_col, ax_x, ax_y])\n",
    "\n",
    "# display!\n",
    "#fig\n",
    "myDashboard = ipywidgets.VBox([mySelectedLabel, fig])\n",
    "myDashboard"
   ]
  },
  {
   "cell_type": "code",
   "execution_count": 15,
   "id": "42464d58",
   "metadata": {},
   "outputs": [
    {
     "data": {
      "application/vnd.jupyter.widget-view+json": {
       "model_id": "2c75c8b4dc3f4925a10afaafab9e9965",
       "version_major": 2,
       "version_minor": 0
      },
      "text/plain": [
       "VBox(children=(Label(value='Mean selected point here'), Figure(axes=[ColorAxis(orientation='vertical', scale=C…"
      ]
     },
     "metadata": {},
     "output_type": "display_data"
    },
    {
     "name": "stdout",
     "output_type": "stream",
     "text": [
      "{'name': 'selected', 'old': None, 'new': array([[8, 2]]), 'owner': GridHeatMap(color=array([[0.54071686, 0.55107975, 0.51234274, 0.5145504 , 0.46497102,\n",
      "        0.42905291, 0.42656233, 0.49128036, 0.4054977 , 0.56155958],\n",
      "       [0.46228498, 0.42338155, 0.59415794, 0.60819728, 0.56597605,\n",
      "        0.51121569, 0.45792426, 0.61043616, 0.54714568, 0.58127305],\n",
      "       [0.51397774, 0.52889253, 0.36980809, 0.52864474, 0.42484609,\n",
      "        0.42711735, 0.56227841, 0.38661328, 0.65091268, 0.49966308],\n",
      "       [0.43665654, 0.48015288, 0.46679803, 0.5792847 , 0.47955188,\n",
      "        0.40715425, 0.50125869, 0.55210181, 0.46538023, 0.39810901],\n",
      "       [0.52048808, 0.46948613, 0.57809338, 0.49964317, 0.48100504,\n",
      "        0.4985754 , 0.54884247, 0.54509474, 0.545756  , 0.46683585],\n",
      "       [0.46519147, 0.54068073, 0.5179983 , 0.41309053, 0.47186924,\n",
      "        0.42179622, 0.62895304, 0.44321757, 0.55757922, 0.55300718],\n",
      "       [0.46214573, 0.54584009, 0.57520554, 0.55510407, 0.57548104,\n",
      "        0.47499138, 0.51263281, 0.49698276, 0.47479926, 0.53358586],\n",
      "       [0.58795587, 0.54341188, 0.55746425, 0.5480153 , 0.4819784 ,\n",
      "        0.45436881, 0.4381639 , 0.53793498, 0.5481346 , 0.55022462],\n",
      "       [0.47191528, 0.43735681, 0.4336962 , 0.49718265, 0.47924911,\n",
      "        0.55387815, 0.61285167, 0.5382788 , 0.52775366, 0.6292518 ],\n",
      "       [0.48260779, 0.42915958, 0.45359732, 0.38761013, 0.51596245,\n",
      "        0.57618925, 0.48386763, 0.56724481, 0.41891151, 0.54036243]]), interactions={'click': 'select'}, scales={'color': ColorScale(scheme='Reds'), 'row': OrdinalScale(), 'column': OrdinalScale()}, scales_metadata={'row': {'orientation': 'vertical', 'dimension': 'y'}, 'column': {'orientation': 'horizontal', 'dimension': 'x'}, 'color': {'dimension': 'color'}}, selected=array([[8, 2]]), tooltip_style={'opacity': 0.9}), 'type': 'change'}\n",
      "{'name': 'selected', 'old': array([[8, 2]]), 'new': array([[8, 1]]), 'owner': GridHeatMap(color=array([[0.54071686, 0.55107975, 0.51234274, 0.5145504 , 0.46497102,\n",
      "        0.42905291, 0.42656233, 0.49128036, 0.4054977 , 0.56155958],\n",
      "       [0.46228498, 0.42338155, 0.59415794, 0.60819728, 0.56597605,\n",
      "        0.51121569, 0.45792426, 0.61043616, 0.54714568, 0.58127305],\n",
      "       [0.51397774, 0.52889253, 0.36980809, 0.52864474, 0.42484609,\n",
      "        0.42711735, 0.56227841, 0.38661328, 0.65091268, 0.49966308],\n",
      "       [0.43665654, 0.48015288, 0.46679803, 0.5792847 , 0.47955188,\n",
      "        0.40715425, 0.50125869, 0.55210181, 0.46538023, 0.39810901],\n",
      "       [0.52048808, 0.46948613, 0.57809338, 0.49964317, 0.48100504,\n",
      "        0.4985754 , 0.54884247, 0.54509474, 0.545756  , 0.46683585],\n",
      "       [0.46519147, 0.54068073, 0.5179983 , 0.41309053, 0.47186924,\n",
      "        0.42179622, 0.62895304, 0.44321757, 0.55757922, 0.55300718],\n",
      "       [0.46214573, 0.54584009, 0.57520554, 0.55510407, 0.57548104,\n",
      "        0.47499138, 0.51263281, 0.49698276, 0.47479926, 0.53358586],\n",
      "       [0.58795587, 0.54341188, 0.55746425, 0.5480153 , 0.4819784 ,\n",
      "        0.45436881, 0.4381639 , 0.53793498, 0.5481346 , 0.55022462],\n",
      "       [0.47191528, 0.43735681, 0.4336962 , 0.49718265, 0.47924911,\n",
      "        0.55387815, 0.61285167, 0.5382788 , 0.52775366, 0.6292518 ],\n",
      "       [0.48260779, 0.42915958, 0.45359732, 0.38761013, 0.51596245,\n",
      "        0.57618925, 0.48386763, 0.56724481, 0.41891151, 0.54036243]]), interactions={'click': 'select'}, scales={'color': ColorScale(scheme='Reds'), 'row': OrdinalScale(), 'column': OrdinalScale()}, scales_metadata={'row': {'orientation': 'vertical', 'dimension': 'y'}, 'column': {'orientation': 'horizontal', 'dimension': 'x'}, 'color': {'dimension': 'color'}}, selected=array([[8, 1]]), tooltip_style={'opacity': 0.9}), 'type': 'change'}\n",
      "{'name': 'selected', 'old': array([[8, 1]]), 'new': array([[6, 4],\n",
      "       [6, 1],\n",
      "       [6, 2],\n",
      "       [6, 3],\n",
      "       [7, 1],\n",
      "       [7, 2],\n",
      "       [7, 3],\n",
      "       [7, 4],\n",
      "       [8, 1],\n",
      "       [8, 2],\n",
      "       [8, 3],\n",
      "       [8, 4]]), 'owner': GridHeatMap(color=array([[0.54071686, 0.55107975, 0.51234274, 0.5145504 , 0.46497102,\n",
      "        0.42905291, 0.42656233, 0.49128036, 0.4054977 , 0.56155958],\n",
      "       [0.46228498, 0.42338155, 0.59415794, 0.60819728, 0.56597605,\n",
      "        0.51121569, 0.45792426, 0.61043616, 0.54714568, 0.58127305],\n",
      "       [0.51397774, 0.52889253, 0.36980809, 0.52864474, 0.42484609,\n",
      "        0.42711735, 0.56227841, 0.38661328, 0.65091268, 0.49966308],\n",
      "       [0.43665654, 0.48015288, 0.46679803, 0.5792847 , 0.47955188,\n",
      "        0.40715425, 0.50125869, 0.55210181, 0.46538023, 0.39810901],\n",
      "       [0.52048808, 0.46948613, 0.57809338, 0.49964317, 0.48100504,\n",
      "        0.4985754 , 0.54884247, 0.54509474, 0.545756  , 0.46683585],\n",
      "       [0.46519147, 0.54068073, 0.5179983 , 0.41309053, 0.47186924,\n",
      "        0.42179622, 0.62895304, 0.44321757, 0.55757922, 0.55300718],\n",
      "       [0.46214573, 0.54584009, 0.57520554, 0.55510407, 0.57548104,\n",
      "        0.47499138, 0.51263281, 0.49698276, 0.47479926, 0.53358586],\n",
      "       [0.58795587, 0.54341188, 0.55746425, 0.5480153 , 0.4819784 ,\n",
      "        0.45436881, 0.4381639 , 0.53793498, 0.5481346 , 0.55022462],\n",
      "       [0.47191528, 0.43735681, 0.4336962 , 0.49718265, 0.47924911,\n",
      "        0.55387815, 0.61285167, 0.5382788 , 0.52775366, 0.6292518 ],\n",
      "       [0.48260779, 0.42915958, 0.45359732, 0.38761013, 0.51596245,\n",
      "        0.57618925, 0.48386763, 0.56724481, 0.41891151, 0.54036243]]), interactions={'click': 'select'}, scales={'color': ColorScale(scheme='Reds'), 'row': OrdinalScale(), 'column': OrdinalScale()}, scales_metadata={'row': {'orientation': 'vertical', 'dimension': 'y'}, 'column': {'orientation': 'horizontal', 'dimension': 'x'}, 'color': {'dimension': 'color'}}, selected=array([[6, 4],\n",
      "       [6, 1],\n",
      "       [6, 2],\n",
      "       [6, 3],\n",
      "       [7, 1],\n",
      "       [7, 2],\n",
      "       [7, 3],\n",
      "       [7, 4],\n",
      "       [8, 1],\n",
      "       [8, 2],\n",
      "       [8, 3],\n",
      "       [8, 4]]), tooltip_style={'opacity': 0.9}), 'type': 'change'}\n"
     ]
    }
   ],
   "source": [
    "# 1. Data -- data3d\n",
    "\n",
    "#2. Scales\n",
    "col_sc = bqplot.ColorScale(scheme=\"Reds\") \n",
    "x_sc = bqplot.OrdinalScale() # treating bins like bins of categorical data\n",
    "y_sc = bqplot.OrdinalScale()\n",
    "\n",
    "#3. Axis -- color & for x/y\n",
    "ax_col = bqplot.ColorAxis(scale=col_sc, orientation='vertical', side='right')\n",
    "ax_x = bqplot.Axis(scale=x_sc)\n",
    "ax_y = bqplot.Axis(scale=y_sc, orientation='vertical')\n",
    "\n",
    "# 4. Mark -- heatmap\n",
    "heat_map = bqplot.GridHeatMap(color=data3d.mean(axis=2),\n",
    "                             scales={'color':col_sc, 'row':y_sc, 'column':x_sc}, \n",
    "                             interactions={'click':'select'})\n",
    "\n",
    "# 5. interactions around here -- in a moment!\n",
    "mySelectedLabel = ipywidgets.Label()\n",
    "mySelectedLabel.value = 'Mean selected point here'\n",
    "# interaction function -- what happens on selection:\n",
    "def on_selected(change):\n",
    "    print(change)\n",
    "# link interaction function to my mark:\n",
    "heat_map.observe(on_selected, 'selected')\n",
    "\n",
    "# 6. Finally, put together figure\n",
    "fig = bqplot.Figure(marks=[heat_map], axes=[ax_col, ax_x, ax_y])\n",
    "\n",
    "# display!\n",
    "#fig\n",
    "myDashboard = ipywidgets.VBox([mySelectedLabel, fig])\n",
    "myDashboard"
   ]
  },
  {
   "cell_type": "code",
   "execution_count": 16,
   "id": "cfb2eea6",
   "metadata": {},
   "outputs": [
    {
     "data": {
      "application/vnd.jupyter.widget-view+json": {
       "model_id": "1f24b50989b440f29259ea9b6105e333",
       "version_major": 2,
       "version_minor": 0
      },
      "text/plain": [
       "VBox(children=(Label(value='Mean selected point here'), Figure(axes=[ColorAxis(orientation='vertical', scale=C…"
      ]
     },
     "metadata": {},
     "output_type": "display_data"
    },
    {
     "name": "stdout",
     "output_type": "stream",
     "text": [
      "{'name': 'selected', 'old': None, 'new': array([[6, 4]]), 'owner': GridHeatMap(anchor_style={'fill': 'blue'}, color=array([[0.54071686, 0.55107975, 0.51234274, 0.5145504 , 0.46497102,\n",
      "        0.42905291, 0.42656233, 0.49128036, 0.4054977 , 0.56155958],\n",
      "       [0.46228498, 0.42338155, 0.59415794, 0.60819728, 0.56597605,\n",
      "        0.51121569, 0.45792426, 0.61043616, 0.54714568, 0.58127305],\n",
      "       [0.51397774, 0.52889253, 0.36980809, 0.52864474, 0.42484609,\n",
      "        0.42711735, 0.56227841, 0.38661328, 0.65091268, 0.49966308],\n",
      "       [0.43665654, 0.48015288, 0.46679803, 0.5792847 , 0.47955188,\n",
      "        0.40715425, 0.50125869, 0.55210181, 0.46538023, 0.39810901],\n",
      "       [0.52048808, 0.46948613, 0.57809338, 0.49964317, 0.48100504,\n",
      "        0.4985754 , 0.54884247, 0.54509474, 0.545756  , 0.46683585],\n",
      "       [0.46519147, 0.54068073, 0.5179983 , 0.41309053, 0.47186924,\n",
      "        0.42179622, 0.62895304, 0.44321757, 0.55757922, 0.55300718],\n",
      "       [0.46214573, 0.54584009, 0.57520554, 0.55510407, 0.57548104,\n",
      "        0.47499138, 0.51263281, 0.49698276, 0.47479926, 0.53358586],\n",
      "       [0.58795587, 0.54341188, 0.55746425, 0.5480153 , 0.4819784 ,\n",
      "        0.45436881, 0.4381639 , 0.53793498, 0.5481346 , 0.55022462],\n",
      "       [0.47191528, 0.43735681, 0.4336962 , 0.49718265, 0.47924911,\n",
      "        0.55387815, 0.61285167, 0.5382788 , 0.52775366, 0.6292518 ],\n",
      "       [0.48260779, 0.42915958, 0.45359732, 0.38761013, 0.51596245,\n",
      "        0.57618925, 0.48386763, 0.56724481, 0.41891151, 0.54036243]]), interactions={'click': 'select'}, scales={'color': ColorScale(scheme='Reds'), 'row': OrdinalScale(), 'column': OrdinalScale()}, scales_metadata={'row': {'orientation': 'vertical', 'dimension': 'y'}, 'column': {'orientation': 'horizontal', 'dimension': 'x'}, 'color': {'dimension': 'color'}}, selected=array([[6, 4]]), tooltip_style={'opacity': 0.9}), 'type': 'change'}\n"
     ]
    }
   ],
   "source": [
    "# 1. Data -- data3d\n",
    "\n",
    "#2. Scales\n",
    "col_sc = bqplot.ColorScale(scheme=\"Reds\") \n",
    "x_sc = bqplot.OrdinalScale() # treating bins like bins of categorical data\n",
    "y_sc = bqplot.OrdinalScale()\n",
    "\n",
    "#3. Axis -- color & for x/y\n",
    "ax_col = bqplot.ColorAxis(scale=col_sc, orientation='vertical', side='right')\n",
    "ax_x = bqplot.Axis(scale=x_sc)\n",
    "ax_y = bqplot.Axis(scale=y_sc, orientation='vertical')\n",
    "\n",
    "# 4. Mark -- heatmap\n",
    "heat_map = bqplot.GridHeatMap(color=data3d.mean(axis=2),\n",
    "                             scales={'color':col_sc, 'row':y_sc, 'column':x_sc}, \n",
    "                             interactions={'click':'select'}, \n",
    "                             anchor_style={'fill':'blue'})\n",
    "\n",
    "# 5. interactions around here -- in a moment!\n",
    "mySelectedLabel = ipywidgets.Label()\n",
    "mySelectedLabel.value = 'Mean selected point here'\n",
    "# interaction function -- what happens on selection:\n",
    "def on_selected(change):\n",
    "    print(change)\n",
    "# link interaction function to my mark:\n",
    "heat_map.observe(on_selected, 'selected')\n",
    "\n",
    "# 6. Finally, put together figure\n",
    "fig = bqplot.Figure(marks=[heat_map], axes=[ax_col, ax_x, ax_y])\n",
    "\n",
    "# display!\n",
    "#fig\n",
    "myDashboard = ipywidgets.VBox([mySelectedLabel, fig])\n",
    "myDashboard"
   ]
  },
  {
   "cell_type": "code",
   "execution_count": 19,
   "id": "01b0a94f",
   "metadata": {},
   "outputs": [
    {
     "data": {
      "application/vnd.jupyter.widget-view+json": {
       "model_id": "b7b888da08274a2eb8d6269975c28099",
       "version_major": 2,
       "version_minor": 0
      },
      "text/plain": [
       "VBox(children=(Label(value='Mean selected point here'), Figure(axes=[ColorAxis(orientation='vertical', scale=C…"
      ]
     },
     "metadata": {},
     "output_type": "display_data"
    },
    {
     "name": "stdout",
     "output_type": "stream",
     "text": [
      "9 0\n",
      "5 6\n",
      "2 8\n"
     ]
    }
   ],
   "source": [
    "# 1. Data -- data3d\n",
    "\n",
    "#2. Scales\n",
    "col_sc = bqplot.ColorScale(scheme=\"Reds\") \n",
    "x_sc = bqplot.OrdinalScale() # treating bins like bins of categorical data\n",
    "y_sc = bqplot.OrdinalScale()\n",
    "\n",
    "#3. Axis -- color & for x/y\n",
    "ax_col = bqplot.ColorAxis(scale=col_sc, orientation='vertical', side='right')\n",
    "ax_x = bqplot.Axis(scale=x_sc)\n",
    "ax_y = bqplot.Axis(scale=y_sc, orientation='vertical')\n",
    "\n",
    "# 4. Mark -- heatmap\n",
    "heat_map = bqplot.GridHeatMap(color=data3d.mean(axis=2),\n",
    "                             scales={'color':col_sc, 'row':y_sc, 'column':x_sc}, \n",
    "                             interactions={'click':'select'}, \n",
    "                             anchor_style={'fill':'blue'})\n",
    "\n",
    "# 5. interactions around here -- in a moment!\n",
    "mySelectedLabel = ipywidgets.Label()\n",
    "mySelectedLabel.value = 'Mean selected point here'\n",
    "# interaction function -- what happens on selection:\n",
    "def on_selected(change):\n",
    "    #print(change)\n",
    "    if len(change['owner'].selected) == 1: # only allow user to select one bin\n",
    "        i,j = change['owner'].selected[0] # the only selected bin\n",
    "        print(i,j)\n",
    "        v = data3d[i,j,:].mean() # mean of the 20 points in the 3rd dimension\n",
    "        mySelectedLabel.value = 'Mean data value='+str(v)\n",
    "# link interaction function to my mark:\n",
    "heat_map.observe(on_selected, 'selected')\n",
    "\n",
    "# 6. Finally, put together figure\n",
    "fig = bqplot.Figure(marks=[heat_map], axes=[ax_col, ax_x, ax_y])\n",
    "\n",
    "# display!\n",
    "#fig\n",
    "myDashboard = ipywidgets.VBox([mySelectedLabel, fig])\n",
    "myDashboard"
   ]
  },
  {
   "cell_type": "code",
   "execution_count": 21,
   "id": "c65ff1a8",
   "metadata": {},
   "outputs": [
    {
     "data": {
      "text/plain": [
       "0.6289530435055469"
      ]
     },
     "execution_count": 21,
     "metadata": {},
     "output_type": "execute_result"
    }
   ],
   "source": [
    "data3d[5,6,:].mean()"
   ]
  },
  {
   "cell_type": "markdown",
   "id": "d1859c5b",
   "metadata": {},
   "source": [
    "Making a histogram with a \"hard coded\" i,j selection:"
   ]
  },
  {
   "cell_type": "code",
   "execution_count": 29,
   "id": "4f5fff7b",
   "metadata": {},
   "outputs": [
    {
     "data": {
      "text/plain": [
       "array([0.65943914, 0.2114252 , 0.63698204, 0.18286158, 0.11954505,\n",
       "       0.59477775, 0.8791518 , 0.06861093, 0.34076349, 0.51781035,\n",
       "       0.40939074, 0.47589809, 0.96419257, 0.40555269, 0.27529985,\n",
       "       0.14168981, 0.27349426, 0.53996642, 0.07503348, 0.6957457 ])"
      ]
     },
     "execution_count": 29,
     "metadata": {},
     "output_type": "execute_result"
    }
   ],
   "source": [
    "# 1. data\n",
    "i,j = 1, 1\n",
    "data3d[i,j,:]"
   ]
  },
  {
   "cell_type": "code",
   "execution_count": 30,
   "id": "2b2300cf",
   "metadata": {},
   "outputs": [],
   "source": [
    "# 2. Scales -- linear for a histogram of numerical data\n",
    "x_sch = bqplot.LinearScale()\n",
    "y_sch = bqplot.LinearScale()"
   ]
  },
  {
   "cell_type": "code",
   "execution_count": 31,
   "id": "bcc2458a",
   "metadata": {},
   "outputs": [],
   "source": [
    "# 3. Axis\n",
    "x_axh = bqplot.Axis(scale=x_sch, label='Value of 3rd Axis')\n",
    "y_axh = bqplot.Axis(scale=y_sch, orientation='vertical', label='Frequency')"
   ]
  },
  {
   "cell_type": "code",
   "execution_count": 33,
   "id": "6e50e59a",
   "metadata": {},
   "outputs": [],
   "source": [
    "#bqplot.Hist?"
   ]
  },
  {
   "cell_type": "code",
   "execution_count": 36,
   "id": "0ac96a3f",
   "metadata": {},
   "outputs": [],
   "source": [
    "# 4. Marks -- histogram, passing \"sample\" data attribute\n",
    "hist = bqplot.Hist(sample=data3d[i,j,:], \n",
    "                  scales={'sample':x_sch, 'count':y_sch}, bins=5) # note: count is read-only"
   ]
  },
  {
   "cell_type": "code",
   "execution_count": 37,
   "id": "9883e8c9",
   "metadata": {},
   "outputs": [],
   "source": [
    "# 5. interactions could go here, BUT in this dashboard the interactions are being driven by the heat map"
   ]
  },
  {
   "cell_type": "code",
   "execution_count": 38,
   "id": "5e092c2c",
   "metadata": {},
   "outputs": [
    {
     "data": {
      "application/vnd.jupyter.widget-view+json": {
       "model_id": "247f764a5ccb4be2a271218275451c62",
       "version_major": 2,
       "version_minor": 0
      },
      "text/plain": [
       "Figure(axes=[Axis(label='Value of 3rd Axis', scale=LinearScale(), side='bottom'), Axis(label='Frequency', orie…"
      ]
     },
     "metadata": {},
     "output_type": "display_data"
    }
   ],
   "source": [
    "# 6. figure!\n",
    "figh = bqplot.Figure(marks=[hist], axes=[x_axh, y_axh])\n",
    "figh"
   ]
  },
  {
   "cell_type": "markdown",
   "id": "f944115c",
   "metadata": {},
   "source": [
    "We need to do 2 things to finish our dashboard:\n",
    "1. link the histogram to changes in our selection of the heatmap\n",
    "2. display them side by side"
   ]
  },
  {
   "cell_type": "code",
   "execution_count": 39,
   "id": "a54c6f0c",
   "metadata": {},
   "outputs": [
    {
     "data": {
      "text/plain": [
       "['_model_module',\n",
       " '_model_module_version',\n",
       " '_model_name',\n",
       " '_view_count',\n",
       " '_view_module',\n",
       " '_view_module_version',\n",
       " '_view_name',\n",
       " 'apply_clip',\n",
       " 'bins',\n",
       " 'colors',\n",
       " 'count',\n",
       " 'display_legend',\n",
       " 'enable_hover',\n",
       " 'interactions',\n",
       " 'labels',\n",
       " 'midpoints',\n",
       " 'normalized',\n",
       " 'opacities',\n",
       " 'preserve_domain',\n",
       " 'sample',\n",
       " 'scales',\n",
       " 'scales_metadata',\n",
       " 'selected',\n",
       " 'selected_style',\n",
       " 'stroke',\n",
       " 'tooltip',\n",
       " 'tooltip_location',\n",
       " 'tooltip_style',\n",
       " 'unselected_style',\n",
       " 'visible']"
      ]
     },
     "execution_count": 39,
     "metadata": {},
     "output_type": "execute_result"
    }
   ],
   "source": [
    "# look at different attributes (like .value for our widget) that are in the hist mark:\n",
    "hist.keys"
   ]
  },
  {
   "cell_type": "code",
   "execution_count": 40,
   "id": "603cf13a",
   "metadata": {},
   "outputs": [
    {
     "data": {
      "text/plain": [
       "array([0.65943914, 0.2114252 , 0.63698204, 0.18286158, 0.11954505,\n",
       "       0.59477775, 0.8791518 , 0.06861093, 0.34076349, 0.51781035,\n",
       "       0.40939074, 0.47589809, 0.96419257, 0.40555269, 0.27529985,\n",
       "       0.14168981, 0.27349426, 0.53996642, 0.07503348, 0.6957457 ])"
      ]
     },
     "execution_count": 40,
     "metadata": {},
     "output_type": "execute_result"
    }
   ],
   "source": [
    "hist.sample # this is the attribute we want to change!"
   ]
  },
  {
   "cell_type": "code",
   "execution_count": 41,
   "id": "31e328d7",
   "metadata": {},
   "outputs": [
    {
     "data": {
      "application/vnd.jupyter.widget-view+json": {
       "model_id": "0e63496846e9480b90f76f5c44328aed",
       "version_major": 2,
       "version_minor": 0
      },
      "text/plain": [
       "VBox(children=(Label(value='Mean selected point here'), Figure(axes=[ColorAxis(orientation='vertical', scale=C…"
      ]
     },
     "metadata": {},
     "output_type": "display_data"
    },
    {
     "name": "stdout",
     "output_type": "stream",
     "text": [
      "4 4\n",
      "2 8\n",
      "6 2\n"
     ]
    }
   ],
   "source": [
    "# 1. Data -- data3d\n",
    "\n",
    "#2. Scales\n",
    "col_sc = bqplot.ColorScale(scheme=\"Reds\") \n",
    "x_sc = bqplot.OrdinalScale() # treating bins like bins of categorical data\n",
    "y_sc = bqplot.OrdinalScale()\n",
    "\n",
    "#3. Axis -- color & for x/y\n",
    "ax_col = bqplot.ColorAxis(scale=col_sc, orientation='vertical', side='right')\n",
    "ax_x = bqplot.Axis(scale=x_sc)\n",
    "ax_y = bqplot.Axis(scale=y_sc, orientation='vertical')\n",
    "\n",
    "# 4. Mark -- heatmap\n",
    "heat_map = bqplot.GridHeatMap(color=data3d.mean(axis=2),\n",
    "                             scales={'color':col_sc, 'row':y_sc, 'column':x_sc}, \n",
    "                             interactions={'click':'select'}, \n",
    "                             anchor_style={'fill':'blue'})\n",
    "\n",
    "# 5. interactions around here -- in a moment!\n",
    "mySelectedLabel = ipywidgets.Label()\n",
    "mySelectedLabel.value = 'Mean selected point here'\n",
    "# interaction function -- what happens on selection:\n",
    "def on_selected(change):\n",
    "    #print(change)\n",
    "    if len(change['owner'].selected) == 1: # only allow user to select one bin\n",
    "        i,j = change['owner'].selected[0] # the only selected bin\n",
    "        print(i,j)\n",
    "        v = data3d[i,j,:].mean() # mean of the 20 points in the 3rd dimension\n",
    "        mySelectedLabel.value = 'Mean data value='+str(v) # changing the attribute \"value\" of label widget\n",
    "        # update histogram based on selection\n",
    "        hist.sample = data3d[i,j,:]\n",
    "# link interaction function to my mark:\n",
    "heat_map.observe(on_selected, 'selected')\n",
    "\n",
    "# 6. Finally, put together figure\n",
    "fig = bqplot.Figure(marks=[heat_map], axes=[ax_col, ax_x, ax_y])\n",
    "\n",
    "# display!\n",
    "#fig\n",
    "myDashboard = ipywidgets.VBox([mySelectedLabel, fig])\n",
    "myDashboard"
   ]
  },
  {
   "cell_type": "code",
   "execution_count": 42,
   "id": "8f11b818",
   "metadata": {},
   "outputs": [
    {
     "data": {
      "application/vnd.jupyter.widget-view+json": {
       "model_id": "247f764a5ccb4be2a271218275451c62",
       "version_major": 2,
       "version_minor": 0
      },
      "text/plain": [
       "Figure(axes=[Axis(label='Value of 3rd Axis', scale=LinearScale(), side='bottom'), Axis(label='Frequency', orie…"
      ]
     },
     "metadata": {},
     "output_type": "display_data"
    }
   ],
   "source": [
    "figh"
   ]
  },
  {
   "cell_type": "markdown",
   "id": "65462802",
   "metadata": {},
   "source": [
    "Display things together:"
   ]
  },
  {
   "cell_type": "code",
   "execution_count": 43,
   "id": "30680970",
   "metadata": {},
   "outputs": [
    {
     "data": {
      "application/vnd.jupyter.widget-view+json": {
       "model_id": "3410fff4b0134bdcb9b7bb539a98ac11",
       "version_major": 2,
       "version_minor": 0
      },
      "text/plain": [
       "VBox(children=(Label(value='Mean data value=0.5752055430927485'), HBox(children=(Figure(axes=[ColorAxis(orient…"
      ]
     },
     "metadata": {},
     "output_type": "display_data"
    },
    {
     "name": "stdout",
     "output_type": "stream",
     "text": [
      "7 9\n",
      "7 6\n",
      "5 5\n",
      "6 3\n",
      "8 3\n",
      "9 1\n",
      "4 3\n",
      "2 6\n",
      "2 8\n",
      "5 5\n",
      "5 2\n",
      "2 3\n",
      "2 5\n",
      "2 8\n",
      "5 8\n",
      "1 4\n"
     ]
    }
   ],
   "source": [
    "# side by side figures\n",
    "figures = ipywidgets.HBox([fig, figh])\n",
    "\n",
    "# label on top\n",
    "myDashboard = ipywidgets.VBox([mySelectedLabel, figures])\n",
    "myDashboard"
   ]
  },
  {
   "cell_type": "code",
   "execution_count": 44,
   "id": "6e95a6fb",
   "metadata": {},
   "outputs": [],
   "source": [
    "fig.layout.min_width='500px'\n",
    "figh.layout.min_width = '500px'"
   ]
  },
  {
   "cell_type": "markdown",
   "id": "9d1a0301",
   "metadata": {},
   "source": [
    "Final thing: remake the whole dashboard in one go:"
   ]
  },
  {
   "cell_type": "code",
   "execution_count": 46,
   "id": "506f17a2",
   "metadata": {},
   "outputs": [],
   "source": [
    "# full histogram code:\n",
    "# 1. data -- hard coded to start\n",
    "i,j = 1, 1\n",
    "#data3d[i,j,:]\n",
    "\n",
    "# 2. Scales -- linear for a histogram of numerical data\n",
    "x_sch = bqplot.LinearScale()\n",
    "y_sch = bqplot.LinearScale()\n",
    "\n",
    "# 3. Axis\n",
    "x_axh = bqplot.Axis(scale=x_sch, label='Value of 3rd Axis')\n",
    "y_axh = bqplot.Axis(scale=y_sch, orientation='vertical', label='Frequency')\n",
    "\n",
    "# 4. Marks -- histogram, passing \"sample\" data attribute\n",
    "hist = bqplot.Hist(sample=data3d[i,j,:], \n",
    "                  scales={'sample':x_sch, 'count':y_sch}, bins=5) # note: count is read-only\n",
    "\n",
    "# no interactions on the histogram side!\n",
    "\n",
    "# 6. figure!\n",
    "figh = bqplot.Figure(marks=[hist], axes=[x_axh, y_axh])\n",
    "#figh"
   ]
  },
  {
   "cell_type": "code",
   "execution_count": 47,
   "id": "850323cc",
   "metadata": {},
   "outputs": [],
   "source": [
    "# full heatmap code:\n",
    "# 1. Data -- data3d\n",
    "\n",
    "#2. Scales\n",
    "col_sc = bqplot.ColorScale(scheme=\"Reds\") \n",
    "x_sc = bqplot.OrdinalScale() # treating bins like bins of categorical data\n",
    "y_sc = bqplot.OrdinalScale()\n",
    "\n",
    "#3. Axis -- color & for x/y\n",
    "ax_col = bqplot.ColorAxis(scale=col_sc, orientation='vertical', side='right')\n",
    "ax_x = bqplot.Axis(scale=x_sc)\n",
    "ax_y = bqplot.Axis(scale=y_sc, orientation='vertical')\n",
    "\n",
    "# 4. Mark -- heatmap\n",
    "heat_map = bqplot.GridHeatMap(color=data3d.mean(axis=2),\n",
    "                             scales={'color':col_sc, 'row':y_sc, 'column':x_sc}, \n",
    "                             interactions={'click':'select'}, \n",
    "                             anchor_style={'fill':'blue'})\n",
    "\n",
    "# 5. interactions around here -- in a moment!\n",
    "mySelectedLabel = ipywidgets.Label()\n",
    "mySelectedLabel.value = 'Mean selected point here'\n",
    "# interaction function -- what happens on selection:\n",
    "def on_selected(change):\n",
    "    #print(change)\n",
    "    if len(change['owner'].selected) == 1: # only allow user to select one bin\n",
    "        i,j = change['owner'].selected[0] # the only selected bin\n",
    "        #print(i,j)\n",
    "        v = data3d[i,j,:].mean() # mean of the 20 points in the 3rd dimension\n",
    "        mySelectedLabel.value = 'Mean data value='+str(v) # changing the attribute \"value\" of label widget\n",
    "        # update histogram based on selection\n",
    "        hist.sample = data3d[i,j,:]\n",
    "# link interaction function to my mark:\n",
    "heat_map.observe(on_selected, 'selected')\n",
    "\n",
    "# 6. Finally, put together figure\n",
    "fig = bqplot.Figure(marks=[heat_map], axes=[ax_col, ax_x, ax_y])"
   ]
  },
  {
   "cell_type": "code",
   "execution_count": 51,
   "id": "9909191f",
   "metadata": {},
   "outputs": [
    {
     "data": {
      "application/vnd.jupyter.widget-view+json": {
       "model_id": "26b3f3d1ce5d4d2caf7c42c10569e1eb",
       "version_major": 2,
       "version_minor": 0
      },
      "text/plain": [
       "VBox(children=(Label(value='Mean selected point here'), HBox(children=(Figure(axes=[ColorAxis(orientation='ver…"
      ]
     },
     "metadata": {},
     "output_type": "display_data"
    }
   ],
   "source": [
    "# display all together\n",
    "# side by side figures\n",
    "fig.layout.min_width='500px'\n",
    "figh.layout.min_width = '500px'\n",
    "figures = ipywidgets.HBox([fig, figh])\n",
    "\n",
    "# label on top\n",
    "myDashboard = ipywidgets.VBox([mySelectedLabel, figures])\n",
    "myDashboard"
   ]
  },
  {
   "cell_type": "markdown",
   "id": "58128968",
   "metadata": {},
   "source": [
    "## Heatmap with UFO dataset"
   ]
  },
  {
   "cell_type": "code",
   "execution_count": 52,
   "id": "17234419",
   "metadata": {},
   "outputs": [],
   "source": [
    "# ufos = pd.read_csv(\"/Users/jillnaiman/Downloads/ufo-scrubbed-geocoded-time-standardized-00.csv\",\n",
    "#                   names = [\"date\", \"city\", \"state\", \"country\",\n",
    "#                           \"shape\", \"duration_seconds\", \"duration\",\n",
    "#                           \"comment\", \"report_date\", \n",
    "#                            \"latitude\", \"longitude\"],\n",
    "#                   parse_dates = [\"date\", \"report_date\"])\n",
    "\n",
    "## or from the web (but takes longer):\n",
    "ufos = pd.read_csv(\"https://uiuc-ischool-dataviz.github.io/spring2019online/week04/data/ufo-scrubbed-geocoded-time-standardized-00.csv\",\n",
    "                  names = [\"date\", \"city\", \"state\", \"country\",\n",
    "                          \"shape\", \"duration_seconds\", \"duration\",\n",
    "                          \"comment\", \"report_date\", \n",
    "                           \"latitude\", \"longitude\"],\n",
    "                  parse_dates = [\"date\", \"report_date\"])"
   ]
  },
  {
   "cell_type": "code",
   "execution_count": 53,
   "id": "67d04a7a",
   "metadata": {},
   "outputs": [
    {
     "data": {
      "text/html": [
       "<div>\n",
       "<style scoped>\n",
       "    .dataframe tbody tr th:only-of-type {\n",
       "        vertical-align: middle;\n",
       "    }\n",
       "\n",
       "    .dataframe tbody tr th {\n",
       "        vertical-align: top;\n",
       "    }\n",
       "\n",
       "    .dataframe thead th {\n",
       "        text-align: right;\n",
       "    }\n",
       "</style>\n",
       "<table border=\"1\" class=\"dataframe\">\n",
       "  <thead>\n",
       "    <tr style=\"text-align: right;\">\n",
       "      <th></th>\n",
       "      <th>date</th>\n",
       "      <th>city</th>\n",
       "      <th>state</th>\n",
       "      <th>country</th>\n",
       "      <th>shape</th>\n",
       "      <th>duration_seconds</th>\n",
       "      <th>duration</th>\n",
       "      <th>comment</th>\n",
       "      <th>report_date</th>\n",
       "      <th>latitude</th>\n",
       "      <th>longitude</th>\n",
       "    </tr>\n",
       "  </thead>\n",
       "  <tbody>\n",
       "    <tr>\n",
       "      <th>0</th>\n",
       "      <td>1949-10-10 20:30:00</td>\n",
       "      <td>san marcos</td>\n",
       "      <td>tx</td>\n",
       "      <td>us</td>\n",
       "      <td>cylinder</td>\n",
       "      <td>2700.0</td>\n",
       "      <td>45 minutes</td>\n",
       "      <td>This event took place in early fall around 194...</td>\n",
       "      <td>2004-04-27</td>\n",
       "      <td>29.883056</td>\n",
       "      <td>-97.941111</td>\n",
       "    </tr>\n",
       "    <tr>\n",
       "      <th>1</th>\n",
       "      <td>1949-10-10 21:00:00</td>\n",
       "      <td>lackland afb</td>\n",
       "      <td>tx</td>\n",
       "      <td>NaN</td>\n",
       "      <td>light</td>\n",
       "      <td>7200.0</td>\n",
       "      <td>1-2 hrs</td>\n",
       "      <td>1949 Lackland AFB&amp;#44 TX.  Lights racing acros...</td>\n",
       "      <td>2005-12-16</td>\n",
       "      <td>29.384210</td>\n",
       "      <td>-98.581082</td>\n",
       "    </tr>\n",
       "    <tr>\n",
       "      <th>2</th>\n",
       "      <td>1955-10-10 17:00:00</td>\n",
       "      <td>chester (uk/england)</td>\n",
       "      <td>NaN</td>\n",
       "      <td>gb</td>\n",
       "      <td>circle</td>\n",
       "      <td>20.0</td>\n",
       "      <td>20 seconds</td>\n",
       "      <td>Green/Orange circular disc over Chester&amp;#44 En...</td>\n",
       "      <td>2008-01-21</td>\n",
       "      <td>53.200000</td>\n",
       "      <td>-2.916667</td>\n",
       "    </tr>\n",
       "    <tr>\n",
       "      <th>3</th>\n",
       "      <td>1956-10-10 21:00:00</td>\n",
       "      <td>edna</td>\n",
       "      <td>tx</td>\n",
       "      <td>us</td>\n",
       "      <td>circle</td>\n",
       "      <td>20.0</td>\n",
       "      <td>1/2 hour</td>\n",
       "      <td>My older brother and twin sister were leaving ...</td>\n",
       "      <td>2004-01-17</td>\n",
       "      <td>28.978333</td>\n",
       "      <td>-96.645833</td>\n",
       "    </tr>\n",
       "    <tr>\n",
       "      <th>4</th>\n",
       "      <td>1960-10-10 20:00:00</td>\n",
       "      <td>kaneohe</td>\n",
       "      <td>hi</td>\n",
       "      <td>us</td>\n",
       "      <td>light</td>\n",
       "      <td>900.0</td>\n",
       "      <td>15 minutes</td>\n",
       "      <td>AS a Marine 1st Lt. flying an FJ4B fighter/att...</td>\n",
       "      <td>2004-01-22</td>\n",
       "      <td>21.418056</td>\n",
       "      <td>-157.803611</td>\n",
       "    </tr>\n",
       "    <tr>\n",
       "      <th>...</th>\n",
       "      <td>...</td>\n",
       "      <td>...</td>\n",
       "      <td>...</td>\n",
       "      <td>...</td>\n",
       "      <td>...</td>\n",
       "      <td>...</td>\n",
       "      <td>...</td>\n",
       "      <td>...</td>\n",
       "      <td>...</td>\n",
       "      <td>...</td>\n",
       "      <td>...</td>\n",
       "    </tr>\n",
       "    <tr>\n",
       "      <th>80327</th>\n",
       "      <td>2013-09-09 21:15:00</td>\n",
       "      <td>nashville</td>\n",
       "      <td>tn</td>\n",
       "      <td>us</td>\n",
       "      <td>light</td>\n",
       "      <td>600.0</td>\n",
       "      <td>10 minutes</td>\n",
       "      <td>Round from the distance/slowly changing colors...</td>\n",
       "      <td>2013-09-30</td>\n",
       "      <td>36.165833</td>\n",
       "      <td>-86.784444</td>\n",
       "    </tr>\n",
       "    <tr>\n",
       "      <th>80328</th>\n",
       "      <td>2013-09-09 22:00:00</td>\n",
       "      <td>boise</td>\n",
       "      <td>id</td>\n",
       "      <td>us</td>\n",
       "      <td>circle</td>\n",
       "      <td>1200.0</td>\n",
       "      <td>20 minutes</td>\n",
       "      <td>Boise&amp;#44 ID&amp;#44 spherical&amp;#44 20 min&amp;#44 10 r...</td>\n",
       "      <td>2013-09-30</td>\n",
       "      <td>43.613611</td>\n",
       "      <td>-116.202500</td>\n",
       "    </tr>\n",
       "    <tr>\n",
       "      <th>80329</th>\n",
       "      <td>2013-09-09 22:00:00</td>\n",
       "      <td>napa</td>\n",
       "      <td>ca</td>\n",
       "      <td>us</td>\n",
       "      <td>other</td>\n",
       "      <td>1200.0</td>\n",
       "      <td>hour</td>\n",
       "      <td>Napa UFO&amp;#44</td>\n",
       "      <td>2013-09-30</td>\n",
       "      <td>38.297222</td>\n",
       "      <td>-122.284444</td>\n",
       "    </tr>\n",
       "    <tr>\n",
       "      <th>80330</th>\n",
       "      <td>2013-09-09 22:20:00</td>\n",
       "      <td>vienna</td>\n",
       "      <td>va</td>\n",
       "      <td>us</td>\n",
       "      <td>circle</td>\n",
       "      <td>5.0</td>\n",
       "      <td>5 seconds</td>\n",
       "      <td>Saw a five gold lit cicular craft moving fastl...</td>\n",
       "      <td>2013-09-30</td>\n",
       "      <td>38.901111</td>\n",
       "      <td>-77.265556</td>\n",
       "    </tr>\n",
       "    <tr>\n",
       "      <th>80331</th>\n",
       "      <td>2013-09-09 23:00:00</td>\n",
       "      <td>edmond</td>\n",
       "      <td>ok</td>\n",
       "      <td>us</td>\n",
       "      <td>cigar</td>\n",
       "      <td>1020.0</td>\n",
       "      <td>17 minutes</td>\n",
       "      <td>2 witnesses 2  miles apart&amp;#44 Red &amp;amp; White...</td>\n",
       "      <td>2013-09-30</td>\n",
       "      <td>35.652778</td>\n",
       "      <td>-97.477778</td>\n",
       "    </tr>\n",
       "  </tbody>\n",
       "</table>\n",
       "<p>80332 rows × 11 columns</p>\n",
       "</div>"
      ],
      "text/plain": [
       "                     date                  city state country     shape  \\\n",
       "0     1949-10-10 20:30:00            san marcos    tx      us  cylinder   \n",
       "1     1949-10-10 21:00:00          lackland afb    tx     NaN     light   \n",
       "2     1955-10-10 17:00:00  chester (uk/england)   NaN      gb    circle   \n",
       "3     1956-10-10 21:00:00                  edna    tx      us    circle   \n",
       "4     1960-10-10 20:00:00               kaneohe    hi      us     light   \n",
       "...                   ...                   ...   ...     ...       ...   \n",
       "80327 2013-09-09 21:15:00             nashville    tn      us     light   \n",
       "80328 2013-09-09 22:00:00                 boise    id      us    circle   \n",
       "80329 2013-09-09 22:00:00                  napa    ca      us     other   \n",
       "80330 2013-09-09 22:20:00                vienna    va      us    circle   \n",
       "80331 2013-09-09 23:00:00                edmond    ok      us     cigar   \n",
       "\n",
       "       duration_seconds    duration  \\\n",
       "0                2700.0  45 minutes   \n",
       "1                7200.0     1-2 hrs   \n",
       "2                  20.0  20 seconds   \n",
       "3                  20.0    1/2 hour   \n",
       "4                 900.0  15 minutes   \n",
       "...                 ...         ...   \n",
       "80327             600.0  10 minutes   \n",
       "80328            1200.0  20 minutes   \n",
       "80329            1200.0        hour   \n",
       "80330               5.0   5 seconds   \n",
       "80331            1020.0  17 minutes   \n",
       "\n",
       "                                                 comment report_date  \\\n",
       "0      This event took place in early fall around 194...  2004-04-27   \n",
       "1      1949 Lackland AFB&#44 TX.  Lights racing acros...  2005-12-16   \n",
       "2      Green/Orange circular disc over Chester&#44 En...  2008-01-21   \n",
       "3      My older brother and twin sister were leaving ...  2004-01-17   \n",
       "4      AS a Marine 1st Lt. flying an FJ4B fighter/att...  2004-01-22   \n",
       "...                                                  ...         ...   \n",
       "80327  Round from the distance/slowly changing colors...  2013-09-30   \n",
       "80328  Boise&#44 ID&#44 spherical&#44 20 min&#44 10 r...  2013-09-30   \n",
       "80329                                       Napa UFO&#44  2013-09-30   \n",
       "80330  Saw a five gold lit cicular craft moving fastl...  2013-09-30   \n",
       "80331  2 witnesses 2  miles apart&#44 Red &amp; White...  2013-09-30   \n",
       "\n",
       "        latitude   longitude  \n",
       "0      29.883056  -97.941111  \n",
       "1      29.384210  -98.581082  \n",
       "2      53.200000   -2.916667  \n",
       "3      28.978333  -96.645833  \n",
       "4      21.418056 -157.803611  \n",
       "...          ...         ...  \n",
       "80327  36.165833  -86.784444  \n",
       "80328  43.613611 -116.202500  \n",
       "80329  38.297222 -122.284444  \n",
       "80330  38.901111  -77.265556  \n",
       "80331  35.652778  -97.477778  \n",
       "\n",
       "[80332 rows x 11 columns]"
      ]
     },
     "execution_count": 53,
     "metadata": {},
     "output_type": "execute_result"
    }
   ],
   "source": [
    "ufos"
   ]
  },
  {
   "cell_type": "code",
   "execution_count": 54,
   "id": "e53b64ea",
   "metadata": {},
   "outputs": [],
   "source": [
    "def generate_histogram_from_lat_long(ufos, nlong=20, nlat=20, longmin=-150, longmax=150,\n",
    "                                     latmin=-40, latmax=70,\n",
    "                                     takeLog=True):\n",
    "    long_bins = np.linspace(longmin, longmax, nlong+1)\n",
    "    lat_bins = np.linspace(latmin, latmax, nlat+1)\n",
    "    hist2d, long_edges, lat_edges = np.histogram2d(ufos['longitude'], \n",
    "                                                   ufos['latitude'], \n",
    "                                                   weights=ufos['duration_seconds'],\n",
    "                                                  bins = [long_bins,lat_bins])\n",
    "    hist2d = hist2d.T\n",
    "    if takeLog:\n",
    "        hist2d[hist2d <= 0] = np.nan # set zeros to NaNs\n",
    "        # then take log\n",
    "        hist2d = np.log10(hist2d)\n",
    "    long_centers = (long_edges[:-1] + long_edges[1:]) / 2\n",
    "    lat_centers = (lat_edges[:-1] + lat_edges[1:]) / 2\n",
    "    return hist2d, long_centers, lat_centers, long_edges, lat_edges"
   ]
  },
  {
   "cell_type": "code",
   "execution_count": 55,
   "id": "432d0e80",
   "metadata": {},
   "outputs": [],
   "source": [
    "hist2d, long_centers, lat_centers, long_edges, lat_edges = generate_histogram_from_lat_long(ufos)"
   ]
  },
  {
   "cell_type": "code",
   "execution_count": 57,
   "id": "2ad948cd",
   "metadata": {},
   "outputs": [
    {
     "data": {
      "text/plain": [
       "(20, 20)"
      ]
     },
     "execution_count": 57,
     "metadata": {},
     "output_type": "execute_result"
    }
   ],
   "source": [
    "hist2d.shape"
   ]
  },
  {
   "cell_type": "code",
   "execution_count": 60,
   "id": "a7a378dd",
   "metadata": {},
   "outputs": [
    {
     "data": {
      "text/plain": [
       "(nan, 0.0)"
      ]
     },
     "execution_count": 60,
     "metadata": {},
     "output_type": "execute_result"
    }
   ],
   "source": [
    "np.min(hist2d), np.nanmin(hist2d)"
   ]
  },
  {
   "cell_type": "code",
   "execution_count": 58,
   "id": "0b3e2d3a",
   "metadata": {},
   "outputs": [],
   "source": [
    "# make a heatmap with this data\n",
    "\n",
    "# 1. data (hist2d & long/lat bins)\n",
    "\n",
    "# 2. scales\n",
    "col_sc = bqplot.ColorScale(scheme='RdPu', min=np.nanmin(hist2d), max=np.nanmax(hist2d))\n",
    "x_sc = bqplot.LinearScale() # for numerical data -- longitude\n",
    "y_sc = bqplot.LinearScale() # numerical data -- latitude\n",
    "\n",
    "# 3. axis\n",
    "col_ax = bqplot.ColorAxis(scale=col_sc, orientation='vertical', side='right')\n",
    "x_ax = bqplot.Axis(scale=x_sc, label='Longitude')\n",
    "y_ax = bqplot.Axis(scale=y_sc, orientation='vertical', label='Latitude')\n",
    "\n",
    "# 4. Marks -- technically a map, but using lat/long as numerical data\n",
    "heat_map = bqplot.GridHeatMap(color=hist2d, \n",
    "                             row= lat_centers, column = long_centers, \n",
    "                             scales={'color':col_sc, 'row':y_sc, 'column':x_sc}, \n",
    "                             interactions={'click':'select'}, \n",
    "                             anchor_style={'fill':'blue'})\n",
    "\n",
    "# 5. no linking interactivity yet!\n",
    "\n",
    "# 6. figure!\n",
    "fig "
   ]
  },
  {
   "cell_type": "code",
   "execution_count": null,
   "id": "b2944a0e",
   "metadata": {},
   "outputs": [],
   "source": []
  }
 ],
 "metadata": {
  "kernelspec": {
   "display_name": "Python 3 (ipykernel)",
   "language": "python",
   "name": "python3"
  },
  "language_info": {
   "codemirror_mode": {
    "name": "ipython",
    "version": 3
   },
   "file_extension": ".py",
   "mimetype": "text/x-python",
   "name": "python",
   "nbconvert_exporter": "python",
   "pygments_lexer": "ipython3",
   "version": "3.7.10"
  }
 },
 "nbformat": 4,
 "nbformat_minor": 5
}
