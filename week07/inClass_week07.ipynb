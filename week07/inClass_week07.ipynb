{
 "cells": [
  {
   "cell_type": "markdown",
   "id": "respective-store",
   "metadata": {},
   "source": [
    "# In Class Notebook, Week 07"
   ]
  },
  {
   "cell_type": "markdown",
   "id": "2a597611",
   "metadata": {},
   "source": [
    "You can always paste the URL of this notebook (https://github.com/UIUC-iSchool-DataViz/is445_AOUAOG_fall2021/blob/master/week07/inClass_week07.ipynb ) into the nbviewer interface for a plain-text rendering:\n",
    "\n",
    "https://kokes.github.io/nbviewer.js/viewer.html"
   ]
  },
  {
   "cell_type": "code",
   "execution_count": 1,
   "id": "98501859",
   "metadata": {},
   "outputs": [],
   "source": [
    "# import our usual things\n",
    "import pandas as pd\n",
    "import bqplot\n",
    "import numpy as np"
   ]
  },
  {
   "cell_type": "markdown",
   "id": "4649a36b",
   "metadata": {},
   "source": [
    "## Review from last time"
   ]
  },
  {
   "cell_type": "code",
   "execution_count": 2,
   "id": "9b21fc64",
   "metadata": {},
   "outputs": [],
   "source": [
    "data3d = np.random.random((10,10,20))"
   ]
  },
  {
   "cell_type": "code",
   "execution_count": 3,
   "id": "09c90c73",
   "metadata": {},
   "outputs": [
    {
     "data": {
      "text/plain": [
       "(10, 10, 20)"
      ]
     },
     "execution_count": 3,
     "metadata": {},
     "output_type": "execute_result"
    }
   ],
   "source": [
    "data3d.shape"
   ]
  },
  {
   "cell_type": "code",
   "execution_count": 5,
   "id": "d01a1818",
   "metadata": {},
   "outputs": [
    {
     "data": {
      "text/plain": [
       "array([0.54124828, 0.74085663, 0.09687062, 0.41278187, 0.86485492,\n",
       "       0.83916209, 0.12256965, 0.29033369, 0.77222567, 0.56508207,\n",
       "       0.90867493, 0.01965847, 0.20915492, 0.79891201, 0.63663157,\n",
       "       0.95864038, 0.37553424, 0.16664989, 0.91251915, 0.58197625])"
      ]
     },
     "execution_count": 5,
     "metadata": {},
     "output_type": "execute_result"
    }
   ],
   "source": [
    "data3d[0,0,:]"
   ]
  },
  {
   "cell_type": "code",
   "execution_count": 6,
   "id": "8f01f5f9",
   "metadata": {},
   "outputs": [
    {
     "data": {
      "text/plain": [
       "array([[0.54071686, 0.55107975, 0.51234274, 0.5145504 , 0.46497102,\n",
       "        0.42905291, 0.42656233, 0.49128036, 0.4054977 , 0.56155958],\n",
       "       [0.46228498, 0.42338155, 0.59415794, 0.60819728, 0.56597605,\n",
       "        0.51121569, 0.45792426, 0.61043616, 0.54714568, 0.58127305],\n",
       "       [0.51397774, 0.52889253, 0.36980809, 0.52864474, 0.42484609,\n",
       "        0.42711735, 0.56227841, 0.38661328, 0.65091268, 0.49966308],\n",
       "       [0.43665654, 0.48015288, 0.46679803, 0.5792847 , 0.47955188,\n",
       "        0.40715425, 0.50125869, 0.55210181, 0.46538023, 0.39810901],\n",
       "       [0.52048808, 0.46948613, 0.57809338, 0.49964317, 0.48100504,\n",
       "        0.4985754 , 0.54884247, 0.54509474, 0.545756  , 0.46683585],\n",
       "       [0.46519147, 0.54068073, 0.5179983 , 0.41309053, 0.47186924,\n",
       "        0.42179622, 0.62895304, 0.44321757, 0.55757922, 0.55300718],\n",
       "       [0.46214573, 0.54584009, 0.57520554, 0.55510407, 0.57548104,\n",
       "        0.47499138, 0.51263281, 0.49698276, 0.47479926, 0.53358586],\n",
       "       [0.58795587, 0.54341188, 0.55746425, 0.5480153 , 0.4819784 ,\n",
       "        0.45436881, 0.4381639 , 0.53793498, 0.5481346 , 0.55022462],\n",
       "       [0.47191528, 0.43735681, 0.4336962 , 0.49718265, 0.47924911,\n",
       "        0.55387815, 0.61285167, 0.5382788 , 0.52775366, 0.6292518 ],\n",
       "       [0.48260779, 0.42915958, 0.45359732, 0.38761013, 0.51596245,\n",
       "        0.57618925, 0.48386763, 0.56724481, 0.41891151, 0.54036243]])"
      ]
     },
     "execution_count": 6,
     "metadata": {},
     "output_type": "execute_result"
    }
   ],
   "source": [
    "data3d.mean(axis=2)"
   ]
  },
  {
   "cell_type": "code",
   "execution_count": 7,
   "id": "ccd9a989",
   "metadata": {},
   "outputs": [
    {
     "data": {
      "text/plain": [
       "(10, 10)"
      ]
     },
     "execution_count": 7,
     "metadata": {},
     "output_type": "execute_result"
    }
   ],
   "source": [
    "data3d.mean(axis=2).shape"
   ]
  },
  {
   "cell_type": "code",
   "execution_count": null,
   "id": "287bab47",
   "metadata": {},
   "outputs": [],
   "source": [
    "# 1. Data -- data3d\n",
    "\n",
    "#2. Scales\n",
    "col_sc = bqplot.ColorScale(scheme=\"Reds\") \n",
    "x_sc = bqplot.OrdinalScale() # treating bins like bis\n",
    "y_sc = bqplot.OrdinalScale()\n"
   ]
  }
 ],
 "metadata": {
  "kernelspec": {
   "display_name": "Python 3 (ipykernel)",
   "language": "python",
   "name": "python3"
  },
  "language_info": {
   "codemirror_mode": {
    "name": "ipython",
    "version": 3
   },
   "file_extension": ".py",
   "mimetype": "text/x-python",
   "name": "python",
   "nbconvert_exporter": "python",
   "pygments_lexer": "ipython3",
   "version": "3.7.10"
  }
 },
 "nbformat": 4,
 "nbformat_minor": 5
}
