{
 "cells": [
  {
   "cell_type": "markdown",
   "id": "innovative-airplane",
   "metadata": {},
   "source": [
    "# In Class Notebook, Week 15"
   ]
  },
  {
   "cell_type": "markdown",
   "id": "6c0d2ee0",
   "metadata": {},
   "source": [
    "You can always paste the URL of this notebook (https://github.com/UIUC-iSchool-DataViz/is445_AOUAOG_fall2021/blob/master/week15/inClass_week15.ipynb ) into the nbviewer interface for a plain-text rendering:\n",
    "\n",
    "https://kokes.github.io/nbviewer.js/viewer.html"
   ]
  },
  {
   "cell_type": "code",
   "execution_count": 1,
   "id": "133cad13",
   "metadata": {},
   "outputs": [
    {
     "name": "stderr",
     "output_type": "stream",
     "text": [
      "/Users/jillnaiman/anaconda3/envs/DataViz/lib/python3.7/site-packages/yt/utilities/logger.py:4: VisibleDeprecationWarning: The configuration file /Users/jillnaiman/.config/yt/ytrc is deprecated in favor of /Users/jillnaiman/.config/yt/yt.toml. Currently, both are present. Please manually remove the deprecated one to silence this warning.\n",
      "Deprecated since v4.0.0. This feature will be removed in v4.1.0\n",
      "  from yt.config import ytcfg\n"
     ]
    }
   ],
   "source": [
    "import yt"
   ]
  },
  {
   "cell_type": "code",
   "execution_count": 2,
   "id": "ece0ede9",
   "metadata": {},
   "outputs": [
    {
     "name": "stderr",
     "output_type": "stream",
     "text": [
      "yt : [INFO     ] 2021-11-29 10:28:42,298 Parameters: current_time              = 0.0060000200028298\n",
      "yt : [INFO     ] 2021-11-29 10:28:42,299 Parameters: domain_dimensions         = [32 32 32]\n",
      "yt : [INFO     ] 2021-11-29 10:28:42,300 Parameters: domain_left_edge          = [0. 0. 0.]\n",
      "yt : [INFO     ] 2021-11-29 10:28:42,300 Parameters: domain_right_edge         = [1. 1. 1.]\n",
      "yt : [INFO     ] 2021-11-29 10:28:42,301 Parameters: cosmological_simulation   = 0\n"
     ]
    }
   ],
   "source": [
    "ds = yt.load('/Users/jillnaiman/Downloads/IsolatedGalaxy/galaxy0030/galaxy0030')"
   ]
  },
  {
   "cell_type": "code",
   "execution_count": null,
   "id": "6be6e2da",
   "metadata": {},
   "outputs": [],
   "source": [
    "ds.print_stat"
   ]
  }
 ],
 "metadata": {
  "kernelspec": {
   "display_name": "Python 3 (ipykernel)",
   "language": "python",
   "name": "python3"
  },
  "language_info": {
   "codemirror_mode": {
    "name": "ipython",
    "version": 3
   },
   "file_extension": ".py",
   "mimetype": "text/x-python",
   "name": "python",
   "nbconvert_exporter": "python",
   "pygments_lexer": "ipython3",
   "version": "3.7.10"
  }
 },
 "nbformat": 4,
 "nbformat_minor": 5
}
